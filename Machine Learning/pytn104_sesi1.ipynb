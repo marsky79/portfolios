{
  "nbformat": 4,
  "nbformat_minor": 0,
  "metadata": {
    "colab": {
      "provenance": []
    },
    "kernelspec": {
      "name": "python3",
      "display_name": "Python 3"
    },
    "language_info": {
      "name": "python"
    }
  },
  "cells": [
    {
      "cell_type": "code",
      "execution_count": null,
      "metadata": {
        "colab": {
          "base_uri": "https://localhost:8080/"
        },
        "id": "1XQvyw_ih7ei",
        "outputId": "4511706f-a61e-4c0d-9b75-9ce49c03f54b"
      },
      "outputs": [
        {
          "output_type": "stream",
          "name": "stdout",
          "text": [
            "halo\n"
          ]
        }
      ],
      "source": [
        "print(\"halo\")"
      ]
    },
    {
      "cell_type": "code",
      "source": [
        "123"
      ],
      "metadata": {
        "colab": {
          "base_uri": "https://localhost:8080/"
        },
        "id": "Qg6JWynwh9FM",
        "outputId": "a52533b5-a0ab-46af-8a21-359eef1c6d29"
      },
      "execution_count": null,
      "outputs": [
        {
          "output_type": "execute_result",
          "data": {
            "text/plain": [
              "123"
            ]
          },
          "metadata": {},
          "execution_count": 42
        }
      ]
    },
    {
      "cell_type": "markdown",
      "source": [
        "ini text bukan code"
      ],
      "metadata": {
        "id": "1AewwTpFh9ys"
      }
    },
    {
      "cell_type": "markdown",
      "source": [
        "Bahasa pemrograman dibuat supaya bisa menyelesaikan masalah dunia nyata\n",
        "\n",
        "tapi, komputer, coding, tidak bisa diajak bicara seperti manusia\n",
        "\n",
        "yang dimengerti oleh code hanyalah data\n",
        "\n",
        "tujuan coding hanya data input > proses > data output\n",
        "\n",
        "input menjadi output\n",
        "\n",
        "dan input yang dimengerti hanya jenis jenis data tertentu. misalnya:\n",
        "- angka numerik, INTEGER 1 2 3\n",
        "- angkanya ada desimal, FLOAT 1.0 2.3 3.1012345\n",
        "- text, STRING, semua yang dikutip \"campuran TExt yang bisa 123 angka juga simbol!! juga\"\n",
        "- BOOLEAN, konsep True atau False. ya atau tidak. apakah sesuatu dianggap benar atau salah.\n",
        "\n",
        "komputer dan programming sangat kaku, semua data akan diklasifikasi menjadi True atau False, sampai sampai True dan False adalah tipe data ternsendiri."
      ],
      "metadata": {
        "id": "7fVI5n_qjT7h"
      }
    },
    {
      "cell_type": "code",
      "source": [
        "# Integer - angka bulat\n",
        "0\n",
        "-1\n",
        "1\n",
        "-2387569238475692348756\n",
        "92837469128374691287346\n",
        "\n",
        "# semua angka bulat termasuk tipe integer"
      ],
      "metadata": {
        "colab": {
          "base_uri": "https://localhost:8080/"
        },
        "id": "O5yikHuoiAFm",
        "outputId": "a87fb812-43ca-4797-ce3d-3f4dca3ded6c"
      },
      "execution_count": null,
      "outputs": [
        {
          "output_type": "execute_result",
          "data": {
            "text/plain": [
              "92837469128374691287346"
            ]
          },
          "metadata": {},
          "execution_count": 43
        }
      ]
    },
    {
      "cell_type": "code",
      "source": [
        "# untuk cek tipe data, kita bisa gunakan keyword type"
      ],
      "metadata": {
        "id": "l0Fa4nH6kZ5A"
      },
      "execution_count": null,
      "outputs": []
    },
    {
      "cell_type": "code",
      "source": [
        "type(473)"
      ],
      "metadata": {
        "colab": {
          "base_uri": "https://localhost:8080/"
        },
        "id": "m8mJevR8kcVf",
        "outputId": "b20d71df-36b2-42ed-83a3-5dbebaccceb7"
      },
      "execution_count": null,
      "outputs": [
        {
          "output_type": "execute_result",
          "data": {
            "text/plain": [
              "int"
            ]
          },
          "metadata": {},
          "execution_count": 45
        }
      ]
    },
    {
      "cell_type": "code",
      "source": [
        "# keyword print bisa kita gunakan untuk mencetak data\n",
        "print(473)"
      ],
      "metadata": {
        "colab": {
          "base_uri": "https://localhost:8080/"
        },
        "id": "a3ig7VOpkhP3",
        "outputId": "025238ad-3475-4785-8254-209fea6b661e"
      },
      "execution_count": null,
      "outputs": [
        {
          "output_type": "stream",
          "name": "stdout",
          "text": [
            "473\n"
          ]
        }
      ]
    },
    {
      "cell_type": "code",
      "source": [
        "# bisa kita gabung, minta print tipe data angka 473\n",
        "print(type(473))"
      ],
      "metadata": {
        "colab": {
          "base_uri": "https://localhost:8080/"
        },
        "id": "azL9T13tksy4",
        "outputId": "170c2ba4-6d11-4e19-85c2-9efd7d4c14c8"
      },
      "execution_count": null,
      "outputs": [
        {
          "output_type": "stream",
          "name": "stdout",
          "text": [
            "<class 'int'>\n"
          ]
        }
      ]
    },
    {
      "cell_type": "markdown",
      "source": [
        "semua tipe data adalah sebuah class.\n",
        "\n",
        "di kelas programming untuk bikin aplikasi, kalian akan mempelajari cara buat class sendiri. cata modifikasi class. cara membuat struktur data custom. di kelas data science, kita tidak buat class sendiri, kita pakai yang sudah ada saja.\n",
        "\n"
      ],
      "metadata": {
        "id": "4LTblVvik7pB"
      }
    },
    {
      "cell_type": "code",
      "source": [
        "# float\n",
        "print(type(0.0))\n",
        "print(type(0.1))\n",
        "print(type(0.32485832793489837492348))"
      ],
      "metadata": {
        "colab": {
          "base_uri": "https://localhost:8080/"
        },
        "id": "RswSz-uNlKQ8",
        "outputId": "e01dbcd4-0f8d-49c5-e64a-b6d27f424095"
      },
      "execution_count": null,
      "outputs": [
        {
          "output_type": "stream",
          "name": "stdout",
          "text": [
            "<class 'float'>\n",
            "<class 'float'>\n",
            "<class 'float'>\n"
          ]
        }
      ]
    },
    {
      "cell_type": "markdown",
      "source": [
        "kita bisa konversi tipe data dengan menggunakan nama class nya"
      ],
      "metadata": {
        "id": "xKRF7LezlV6Q"
      }
    },
    {
      "cell_type": "code",
      "source": [
        "float(5)"
      ],
      "metadata": {
        "colab": {
          "base_uri": "https://localhost:8080/"
        },
        "id": "K16684bjlSyV",
        "outputId": "c64c3280-4906-4914-b827-0e9c5fbdbb31"
      },
      "execution_count": null,
      "outputs": [
        {
          "output_type": "execute_result",
          "data": {
            "text/plain": [
              "5.0"
            ]
          },
          "metadata": {},
          "execution_count": 49
        }
      ]
    },
    {
      "cell_type": "code",
      "source": [
        "print(type(float(5)))"
      ],
      "metadata": {
        "colab": {
          "base_uri": "https://localhost:8080/"
        },
        "id": "k1RayMEflcBd",
        "outputId": "dc515c09-a277-4f09-bf82-257ab468086f"
      },
      "execution_count": null,
      "outputs": [
        {
          "output_type": "stream",
          "name": "stdout",
          "text": [
            "<class 'float'>\n"
          ]
        }
      ]
    },
    {
      "cell_type": "code",
      "source": [
        "int(17.1945)"
      ],
      "metadata": {
        "colab": {
          "base_uri": "https://localhost:8080/"
        },
        "id": "3Y0U06nGlfSi",
        "outputId": "30fea301-6e3f-488c-eb99-2bf2347f748a"
      },
      "execution_count": null,
      "outputs": [
        {
          "output_type": "execute_result",
          "data": {
            "text/plain": [
              "17"
            ]
          },
          "metadata": {},
          "execution_count": 51
        }
      ]
    },
    {
      "cell_type": "code",
      "source": [
        "int(17.9)"
      ],
      "metadata": {
        "colab": {
          "base_uri": "https://localhost:8080/"
        },
        "id": "ly4jzOOfljmT",
        "outputId": "370d7cc6-8035-4bdd-ed74-ffeb1fc18fb2"
      },
      "execution_count": null,
      "outputs": [
        {
          "output_type": "execute_result",
          "data": {
            "text/plain": [
              "17"
            ]
          },
          "metadata": {},
          "execution_count": 52
        }
      ]
    },
    {
      "cell_type": "markdown",
      "source": [
        "tipe data numerik bisa di konversi satu sama lain. int ke float, float ke int, tidak masalah.\n",
        "\n",
        "untuk tipe data non-numerik, STRING misalnya, tidak bisa di konversi ke angka. akan error. KECUALI, isi stringnya adalah angka yang valid. misalnya"
      ],
      "metadata": {
        "id": "9RBTujROlvDM"
      }
    },
    {
      "cell_type": "code",
      "source": [
        "# STRING\n",
        "type(\"5\")"
      ],
      "metadata": {
        "colab": {
          "base_uri": "https://localhost:8080/"
        },
        "id": "BWL_jqEhlmFA",
        "outputId": "328776c7-4a45-485a-eab6-4ae83ba53f93"
      },
      "execution_count": null,
      "outputs": [
        {
          "output_type": "execute_result",
          "data": {
            "text/plain": [
              "str"
            ]
          },
          "metadata": {},
          "execution_count": 53
        }
      ]
    },
    {
      "cell_type": "code",
      "source": [
        "print(type(\"5\"))"
      ],
      "metadata": {
        "colab": {
          "base_uri": "https://localhost:8080/"
        },
        "id": "gJqsS6Jol8rh",
        "outputId": "61ad942a-9a63-45b4-9a8b-3212b55f8794"
      },
      "execution_count": null,
      "outputs": [
        {
          "output_type": "stream",
          "name": "stdout",
          "text": [
            "<class 'str'>\n"
          ]
        }
      ]
    },
    {
      "cell_type": "code",
      "source": [
        "print(type(\"Selamat datang di kelas Hacktiv8 - Python for Data Science~\"))"
      ],
      "metadata": {
        "colab": {
          "base_uri": "https://localhost:8080/"
        },
        "id": "hjEh5IjLmAiG",
        "outputId": "cc73e91b-1001-48a5-e66f-43b15fe4fda4"
      },
      "execution_count": null,
      "outputs": [
        {
          "output_type": "stream",
          "name": "stdout",
          "text": [
            "<class 'str'>\n"
          ]
        }
      ]
    },
    {
      "cell_type": "code",
      "source": [
        "int(\"5\")"
      ],
      "metadata": {
        "colab": {
          "base_uri": "https://localhost:8080/"
        },
        "id": "DI_ej8comHn1",
        "outputId": "035ca751-b959-4d61-850e-57f3669f3a42"
      },
      "execution_count": null,
      "outputs": [
        {
          "output_type": "execute_result",
          "data": {
            "text/plain": [
              "5"
            ]
          },
          "metadata": {},
          "execution_count": 56
        }
      ]
    },
    {
      "cell_type": "code",
      "source": [
        "float(\"5\")"
      ],
      "metadata": {
        "colab": {
          "base_uri": "https://localhost:8080/"
        },
        "id": "vUIZsy12mNsc",
        "outputId": "7cd9eb4f-f140-4b55-f739-7fae56cf68ae"
      },
      "execution_count": null,
      "outputs": [
        {
          "output_type": "execute_result",
          "data": {
            "text/plain": [
              "5.0"
            ]
          },
          "metadata": {},
          "execution_count": 57
        }
      ]
    },
    {
      "cell_type": "code",
      "source": [
        "float(\"5.0\")"
      ],
      "metadata": {
        "colab": {
          "base_uri": "https://localhost:8080/"
        },
        "id": "1X6SJuYumPhh",
        "outputId": "bd647391-20fe-45cd-9993-8ede60979e01"
      },
      "execution_count": null,
      "outputs": [
        {
          "output_type": "execute_result",
          "data": {
            "text/plain": [
              "5.0"
            ]
          },
          "metadata": {},
          "execution_count": 58
        }
      ]
    },
    {
      "cell_type": "code",
      "source": [
        "# BOOLEAN\n",
        "print(True)\n",
        "print(False)"
      ],
      "metadata": {
        "colab": {
          "base_uri": "https://localhost:8080/"
        },
        "id": "0IBBhhQQmS5_",
        "outputId": "8ef1d1c6-89cb-4505-d5d0-9b0ab5d4ecb3"
      },
      "execution_count": null,
      "outputs": [
        {
          "output_type": "stream",
          "name": "stdout",
          "text": [
            "True\n",
            "False\n"
          ]
        }
      ]
    },
    {
      "cell_type": "code",
      "source": [
        "\n",
        "print(type(True))\n",
        "print(type(False))"
      ],
      "metadata": {
        "colab": {
          "base_uri": "https://localhost:8080/"
        },
        "id": "F0SxP46nmph6",
        "outputId": "f01533ce-53ea-44f7-fcce-a885e7d1bbbf"
      },
      "execution_count": null,
      "outputs": [
        {
          "output_type": "stream",
          "name": "stdout",
          "text": [
            "<class 'bool'>\n",
            "<class 'bool'>\n"
          ]
        }
      ]
    },
    {
      "cell_type": "markdown",
      "source": [
        "semua data bisa di konversi ke tipe boolean"
      ],
      "metadata": {
        "id": "5ePVuujTmuGG"
      }
    },
    {
      "cell_type": "code",
      "source": [
        "bool(5)"
      ],
      "metadata": {
        "colab": {
          "base_uri": "https://localhost:8080/"
        },
        "id": "UqQCN7ILmsu6",
        "outputId": "f910ba68-6907-404c-f866-d3ee6d9dca71"
      },
      "execution_count": null,
      "outputs": [
        {
          "output_type": "execute_result",
          "data": {
            "text/plain": [
              "True"
            ]
          },
          "metadata": {},
          "execution_count": 61
        }
      ]
    },
    {
      "cell_type": "code",
      "source": [
        "bool(10.10)"
      ],
      "metadata": {
        "colab": {
          "base_uri": "https://localhost:8080/"
        },
        "id": "lYdhX-tCmxbb",
        "outputId": "b686132b-4c74-428c-e53d-e0424b656f3c"
      },
      "execution_count": null,
      "outputs": [
        {
          "output_type": "execute_result",
          "data": {
            "text/plain": [
              "True"
            ]
          },
          "metadata": {},
          "execution_count": 62
        }
      ]
    },
    {
      "cell_type": "code",
      "source": [
        "bool(\"haha\")"
      ],
      "metadata": {
        "colab": {
          "base_uri": "https://localhost:8080/"
        },
        "id": "T4lY4_XTmySN",
        "outputId": "955c148e-ee58-41b8-fff8-bf41f5f13b1a"
      },
      "execution_count": null,
      "outputs": [
        {
          "output_type": "execute_result",
          "data": {
            "text/plain": [
              "True"
            ]
          },
          "metadata": {},
          "execution_count": 63
        }
      ]
    },
    {
      "cell_type": "markdown",
      "source": [
        "hanya data \"kosong\" dianggap false:\n",
        "- 0\n",
        "- 0.0\n",
        "- \"\"\n",
        "- []\n",
        "- ()\n",
        "- {}\n",
        "\n"
      ],
      "metadata": {
        "id": "Rk4Cjd4Om21o"
      }
    },
    {
      "cell_type": "code",
      "source": [
        "print(bool(0))\n",
        "print(bool(-0))\n",
        "print(bool(0.0))\n",
        "print(bool(\"\"))\n",
        "print(bool([]))\n",
        "print(bool(()))\n",
        "print(bool({}))"
      ],
      "metadata": {
        "colab": {
          "base_uri": "https://localhost:8080/"
        },
        "id": "WnWq2pVvmz62",
        "outputId": "a2d5326f-413e-4f96-ce69-4d5be47b7863"
      },
      "execution_count": null,
      "outputs": [
        {
          "output_type": "stream",
          "name": "stdout",
          "text": [
            "False\n",
            "False\n",
            "False\n",
            "False\n",
            "False\n",
            "False\n",
            "False\n"
          ]
        }
      ]
    },
    {
      "cell_type": "code",
      "source": [
        "2918347027856032875623489809328457023984570293845702398457023948570239845702394857023984570239485702394857023984570239845702398475023984570239485703294857039485702394857"
      ],
      "metadata": {
        "colab": {
          "base_uri": "https://localhost:8080/"
        },
        "id": "FOzOGxgknEFO",
        "outputId": "98ea7907-71db-4cee-e119-945f1ded67aa"
      },
      "execution_count": null,
      "outputs": [
        {
          "output_type": "execute_result",
          "data": {
            "text/plain": [
              "2918347027856032875623489809328457023984570293845702398457023948570239845702394857023984570239485702394857023984570239845702398475023984570239485703294857039485702394857"
            ]
          },
          "metadata": {},
          "execution_count": 65
        }
      ]
    },
    {
      "cell_type": "markdown",
      "source": [
        "# Variable\n",
        "\n",
        "Sejauh ini kita sudah mencoba membuat dan mengkonversi data yang simpel. Tapi saat kita mau pakai lagi datanya, sudah tidak ada.\n",
        "\n",
        "Dengan memberi sebuah nama, kita bisa simpan datanya, dan nanti dipanggil lagi pakai nama tersebut. Penyimpanan data ke dalam sebuah nama, dinamakan, pembuatan sebuah variable.\n",
        "\n",
        "Ada beberapa peraturan dalam memberi nama variable:\n",
        "- dimulai dengan alfabet, bukan numerik bukan simbol\n",
        "- tanpa spasi, spasi kita ganti jadi simbol _\n",
        "- semua huruf kecil, karena nama variable besar kecil dianggap berbeda oleh python tapi bagi kita manusia susah mengingat besar kecil ini"
      ],
      "metadata": {
        "id": "VIKQKlRyoZMg"
      }
    },
    {
      "cell_type": "code",
      "source": [
        "nilai_andi = 80"
      ],
      "metadata": {
        "id": "Oz1qH7X3n4kL"
      },
      "execution_count": null,
      "outputs": []
    },
    {
      "cell_type": "code",
      "source": [
        "nilai_andi"
      ],
      "metadata": {
        "colab": {
          "base_uri": "https://localhost:8080/"
        },
        "id": "QM6XUbvMst2J",
        "outputId": "bdd5dd63-60fc-444a-92f8-d58425b183f9"
      },
      "execution_count": null,
      "outputs": [
        {
          "output_type": "execute_result",
          "data": {
            "text/plain": [
              "80"
            ]
          },
          "metadata": {},
          "execution_count": 67
        }
      ]
    },
    {
      "cell_type": "code",
      "source": [
        "Nilai_andi = 79\n",
        "nilai_Andi = 78\n",
        "NILAI_ANDI = 77\n",
        "Nilai_Andi = 76\n",
        "nilai_ANDI = 75\n",
        "NILAI_Andi = 74\n",
        "print(nilai_andi, Nilai_andi, nilai_Andi, NILAI_ANDI, Nilai_Andi, nilai_ANDI, NILAI_Andi)"
      ],
      "metadata": {
        "colab": {
          "base_uri": "https://localhost:8080/"
        },
        "id": "vFiNeCq2sujq",
        "outputId": "7f2d084e-c055-4242-df2f-b11d6604f5f7"
      },
      "execution_count": null,
      "outputs": [
        {
          "output_type": "stream",
          "name": "stdout",
          "text": [
            "80 79 78 77 76 75 74\n"
          ]
        }
      ]
    },
    {
      "cell_type": "code",
      "source": [
        "# variable bisa kita ganti isinya\n",
        "nilai_andi = \"delapan puluh tujuh\""
      ],
      "metadata": {
        "id": "TC_g3wUFtWry"
      },
      "execution_count": null,
      "outputs": []
    },
    {
      "cell_type": "code",
      "source": [
        "print(nilai_andi)"
      ],
      "metadata": {
        "colab": {
          "base_uri": "https://localhost:8080/"
        },
        "id": "jWM_2Re6uJce",
        "outputId": "6e091115-6851-4eca-ed6c-22ab9dd4b9d6"
      },
      "execution_count": null,
      "outputs": [
        {
          "output_type": "stream",
          "name": "stdout",
          "text": [
            "delapan puluh tujuh\n"
          ]
        }
      ]
    },
    {
      "cell_type": "markdown",
      "source": [
        "# Structured Data Types\n",
        "\n",
        "kita sudah bahas Primitive Data Types - tipe data yang berdiri sendiri, satu angka, satu text (kumpulan karakter), satu nilai True atau False.\n",
        "\n",
        "Untuk structured data types, satu data isinya bisa banyak.\n",
        "- list []\n",
        "- dictionary {}\n",
        "- tuple ()\n",
        "- set {}\n",
        "\n",
        "<> biasanya cuma dipakai saat bikin website\n",
        "\n",
        "## list\n",
        "seperti antrian, setiap data di dalam sebuah list memiliki nomor antri yang dimulai dari 0\n",
        "```python\n",
        "[0,1,2,3,4,5]\n",
        "```"
      ],
      "metadata": {
        "id": "tzJ3P67iurQQ"
      }
    },
    {
      "cell_type": "code",
      "source": [
        "antrian = [0,1,2,3,4,5]"
      ],
      "metadata": {
        "id": "Rk6ohgqUuLxe"
      },
      "execution_count": null,
      "outputs": []
    },
    {
      "cell_type": "markdown",
      "source": [
        "diatas, antrian adalah sebuah list berisi 6 integer berbeda"
      ],
      "metadata": {
        "id": "iAb7wD83vkX4"
      }
    },
    {
      "cell_type": "code",
      "source": [
        "antrian = [\"andi\", \"budi\", \"cindy\", \"erika\", \"farah\"]"
      ],
      "metadata": {
        "id": "JcBQV1ycvjUb"
      },
      "execution_count": null,
      "outputs": []
    },
    {
      "cell_type": "markdown",
      "source": [
        "isi sebuah list bisa tipe data apapun. termasuk int float str bool list dict tuple set\n",
        "\n",
        "karena isi sebuah list bisa banyak. kita perlu teknik untuk bisa melihat:\n",
        "- isi sebuah list ada berapa banyak?\n",
        "- nambah satu barang ke dalam list yang ada\n",
        "- hapus satu barang dari sebuah list\n",
        "- apakah ada barang tertentu dalam sebuah list\n",
        "- akses barang ke-sekian di sebuah list - pertama, terakhir, ke-3\n",
        "\n",
        "CRUD - Create Read Update Delete"
      ],
      "metadata": {
        "id": "9EtS0e-wvw5q"
      }
    },
    {
      "cell_type": "code",
      "source": [
        "len(antrian)"
      ],
      "metadata": {
        "colab": {
          "base_uri": "https://localhost:8080/"
        },
        "id": "IaG2Bvvfvv54",
        "outputId": "b68fcfdf-025f-403b-9546-2b55cc1f1028"
      },
      "execution_count": null,
      "outputs": [
        {
          "output_type": "execute_result",
          "data": {
            "text/plain": [
              "5"
            ]
          },
          "metadata": {},
          "execution_count": 74
        }
      ]
    },
    {
      "cell_type": "code",
      "source": [
        "antrian.append(\"george\")"
      ],
      "metadata": {
        "id": "YscID7pCwTwh"
      },
      "execution_count": null,
      "outputs": []
    },
    {
      "cell_type": "code",
      "source": [
        "print(antrian)"
      ],
      "metadata": {
        "colab": {
          "base_uri": "https://localhost:8080/"
        },
        "id": "bQ47RxxBw_B4",
        "outputId": "bbb8c49f-ff69-45fb-96cc-f98232fbc6cb"
      },
      "execution_count": null,
      "outputs": [
        {
          "output_type": "stream",
          "name": "stdout",
          "text": [
            "['andi', 'budi', 'cindy', 'erika', 'farah', 'george']\n"
          ]
        }
      ]
    },
    {
      "cell_type": "code",
      "source": [
        "antrian.remove(\"cindy\")"
      ],
      "metadata": {
        "id": "r3VXcEuexAw1"
      },
      "execution_count": null,
      "outputs": []
    },
    {
      "cell_type": "code",
      "source": [
        "print(antrian)"
      ],
      "metadata": {
        "colab": {
          "base_uri": "https://localhost:8080/"
        },
        "id": "ZeHrjaHbxGbI",
        "outputId": "fe664828-85d2-4720-d498-d38ca2b4e308"
      },
      "execution_count": null,
      "outputs": [
        {
          "output_type": "stream",
          "name": "stdout",
          "text": [
            "['andi', 'budi', 'erika', 'farah', 'george']\n"
          ]
        }
      ]
    },
    {
      "cell_type": "code",
      "source": [
        "\"budi\" in antrian"
      ],
      "metadata": {
        "colab": {
          "base_uri": "https://localhost:8080/"
        },
        "id": "zYC-VxUaxIDv",
        "outputId": "be3a4f9a-d9e2-4c92-a69d-aefca78e6c7b"
      },
      "execution_count": null,
      "outputs": [
        {
          "output_type": "execute_result",
          "data": {
            "text/plain": [
              "True"
            ]
          },
          "metadata": {},
          "execution_count": 79
        }
      ]
    },
    {
      "cell_type": "code",
      "source": [
        "print(antrian[0]) # barang pertama\n",
        "print(antrian[-1])# barang terakhir\n",
        "print(antrian[2]) # barang ketiga"
      ],
      "metadata": {
        "colab": {
          "base_uri": "https://localhost:8080/"
        },
        "id": "hmuXw4NTxPYb",
        "outputId": "500efa5e-a522-456f-f7b9-eb24121ae195"
      },
      "execution_count": null,
      "outputs": [
        {
          "output_type": "stream",
          "name": "stdout",
          "text": [
            "andi\n",
            "george\n",
            "erika\n"
          ]
        }
      ]
    },
    {
      "cell_type": "code",
      "source": [
        "antrian2 = [\"jonathan\", \"kevin\", \"louis\"]"
      ],
      "metadata": {
        "id": "CDTq-nyvxvDf"
      },
      "execution_count": null,
      "outputs": []
    },
    {
      "cell_type": "code",
      "source": [
        "antrian + antrian2"
      ],
      "metadata": {
        "colab": {
          "base_uri": "https://localhost:8080/"
        },
        "id": "aZfYsWbNya6v",
        "outputId": "b526b0a4-4060-454a-9e47-4fe457f969bb"
      },
      "execution_count": null,
      "outputs": [
        {
          "output_type": "execute_result",
          "data": {
            "text/plain": [
              "['andi', 'budi', 'erika', 'farah', 'george', 'jonathan', 'kevin', 'louis']"
            ]
          },
          "metadata": {},
          "execution_count": 82
        }
      ]
    },
    {
      "cell_type": "code",
      "source": [
        "antrian2[0]"
      ],
      "metadata": {
        "colab": {
          "base_uri": "https://localhost:8080/",
          "height": 36
        },
        "id": "3Z2KfX5n0zOk",
        "outputId": "59230d5f-fb0b-45d9-e611-c008123d8744"
      },
      "execution_count": null,
      "outputs": [
        {
          "output_type": "execute_result",
          "data": {
            "text/plain": [
              "'jonathan'"
            ],
            "application/vnd.google.colaboratory.intrinsic+json": {
              "type": "string"
            }
          },
          "metadata": {},
          "execution_count": 84
        }
      ]
    },
    {
      "cell_type": "code",
      "source": [
        "# = itu membuat\n",
        "nilai = 10 # simpan data ke variable\n",
        "\n",
        "# == itu nanya, apakah sama?\n",
        "print(nilai == 10) #? balikin boolean\n",
        "print(10 == 10)\n",
        "print(nilai == nilai)"
      ],
      "metadata": {
        "colab": {
          "base_uri": "https://localhost:8080/"
        },
        "id": "vyZfj6rpyc61",
        "outputId": "245dc66c-54e9-42d5-9e46-6b684773714c"
      },
      "execution_count": null,
      "outputs": [
        {
          "output_type": "stream",
          "name": "stdout",
          "text": [
            "True\n",
            "True\n",
            "True\n"
          ]
        }
      ]
    },
    {
      "cell_type": "markdown",
      "source": [
        "# Dictionary\n",
        "tipe data terstruktur juga, mirip list, tidak pakai angka urut.\n",
        "\n",
        "dictionary menggunakan string keyword untuk mengambil sebuah barang tertentu. artinya, saat dibuat sekalipun, kita juga perlu input setiap item sepasang sepasang. key: value, key: value,...\n"
      ],
      "metadata": {
        "id": "a-rFJeLTyyRg"
      }
    },
    {
      "cell_type": "code",
      "source": [
        "{}"
      ],
      "metadata": {
        "colab": {
          "base_uri": "https://localhost:8080/"
        },
        "id": "umHmmQ7Q1DVf",
        "outputId": "2176c02d-dd17-4a88-b977-20f1c73793e7"
      },
      "execution_count": null,
      "outputs": [
        {
          "output_type": "execute_result",
          "data": {
            "text/plain": [
              "{}"
            ]
          },
          "metadata": {},
          "execution_count": 85
        }
      ]
    },
    {
      "cell_type": "code",
      "source": [
        "type({})"
      ],
      "metadata": {
        "colab": {
          "base_uri": "https://localhost:8080/"
        },
        "id": "JLmfUpx41EOK",
        "outputId": "5d605246-4fd9-402d-947f-c19fd87f39db"
      },
      "execution_count": null,
      "outputs": [
        {
          "output_type": "execute_result",
          "data": {
            "text/plain": [
              "dict"
            ]
          },
          "metadata": {},
          "execution_count": 86
        }
      ]
    },
    {
      "cell_type": "code",
      "source": [
        "# harga sepatu\n",
        "harga_sepatu = {\"loafer_hitam\": 45000,\n",
        "                \"heel_merah\": 49000,\n",
        "                \"sandal_hijau\": 12000}\n",
        "\n",
        "print(harga_sepatu)"
      ],
      "metadata": {
        "colab": {
          "base_uri": "https://localhost:8080/"
        },
        "id": "7NvvZmKc1FPW",
        "outputId": "d830206b-64b0-4cf2-f8f5-3d3a1c79a945"
      },
      "execution_count": null,
      "outputs": [
        {
          "output_type": "stream",
          "name": "stdout",
          "text": [
            "{'loafer_hitam': 45000, 'heel_merah': 49000, 'sandal_hijau': 12000}\n"
          ]
        }
      ]
    },
    {
      "cell_type": "code",
      "source": [
        "# seorang murid\n",
        "murid_andi = {\n",
        "    \"nama\": \"Andhika Anggara\",\n",
        "    \"umur\": 45,\n",
        "    \"student_id\": \"H8MAR2024AB123\",\n",
        "    \"berkacamata\": True,\n",
        "    \"hobi\": [\"gaming\", \"coding\", \"traveling\"]\n",
        "}\n",
        "\n",
        "print(murid_andi)"
      ],
      "metadata": {
        "colab": {
          "base_uri": "https://localhost:8080/"
        },
        "id": "G4kjasNO1c9o",
        "outputId": "a8493490-2031-4ace-dd7d-8e68e9096289"
      },
      "execution_count": null,
      "outputs": [
        {
          "output_type": "stream",
          "name": "stdout",
          "text": [
            "{'nama': 'Andhika Anggara', 'umur': 45, 'student_id': 'H8MAR2024AB123', 'berkacamata': True, 'hobi': ['gaming', 'coding', 'traveling']}\n"
          ]
        }
      ]
    },
    {
      "cell_type": "markdown",
      "source": [
        "# Recap\n",
        "- Python environment: instalasi tools untuk coding Python.\n",
        "  - Anaconda,\n",
        "  - Anaconda + Visual Studio Code + extension Jupyter Notebook + extension Python\n",
        "  - Google Colab\n",
        "\n",
        "- Primitive Data Types\n",
        "  - int\n",
        "  - float\n",
        "  - str\n",
        "  - bool\n",
        "\n",
        "- Variable\n",
        "\n",
        "- Structured Data Types\n",
        "  - list\n",
        "  - dict\n",
        "\n",
        "## Next\n",
        "- Operators\n",
        "  - comparator\n",
        "  - arithmatic\n",
        "\n",
        "- Structured Data Types\n",
        "  - Tuple"
      ],
      "metadata": {
        "id": "iJe6FzPa2OUs"
      }
    },
    {
      "cell_type": "code",
      "source": [
        "# operator comparator, simbol yang kita gunakan untuk membandingkan dua data\n",
        "a = \"halo\"\n",
        "b = \"hello\"\n",
        "\n",
        "# apakah a sama dengan b?\n",
        "print(a == b) # akan dapat sebuah Boolean"
      ],
      "metadata": {
        "colab": {
          "base_uri": "https://localhost:8080/"
        },
        "id": "8TjsJZRB2F7G",
        "outputId": "ba02caea-04fa-4a10-a0d3-fb1d3382e0aa"
      },
      "execution_count": null,
      "outputs": [
        {
          "output_type": "stream",
          "name": "stdout",
          "text": [
            "False\n"
          ]
        }
      ]
    },
    {
      "cell_type": "markdown",
      "source": [
        "semua operator comparator hasilnya adalah sebuah boolean."
      ],
      "metadata": {
        "id": "Bd2YMpDv3k-K"
      }
    },
    {
      "cell_type": "code",
      "source": [
        "a = 23\n",
        "b = 23\n",
        "\n",
        "print(a > b) # kalau sama, termasuk False\n",
        "print(a < b)\n",
        "print(\"========\")\n",
        "print(a == b)\n",
        "print(a != b) # False, artinya tidak, a tidak tidak sama dengan b\n",
        "print(\"========\")\n",
        "print(a >= b) # kalau sama, termasuk True\n",
        "print(a <= b)"
      ],
      "metadata": {
        "colab": {
          "base_uri": "https://localhost:8080/"
        },
        "id": "qdcMWcTn3j_V",
        "outputId": "4f934149-f076-47d0-e941-13a9f20b15c7"
      },
      "execution_count": null,
      "outputs": [
        {
          "output_type": "stream",
          "name": "stdout",
          "text": [
            "False\n",
            "False\n",
            "========\n",
            "True\n",
            "False\n",
            "========\n",
            "True\n",
            "True\n"
          ]
        }
      ]
    },
    {
      "cell_type": "code",
      "source": [
        "# operator aritmatik, simbol yang kita gunakan umumnya untuk manipulasi angka + - * /\n",
        "a = 17\n",
        "b = 5\n",
        "\n",
        "print(a + b)\n",
        "print(a - b)\n",
        "print(a * b)\n",
        "print(a / b)"
      ],
      "metadata": {
        "colab": {
          "base_uri": "https://localhost:8080/"
        },
        "id": "lqVhBavJ31jL",
        "outputId": "7e716c66-a9d1-4dc0-a8f0-b2f66905b409"
      },
      "execution_count": null,
      "outputs": [
        {
          "output_type": "stream",
          "name": "stdout",
          "text": [
            "22\n",
            "12\n",
            "85\n",
            "3.4\n"
          ]
        }
      ]
    },
    {
      "cell_type": "code",
      "source": [
        "print(a % b)"
      ],
      "metadata": {
        "colab": {
          "base_uri": "https://localhost:8080/"
        },
        "id": "FGI9B2bK4tQK",
        "outputId": "7e557f19-f84b-437a-d861-f38bb74586e3"
      },
      "execution_count": null,
      "outputs": [
        {
          "output_type": "stream",
          "name": "stdout",
          "text": [
            "2\n"
          ]
        }
      ]
    },
    {
      "cell_type": "code",
      "source": [
        "print(b**3)"
      ],
      "metadata": {
        "colab": {
          "base_uri": "https://localhost:8080/"
        },
        "id": "Qkc_KYWa4vZ3",
        "outputId": "18f7ce3a-4a54-4b9c-9692-bb7c48099694"
      },
      "execution_count": null,
      "outputs": [
        {
          "output_type": "stream",
          "name": "stdout",
          "text": [
            "125\n"
          ]
        }
      ]
    },
    {
      "cell_type": "code",
      "source": [
        "# proses aritmatik bisa banyak angkanya tidak harus dua seperti komparator\n",
        "a + b - 10 * 3 / a * b % 10"
      ],
      "metadata": {
        "colab": {
          "base_uri": "https://localhost:8080/"
        },
        "id": "PjXopt6840Hy",
        "outputId": "9d663d58-8973-432d-e044-3ce012d33ca1"
      },
      "execution_count": null,
      "outputs": [
        {
          "output_type": "execute_result",
          "data": {
            "text/plain": [
              "13.176470588235293"
            ]
          },
          "metadata": {},
          "execution_count": 98
        }
      ]
    },
    {
      "cell_type": "code",
      "source": [
        "# selain angka, string dan list juga bisa ditambah dan dikali\n",
        "a = \"halo\"\n",
        "\n",
        "print(a * 3 + \" bandung\")"
      ],
      "metadata": {
        "colab": {
          "base_uri": "https://localhost:8080/"
        },
        "id": "BAOpBx0s495h",
        "outputId": "32568e38-a9b4-40e8-8d1c-1087eec07dc8"
      },
      "execution_count": null,
      "outputs": [
        {
          "output_type": "stream",
          "name": "stdout",
          "text": [
            "halohalohalo bandung\n"
          ]
        }
      ]
    },
    {
      "cell_type": "code",
      "source": [
        "a = [\"apel\", \"jeruk\"]\n",
        "\n",
        "print(a + [\"melon\"])"
      ],
      "metadata": {
        "colab": {
          "base_uri": "https://localhost:8080/"
        },
        "id": "7tlt3FMI5THE",
        "outputId": "485797dd-1d56-43e4-86ba-5bc89e9150c0"
      },
      "execution_count": null,
      "outputs": [
        {
          "output_type": "stream",
          "name": "stdout",
          "text": [
            "['apel', 'jeruk', 'melon']\n"
          ]
        }
      ]
    },
    {
      "cell_type": "code",
      "source": [
        "print(a * 2 + a + a + [\"melon\", \"pisang\"])"
      ],
      "metadata": {
        "colab": {
          "base_uri": "https://localhost:8080/"
        },
        "id": "HhgE7iym5fpb",
        "outputId": "0be99e6c-6109-4c97-cd34-c9cfdc5b00a1"
      },
      "execution_count": null,
      "outputs": [
        {
          "output_type": "stream",
          "name": "stdout",
          "text": [
            "['apel', 'jeruk', 'apel', 'jeruk', 'apel', 'jeruk', 'apel', 'jeruk', 'melon', 'pisang']\n"
          ]
        }
      ]
    },
    {
      "cell_type": "markdown",
      "source": [
        "## Tuple\n",
        "mirip list, hanya dia lebih kaku. isinya tidak bisa di ubah."
      ],
      "metadata": {
        "id": "m9YqBJzV56il"
      }
    },
    {
      "cell_type": "code",
      "source": [
        "murid_kelas = [\"Andi\", \"Budi\", \"Cynthia\"]\n",
        "nilai_kelas = [90, 80, 92]\n",
        "\n",
        "# kalau pakai list, kita bisa ubah dengan mudah\n",
        "murid_kelas[0] = \"John\"\n",
        "print(murid_kelas)"
      ],
      "metadata": {
        "colab": {
          "base_uri": "https://localhost:8080/"
        },
        "id": "1ANTpbMV5iTm",
        "outputId": "5b4ddb54-826b-4a77-ff18-75acabd70467"
      },
      "execution_count": null,
      "outputs": [
        {
          "output_type": "stream",
          "name": "stdout",
          "text": [
            "['John', 'Budi', 'Cynthia']\n"
          ]
        }
      ]
    },
    {
      "cell_type": "code",
      "source": [
        "murid_kelas = (\"Andi\", \"Budi\", \"Cynthia\")\n",
        "nilai_kelas = (90, 80, 92)\n",
        "\n",
        "# kalau pakai tuple, kita tidak bisa ubah dengan mudah\n",
        "murid_kelas[0] = \"John\"\n",
        "print(murid_kelas)"
      ],
      "metadata": {
        "colab": {
          "base_uri": "https://localhost:8080/",
          "height": 198
        },
        "id": "HXzVvuWZ6MZC",
        "outputId": "0db5d1c9-5f74-4ee3-f632-7391e45ea324"
      },
      "execution_count": null,
      "outputs": [
        {
          "output_type": "error",
          "ename": "TypeError",
          "evalue": "'tuple' object does not support item assignment",
          "traceback": [
            "\u001b[0;31m---------------------------------------------------------------------------\u001b[0m",
            "\u001b[0;31mTypeError\u001b[0m                                 Traceback (most recent call last)",
            "\u001b[0;32m<ipython-input-106-a915b27ab388>\u001b[0m in \u001b[0;36m<cell line: 5>\u001b[0;34m()\u001b[0m\n\u001b[1;32m      3\u001b[0m \u001b[0;34m\u001b[0m\u001b[0m\n\u001b[1;32m      4\u001b[0m \u001b[0;31m# kalau pakai list, kita bisa ubah dengan mudah\u001b[0m\u001b[0;34m\u001b[0m\u001b[0;34m\u001b[0m\u001b[0m\n\u001b[0;32m----> 5\u001b[0;31m \u001b[0mmurid_kelas\u001b[0m\u001b[0;34m[\u001b[0m\u001b[0;36m0\u001b[0m\u001b[0;34m]\u001b[0m \u001b[0;34m=\u001b[0m \u001b[0;34m\"John\"\u001b[0m\u001b[0;34m\u001b[0m\u001b[0;34m\u001b[0m\u001b[0m\n\u001b[0m\u001b[1;32m      6\u001b[0m \u001b[0mprint\u001b[0m\u001b[0;34m(\u001b[0m\u001b[0mmurid_kelas\u001b[0m\u001b[0;34m)\u001b[0m\u001b[0;34m\u001b[0m\u001b[0;34m\u001b[0m\u001b[0m\n",
            "\u001b[0;31mTypeError\u001b[0m: 'tuple' object does not support item assignment"
          ]
        }
      ]
    },
    {
      "cell_type": "markdown",
      "source": [
        "kalau pakai tuple dan kita mau ganti, atau nambah isinya, kita perlu convert dulu ke list, edit, baru convert balik ke tuple"
      ],
      "metadata": {
        "id": "PycyoMh46lg8"
      }
    },
    {
      "cell_type": "code",
      "source": [
        "murid_kelas = list(murid_kelas)\n",
        "murid_kelas[0] = \"John\"\n",
        "murid_kelas = tuple(murid_kelas)\n",
        "\n",
        "print(murid_kelas)"
      ],
      "metadata": {
        "colab": {
          "base_uri": "https://localhost:8080/"
        },
        "id": "jgfePW776YGA",
        "outputId": "7dad1d1c-4306-4408-c968-3982c39164c8"
      },
      "execution_count": null,
      "outputs": [
        {
          "output_type": "stream",
          "name": "stdout",
          "text": [
            "('John', 'Budi', 'Cynthia')\n"
          ]
        }
      ]
    },
    {
      "cell_type": "markdown",
      "source": [
        "yang diubah sebenarnya tetap list nya. tuple nya tidak bisa di ubah, hanya kita konversi ke list."
      ],
      "metadata": {
        "id": "pug99j246wRl"
      }
    },
    {
      "cell_type": "code",
      "source": [],
      "metadata": {
        "id": "5nErue-E6ve_"
      },
      "execution_count": null,
      "outputs": []
    }
  ]
}