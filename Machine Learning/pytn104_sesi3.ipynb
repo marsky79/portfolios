{
  "nbformat": 4,
  "nbformat_minor": 0,
  "metadata": {
    "colab": {
      "provenance": []
    },
    "kernelspec": {
      "name": "python3",
      "display_name": "Python 3"
    },
    "language_info": {
      "name": "python"
    }
  },
  "cells": [
    {
      "cell_type": "markdown",
      "source": [
        "# Function, Module, Package\n",
        "## Function\n",
        "mengelompokkan code yang sudah dibuat, supaya bisa dipakai berulang kali\n",
        "\n",
        "## Module\n",
        "mengelompokkan function, variable, dan code lainnya ke sebuah file terpisah supaya bisa dipakai berulang kali\n",
        "\n",
        "## Package\n",
        "sekelompok module di sebuah folder"
      ],
      "metadata": {
        "id": "PPPF6sU5fzMW"
      }
    },
    {
      "cell_type": "markdown",
      "source": [
        "# Function\n",
        "dibuat dengan keyword `def`"
      ],
      "metadata": {
        "id": "Z9lgZdBUgDwf"
      }
    },
    {
      "cell_type": "code",
      "execution_count": null,
      "metadata": {
        "id": "ZDMuk2BYbwoI"
      },
      "outputs": [],
      "source": [
        "def namaFunction () :\n",
        "  # code disini\n",
        "  print(\"test\")"
      ]
    },
    {
      "cell_type": "markdown",
      "source": [
        "Function dibuat dengan empat bagian:\n",
        "- keyword `def`,\n",
        "- nama functionnya yang memiliki peraturan penamaan hampir sama seperti variable,\n",
        "- sebuah kurung biasa () yang nantinya bisa kita isi `argument` atau parameter - semacam variable special milik function tersebut,\n",
        "- terakhir titik dua `:` untuk menandakan pemulaian function tersebut - sama seperti saat kita membuat conditional if dan loop"
      ],
      "metadata": {
        "id": "NxQD1lkBgMCn"
      }
    },
    {
      "cell_type": "code",
      "source": [
        "# contohnya, code yang kita buat untuk mengubah nilai angka menjadi grade A B C bisa kita jadikan sebuah function\n",
        "nilai = 85 # variable global\n",
        "grade = \"\"\n",
        "\n",
        "if (nilai >= 80):\n",
        "  grade = \"A\"\n",
        "elif (nilai >= 70):\n",
        "  grade = \"B\"\n",
        "elif (nilai >= 50):\n",
        "  grade = \"C\"\n",
        "else:\n",
        "  grade = \"D\"\n",
        "\n",
        "print(grade)"
      ],
      "metadata": {
        "colab": {
          "base_uri": "https://localhost:8080/"
        },
        "id": "ajATs7T_gpeo",
        "outputId": "441882dd-6370-40ac-da60-5d4cc0d4e713"
      },
      "execution_count": null,
      "outputs": [
        {
          "output_type": "stream",
          "name": "stdout",
          "text": [
            "A\n"
          ]
        }
      ]
    },
    {
      "cell_type": "markdown",
      "source": [
        "code diatas bisa mengubah satu nilai numerik menjadi string grade. Tapi bagaimana kalau kita punya banyak nilai."
      ],
      "metadata": {
        "id": "amA5Ypewhn0z"
      }
    },
    {
      "cell_type": "code",
      "source": [
        "def convertNilaiToGrade () :\n",
        "  nilai = 85\n",
        "  grade = \"\"\n",
        "\n",
        "  if (nilai >= 80):\n",
        "    grade = \"A\"\n",
        "  elif (nilai >= 70):\n",
        "    grade = \"B\"\n",
        "  elif (nilai >= 50):\n",
        "    grade = \"C\"\n",
        "  else:\n",
        "    grade = \"D\"\n",
        "\n",
        "  print(grade)"
      ],
      "metadata": {
        "id": "f8OBYdJ9hgqz"
      },
      "execution_count": null,
      "outputs": []
    },
    {
      "cell_type": "markdown",
      "source": [
        "kita sudah masukkan code kita kedalam sebuah function\n",
        "\n",
        "penamaan function sedikit berbeda dengan variable (ini sengaja) untuk kita bisa dengan mudah membedakan ini_variable dan iniFunction. Ini sebenarnya selera saja, cuma di rekomen menggunakan:\n",
        "- snake_case untuk variable\n",
        "- camelCase untuk function\n",
        "- PascalCase untuk class\n",
        "\n",
        "function bisa kita panggil supaya code yang ada di dalamnya jalan. bisa kita panggil berkali-kali. panggilah dengan namanya diikuti () kurung nya juga."
      ],
      "metadata": {
        "id": "bZFogvYoh8yj"
      }
    },
    {
      "cell_type": "code",
      "source": [
        "convertNilaiToGrade"
      ],
      "metadata": {
        "colab": {
          "base_uri": "https://localhost:8080/",
          "height": 104
        },
        "id": "Zrtj3iFqidMc",
        "outputId": "dd141ab1-903f-4e8f-c4ca-9a7a226ad933"
      },
      "execution_count": null,
      "outputs": [
        {
          "output_type": "execute_result",
          "data": {
            "text/plain": [
              "<function __main__.convertNilaiToGrade()>"
            ],
            "text/html": [
              "<div style=\"max-width:800px; border: 1px solid var(--colab-border-color);\"><style>\n",
              "      pre.function-repr-contents {\n",
              "        overflow-x: auto;\n",
              "        padding: 8px 12px;\n",
              "        max-height: 500px;\n",
              "      }\n",
              "\n",
              "      pre.function-repr-contents.function-repr-contents-collapsed {\n",
              "        cursor: pointer;\n",
              "        max-height: 100px;\n",
              "      }\n",
              "    </style>\n",
              "    <pre style=\"white-space: initial; background:\n",
              "         var(--colab-secondary-surface-color); padding: 8px 12px;\n",
              "         border-bottom: 1px solid var(--colab-border-color);\"><b>convertNilaiToGrade</b><br/>def convertNilaiToGrade()</pre><pre class=\"function-repr-contents function-repr-contents-collapsed\" style=\"\"><a class=\"filepath\" style=\"display:none\" href=\"#\">/content/&lt;ipython-input-11-d50495ee2ce0&gt;</a>&lt;no docstring&gt;</pre></div>"
            ]
          },
          "metadata": {},
          "execution_count": 13
        }
      ]
    },
    {
      "cell_type": "markdown",
      "source": [
        "kalau pakai nama saja, tanpa kurung nya (), function tidak jalan code nya. Python cuma akan bilang, ini function. tapi code gak jalan. jadi kita perlu () kurung nya. nama nya kita \"invoke\" function nya."
      ],
      "metadata": {
        "id": "GvvLzM5HiuRu"
      }
    },
    {
      "cell_type": "code",
      "source": [
        "convertNilaiToGrade()"
      ],
      "metadata": {
        "colab": {
          "base_uri": "https://localhost:8080/"
        },
        "id": "hYf9riKTimKN",
        "outputId": "28a31cbe-6a1f-4cb6-99f8-1b8697f897d8"
      },
      "execution_count": null,
      "outputs": [
        {
          "output_type": "stream",
          "name": "stdout",
          "text": [
            "A\n"
          ]
        }
      ]
    },
    {
      "cell_type": "code",
      "source": [
        "convertNilaiToGrade()\n",
        "convertNilaiToGrade()\n",
        "convertNilaiToGrade()"
      ],
      "metadata": {
        "colab": {
          "base_uri": "https://localhost:8080/"
        },
        "id": "i_glpe9Vi4lu",
        "outputId": "e476f49c-d297-4888-b160-9d82f1005082"
      },
      "execution_count": null,
      "outputs": [
        {
          "output_type": "stream",
          "name": "stdout",
          "text": [
            "A\n",
            "A\n",
            "A\n"
          ]
        }
      ]
    },
    {
      "cell_type": "markdown",
      "source": [
        "hanya keluar \"A\" karena code kita mengkonversi nilai 85 ke grade, lalu print grade nya.\n",
        "\n",
        "kurang berguna sebenarnya, untuk apa kita punya function yang sangat spesifik mengkonversi nilai 85 menjadi grade kemudian nge print grade nya.\n",
        "\n",
        "yang kita perlu umumnya, adalah function yang bisa melakukan sesuatu lebih general. misalnya, konversi nilai angka ke grade. semua nilai, bukan 85 saja.\n",
        "\n",
        "supaya function bisa menerima input berbeda, kadang nilai 10, kadang nilai 70, kadang nilai 100, beda beda inputnya, kita gunakan variable special khusus untuk function tersebut namanya `argument` atau parameter."
      ],
      "metadata": {
        "id": "SquMkLmWi9fd"
      }
    },
    {
      "cell_type": "code",
      "source": [
        "def namaFunction (params, args):\n",
        "  print(\"parameter atau argumen sebuah function bisa tidak ada, bisa ada 1, ada 2, ... ada banyak\")"
      ],
      "metadata": {
        "id": "C7n7HRiRi8eb"
      },
      "execution_count": null,
      "outputs": []
    },
    {
      "cell_type": "code",
      "source": [
        "# kita coba dengan contoh function convert nilai ke grade tadi\n",
        "\n",
        "def convertScoreToGrade(score):\n",
        "  grade = \"\"\n",
        "\n",
        "  if (score >= 80):\n",
        "    grade = \"A\"\n",
        "  elif (score >= 70):\n",
        "    grade = \"B\"\n",
        "  elif (score >= 50):\n",
        "    grade = \"C\"\n",
        "  else:\n",
        "    grade = \"D\"\n",
        "\n",
        "  print(grade)"
      ],
      "metadata": {
        "id": "ibeX_koXjt4m"
      },
      "execution_count": null,
      "outputs": []
    },
    {
      "cell_type": "markdown",
      "source": [
        "diatas kita sudah buat sebuah function baru `convertScoreToGrade` yang memiliki satu parameter `score`\n",
        "\n",
        "variable atau parameter `score` bisa dibaca di code dalam function, tapi tidak exist di luar function"
      ],
      "metadata": {
        "id": "qyFWPyBzkI0Q"
      }
    },
    {
      "cell_type": "code",
      "source": [
        "print(nilai)"
      ],
      "metadata": {
        "colab": {
          "base_uri": "https://localhost:8080/"
        },
        "id": "k7BzaQ7nkIev",
        "outputId": "e8f0ef9f-7b41-49d4-97ed-92f06e453a89"
      },
      "execution_count": null,
      "outputs": [
        {
          "output_type": "stream",
          "name": "stdout",
          "text": [
            "85\n"
          ]
        }
      ]
    },
    {
      "cell_type": "markdown",
      "source": [
        "tempat kita deklarasi variable menentukan dia exist dimana.\n",
        "\n",
        "variable global seperti `nilai` yang kita buat di luar, tanpa indentasi, bukan di dalam if, bukan di dalam function, bisa dipakai dimanapun\n",
        "\n",
        "variable special milik function, yang kita buat di dalam kurung () function, hidupnya cuma ada di dalam function tersebut. contohnya `score` cuma ada di dalam sekelompok code miliki `convertScoreToGrade` dan tidak bisa dibaca di luar function ini."
      ],
      "metadata": {
        "id": "yYJs26cikhWp"
      }
    },
    {
      "cell_type": "code",
      "source": [
        "convertScoreToGrade()"
      ],
      "metadata": {
        "colab": {
          "base_uri": "https://localhost:8080/",
          "height": 141
        },
        "id": "XYqTxoOhkU3I",
        "outputId": "55979cf6-2701-487b-d3c6-1d08d429094b"
      },
      "execution_count": null,
      "outputs": [
        {
          "output_type": "error",
          "ename": "TypeError",
          "evalue": "convertScoreToGrade() missing 1 required positional argument: 'score'",
          "traceback": [
            "\u001b[0;31m---------------------------------------------------------------------------\u001b[0m",
            "\u001b[0;31mTypeError\u001b[0m                                 Traceback (most recent call last)",
            "\u001b[0;32m<ipython-input-22-ee34cae2cbae>\u001b[0m in \u001b[0;36m<cell line: 1>\u001b[0;34m()\u001b[0m\n\u001b[0;32m----> 1\u001b[0;31m \u001b[0mconvertScoreToGrade\u001b[0m\u001b[0;34m(\u001b[0m\u001b[0;34m)\u001b[0m\u001b[0;34m\u001b[0m\u001b[0;34m\u001b[0m\u001b[0m\n\u001b[0m",
            "\u001b[0;31mTypeError\u001b[0m: convertScoreToGrade() missing 1 required positional argument: 'score'"
          ]
        }
      ]
    },
    {
      "cell_type": "markdown",
      "source": [
        "error code `missing 1 required positional argument: 'score'` artinya, function yang kita jalankan, kehilangan sebuah argument. function ini memiliki sebuah argument yang HARUS diisi. **required argument** adalah argument yang harus diisi.\n",
        "\n",
        "- function dimulai dengan keyword `def`\n",
        "- diikuti nama function nya yang kita tulis menggunakan camelCaseSepertiIni\n",
        "- kemudian ada kurung () yang berisi `argument` atau parameter atau variabel spesial milik function\n",
        "- terakhir titik dua :\n",
        "\n",
        "### argument\n",
        "ada dua tipe argument:\n",
        "1. required argument, argument yang HARUS diisi, kalau tidak function akan error\n",
        "2. default argument, argument yang tidak harus diisi karena dia memiliki default value. kalau tidak diisi dia punya nilai default.\n",
        "\n",
        "di contoh kita diatas, function convertScoreToGrade memilki satu required argument `score`"
      ],
      "metadata": {
        "id": "IpKwcEeblE8a"
      }
    },
    {
      "cell_type": "code",
      "source": [
        "convertScoreToGrade(50)"
      ],
      "metadata": {
        "colab": {
          "base_uri": "https://localhost:8080/"
        },
        "id": "O1wcB8sYk-_w",
        "outputId": "cf5278dd-3a21-4f8d-8833-850d9cbfa6cf"
      },
      "execution_count": null,
      "outputs": [
        {
          "output_type": "stream",
          "name": "stdout",
          "text": [
            "C\n"
          ]
        }
      ]
    },
    {
      "cell_type": "code",
      "source": [
        "convertScoreToGrade(80)\n",
        "convertScoreToGrade(85)\n",
        "convertScoreToGrade(78)"
      ],
      "metadata": {
        "colab": {
          "base_uri": "https://localhost:8080/"
        },
        "id": "QR56Ll3el4qS",
        "outputId": "8a071b29-1054-4919-d06a-3e4c3ef4b8fd"
      },
      "execution_count": null,
      "outputs": [
        {
          "output_type": "stream",
          "name": "stdout",
          "text": [
            "A\n",
            "A\n",
            "B\n"
          ]
        }
      ]
    },
    {
      "cell_type": "code",
      "source": [
        "for n in [50,60,80,70,50,20,40,90,50,47,65]:\n",
        "  print(n)\n",
        "  convertScoreToGrade(n)\n",
        "  print()"
      ],
      "metadata": {
        "colab": {
          "base_uri": "https://localhost:8080/"
        },
        "id": "MSYwjcvul8yC",
        "outputId": "2d99e95b-aad1-47b1-b19c-bf531899defc"
      },
      "execution_count": null,
      "outputs": [
        {
          "output_type": "stream",
          "name": "stdout",
          "text": [
            "50\n",
            "C\n",
            "\n",
            "60\n",
            "C\n",
            "\n",
            "80\n",
            "A\n",
            "\n",
            "70\n",
            "B\n",
            "\n",
            "50\n",
            "C\n",
            "\n",
            "20\n",
            "D\n",
            "\n",
            "40\n",
            "D\n",
            "\n",
            "90\n",
            "A\n",
            "\n",
            "50\n",
            "C\n",
            "\n",
            "47\n",
            "D\n",
            "\n",
            "65\n",
            "C\n",
            "\n"
          ]
        }
      ]
    },
    {
      "cell_type": "markdown",
      "source": [
        "dengan menggunakan kombinasi list, loop, dan function, kita bisa mengkonversi banyak nilai berbeda (dari numerik) menjadi grade.\n",
        "\n",
        "Ini contoh penggunakan function. function yang ini memiliki satu argument yang isinya kita ganti ganti. kita isi dengan nilai 50, run function, dapat grade C. lanjut kita isi 60, run function, dapat grade C. isi 80, run function, dapat grade A."
      ],
      "metadata": {
        "id": "BhWP1I7BmOhu"
      }
    },
    {
      "cell_type": "markdown",
      "source": [
        "Jika kalian perhatikan, `print` juga termasuk function. `built-in function` adalah function yang dibuatkan oleh Python. semua function yang kita buat sendiri termasuk custom function.\n",
        "\n",
        "banyak yang sudah kita gunakan dari `built-in function` seperti `type`, `int`,\n",
        "`str`, `print`, `display` dan masih banyak lagi termasuk function function milik tipe data, misalnya dictionary punya .keys() atau list punya .append()"
      ],
      "metadata": {
        "id": "6_61hzpFmtHI"
      }
    },
    {
      "cell_type": "markdown",
      "source": [
        "Masalah berikutnya, jika function hanya menggunakan print, kita tidak bisa mendapatkan data yang sudah di proses oleh function tersebut.\n",
        "\n",
        "program idealnya kita berikan input > dia proses > kita dapat output\n",
        "\n",
        "idealnya, kita bisa masukin nilai angka > proses > kita bisa save hasil grade nya, ke file csv, ke database, ke sebuah tempat berbeda, ... kita mau simpan hasilnya\n",
        "\n",
        "print tidak bisa simpan hasil, print hanya menampilkan saja. karena itu kita perlu bantuan keyword lain `return`\n",
        "\n",
        "## return\n",
        "return mengembalikan sebuah data dari akhir function kembali ke tempat function tersebut dipanggil"
      ],
      "metadata": {
        "id": "clOwrxgkneXo"
      }
    },
    {
      "cell_type": "code",
      "source": [
        "# misal kita convert nilai 85 ke grade.\n",
        "# hasil konversi mau kita simpan ke variable.\n",
        "hasil = convertScoreToGrade(85)\n",
        "\n",
        "# selesai simpan, kita mau print hasilnya\n",
        "print(\"hasil konversi angka 85 adalah: \", hasil)"
      ],
      "metadata": {
        "colab": {
          "base_uri": "https://localhost:8080/"
        },
        "id": "dH63vwA2mHSz",
        "outputId": "39a35fa7-7f65-40af-8d2d-9bcf288d1701"
      },
      "execution_count": null,
      "outputs": [
        {
          "output_type": "stream",
          "name": "stdout",
          "text": [
            "A\n",
            "hasil konversi angka 85 adalah:  None\n"
          ]
        }
      ]
    },
    {
      "cell_type": "markdown",
      "source": [
        "A diatas menunjukkan function nya jalan. print nya jalan, function berhasil konversi angka 85 menjadi grade A yang kemudian di print (code dalam function kita suruh print grade)\n",
        "\n",
        "hasil konversi angka 85 adalah None menunjukkan kalau variable `hasil` kita isinya `None` atau kosong, gak ada isinya. function kita tidak mengembalikan nilai apapun ke variable `hasil`. function kita tidak `return` data.\n",
        "\n",
        "kita bisa gunakan keyword `return` di dalam sebuah function supaya function mengembalikan data. function jalan bukan sekali jalan saja selesai, tapi dia bisa balikin data ke tempat dia dipanggil."
      ],
      "metadata": {
        "id": "bMVGwrNnoJZj"
      }
    },
    {
      "cell_type": "code",
      "source": [
        "# kita tambahkan return ke function kita\n",
        "# print nya kuhapus, tapi kalau mau ada print juga boleh sebenarnya. print boleh banyak, return cuma boleh satu.\n",
        "def getGrade(num):\n",
        "  grade = \"\"\n",
        "\n",
        "  if (num >= 80):\n",
        "    grade = \"A\"\n",
        "  elif (num >= 70):\n",
        "    grade = \"B\"\n",
        "  elif (num >= 50):\n",
        "    grade = \"C\"\n",
        "  else:\n",
        "    grade = \"D\"\n",
        "\n",
        "  return grade\n",
        "  print(\"halo\") # semua code setelah return tidak jalan"
      ],
      "metadata": {
        "id": "nuEi5vkUoGWh"
      },
      "execution_count": null,
      "outputs": []
    },
    {
      "cell_type": "code",
      "source": [
        "getGrade(100)"
      ],
      "metadata": {
        "colab": {
          "base_uri": "https://localhost:8080/",
          "height": 35
        },
        "id": "V9FTNZPhpQeM",
        "outputId": "05109a35-5289-4638-c092-117e218800ba"
      },
      "execution_count": null,
      "outputs": [
        {
          "output_type": "execute_result",
          "data": {
            "text/plain": [
              "'A'"
            ],
            "application/vnd.google.colaboratory.intrinsic+json": {
              "type": "string"
            }
          },
          "metadata": {},
          "execution_count": 29
        }
      ]
    },
    {
      "cell_type": "code",
      "source": [
        "'A'"
      ],
      "metadata": {
        "colab": {
          "base_uri": "https://localhost:8080/",
          "height": 35
        },
        "id": "SOIQ436ipSEL",
        "outputId": "60dcfdd7-1718-4a12-f514-1fdef7cb3441"
      },
      "execution_count": null,
      "outputs": [
        {
          "output_type": "execute_result",
          "data": {
            "text/plain": [
              "'A'"
            ],
            "application/vnd.google.colaboratory.intrinsic+json": {
              "type": "string"
            }
          },
          "metadata": {},
          "execution_count": 30
        }
      ]
    },
    {
      "cell_type": "code",
      "source": [
        "print('A')"
      ],
      "metadata": {
        "colab": {
          "base_uri": "https://localhost:8080/"
        },
        "id": "2PYrb-PYpVAL",
        "outputId": "02c36c0f-5e9d-445d-8b19-4c946f987daf"
      },
      "execution_count": null,
      "outputs": [
        {
          "output_type": "stream",
          "name": "stdout",
          "text": [
            "A\n"
          ]
        }
      ]
    },
    {
      "cell_type": "code",
      "source": [
        "hasil = getGrade(100)\n",
        "\n",
        "print(\"hasil konversi nilai 100 menjadi grade adalah:\", hasil)"
      ],
      "metadata": {
        "colab": {
          "base_uri": "https://localhost:8080/"
        },
        "id": "Gk7HZAyypWFc",
        "outputId": "2bc5cce0-0844-4317-f441-e0ec56d4e433"
      },
      "execution_count": null,
      "outputs": [
        {
          "output_type": "stream",
          "name": "stdout",
          "text": [
            "hasil konversi nilai 100 menjadi grade adalah: A\n"
          ]
        }
      ]
    },
    {
      "cell_type": "code",
      "source": [
        "print(hasil)"
      ],
      "metadata": {
        "colab": {
          "base_uri": "https://localhost:8080/"
        },
        "id": "rKFzlz3-pcMk",
        "outputId": "ae5777b3-a3be-4da7-8415-ac88cb006460"
      },
      "execution_count": null,
      "outputs": [
        {
          "output_type": "stream",
          "name": "stdout",
          "text": [
            "A\n"
          ]
        }
      ]
    },
    {
      "cell_type": "markdown",
      "source": [
        "karena function getGrade me`return` data, maka hasil bisa memiliki data. tanpa `return` hasil akan berisi `None` atau kosong.\n",
        "\n",
        "## Function\n",
        "- dimulai dengan keyword `def`\n",
        "- lalu nama function yang ditulis sepertiIniCamelCase\n",
        "- lalu kurung () yang bisa berisi `argument` atau variable spesial milik function\n",
        "- terakhir titik dua :\n",
        "- ada keyword spesial `return` yang kita tulis di dalam function, supaya function bisa mengembalikan data ke tempat function dijalankan\n",
        "\n",
        "## Latihan Pendek\n",
        "1. buatlah sebuah function `menyapaOrang` yang menerima argument `nama`\n",
        "2. function tersebut akan melakukan print dalam bentuk \"Halo `<nama>`, selamat malam\"\n",
        "3. function tersebut akan me`return` nama orang yang disapa dalam CAPITALCASE\n",
        "\n",
        "cobalah jalankan function tersebut untuk `Andi` dan `budi`"
      ],
      "metadata": {
        "id": "w4RD879dpkxl"
      }
    },
    {
      "cell_type": "code",
      "source": [
        "def menyapaOrang(nama):\n",
        "  # print(\"Halo \" + nama + \", selamat malam\")\n",
        "  print(f\"Halo {nama}, selamat malam\")\n",
        "  return nama.upper()"
      ],
      "metadata": {
        "id": "JcGhsCPDpeHD"
      },
      "execution_count": null,
      "outputs": []
    },
    {
      "cell_type": "code",
      "source": [
        "hasil_sapa_andi = menyapaOrang(\"Andi\")\n",
        "hasil_sapa_budi = menyapaOrang(\"budi\")"
      ],
      "metadata": {
        "colab": {
          "base_uri": "https://localhost:8080/"
        },
        "id": "0acRxpvavKIY",
        "outputId": "0dabf319-4fb7-4e47-e6b0-99537e70a891"
      },
      "execution_count": null,
      "outputs": [
        {
          "output_type": "stream",
          "name": "stdout",
          "text": [
            "Halo Andi, selamat malam\n",
            "Halo budi, selamat malam\n"
          ]
        }
      ]
    },
    {
      "cell_type": "code",
      "source": [
        "print(hasil_sapa_andi)"
      ],
      "metadata": {
        "colab": {
          "base_uri": "https://localhost:8080/"
        },
        "id": "LPGVfDWEvOZJ",
        "outputId": "e4806e85-aa9a-4030-9109-3e62a668e89f"
      },
      "execution_count": null,
      "outputs": [
        {
          "output_type": "stream",
          "name": "stdout",
          "text": [
            "ANDI\n"
          ]
        }
      ]
    },
    {
      "cell_type": "code",
      "source": [
        "print(hasil_sapa_budi)"
      ],
      "metadata": {
        "id": "Z4pQOxJ_vdux",
        "outputId": "5949cb13-fbaf-4c53-a522-7306c2b9a903",
        "colab": {
          "base_uri": "https://localhost:8080/"
        }
      },
      "execution_count": null,
      "outputs": [
        {
          "output_type": "stream",
          "name": "stdout",
          "text": [
            "BUDI\n"
          ]
        }
      ]
    },
    {
      "cell_type": "markdown",
      "source": [
        "## Recap\n",
        "function kita gunakan untuk menyimpan banyak baris code di satu tempat\n",
        "\n",
        "function bisa kita berikan custom input data berbeda-beda menggunakan argument (atau parameter, atau variable spesial milik function tersebut)\n",
        "\n",
        "function bisa mengembalikan data dengan menggunakan keyword return\n",
        "\n",
        "## Tipe tipe Argument\n",
        "- required argument, harus diisi\n",
        "- default argument, tidak harus diisi karena kalau tidak diisi kita sudah assign value tertentu untuk argument ini"
      ],
      "metadata": {
        "id": "LVjM68IIv0Tb"
      }
    },
    {
      "cell_type": "code",
      "source": [
        "# misalkan function menyapa orang, kalau kita tidak tau namanya, cukup bilang pak/bu\n",
        "# default argument\n",
        "def menyapaOrang(nama=\"pak/bu\"):\n",
        "  # print(\"Halo \" + nama + \", selamat malam\")\n",
        "  print(f\"Halo {nama}, selamat malam\")\n",
        "  return nama.upper()"
      ],
      "metadata": {
        "id": "IDIyvhZbvfJJ"
      },
      "execution_count": null,
      "outputs": []
    },
    {
      "cell_type": "code",
      "source": [
        "menyapaOrang()"
      ],
      "metadata": {
        "colab": {
          "base_uri": "https://localhost:8080/",
          "height": 53
        },
        "id": "KJyeHnk-wcrt",
        "outputId": "6f49f0e0-532c-4e1e-cd95-1eb770b5f62f"
      },
      "execution_count": null,
      "outputs": [
        {
          "output_type": "stream",
          "name": "stdout",
          "text": [
            "Halo pak/bu, selamat malam\n"
          ]
        },
        {
          "output_type": "execute_result",
          "data": {
            "text/plain": [
              "'PAK/BU'"
            ],
            "application/vnd.google.colaboratory.intrinsic+json": {
              "type": "string"
            }
          },
          "metadata": {},
          "execution_count": 44
        }
      ]
    },
    {
      "cell_type": "code",
      "source": [
        "# bagaimana kalau argument ada banyak? selain nama, ada waktu dan tempat\n",
        "def menyapaOrang(nama, waktu, tempat):\n",
        "  print(f\"Halo {nama}, selamat {waktu}. Selamat datang di {tempat}\")"
      ],
      "metadata": {
        "id": "KhUHjUl6wel0"
      },
      "execution_count": null,
      "outputs": []
    },
    {
      "cell_type": "code",
      "source": [
        "menyapaOrang(\"Andi\", \"siang\", \"kantor\")"
      ],
      "metadata": {
        "colab": {
          "base_uri": "https://localhost:8080/"
        },
        "id": "YHGUkx88wxMl",
        "outputId": "b2231db7-e8fa-4e7c-df50-afc0bf4508b0"
      },
      "execution_count": null,
      "outputs": [
        {
          "output_type": "stream",
          "name": "stdout",
          "text": [
            "Halo Andi, selamat siang. Selamat datang di kantor\n"
          ]
        }
      ]
    },
    {
      "cell_type": "code",
      "source": [
        "# kita bisa buat beberapa argumen menjadi default, semua default juga boleh\n",
        "\n",
        "def menyapaOrang(nama=\"pak/bu\", waktu=\"pagi\", tempat=\"tempat\"):\n",
        "  print(f\"Halo {nama}, selamat {waktu}. Selamat datang di {tempat}\")\n",
        "\n",
        "menyapaOrang()"
      ],
      "metadata": {
        "colab": {
          "base_uri": "https://localhost:8080/"
        },
        "id": "sw_9PPjPwyum",
        "outputId": "6c8f172b-428a-4ca5-aa1b-d98cb3f26e15"
      },
      "execution_count": null,
      "outputs": [
        {
          "output_type": "stream",
          "name": "stdout",
          "text": [
            "Halo pak/bu, selamat pagi. Selamat datang di tempat\n"
          ]
        }
      ]
    },
    {
      "cell_type": "code",
      "source": [
        "menyapaOrang(\"Andi\", \"siang\", \"kantor\")"
      ],
      "metadata": {
        "colab": {
          "base_uri": "https://localhost:8080/"
        },
        "id": "jh7GOAoWxJPt",
        "outputId": "cf5e4a15-b3ce-4f53-ae4c-67a39e9a5c47"
      },
      "execution_count": null,
      "outputs": [
        {
          "output_type": "stream",
          "name": "stdout",
          "text": [
            "Halo Andi, selamat siang. Selamat datang di kantor\n"
          ]
        }
      ]
    },
    {
      "cell_type": "markdown",
      "source": [
        "function yang memiliki argumen `default argument` bisa kita isi, bisa kita biarkan kosong. boleh diisi, boleh dibiarkan kosong.\n",
        "\n",
        "untuk argument yang `required` itu harus diisi, kalau tidak function akan error.\n",
        "\n",
        "contoh diatas, ketiga argumen bersifat default. boleh diisi semua, diisi 2, diisi 1, atau tidak diisi, tidak akan error."
      ],
      "metadata": {
        "id": "nj1Niix6xMem"
      }
    },
    {
      "cell_type": "code",
      "source": [
        "# campur juga boleh, misalnya tempat harus diketahui\n",
        "# rule tambahan: required argument duluan, baru default argument\n",
        "def menyapaOrang(tempat, nama=\"pak/bu\", waktu=\"pagi\"):\n",
        "  print(f\"Halo {nama}, selamat {waktu}. Selamat datang di {tempat}\")\n",
        "\n",
        "menyapaOrang(\"mall\")"
      ],
      "metadata": {
        "colab": {
          "base_uri": "https://localhost:8080/"
        },
        "id": "sNHE-v8exK1V",
        "outputId": "0d475242-9395-40c6-833b-e7ac7e9b014d"
      },
      "execution_count": null,
      "outputs": [
        {
          "output_type": "stream",
          "name": "stdout",
          "text": [
            "Halo pak/bu, selamat pagi. Selamat datang di mall\n"
          ]
        }
      ]
    },
    {
      "cell_type": "markdown",
      "source": [
        "demikian perbedaan required dan default argument.\n",
        "\n",
        "## argument\n",
        "cara buat argument ada dua:\n",
        "- required, harus diisi\n",
        "- default, punya default value, tidak harus diisi\n",
        "\n",
        "cara **isi** sebuah argument ada dua:\n",
        "- positional argument, sesuai posisis, kalau dia arg pertama dia diisi duluan\n",
        "- keyword argument, panggil namanya lalu assign value\n"
      ],
      "metadata": {
        "id": "24bSJASeyGP5"
      }
    },
    {
      "cell_type": "code",
      "source": [
        "menyapaOrang(nama=\"Andhika\", tempat=\"kantor H8\")"
      ],
      "metadata": {
        "colab": {
          "base_uri": "https://localhost:8080/"
        },
        "id": "Q22kAdr4xzSO",
        "outputId": "011a73b8-a744-45d0-bb38-36a911478344"
      },
      "execution_count": null,
      "outputs": [
        {
          "output_type": "stream",
          "name": "stdout",
          "text": [
            "Halo Andhika, selamat pagi. Selamat datang di kantor H8\n"
          ]
        }
      ]
    },
    {
      "cell_type": "markdown",
      "source": [
        "di atas, kita menggunakan keyword untuk mengisi argument nama, dan argument tempat. posisi pengisian tidak lagi penting. gapapa isi nama duluan.\n",
        "\n",
        "di banyak package, function buatan orang lain, kita tidak perlu menghapal posisi argument dari function yang mereka buat. kita bisa gunakan keyword saja."
      ],
      "metadata": {
        "id": "19NqH7pjyoDz"
      }
    },
    {
      "cell_type": "markdown",
      "source": [
        "### Variable-length argument\n",
        "contoh: function print\n",
        "\n",
        "function bisa memiliki argument banyak banyak, bisa 0,1,2,3,.... bebas\n"
      ],
      "metadata": {
        "id": "HCPaeIVpzgtA"
      }
    },
    {
      "cell_type": "code",
      "source": [
        "print()\n",
        "print(1)\n",
        "print(1,2)\n",
        "print(1,2,3,\"halo\",\"print\",\"banyak\")"
      ],
      "metadata": {
        "colab": {
          "base_uri": "https://localhost:8080/"
        },
        "id": "ePXlS9aTymbR",
        "outputId": "28bce787-ec77-47b0-92fc-03af8f54bd96"
      },
      "execution_count": null,
      "outputs": [
        {
          "output_type": "stream",
          "name": "stdout",
          "text": [
            "\n",
            "1\n",
            "1 2\n",
            "1 2 3 halo print banyak\n"
          ]
        }
      ]
    },
    {
      "cell_type": "code",
      "source": [
        "def cetak(*data):\n",
        "  print(type(data))\n",
        "  for d in data:\n",
        "    print(\"cetak:\", d)"
      ],
      "metadata": {
        "id": "xl7XY3qpztFk"
      },
      "execution_count": null,
      "outputs": []
    },
    {
      "cell_type": "code",
      "source": [
        "# function cetak memiliki variable length argument data. untuk setiap data yang kita kasih ke function cetak, kita lakukan print\n",
        "cetak()"
      ],
      "metadata": {
        "id": "ff3xIFLdz64M"
      },
      "execution_count": null,
      "outputs": []
    },
    {
      "cell_type": "code",
      "source": [
        "cetak(\"halo\")"
      ],
      "metadata": {
        "colab": {
          "base_uri": "https://localhost:8080/"
        },
        "id": "LRix3fGu0GTc",
        "outputId": "4113fe10-a8da-47f6-ce7f-69e0c44cbea4"
      },
      "execution_count": null,
      "outputs": [
        {
          "output_type": "stream",
          "name": "stdout",
          "text": [
            "cetak: halo\n"
          ]
        }
      ]
    },
    {
      "cell_type": "code",
      "source": [
        "cetak(\"halo\", \"ini\", \"test\", 1,2,3)"
      ],
      "metadata": {
        "colab": {
          "base_uri": "https://localhost:8080/"
        },
        "id": "3URF4tww0HaM",
        "outputId": "37aedad0-28b3-4aeb-e95e-7397afa0caef"
      },
      "execution_count": null,
      "outputs": [
        {
          "output_type": "stream",
          "name": "stdout",
          "text": [
            "<class 'tuple'>\n",
            "cetak: halo\n",
            "cetak: ini\n",
            "cetak: test\n",
            "cetak: 1\n",
            "cetak: 2\n",
            "cetak: 3\n"
          ]
        }
      ]
    },
    {
      "cell_type": "markdown",
      "source": [
        "variable-length argument mengelompokkan semua data argument yang diterima saat function dipanggil kedalam sebuah tuple.\n",
        "\n",
        "tuple tersebut yang kita terima di dalam function nya, yang kita edit2. contohnya diatas, kita menggunakan for loop untuk mengambil satu per satu item dalam tuple data."
      ],
      "metadata": {
        "id": "auru-DPk1GqZ"
      }
    },
    {
      "cell_type": "markdown",
      "source": [
        "## Recap: Function\n",
        "- keyword `def`\n",
        "- namaFunction\n",
        "- () isi argument, bisa 0,1,2,... dan tipe tipe argument bisa `required` atau `default`, nanti cara isinya bisa `positional` atau `keyword`, dan ada juga yang namanya `variable-length argument`\n",
        "- :\n",
        "\n",
        "function menyimpan sebuah blok code\n",
        "\n",
        "function bisa mengembalikan data setelah selesai dipanggil jika kita ada gunakan keyword `return`\n",
        "\n",
        "## Recap: Variable\n",
        "nama_variable = \"data yang mau disimpan\"\n",
        "\n",
        "## Recap: Data Types\n",
        "- int 123\n",
        "- float 1.23\n",
        "- string \"halo\"\n",
        "- boolean True atau False\n",
        "- list [\"item1\", 2]\n",
        "- dictionary {\"apel\": 2350, \"pisang\":15000}\n",
        "\n",
        "# Module\n",
        "module adalah sebuah file terpisah dengan extension `.py`\n",
        "\n",
        "ini adalah sebuah file yang menyimpan code python. di dalam file ini bisa kita isi variable dan function.\n",
        "\n",
        "class - custom data type - juga bisa masuk ke dalam module. biasanya untuk pembuatan program."
      ],
      "metadata": {
        "id": "0qamT6GF2Cj1"
      }
    },
    {
      "cell_type": "code",
      "source": [
        "# note, kita buat file terpisah dengan extension .py di dalam folder yang sama dengan file notebook kita\n",
        "# setelah itu kita import file ini dengan nama file nya"
      ],
      "metadata": {
        "id": "v1EdiFXa0Kos"
      },
      "execution_count": null,
      "outputs": []
    },
    {
      "cell_type": "code",
      "source": [
        "import kucing"
      ],
      "metadata": {
        "id": "ZCHwCBtJ4rkO"
      },
      "execution_count": null,
      "outputs": []
    },
    {
      "cell_type": "code",
      "source": [
        "kucing.nama"
      ],
      "metadata": {
        "colab": {
          "base_uri": "https://localhost:8080/",
          "height": 35
        },
        "id": "pFD1egl44uH2",
        "outputId": "d2de3d30-e582-4563-e891-c4e0d15e6e55"
      },
      "execution_count": null,
      "outputs": [
        {
          "output_type": "execute_result",
          "data": {
            "text/plain": [
              "'oyen'"
            ],
            "application/vnd.google.colaboratory.intrinsic+json": {
              "type": "string"
            }
          },
          "metadata": {},
          "execution_count": 63
        }
      ]
    },
    {
      "cell_type": "code",
      "source": [
        "kucing.tahun_lahir"
      ],
      "metadata": {
        "colab": {
          "base_uri": "https://localhost:8080/"
        },
        "id": "ua5LOtl95J1I",
        "outputId": "3147b765-59bf-4729-9fa9-529593352210"
      },
      "execution_count": null,
      "outputs": [
        {
          "output_type": "execute_result",
          "data": {
            "text/plain": [
              "2010"
            ]
          },
          "metadata": {},
          "execution_count": 64
        }
      ]
    },
    {
      "cell_type": "code",
      "source": [
        "kucing.makan"
      ],
      "metadata": {
        "colab": {
          "base_uri": "https://localhost:8080/",
          "height": 121
        },
        "id": "Nu8Hnufd5LeC",
        "outputId": "4fea4d86-15e6-4b24-b706-8156d0f8a488"
      },
      "execution_count": null,
      "outputs": [
        {
          "output_type": "execute_result",
          "data": {
            "text/plain": [
              "<function kucing.makan(tipe='ikan')>"
            ],
            "text/html": [
              "<div style=\"max-width:800px; border: 1px solid var(--colab-border-color);\"><style>\n",
              "      pre.function-repr-contents {\n",
              "        overflow-x: auto;\n",
              "        padding: 8px 12px;\n",
              "        max-height: 500px;\n",
              "      }\n",
              "\n",
              "      pre.function-repr-contents.function-repr-contents-collapsed {\n",
              "        cursor: pointer;\n",
              "        max-height: 100px;\n",
              "      }\n",
              "    </style>\n",
              "    <pre style=\"white-space: initial; background:\n",
              "         var(--colab-secondary-surface-color); padding: 8px 12px;\n",
              "         border-bottom: 1px solid var(--colab-border-color);\"><b>kucing.makan</b><br/>def makan(tipe=&#x27;ikan&#x27;)</pre><pre class=\"function-repr-contents function-repr-contents-collapsed\" style=\"\"><a class=\"filepath\" style=\"display:none\" href=\"#\">/content/kucing.py</a>&lt;no docstring&gt;</pre>\n",
              "      <script>\n",
              "      if (google.colab.kernel.accessAllowed && google.colab.files && google.colab.files.view) {\n",
              "        for (const element of document.querySelectorAll('.filepath')) {\n",
              "          element.style.display = 'block'\n",
              "          element.onclick = (event) => {\n",
              "            event.preventDefault();\n",
              "            event.stopPropagation();\n",
              "            google.colab.files.view(element.textContent, 6);\n",
              "          };\n",
              "        }\n",
              "      }\n",
              "      for (const element of document.querySelectorAll('.function-repr-contents')) {\n",
              "        element.onclick = (event) => {\n",
              "          event.preventDefault();\n",
              "          event.stopPropagation();\n",
              "          element.classList.toggle('function-repr-contents-collapsed');\n",
              "        };\n",
              "      }\n",
              "      </script>\n",
              "      </div>"
            ]
          },
          "metadata": {},
          "execution_count": 65
        }
      ]
    },
    {
      "cell_type": "code",
      "source": [
        "kucing.makan()"
      ],
      "metadata": {
        "colab": {
          "base_uri": "https://localhost:8080/"
        },
        "id": "w6xgPFJV5NQg",
        "outputId": "d4333d17-b3ff-4fc7-d5de-0ddc1b744f72"
      },
      "execution_count": null,
      "outputs": [
        {
          "output_type": "stream",
          "name": "stdout",
          "text": [
            "kucing makan ikan\n"
          ]
        }
      ]
    },
    {
      "cell_type": "code",
      "source": [
        "kucing.makan(\"daging\")"
      ],
      "metadata": {
        "colab": {
          "base_uri": "https://localhost:8080/"
        },
        "id": "I4rlipzq5Plp",
        "outputId": "ea11d4f5-6484-4fb1-8aac-eaca7bbf521e"
      },
      "execution_count": null,
      "outputs": [
        {
          "output_type": "stream",
          "name": "stdout",
          "text": [
            "kucing makan daging\n"
          ]
        }
      ]
    },
    {
      "cell_type": "code",
      "source": [
        "kucing.meong()"
      ],
      "metadata": {
        "colab": {
          "base_uri": "https://localhost:8080/"
        },
        "id": "e_2LH0XE5S9I",
        "outputId": "b6d4421c-413f-4ba6-8c3b-20f487fcc82e"
      },
      "execution_count": null,
      "outputs": [
        {
          "output_type": "stream",
          "name": "stdout",
          "text": [
            "miawww\n"
          ]
        }
      ]
    },
    {
      "cell_type": "code",
      "source": [
        "kucing.cekUmur()"
      ],
      "metadata": {
        "colab": {
          "base_uri": "https://localhost:8080/"
        },
        "id": "efE90IPE5UrR",
        "outputId": "7260d157-0150-4a6f-e252-4110fadb6f26"
      },
      "execution_count": null,
      "outputs": [
        {
          "output_type": "execute_result",
          "data": {
            "text/plain": [
              "14"
            ]
          },
          "metadata": {},
          "execution_count": 69
        }
      ]
    },
    {
      "cell_type": "markdown",
      "source": [
        "## Latihan Pendek\n",
        "- coba buat sebuah module Python\n",
        "- misalnya buatlah module \"andi.py\"\n",
        "- isi dengan dua variable berbeda, misalnya nama \"Andhika Adijanto\" dan hobi [\"makan\", \"belanja\", \"bekerja\"]\n",
        "- isi dengan function \"kenalan\" yang print text \"Halo, saya \\<nama> dengan hobi bekerja, salam kenal.\"\n",
        "- import file module andi.py ini ke sebuah file notebook ipynb\n",
        "- gunakan function nya\n",
        "- print hasil variable nya"
      ],
      "metadata": {
        "id": "8OSyZi5x5u1b"
      }
    },
    {
      "cell_type": "code",
      "source": [
        "import andi"
      ],
      "metadata": {
        "id": "n4Jl_LIJ5WfY"
      },
      "execution_count": null,
      "outputs": []
    },
    {
      "cell_type": "code",
      "source": [
        "print(andi.nama, andi.hobi)\n",
        "andi.kenalan()"
      ],
      "metadata": {
        "colab": {
          "base_uri": "https://localhost:8080/"
        },
        "id": "GvZLob8y-VFk",
        "outputId": "cf052413-6498-46a3-f1bf-023d527a15c6"
      },
      "execution_count": null,
      "outputs": [
        {
          "output_type": "stream",
          "name": "stdout",
          "text": [
            "Andhika Adijanto ['makan', 'belanja', 'bekerja']\n",
            "Halo, saya Andhika Adijantodengan hobi bekerja, salam kenal.\n"
          ]
        }
      ]
    },
    {
      "cell_type": "code",
      "source": [
        "print(andi.nama, \"memiliki hobi:\")\n",
        "for h in andi.hobi:\n",
        "  print(h)"
      ],
      "metadata": {
        "colab": {
          "base_uri": "https://localhost:8080/"
        },
        "id": "niZwK_GL-YRj",
        "outputId": "a2204e3e-9823-4d14-91e9-d41566d4ab84"
      },
      "execution_count": null,
      "outputs": [
        {
          "output_type": "stream",
          "name": "stdout",
          "text": [
            "Andhika Adijanto memiliki hobi:\n",
            "makan\n",
            "belanja\n",
            "bekerja\n"
          ]
        }
      ]
    },
    {
      "cell_type": "markdown",
      "source": [
        "module seperti itu, sebuah file terpisah berisi code python. di dalam sebuah file module bisa ada variable dan function. bisa ada custom data type juga berbentuk class. lalu, juga bisa ada code yang dijalankan sebagai script.\n",
        "\n",
        "module bisa kita import isi isinya ke dalam file notebook kita menggunakan keyword `import`\n",
        "\n",
        "untuk menggunakan code di dalam file module di notebook kt, setelah import, kita perlu pakai nama module nya, titik, baru variable atau function milik module tersebut.\n",
        "\n",
        "kita bisa berikan nama pendek ke module menggunakan `alias`"
      ],
      "metadata": {
        "id": "n4upZfW0-jBy"
      }
    },
    {
      "cell_type": "code",
      "source": [
        "import kucing as kc\n",
        "import andi as an"
      ],
      "metadata": {
        "id": "JtrK3YlX-fbs"
      },
      "execution_count": null,
      "outputs": []
    },
    {
      "cell_type": "code",
      "source": [
        "kc.meong()"
      ],
      "metadata": {
        "colab": {
          "base_uri": "https://localhost:8080/"
        },
        "id": "NQ8OfM0X_Eid",
        "outputId": "654f43b1-2411-484d-d79c-954dcabb9c87"
      },
      "execution_count": null,
      "outputs": [
        {
          "output_type": "stream",
          "name": "stdout",
          "text": [
            "miawww\n"
          ]
        }
      ]
    },
    {
      "cell_type": "code",
      "source": [
        "an.kenalan()"
      ],
      "metadata": {
        "colab": {
          "base_uri": "https://localhost:8080/"
        },
        "id": "Yadg5a-T_GVQ",
        "outputId": "b7031dc0-0e73-4b0a-f1a4-03b83c7018d0"
      },
      "execution_count": null,
      "outputs": [
        {
          "output_type": "stream",
          "name": "stdout",
          "text": [
            "Halo, saya Andhika Adijantodengan hobi bekerja, salam kenal.\n"
          ]
        }
      ]
    },
    {
      "cell_type": "markdown",
      "source": [
        "Note: lokasi file module\n",
        "\n",
        "kita tidak bisa import sesuatu yang tidak ada. file module yang mau di import ada di lokasi tertentu. untuk google colab, kita bisa cek dia ambil file module dari mana saja:"
      ],
      "metadata": {
        "id": "2HOL-qtq_qgq"
      }
    },
    {
      "cell_type": "code",
      "source": [
        "import sys\n",
        "sys.path"
      ],
      "metadata": {
        "colab": {
          "base_uri": "https://localhost:8080/"
        },
        "id": "bT2Mk1Kk_HQO",
        "outputId": "67261d19-2612-423d-cfc2-11bf17c6a316"
      },
      "execution_count": null,
      "outputs": [
        {
          "output_type": "execute_result",
          "data": {
            "text/plain": [
              "['/content',\n",
              " '/env/python',\n",
              " '/usr/lib/python310.zip',\n",
              " '/usr/lib/python3.10',\n",
              " '/usr/lib/python3.10/lib-dynload',\n",
              " '',\n",
              " '/usr/local/lib/python3.10/dist-packages',\n",
              " '/usr/lib/python3/dist-packages',\n",
              " '/usr/local/lib/python3.10/dist-packages/IPython/extensions',\n",
              " '/root/.ipython']"
            ]
          },
          "metadata": {},
          "execution_count": 76
        }
      ]
    },
    {
      "cell_type": "markdown",
      "source": [
        "ini adalah list folder yang dicari saat kita pakai keyword `import`\n",
        "\n",
        "file module kita ada di dalam salah satu dari folder folder ini.\n",
        "\n",
        "di lokal pun sama, saat menggunakan vscode atau anaconda, kita bisa cek dengan import sys dan sys.path melihat folder mana saja yang di cek untuk mencari module yang di import"
      ],
      "metadata": {
        "id": "YxrE4Ev5AAnS"
      }
    },
    {
      "cell_type": "markdown",
      "source": [
        "Note: kenapa pakai module\n",
        "\n",
        "1. memudahkan development karena membuat block code jadi lebih *simple*. bayangkan membuat program yang complex semuanya di 1 file. bayangkan berjuta juta line code di 1 file. ribet, berat, besar. kt bisa pisah menjadi beberapa bagian dengan fokusnya masing2. mudah diikuti alur code nya.\n",
        "\n",
        "2. memudahkan edit dan update code. bayangkan program yang complex semuanya di 1 file. kita edit 1 bagian, bisa gk sengaja efek ke bagian lain. karena file module terpisah2, kita bisa fokus edit satu bagian saja tidak ganggu bagian lain. *maintainability*\n",
        "\n",
        "3. mungkin sebagian code yang sudah jadi module. misalkan module chat. bisa digunakan lagi di program lain, atau di bagian lain di program yang sama. *reusability*\n",
        "\n",
        "4. terakhir karena *scoping*. nama variable, function, tidak bisa kita gunakan berkali kali. setiap variable dan function perlu punya nama yang unik. bayangkan kalau kt punya beberapa murid, andi budi cindy, semua di file yang sama, masing2 punya nama lengkap, umur, hobi, kita perlu buatkan banyak variable beda2 semua untuk masing2 murid. kalau saja masing masing murid adalah module terpisah kt tidak perlu membuat variable unik untuk nama umur hobi."
      ],
      "metadata": {
        "id": "Gfoe17EHASa8"
      }
    },
    {
      "cell_type": "code",
      "source": [
        "# dir()\n",
        "\n",
        "dir()"
      ],
      "metadata": {
        "colab": {
          "base_uri": "https://localhost:8080/"
        },
        "id": "saMP9dgr_19Y",
        "outputId": "d66a2f6a-5190-46b4-e61f-e96ff98eeb0a"
      },
      "execution_count": null,
      "outputs": [
        {
          "output_type": "execute_result",
          "data": {
            "text/plain": [
              "['In',\n",
              " 'Out',\n",
              " '_',\n",
              " '_13',\n",
              " '_29',\n",
              " '_30',\n",
              " '_36',\n",
              " '_37',\n",
              " '_39',\n",
              " '_44',\n",
              " '_63',\n",
              " '_64',\n",
              " '_65',\n",
              " '_69',\n",
              " '_76',\n",
              " '__',\n",
              " '___',\n",
              " '__builtin__',\n",
              " '__builtins__',\n",
              " '__doc__',\n",
              " '__loader__',\n",
              " '__name__',\n",
              " '__package__',\n",
              " '__spec__',\n",
              " '_dh',\n",
              " '_i',\n",
              " '_i1',\n",
              " '_i10',\n",
              " '_i11',\n",
              " '_i12',\n",
              " '_i13',\n",
              " '_i14',\n",
              " '_i15',\n",
              " '_i16',\n",
              " '_i17',\n",
              " '_i18',\n",
              " '_i19',\n",
              " '_i2',\n",
              " '_i20',\n",
              " '_i21',\n",
              " '_i22',\n",
              " '_i23',\n",
              " '_i24',\n",
              " '_i25',\n",
              " '_i26',\n",
              " '_i27',\n",
              " '_i28',\n",
              " '_i29',\n",
              " '_i3',\n",
              " '_i30',\n",
              " '_i31',\n",
              " '_i32',\n",
              " '_i33',\n",
              " '_i34',\n",
              " '_i35',\n",
              " '_i36',\n",
              " '_i37',\n",
              " '_i38',\n",
              " '_i39',\n",
              " '_i4',\n",
              " '_i40',\n",
              " '_i41',\n",
              " '_i42',\n",
              " '_i43',\n",
              " '_i44',\n",
              " '_i45',\n",
              " '_i46',\n",
              " '_i47',\n",
              " '_i48',\n",
              " '_i49',\n",
              " '_i5',\n",
              " '_i50',\n",
              " '_i51',\n",
              " '_i52',\n",
              " '_i53',\n",
              " '_i54',\n",
              " '_i55',\n",
              " '_i56',\n",
              " '_i57',\n",
              " '_i58',\n",
              " '_i59',\n",
              " '_i6',\n",
              " '_i60',\n",
              " '_i61',\n",
              " '_i62',\n",
              " '_i63',\n",
              " '_i64',\n",
              " '_i65',\n",
              " '_i66',\n",
              " '_i67',\n",
              " '_i68',\n",
              " '_i69',\n",
              " '_i7',\n",
              " '_i70',\n",
              " '_i71',\n",
              " '_i72',\n",
              " '_i73',\n",
              " '_i74',\n",
              " '_i75',\n",
              " '_i76',\n",
              " '_i77',\n",
              " '_i8',\n",
              " '_i9',\n",
              " '_ih',\n",
              " '_ii',\n",
              " '_iii',\n",
              " '_oh',\n",
              " 'an',\n",
              " 'andi',\n",
              " 'cetak',\n",
              " 'convertNilaiToGrade',\n",
              " 'convertScoreToGrade',\n",
              " 'exit',\n",
              " 'getGrade',\n",
              " 'get_ipython',\n",
              " 'grade',\n",
              " 'h',\n",
              " 'hasil',\n",
              " 'hasil_sapa_andi',\n",
              " 'hasil_sapa_budi',\n",
              " 'kc',\n",
              " 'kucing',\n",
              " 'menyapaOrang',\n",
              " 'n',\n",
              " 'namaFunction',\n",
              " 'nilai',\n",
              " 'quit',\n",
              " 'sys']"
            ]
          },
          "metadata": {},
          "execution_count": 77
        }
      ]
    },
    {
      "cell_type": "markdown",
      "source": [
        "# dir()\n",
        "dir kita gunakan untuk mengecek nama nama yang sudah kita gunakan. dari nama variable, nama function, dan keyword2 python sendiri (tidak termasuk built-in functions dan keyword seperi print, type, int,...)"
      ],
      "metadata": {
        "id": "LNtWlqTLB0Yt"
      }
    },
    {
      "cell_type": "code",
      "source": [
        "# cek apakah nama variable/ function/ module yang mau kita buat aman\n",
        "\"exit\" in dir()"
      ],
      "metadata": {
        "colab": {
          "base_uri": "https://localhost:8080/"
        },
        "id": "n00O0rz0BzHb",
        "outputId": "519dc490-a9fa-4580-cc5c-f106b95f4407"
      },
      "execution_count": null,
      "outputs": [
        {
          "output_type": "execute_result",
          "data": {
            "text/plain": [
              "True"
            ]
          },
          "metadata": {},
          "execution_count": 78
        }
      ]
    },
    {
      "cell_type": "markdown",
      "source": [
        "kalau true, namanya sudah ada, kita jangan timpa."
      ],
      "metadata": {
        "id": "mDBfzBcXCRv4"
      }
    },
    {
      "cell_type": "markdown",
      "source": [
        "Note: Module yang kita buat sendiri, kalau kita edit2 dan save, kita perlu import ulang baru terasa perubahannya. import ulang ini ada step tambahan yaitu `reload`\n",
        "\n",
        "tanpa `reload` python akan anggap module yang pernah di import, tidak perlu di import ulang"
      ],
      "metadata": {
        "id": "H8opY7GrCe0P"
      }
    },
    {
      "cell_type": "code",
      "source": [
        "an.makan()"
      ],
      "metadata": {
        "colab": {
          "base_uri": "https://localhost:8080/",
          "height": 141
        },
        "id": "DlHiq-giCQ0f",
        "outputId": "650e7bb1-32b7-4a6c-e065-08cb649e7e87"
      },
      "execution_count": null,
      "outputs": [
        {
          "output_type": "error",
          "ename": "AttributeError",
          "evalue": "module 'andi' has no attribute 'makan'",
          "traceback": [
            "\u001b[0;31m---------------------------------------------------------------------------\u001b[0m",
            "\u001b[0;31mAttributeError\u001b[0m                            Traceback (most recent call last)",
            "\u001b[0;32m<ipython-input-79-7ece3738d278>\u001b[0m in \u001b[0;36m<cell line: 1>\u001b[0;34m()\u001b[0m\n\u001b[0;32m----> 1\u001b[0;31m \u001b[0man\u001b[0m\u001b[0;34m.\u001b[0m\u001b[0mmakan\u001b[0m\u001b[0;34m(\u001b[0m\u001b[0;34m)\u001b[0m\u001b[0;34m\u001b[0m\u001b[0;34m\u001b[0m\u001b[0m\n\u001b[0m",
            "\u001b[0;31mAttributeError\u001b[0m: module 'andi' has no attribute 'makan'"
          ]
        }
      ]
    },
    {
      "cell_type": "code",
      "source": [
        "import andi as an\n",
        "\n",
        "an.makan()"
      ],
      "metadata": {
        "colab": {
          "base_uri": "https://localhost:8080/",
          "height": 176
        },
        "id": "tLRSHyMvDI6f",
        "outputId": "0bfe0f1c-f8c7-4bde-e156-77e122497df6"
      },
      "execution_count": null,
      "outputs": [
        {
          "output_type": "error",
          "ename": "AttributeError",
          "evalue": "module 'andi' has no attribute 'makan'",
          "traceback": [
            "\u001b[0;31m---------------------------------------------------------------------------\u001b[0m",
            "\u001b[0;31mAttributeError\u001b[0m                            Traceback (most recent call last)",
            "\u001b[0;32m<ipython-input-80-1b7e3961cdd3>\u001b[0m in \u001b[0;36m<cell line: 3>\u001b[0;34m()\u001b[0m\n\u001b[1;32m      1\u001b[0m \u001b[0;32mimport\u001b[0m \u001b[0mandi\u001b[0m \u001b[0;32mas\u001b[0m \u001b[0man\u001b[0m\u001b[0;34m\u001b[0m\u001b[0;34m\u001b[0m\u001b[0m\n\u001b[1;32m      2\u001b[0m \u001b[0;34m\u001b[0m\u001b[0m\n\u001b[0;32m----> 3\u001b[0;31m \u001b[0man\u001b[0m\u001b[0;34m.\u001b[0m\u001b[0mmakan\u001b[0m\u001b[0;34m(\u001b[0m\u001b[0;34m)\u001b[0m\u001b[0;34m\u001b[0m\u001b[0;34m\u001b[0m\u001b[0m\n\u001b[0m",
            "\u001b[0;31mAttributeError\u001b[0m: module 'andi' has no attribute 'makan'"
          ]
        }
      ]
    },
    {
      "cell_type": "code",
      "source": [
        "import importlib\n",
        "\n",
        "importlib.reload(an)"
      ],
      "metadata": {
        "colab": {
          "base_uri": "https://localhost:8080/"
        },
        "id": "OZbUH5TDDMVX",
        "outputId": "e8ea5055-31da-4eb0-dc8d-dab85b2e0ac9"
      },
      "execution_count": null,
      "outputs": [
        {
          "output_type": "execute_result",
          "data": {
            "text/plain": [
              "<module 'andi' from '/content/andi.py'>"
            ]
          },
          "metadata": {},
          "execution_count": 81
        }
      ]
    },
    {
      "cell_type": "code",
      "source": [
        "an.makan(\"ikan\")"
      ],
      "metadata": {
        "colab": {
          "base_uri": "https://localhost:8080/"
        },
        "id": "DEl_Fn1SDWDH",
        "outputId": "af9136f4-a6f5-4275-b8af-2788a4f83113"
      },
      "execution_count": null,
      "outputs": [
        {
          "output_type": "stream",
          "name": "stdout",
          "text": [
            "Andi makan ikan\n",
            "Andi juga bagi beberapa potong ke oyen\n"
          ]
        }
      ]
    },
    {
      "cell_type": "code",
      "source": [
        "an.makan(\"nasi\")"
      ],
      "metadata": {
        "colab": {
          "base_uri": "https://localhost:8080/"
        },
        "id": "E-sjqD0hDXzX",
        "outputId": "3d28dbec-5d30-4dd5-966d-035d830d27de"
      },
      "execution_count": null,
      "outputs": [
        {
          "output_type": "stream",
          "name": "stdout",
          "text": [
            "Andi makan nasi\n"
          ]
        }
      ]
    },
    {
      "cell_type": "markdown",
      "source": [
        "# Package\n",
        "folder berisi module python\n",
        "\n",
        "bisa kita import\n",
        "\n",
        "lebih lengkapnya bisa lihat pypi.org"
      ],
      "metadata": {
        "id": "L0qPQXXBDtds"
      }
    },
    {
      "cell_type": "code",
      "source": [
        "import murid"
      ],
      "metadata": {
        "id": "0DVooQkEDd-H"
      },
      "execution_count": null,
      "outputs": []
    },
    {
      "cell_type": "code",
      "source": [
        "murid.budi"
      ],
      "metadata": {
        "colab": {
          "base_uri": "https://localhost:8080/",
          "height": 141
        },
        "id": "UhYzvlNlFZ40",
        "outputId": "5f193d28-0a99-413c-9763-1281beb3b622"
      },
      "execution_count": null,
      "outputs": [
        {
          "output_type": "error",
          "ename": "AttributeError",
          "evalue": "module 'murid' has no attribute 'budi'",
          "traceback": [
            "\u001b[0;31m---------------------------------------------------------------------------\u001b[0m",
            "\u001b[0;31mAttributeError\u001b[0m                            Traceback (most recent call last)",
            "\u001b[0;32m<ipython-input-86-4f189126b5cb>\u001b[0m in \u001b[0;36m<cell line: 1>\u001b[0;34m()\u001b[0m\n\u001b[0;32m----> 1\u001b[0;31m \u001b[0mmurid\u001b[0m\u001b[0;34m.\u001b[0m\u001b[0mbudi\u001b[0m\u001b[0;34m\u001b[0m\u001b[0;34m\u001b[0m\u001b[0m\n\u001b[0m",
            "\u001b[0;31mAttributeError\u001b[0m: module 'murid' has no attribute 'budi'"
          ]
        }
      ]
    },
    {
      "cell_type": "code",
      "source": [
        "import murid.budi as mb\n",
        "import murid.cindy as mc"
      ],
      "metadata": {
        "id": "OoPBVok2Fazf"
      },
      "execution_count": null,
      "outputs": []
    },
    {
      "cell_type": "code",
      "source": [
        "mb.nama"
      ],
      "metadata": {
        "colab": {
          "base_uri": "https://localhost:8080/",
          "height": 35
        },
        "id": "SOG71V6uFhb0",
        "outputId": "c241167b-8167-4822-f82a-09b44b014a60"
      },
      "execution_count": null,
      "outputs": [
        {
          "output_type": "execute_result",
          "data": {
            "text/plain": [
              "'Budi Budiman'"
            ],
            "application/vnd.google.colaboratory.intrinsic+json": {
              "type": "string"
            }
          },
          "metadata": {},
          "execution_count": 88
        }
      ]
    },
    {
      "cell_type": "code",
      "source": [
        "mc.nama"
      ],
      "metadata": {
        "colab": {
          "base_uri": "https://localhost:8080/",
          "height": 35
        },
        "id": "568rgDyOFjOs",
        "outputId": "14979f1b-daf2-4fb9-e209-01173b8641cb"
      },
      "execution_count": null,
      "outputs": [
        {
          "output_type": "execute_result",
          "data": {
            "text/plain": [
              "'Cindy Lukito'"
            ],
            "application/vnd.google.colaboratory.intrinsic+json": {
              "type": "string"
            }
          },
          "metadata": {},
          "execution_count": 90
        }
      ]
    },
    {
      "cell_type": "markdown",
      "source": [
        "Terakhir, untuk menggunakan package lain, yang mungkin belum di download oleh Google Colab atau Anaconda, kita bisa install dulu package nya pakai keyword `pip`"
      ],
      "metadata": {
        "id": "jhjCNRu-GKLj"
      }
    },
    {
      "cell_type": "code",
      "source": [
        "import selenium"
      ],
      "metadata": {
        "colab": {
          "base_uri": "https://localhost:8080/",
          "height": 314
        },
        "id": "jVv7NpOtFj3d",
        "outputId": "662594b7-66bf-4d5f-c30d-d1e953d34ffb"
      },
      "execution_count": null,
      "outputs": [
        {
          "output_type": "error",
          "ename": "ModuleNotFoundError",
          "evalue": "No module named 'selenium'",
          "traceback": [
            "\u001b[0;31m---------------------------------------------------------------------------\u001b[0m",
            "\u001b[0;31mModuleNotFoundError\u001b[0m                       Traceback (most recent call last)",
            "\u001b[0;32m<ipython-input-98-abb2a9e03f2a>\u001b[0m in \u001b[0;36m<cell line: 1>\u001b[0;34m()\u001b[0m\n\u001b[0;32m----> 1\u001b[0;31m \u001b[0;32mimport\u001b[0m \u001b[0mselenium\u001b[0m\u001b[0;34m\u001b[0m\u001b[0;34m\u001b[0m\u001b[0m\n\u001b[0m",
            "\u001b[0;31mModuleNotFoundError\u001b[0m: No module named 'selenium'",
            "",
            "\u001b[0;31m---------------------------------------------------------------------------\u001b[0;32m\nNOTE: If your import is failing due to a missing package, you can\nmanually install dependencies using either !pip or !apt.\n\nTo view examples of installing some common dependencies, click the\n\"Open Examples\" button below.\n\u001b[0;31m---------------------------------------------------------------------------\u001b[0m\n"
          ],
          "errorDetails": {
            "actions": [
              {
                "action": "open_url",
                "actionText": "Open Examples",
                "url": "/notebooks/snippets/importing_libraries.ipynb"
              }
            ]
          }
        }
      ]
    },
    {
      "cell_type": "markdown",
      "source": [
        "module diatas belum ter install jadi error. kita gunakan pip untuk install dulu."
      ],
      "metadata": {
        "id": "zhYgKrR1G1jh"
      }
    },
    {
      "cell_type": "code",
      "source": [
        "pip install selenium"
      ],
      "metadata": {
        "colab": {
          "base_uri": "https://localhost:8080/"
        },
        "id": "Jt2Rp8OiGSaW",
        "outputId": "8194ca0a-1ffd-46f3-9fe3-36d99f98e144"
      },
      "execution_count": null,
      "outputs": [
        {
          "output_type": "stream",
          "name": "stdout",
          "text": [
            "Collecting selenium\n",
            "  Downloading selenium-4.18.1-py3-none-any.whl (10.0 MB)\n",
            "\u001b[2K     \u001b[90m━━━━━━━━━━━━━━━━━━━━━━━━━━━━━━━━━━━━━━━━\u001b[0m \u001b[32m10.0/10.0 MB\u001b[0m \u001b[31m21.4 MB/s\u001b[0m eta \u001b[36m0:00:00\u001b[0m\n",
            "\u001b[?25hRequirement already satisfied: urllib3[socks]<3,>=1.26 in /usr/local/lib/python3.10/dist-packages (from selenium) (2.0.7)\n",
            "Collecting trio~=0.17 (from selenium)\n",
            "  Downloading trio-0.25.0-py3-none-any.whl (467 kB)\n",
            "\u001b[2K     \u001b[90m━━━━━━━━━━━━━━━━━━━━━━━━━━━━━━━━━━━━━━━━\u001b[0m \u001b[32m467.2/467.2 kB\u001b[0m \u001b[31m38.9 MB/s\u001b[0m eta \u001b[36m0:00:00\u001b[0m\n",
            "\u001b[?25hCollecting trio-websocket~=0.9 (from selenium)\n",
            "  Downloading trio_websocket-0.11.1-py3-none-any.whl (17 kB)\n",
            "Requirement already satisfied: certifi>=2021.10.8 in /usr/local/lib/python3.10/dist-packages (from selenium) (2024.2.2)\n",
            "Requirement already satisfied: typing_extensions>=4.9.0 in /usr/local/lib/python3.10/dist-packages (from selenium) (4.10.0)\n",
            "Requirement already satisfied: attrs>=23.2.0 in /usr/local/lib/python3.10/dist-packages (from trio~=0.17->selenium) (23.2.0)\n",
            "Requirement already satisfied: sortedcontainers in /usr/local/lib/python3.10/dist-packages (from trio~=0.17->selenium) (2.4.0)\n",
            "Requirement already satisfied: idna in /usr/local/lib/python3.10/dist-packages (from trio~=0.17->selenium) (3.6)\n",
            "Collecting outcome (from trio~=0.17->selenium)\n",
            "  Downloading outcome-1.3.0.post0-py2.py3-none-any.whl (10 kB)\n",
            "Requirement already satisfied: sniffio>=1.3.0 in /usr/local/lib/python3.10/dist-packages (from trio~=0.17->selenium) (1.3.1)\n",
            "Requirement already satisfied: exceptiongroup in /usr/local/lib/python3.10/dist-packages (from trio~=0.17->selenium) (1.2.0)\n",
            "Collecting wsproto>=0.14 (from trio-websocket~=0.9->selenium)\n",
            "  Downloading wsproto-1.2.0-py3-none-any.whl (24 kB)\n",
            "Requirement already satisfied: pysocks!=1.5.7,<2.0,>=1.5.6 in /usr/local/lib/python3.10/dist-packages (from urllib3[socks]<3,>=1.26->selenium) (1.7.1)\n",
            "Collecting h11<1,>=0.9.0 (from wsproto>=0.14->trio-websocket~=0.9->selenium)\n",
            "  Downloading h11-0.14.0-py3-none-any.whl (58 kB)\n",
            "\u001b[2K     \u001b[90m━━━━━━━━━━━━━━━━━━━━━━━━━━━━━━━━━━━━━━━━\u001b[0m \u001b[32m58.3/58.3 kB\u001b[0m \u001b[31m7.1 MB/s\u001b[0m eta \u001b[36m0:00:00\u001b[0m\n",
            "\u001b[?25hInstalling collected packages: outcome, h11, wsproto, trio, trio-websocket, selenium\n",
            "Successfully installed h11-0.14.0 outcome-1.3.0.post0 selenium-4.18.1 trio-0.25.0 trio-websocket-0.11.1 wsproto-1.2.0\n"
          ]
        }
      ]
    },
    {
      "cell_type": "markdown",
      "source": [
        "selesai install kita bisa coba import lagi\n",
        "\n",
        "diatas saat instalasi ada error jadi tidak berhasil install. kita perlu coba lagi sampai berhasil"
      ],
      "metadata": {
        "id": "McY8X3ksG5RB"
      }
    },
    {
      "cell_type": "code",
      "source": [
        "import selenium"
      ],
      "metadata": {
        "id": "-m44XC_sGthP"
      },
      "execution_count": null,
      "outputs": []
    },
    {
      "cell_type": "code",
      "source": [
        "from selenium import webdriver\n",
        "\n",
        "browser = webdriver.Firefox()\n",
        "browser.get('http://selenium.dev/')"
      ],
      "metadata": {
        "colab": {
          "base_uri": "https://localhost:8080/",
          "height": 304
        },
        "id": "GAIjXv3yG78X",
        "outputId": "c1fd3244-89fb-42c4-ab48-69345ee83250"
      },
      "execution_count": null,
      "outputs": [
        {
          "output_type": "error",
          "ename": "WebDriverException",
          "evalue": "Message: Process unexpectedly closed with status 1\n",
          "traceback": [
            "\u001b[0;31m---------------------------------------------------------------------------\u001b[0m",
            "\u001b[0;31mWebDriverException\u001b[0m                        Traceback (most recent call last)",
            "\u001b[0;32m<ipython-input-101-98ee559eb76c>\u001b[0m in \u001b[0;36m<cell line: 3>\u001b[0;34m()\u001b[0m\n\u001b[1;32m      1\u001b[0m \u001b[0;32mfrom\u001b[0m \u001b[0mselenium\u001b[0m \u001b[0;32mimport\u001b[0m \u001b[0mwebdriver\u001b[0m\u001b[0;34m\u001b[0m\u001b[0;34m\u001b[0m\u001b[0m\n\u001b[1;32m      2\u001b[0m \u001b[0;34m\u001b[0m\u001b[0m\n\u001b[0;32m----> 3\u001b[0;31m \u001b[0mbrowser\u001b[0m \u001b[0;34m=\u001b[0m \u001b[0mwebdriver\u001b[0m\u001b[0;34m.\u001b[0m\u001b[0mFirefox\u001b[0m\u001b[0;34m(\u001b[0m\u001b[0;34m)\u001b[0m\u001b[0;34m\u001b[0m\u001b[0;34m\u001b[0m\u001b[0m\n\u001b[0m\u001b[1;32m      4\u001b[0m \u001b[0mbrowser\u001b[0m\u001b[0;34m.\u001b[0m\u001b[0mget\u001b[0m\u001b[0;34m(\u001b[0m\u001b[0;34m'http://selenium.dev/'\u001b[0m\u001b[0;34m)\u001b[0m\u001b[0;34m\u001b[0m\u001b[0;34m\u001b[0m\u001b[0m\n",
            "\u001b[0;32m/usr/local/lib/python3.10/dist-packages/selenium/webdriver/firefox/webdriver.py\u001b[0m in \u001b[0;36m__init__\u001b[0;34m(self, options, service, keep_alive)\u001b[0m\n\u001b[1;32m     67\u001b[0m \u001b[0;34m\u001b[0m\u001b[0m\n\u001b[1;32m     68\u001b[0m         \u001b[0;32mtry\u001b[0m\u001b[0;34m:\u001b[0m\u001b[0;34m\u001b[0m\u001b[0;34m\u001b[0m\u001b[0m\n\u001b[0;32m---> 69\u001b[0;31m             \u001b[0msuper\u001b[0m\u001b[0;34m(\u001b[0m\u001b[0;34m)\u001b[0m\u001b[0;34m.\u001b[0m\u001b[0m__init__\u001b[0m\u001b[0;34m(\u001b[0m\u001b[0mcommand_executor\u001b[0m\u001b[0;34m=\u001b[0m\u001b[0mexecutor\u001b[0m\u001b[0;34m,\u001b[0m \u001b[0moptions\u001b[0m\u001b[0;34m=\u001b[0m\u001b[0moptions\u001b[0m\u001b[0;34m)\u001b[0m\u001b[0;34m\u001b[0m\u001b[0;34m\u001b[0m\u001b[0m\n\u001b[0m\u001b[1;32m     70\u001b[0m         \u001b[0;32mexcept\u001b[0m \u001b[0mException\u001b[0m\u001b[0;34m:\u001b[0m\u001b[0;34m\u001b[0m\u001b[0;34m\u001b[0m\u001b[0m\n\u001b[1;32m     71\u001b[0m             \u001b[0mself\u001b[0m\u001b[0;34m.\u001b[0m\u001b[0mquit\u001b[0m\u001b[0;34m(\u001b[0m\u001b[0;34m)\u001b[0m\u001b[0;34m\u001b[0m\u001b[0;34m\u001b[0m\u001b[0m\n",
            "\u001b[0;32m/usr/local/lib/python3.10/dist-packages/selenium/webdriver/remote/webdriver.py\u001b[0m in \u001b[0;36m__init__\u001b[0;34m(self, command_executor, keep_alive, file_detector, options)\u001b[0m\n\u001b[1;32m    206\u001b[0m         \u001b[0mself\u001b[0m\u001b[0;34m.\u001b[0m\u001b[0m_authenticator_id\u001b[0m \u001b[0;34m=\u001b[0m \u001b[0;32mNone\u001b[0m\u001b[0;34m\u001b[0m\u001b[0;34m\u001b[0m\u001b[0m\n\u001b[1;32m    207\u001b[0m         \u001b[0mself\u001b[0m\u001b[0;34m.\u001b[0m\u001b[0mstart_client\u001b[0m\u001b[0;34m(\u001b[0m\u001b[0;34m)\u001b[0m\u001b[0;34m\u001b[0m\u001b[0;34m\u001b[0m\u001b[0m\n\u001b[0;32m--> 208\u001b[0;31m         \u001b[0mself\u001b[0m\u001b[0;34m.\u001b[0m\u001b[0mstart_session\u001b[0m\u001b[0;34m(\u001b[0m\u001b[0mcapabilities\u001b[0m\u001b[0;34m)\u001b[0m\u001b[0;34m\u001b[0m\u001b[0;34m\u001b[0m\u001b[0m\n\u001b[0m\u001b[1;32m    209\u001b[0m \u001b[0;34m\u001b[0m\u001b[0m\n\u001b[1;32m    210\u001b[0m     \u001b[0;32mdef\u001b[0m \u001b[0m__repr__\u001b[0m\u001b[0;34m(\u001b[0m\u001b[0mself\u001b[0m\u001b[0;34m)\u001b[0m\u001b[0;34m:\u001b[0m\u001b[0;34m\u001b[0m\u001b[0;34m\u001b[0m\u001b[0m\n",
            "\u001b[0;32m/usr/local/lib/python3.10/dist-packages/selenium/webdriver/remote/webdriver.py\u001b[0m in \u001b[0;36mstart_session\u001b[0;34m(self, capabilities)\u001b[0m\n\u001b[1;32m    290\u001b[0m \u001b[0;34m\u001b[0m\u001b[0m\n\u001b[1;32m    291\u001b[0m         \u001b[0mcaps\u001b[0m \u001b[0;34m=\u001b[0m \u001b[0m_create_caps\u001b[0m\u001b[0;34m(\u001b[0m\u001b[0mcapabilities\u001b[0m\u001b[0;34m)\u001b[0m\u001b[0;34m\u001b[0m\u001b[0;34m\u001b[0m\u001b[0m\n\u001b[0;32m--> 292\u001b[0;31m         \u001b[0mresponse\u001b[0m \u001b[0;34m=\u001b[0m \u001b[0mself\u001b[0m\u001b[0;34m.\u001b[0m\u001b[0mexecute\u001b[0m\u001b[0;34m(\u001b[0m\u001b[0mCommand\u001b[0m\u001b[0;34m.\u001b[0m\u001b[0mNEW_SESSION\u001b[0m\u001b[0;34m,\u001b[0m \u001b[0mcaps\u001b[0m\u001b[0;34m)\u001b[0m\u001b[0;34m[\u001b[0m\u001b[0;34m\"value\"\u001b[0m\u001b[0;34m]\u001b[0m\u001b[0;34m\u001b[0m\u001b[0;34m\u001b[0m\u001b[0m\n\u001b[0m\u001b[1;32m    293\u001b[0m         \u001b[0mself\u001b[0m\u001b[0;34m.\u001b[0m\u001b[0msession_id\u001b[0m \u001b[0;34m=\u001b[0m \u001b[0mresponse\u001b[0m\u001b[0;34m.\u001b[0m\u001b[0mget\u001b[0m\u001b[0;34m(\u001b[0m\u001b[0;34m\"sessionId\"\u001b[0m\u001b[0;34m)\u001b[0m\u001b[0;34m\u001b[0m\u001b[0;34m\u001b[0m\u001b[0m\n\u001b[1;32m    294\u001b[0m         \u001b[0mself\u001b[0m\u001b[0;34m.\u001b[0m\u001b[0mcaps\u001b[0m \u001b[0;34m=\u001b[0m \u001b[0mresponse\u001b[0m\u001b[0;34m.\u001b[0m\u001b[0mget\u001b[0m\u001b[0;34m(\u001b[0m\u001b[0;34m\"capabilities\"\u001b[0m\u001b[0;34m)\u001b[0m\u001b[0;34m\u001b[0m\u001b[0;34m\u001b[0m\u001b[0m\n",
            "\u001b[0;32m/usr/local/lib/python3.10/dist-packages/selenium/webdriver/remote/webdriver.py\u001b[0m in \u001b[0;36mexecute\u001b[0;34m(self, driver_command, params)\u001b[0m\n\u001b[1;32m    345\u001b[0m         \u001b[0mresponse\u001b[0m \u001b[0;34m=\u001b[0m \u001b[0mself\u001b[0m\u001b[0;34m.\u001b[0m\u001b[0mcommand_executor\u001b[0m\u001b[0;34m.\u001b[0m\u001b[0mexecute\u001b[0m\u001b[0;34m(\u001b[0m\u001b[0mdriver_command\u001b[0m\u001b[0;34m,\u001b[0m \u001b[0mparams\u001b[0m\u001b[0;34m)\u001b[0m\u001b[0;34m\u001b[0m\u001b[0;34m\u001b[0m\u001b[0m\n\u001b[1;32m    346\u001b[0m         \u001b[0;32mif\u001b[0m \u001b[0mresponse\u001b[0m\u001b[0;34m:\u001b[0m\u001b[0;34m\u001b[0m\u001b[0;34m\u001b[0m\u001b[0m\n\u001b[0;32m--> 347\u001b[0;31m             \u001b[0mself\u001b[0m\u001b[0;34m.\u001b[0m\u001b[0merror_handler\u001b[0m\u001b[0;34m.\u001b[0m\u001b[0mcheck_response\u001b[0m\u001b[0;34m(\u001b[0m\u001b[0mresponse\u001b[0m\u001b[0;34m)\u001b[0m\u001b[0;34m\u001b[0m\u001b[0;34m\u001b[0m\u001b[0m\n\u001b[0m\u001b[1;32m    348\u001b[0m             \u001b[0mresponse\u001b[0m\u001b[0;34m[\u001b[0m\u001b[0;34m\"value\"\u001b[0m\u001b[0;34m]\u001b[0m \u001b[0;34m=\u001b[0m \u001b[0mself\u001b[0m\u001b[0;34m.\u001b[0m\u001b[0m_unwrap_value\u001b[0m\u001b[0;34m(\u001b[0m\u001b[0mresponse\u001b[0m\u001b[0;34m.\u001b[0m\u001b[0mget\u001b[0m\u001b[0;34m(\u001b[0m\u001b[0;34m\"value\"\u001b[0m\u001b[0;34m,\u001b[0m \u001b[0;32mNone\u001b[0m\u001b[0;34m)\u001b[0m\u001b[0;34m)\u001b[0m\u001b[0;34m\u001b[0m\u001b[0;34m\u001b[0m\u001b[0m\n\u001b[1;32m    349\u001b[0m             \u001b[0;32mreturn\u001b[0m \u001b[0mresponse\u001b[0m\u001b[0;34m\u001b[0m\u001b[0;34m\u001b[0m\u001b[0m\n",
            "\u001b[0;32m/usr/local/lib/python3.10/dist-packages/selenium/webdriver/remote/errorhandler.py\u001b[0m in \u001b[0;36mcheck_response\u001b[0;34m(self, response)\u001b[0m\n\u001b[1;32m    227\u001b[0m                 \u001b[0malert_text\u001b[0m \u001b[0;34m=\u001b[0m \u001b[0mvalue\u001b[0m\u001b[0;34m[\u001b[0m\u001b[0;34m\"alert\"\u001b[0m\u001b[0;34m]\u001b[0m\u001b[0;34m.\u001b[0m\u001b[0mget\u001b[0m\u001b[0;34m(\u001b[0m\u001b[0;34m\"text\"\u001b[0m\u001b[0;34m)\u001b[0m\u001b[0;34m\u001b[0m\u001b[0;34m\u001b[0m\u001b[0m\n\u001b[1;32m    228\u001b[0m             \u001b[0;32mraise\u001b[0m \u001b[0mexception_class\u001b[0m\u001b[0;34m(\u001b[0m\u001b[0mmessage\u001b[0m\u001b[0;34m,\u001b[0m \u001b[0mscreen\u001b[0m\u001b[0;34m,\u001b[0m \u001b[0mstacktrace\u001b[0m\u001b[0;34m,\u001b[0m \u001b[0malert_text\u001b[0m\u001b[0;34m)\u001b[0m  \u001b[0;31m# type: ignore[call-arg]  # mypy is not smart enough here\u001b[0m\u001b[0;34m\u001b[0m\u001b[0;34m\u001b[0m\u001b[0m\n\u001b[0;32m--> 229\u001b[0;31m         \u001b[0;32mraise\u001b[0m \u001b[0mexception_class\u001b[0m\u001b[0;34m(\u001b[0m\u001b[0mmessage\u001b[0m\u001b[0;34m,\u001b[0m \u001b[0mscreen\u001b[0m\u001b[0;34m,\u001b[0m \u001b[0mstacktrace\u001b[0m\u001b[0;34m)\u001b[0m\u001b[0;34m\u001b[0m\u001b[0;34m\u001b[0m\u001b[0m\n\u001b[0m",
            "\u001b[0;31mWebDriverException\u001b[0m: Message: Process unexpectedly closed with status 1\n"
          ]
        }
      ]
    },
    {
      "cell_type": "code",
      "source": [
        "pip uninstall selenium"
      ],
      "metadata": {
        "colab": {
          "base_uri": "https://localhost:8080/"
        },
        "id": "t8ipuIIMH6h0",
        "outputId": "fb9976dc-0bf2-462c-d4d0-819a866ad785"
      },
      "execution_count": null,
      "outputs": [
        {
          "output_type": "stream",
          "name": "stdout",
          "text": [
            "Found existing installation: selenium 4.18.1\n",
            "Uninstalling selenium-4.18.1:\n",
            "  Would remove:\n",
            "    /usr/local/lib/python3.10/dist-packages/selenium-4.18.1.dist-info/*\n",
            "    /usr/local/lib/python3.10/dist-packages/selenium/*\n",
            "Proceed (Y/n)? y\n",
            "  Successfully uninstalled selenium-4.18.1\n"
          ]
        }
      ]
    },
    {
      "cell_type": "code",
      "source": [],
      "metadata": {
        "id": "fj7QufPBH7NL"
      },
      "execution_count": null,
      "outputs": []
    }
  ]
}