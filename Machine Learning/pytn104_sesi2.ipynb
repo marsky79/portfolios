{
  "nbformat": 4,
  "nbformat_minor": 0,
  "metadata": {
    "colab": {
      "provenance": []
    },
    "kernelspec": {
      "name": "python3",
      "display_name": "Python 3"
    },
    "language_info": {
      "name": "python"
    }
  },
  "cells": [
    {
      "cell_type": "markdown",
      "source": [
        "# Conditional - if statement\n",
        "\n",
        "Menanyakan apakah sebuah statement benar/ tidak.\n",
        "Biasanya ada beberapa jenis pertanyaan saja:\n",
        "- sama/ tidak\n",
        "- beda/ tidak\n",
        "- lebih besar/ tidak\n",
        "- lebih kecil/ tidak\n",
        "- \\>=\n",
        "- <=\n",
        "\n",
        "semua pertanyaan ini kita susun menggunakan operator logika\n",
        "\n",
        "semua pertnyaan ini dijawab sebagai Boolean value True atau False\n",
        "\n",
        "kita memulai pertanyaan dengan \"if\"\n",
        "\n",
        "```python\n",
        "if \"<statement>\":\n",
        "  #kalau statement nya True, maka kita jalankan code di sini\n",
        "\n",
        "#kalau tidak, code yang di dalam tadi tidak jalan\n",
        "```"
      ],
      "metadata": {
        "id": "LOdsi2E6xOVV"
      }
    },
    {
      "cell_type": "code",
      "source": [
        "# misalkan kita punya data login seseorang\n",
        "username = \"Andi123\"\n",
        "password = \"Qwerty123\"\n",
        "\n",
        "# kemudian kita mau cek apakah password nya sesuai\n",
        "# password yang benar adalah Qwerty321\n",
        "password_benar = \"Qwerty321\"\n",
        "\n",
        "# kalau password benar, kita kasih login\n",
        "if password == password_benar:\n",
        "  print(\"sukses login\")\n",
        "  print(\"masih level 1\")\n",
        "else:\n",
        "  # kalau salah, kita melakukan hal lain\n",
        "  print(\"gagal login\")\n",
        "\n",
        "print(\"di luar if, true atau false tetep jalan\")"
      ],
      "metadata": {
        "colab": {
          "base_uri": "https://localhost:8080/"
        },
        "id": "KKsAPFpoxwQf",
        "outputId": "639058fe-9138-4432-8b45-86ece6163447"
      },
      "execution_count": null,
      "outputs": [
        {
          "output_type": "stream",
          "name": "stdout",
          "text": [
            "gagal login\n",
            "di luar if, true atau false tetep jalan\n"
          ]
        }
      ]
    },
    {
      "cell_type": "code",
      "source": [
        "password == password_benar"
      ],
      "metadata": {
        "colab": {
          "base_uri": "https://localhost:8080/"
        },
        "id": "oT5ckjEgyK5M",
        "outputId": "f2e155b6-8826-4980-91ff-500ebb4eeba2"
      },
      "execution_count": null,
      "outputs": [
        {
          "output_type": "execute_result",
          "data": {
            "text/plain": [
              "False"
            ]
          },
          "metadata": {},
          "execution_count": 3
        }
      ]
    },
    {
      "cell_type": "markdown",
      "source": [
        "## Nested if\n",
        "sebuah if statement memberikan kita kontrol untuk membuat code memilih jalur jalannya. masuk ke dalam blok code if atau tidak. tergantung jawaban dari statement nya True atau False.\n",
        "\n",
        "bagaimana kalau pertanyaan kita lebih kompleks?\n",
        "\n",
        "misalkan, selain password benar, perlu cek juga apakah username level berbayar/ tidak.\n",
        "\n",
        "pertanyaan pertama kita adalah: password True / False, cocok boleh login atau tidak\n",
        "\n",
        "pertnyaan kedua, hanya ditanyakan kalau password True, boleh login: apakah user tipe berbayar atau tidak. kalau tidak masuk ke halaman pembayaran. kalau iya dia masuk ke homepage.\n",
        "\n",
        "jadi kita akan membuat if di dalam if, \"nested if\""
      ],
      "metadata": {
        "id": "xHHZQrIZzaXy"
      }
    },
    {
      "cell_type": "code",
      "source": [
        "username = \"Andi123\"\n",
        "password = \"ABC123\"\n",
        "\n",
        "password_benar = \"ABC123\"\n",
        "\n",
        "list_paid_user = [ \"Budi333\", \"Cindy878\"]\n",
        "\n",
        "if (password == password_benar):\n",
        "  print(\"sukses login\")\n",
        "  if (username in list_paid_user):\n",
        "    print(\"welcome back user - masuk ke homepage\")\n",
        "  else:\n",
        "    print(\"welcome! pay now: xxx IDR to account zzz\")\n",
        "else:\n",
        "  print(\"gagal login\")"
      ],
      "metadata": {
        "colab": {
          "base_uri": "https://localhost:8080/"
        },
        "id": "zX7Z8rvDynbV",
        "outputId": "b8272070-61a9-4c2f-bb3c-66a89b02f237"
      },
      "execution_count": null,
      "outputs": [
        {
          "output_type": "stream",
          "name": "stdout",
          "text": [
            "sukses login\n",
            "welcome! pay now: xxx IDR to account zzz\n"
          ]
        }
      ]
    },
    {
      "cell_type": "markdown",
      "source": [
        "## if elif else\n",
        "if nanya, kalau False, bisa masuk ke elif\n",
        "\n",
        "elif nanya, kalau False, bisa masuk ke elif lagi\n",
        "\n",
        ".\n",
        ".\n",
        ".\n",
        "\n",
        "terakhir adalah else, jika semua pertnyaan dari if dan elif adalah False baru masuk ke else\n",
        "\n"
      ],
      "metadata": {
        "id": "4qatL5xb1WRu"
      }
    },
    {
      "cell_type": "code",
      "source": [
        "# set Grade ke nilai ujian\n",
        "# A - 90-100\n",
        "# B - 80-89\n",
        "# C - 60-79\n",
        "# D - 49-59\n",
        "# F - dibawah 49 dinyatakan tidak lulus\n",
        "\n",
        "nilai = 50\n",
        "grade = \"\"\n",
        "if (nilai >= 90):\n",
        "  grade = \"A\"\n",
        "elif (nilai >= 80):\n",
        "  grade = \"B\"\n",
        "elif (nilai >= 60):\n",
        "  grade = \"C\"\n",
        "elif (nilai >= 49):\n",
        "  grade = \"D\"\n",
        "else:\n",
        "  grade = \"F\"\n",
        "\n",
        "print(nilai, grade)"
      ],
      "metadata": {
        "colab": {
          "base_uri": "https://localhost:8080/"
        },
        "id": "8fq1xP5-0xoR",
        "outputId": "1f5178ba-06e8-4144-c716-4a9502581df7"
      },
      "execution_count": null,
      "outputs": [
        {
          "output_type": "stream",
          "name": "stdout",
          "text": [
            "50 D\n"
          ]
        }
      ]
    },
    {
      "cell_type": "code",
      "source": [
        "# misalkan kita mau membuat sebuah program untuk cek apakah seseorang cukup umur untuk nonton film\n",
        "\n",
        "umur = 15\n",
        "minimum_age = 16\n",
        "\n",
        "print(\"umur pelanggan adalah \" + str(umur))\n",
        "print(f\"rating filmnya adalah untuk umur {minimum_age}+\")\n",
        "\n",
        "if umur >= minimum_age:\n",
        "  print(\"boleh nonton\")\n",
        "else:\n",
        "  print(\"belum boleh nonton\")"
      ],
      "metadata": {
        "colab": {
          "base_uri": "https://localhost:8080/"
        },
        "id": "HEX-TcNl1zEY",
        "outputId": "1929c498-be74-48e4-df53-49673eaf12d6"
      },
      "execution_count": null,
      "outputs": [
        {
          "output_type": "stream",
          "name": "stdout",
          "text": [
            "umur pelanggan adalah 15\n",
            "rating filmnya adalah untuk umur 16+\n",
            "belum boleh nonton\n"
          ]
        }
      ]
    },
    {
      "cell_type": "markdown",
      "source": [
        "f yang ditulis sebelum tanda kutip adalah tanda agar python tau kalau kita mau nyampur nulis variable dengan string\n",
        "\n",
        "kita bisa tulis string + variable dengan menggunakan format\n",
        "```\n",
        "f\"text biasa {variable dalam sini} bisa ditulis di sekeliling variable nya\"\n",
        "```"
      ],
      "metadata": {
        "id": "WmXuPHjO5N0K"
      }
    },
    {
      "cell_type": "markdown",
      "source": [
        "# latihan pendek: conditional"
      ],
      "metadata": {
        "id": "TyXnXGH75FoW"
      }
    },
    {
      "cell_type": "code",
      "source": [
        "# diberikan sebuah list berisi nama nama murid\n",
        "list_nama = [\"abigail\", \"kartono\", \"lucia\", \"jimmy\"]\n",
        "\n",
        "# coba cek apakah nama berikut ada di dalam list tersebut\n",
        "peserta = \"lucy\"\n",
        "\n",
        "# jika ada, cetaklah message \"selamat datang\"\n",
        "# jika tidak ada, masukkan peserta baru ke dalam list nama, lalu cetak \"welcome!\"\n",
        "if peserta in list_nama:\n",
        "  print(\"selamat datang\")\n",
        "else:\n",
        "  list_nama.append(peserta)\n",
        "  print(\"welcome!\")\n",
        "\n",
        "print(peserta)\n",
        "print(list_nama)"
      ],
      "metadata": {
        "colab": {
          "base_uri": "https://localhost:8080/"
        },
        "id": "NbuZST_v5t_K",
        "outputId": "62445142-4378-4c31-f226-5227afe2ce29"
      },
      "execution_count": null,
      "outputs": [
        {
          "output_type": "stream",
          "name": "stdout",
          "text": [
            "welcome!\n",
            "lucy\n",
            "['abigail', 'kartono', 'lucia', 'jimmy', 'lucy']\n"
          ]
        }
      ]
    },
    {
      "cell_type": "markdown",
      "source": [
        "# Loop (Iteration)\n",
        "perulangan\n",
        "\n",
        "- melakukan hal yang sama berulang kali\n",
        "- melakukan loop\n",
        "- membuat iterasi\n",
        "\n",
        "Ada dua jenis loop yang mau kita pelajari hari ini:\n",
        "1. While\n",
        "2. For\n",
        "\n",
        "## While\n",
        "while loop mirip sekali dengan if\n",
        "\n",
        "while loop dimulai dengan keyword while kemudian sebuah <statement> yang mengembalikan True atau False.\n",
        "\n",
        "while loop seperti if, tapi setelah selesai menjalankan blok kode yang ada di dalam while loop, bukannya keluar, dia malah balik lagi ke <statement> yang ditanyakan. balik lagi ke atas. kalau masih True, di masuk lagi ke blok kode nya. terus berulang sampai <statement> sudah jadi False.\n",
        "\n",
        "berhati hatilah dalam membuat while loop. Pastikan pertanyaan yang dibuat di awal, akan berubah menjadi False, saat loop nya berjalan. kalau tidak, loop menjadi \"infinite loop\" berjalan selamanya.\n",
        "\n",
        "```python\n",
        "umur = 30\n",
        "while umur >= 17:\n",
        "  print(\"ok\")\n",
        "```\n",
        "\n",
        "diatas adalah contoh infinite loop\n",
        "\n",
        "cara yang benar adalah adanya perubahan di dalam loop tersebut sampai bisa membuat statement berubah jadi False\n",
        "\n",
        "```python\n",
        "umur = 30\n",
        "while umur >= 17:\n",
        "  umur = umur - 1\n",
        "  print(umur)\n",
        "```\n",
        "\n",
        "contoh diatas, setiap kali statement True, kita akan mengubah variable umur isinya berkurang 1, lama kelamaan umur akan lebih kecil dari 17, statement menjadi False, dan loop berhenti\n"
      ],
      "metadata": {
        "id": "3b1hazof_KQ8"
      }
    },
    {
      "cell_type": "code",
      "source": [
        "# contoh while loop\n",
        "# misalkan kita mau mencari angka genap yang bukan berakhir dengan 4 yang ada di antara 9000 dan 10000\n",
        "# kita mau simpan angka2 \"valid\" ini kedalam sebuah list\n",
        "\n",
        "valids = []\n",
        "n = 9000\n",
        "while n < 10000:\n",
        "  n = n + 1\n",
        "  if (n % 2 == 0):\n",
        "    # genap\n",
        "    if (n % 10 != 4):\n",
        "      # angka terakhir bukan 4\n",
        "      # masuk ke list angka valid\n",
        "      valids.append(n)\n",
        "\n",
        "print(valids)"
      ],
      "metadata": {
        "colab": {
          "base_uri": "https://localhost:8080/"
        },
        "id": "ukhVgeDV-1DE",
        "outputId": "917720ff-5298-4c7e-f7a1-25906d3016b3"
      },
      "execution_count": null,
      "outputs": [
        {
          "output_type": "stream",
          "name": "stdout",
          "text": [
            "[9002, 9006, 9008, 9010, 9012, 9016, 9018, 9020, 9022, 9026, 9028, 9030, 9032, 9036, 9038, 9040, 9042, 9046, 9048, 9050, 9052, 9056, 9058, 9060, 9062, 9066, 9068, 9070, 9072, 9076, 9078, 9080, 9082, 9086, 9088, 9090, 9092, 9096, 9098, 9100, 9102, 9106, 9108, 9110, 9112, 9116, 9118, 9120, 9122, 9126, 9128, 9130, 9132, 9136, 9138, 9140, 9142, 9146, 9148, 9150, 9152, 9156, 9158, 9160, 9162, 9166, 9168, 9170, 9172, 9176, 9178, 9180, 9182, 9186, 9188, 9190, 9192, 9196, 9198, 9200, 9202, 9206, 9208, 9210, 9212, 9216, 9218, 9220, 9222, 9226, 9228, 9230, 9232, 9236, 9238, 9240, 9242, 9246, 9248, 9250, 9252, 9256, 9258, 9260, 9262, 9266, 9268, 9270, 9272, 9276, 9278, 9280, 9282, 9286, 9288, 9290, 9292, 9296, 9298, 9300, 9302, 9306, 9308, 9310, 9312, 9316, 9318, 9320, 9322, 9326, 9328, 9330, 9332, 9336, 9338, 9340, 9342, 9346, 9348, 9350, 9352, 9356, 9358, 9360, 9362, 9366, 9368, 9370, 9372, 9376, 9378, 9380, 9382, 9386, 9388, 9390, 9392, 9396, 9398, 9400, 9402, 9406, 9408, 9410, 9412, 9416, 9418, 9420, 9422, 9426, 9428, 9430, 9432, 9436, 9438, 9440, 9442, 9446, 9448, 9450, 9452, 9456, 9458, 9460, 9462, 9466, 9468, 9470, 9472, 9476, 9478, 9480, 9482, 9486, 9488, 9490, 9492, 9496, 9498, 9500, 9502, 9506, 9508, 9510, 9512, 9516, 9518, 9520, 9522, 9526, 9528, 9530, 9532, 9536, 9538, 9540, 9542, 9546, 9548, 9550, 9552, 9556, 9558, 9560, 9562, 9566, 9568, 9570, 9572, 9576, 9578, 9580, 9582, 9586, 9588, 9590, 9592, 9596, 9598, 9600, 9602, 9606, 9608, 9610, 9612, 9616, 9618, 9620, 9622, 9626, 9628, 9630, 9632, 9636, 9638, 9640, 9642, 9646, 9648, 9650, 9652, 9656, 9658, 9660, 9662, 9666, 9668, 9670, 9672, 9676, 9678, 9680, 9682, 9686, 9688, 9690, 9692, 9696, 9698, 9700, 9702, 9706, 9708, 9710, 9712, 9716, 9718, 9720, 9722, 9726, 9728, 9730, 9732, 9736, 9738, 9740, 9742, 9746, 9748, 9750, 9752, 9756, 9758, 9760, 9762, 9766, 9768, 9770, 9772, 9776, 9778, 9780, 9782, 9786, 9788, 9790, 9792, 9796, 9798, 9800, 9802, 9806, 9808, 9810, 9812, 9816, 9818, 9820, 9822, 9826, 9828, 9830, 9832, 9836, 9838, 9840, 9842, 9846, 9848, 9850, 9852, 9856, 9858, 9860, 9862, 9866, 9868, 9870, 9872, 9876, 9878, 9880, 9882, 9886, 9888, 9890, 9892, 9896, 9898, 9900, 9902, 9906, 9908, 9910, 9912, 9916, 9918, 9920, 9922, 9926, 9928, 9930, 9932, 9936, 9938, 9940, 9942, 9946, 9948, 9950, 9952, 9956, 9958, 9960, 9962, 9966, 9968, 9970, 9972, 9976, 9978, 9980, 9982, 9986, 9988, 9990, 9992, 9996, 9998, 10000]\n"
          ]
        }
      ]
    },
    {
      "cell_type": "markdown",
      "source": [
        "Ada kalanya kita memiliki pertanyaan yang lebih dari satu, padahal mau di cek berbarengan, gk perlu dipisah.\n",
        "\n",
        "Contohnya di atas, kita tidak perlu cek genap/nggak lalu baru cek angka terakhir bukan 4. kita bisa cek sekaligus. kita bisa pakai operator &\n",
        "\n",
        "## AND dan OR\n",
        "\n",
        "AND memaksakan dua statement harus True dua duanya baru dianggap True\n",
        "\n",
        "OR bilang jika salah satu dari dua statement True, maka dianggap True"
      ],
      "metadata": {
        "id": "FIM4xh9TCs69"
      }
    },
    {
      "cell_type": "code",
      "source": [
        "# genap dan angka terakhir bukan 4\n",
        "n = 10\n",
        "if (n % 2 ==0) & (n % 10 != 4): # AND statement, mengecek dua pertanyaan sekaligus dan dua2 harus True\n",
        "  print(\"dua dua True\")\n",
        "else:\n",
        "  print(\"salah satu ada yang False\")"
      ],
      "metadata": {
        "colab": {
          "base_uri": "https://localhost:8080/"
        },
        "id": "jvCIOv6kBhmW",
        "outputId": "8c2f165a-7ded-43e0-e9c9-356487acd84c"
      },
      "execution_count": null,
      "outputs": [
        {
          "output_type": "stream",
          "name": "stdout",
          "text": [
            "dua dua True\n"
          ]
        }
      ]
    },
    {
      "cell_type": "code",
      "source": [
        "# ganjil atau berakhir dengan 4, boleh\n",
        "n = 14\n",
        "if (n % 2 == 1) | (n % 10 == 4):\n",
        "  print(n, \"salah satu, ganjil, atau berakhir dengan 4\")\n",
        "else:\n",
        "  print(\"dua dua statement False\")"
      ],
      "metadata": {
        "colab": {
          "base_uri": "https://localhost:8080/"
        },
        "id": "fmk49cXqDQzS",
        "outputId": "fe58624e-873e-4c09-d4dd-5b7840ed82a4"
      },
      "execution_count": null,
      "outputs": [
        {
          "output_type": "stream",
          "name": "stdout",
          "text": [
            "14 salah satu, ganjil, atau berakhir dengan 4\n"
          ]
        }
      ]
    },
    {
      "cell_type": "code",
      "source": [
        "# coba modifikasi while loop diatas menggunakan AND dan/atau OR sehingga code lebih mudah dibaca\n",
        "valids = []\n",
        "n = 9000\n",
        "while n < 10000:\n",
        "  n = n + 1\n",
        "  if (n % 2 == 0) & (n % 10 != 4):\n",
        "      valids.append(n)\n",
        "\n",
        "print(valids)"
      ],
      "metadata": {
        "colab": {
          "base_uri": "https://localhost:8080/"
        },
        "id": "vbkB9nZsDyqu",
        "outputId": "9d938076-8cbb-4b3a-e986-aaa8b5dad423"
      },
      "execution_count": null,
      "outputs": [
        {
          "output_type": "stream",
          "name": "stdout",
          "text": [
            "[9002, 9006, 9008, 9010, 9012, 9016, 9018, 9020, 9022, 9026, 9028, 9030, 9032, 9036, 9038, 9040, 9042, 9046, 9048, 9050, 9052, 9056, 9058, 9060, 9062, 9066, 9068, 9070, 9072, 9076, 9078, 9080, 9082, 9086, 9088, 9090, 9092, 9096, 9098, 9100, 9102, 9106, 9108, 9110, 9112, 9116, 9118, 9120, 9122, 9126, 9128, 9130, 9132, 9136, 9138, 9140, 9142, 9146, 9148, 9150, 9152, 9156, 9158, 9160, 9162, 9166, 9168, 9170, 9172, 9176, 9178, 9180, 9182, 9186, 9188, 9190, 9192, 9196, 9198, 9200, 9202, 9206, 9208, 9210, 9212, 9216, 9218, 9220, 9222, 9226, 9228, 9230, 9232, 9236, 9238, 9240, 9242, 9246, 9248, 9250, 9252, 9256, 9258, 9260, 9262, 9266, 9268, 9270, 9272, 9276, 9278, 9280, 9282, 9286, 9288, 9290, 9292, 9296, 9298, 9300, 9302, 9306, 9308, 9310, 9312, 9316, 9318, 9320, 9322, 9326, 9328, 9330, 9332, 9336, 9338, 9340, 9342, 9346, 9348, 9350, 9352, 9356, 9358, 9360, 9362, 9366, 9368, 9370, 9372, 9376, 9378, 9380, 9382, 9386, 9388, 9390, 9392, 9396, 9398, 9400, 9402, 9406, 9408, 9410, 9412, 9416, 9418, 9420, 9422, 9426, 9428, 9430, 9432, 9436, 9438, 9440, 9442, 9446, 9448, 9450, 9452, 9456, 9458, 9460, 9462, 9466, 9468, 9470, 9472, 9476, 9478, 9480, 9482, 9486, 9488, 9490, 9492, 9496, 9498, 9500, 9502, 9506, 9508, 9510, 9512, 9516, 9518, 9520, 9522, 9526, 9528, 9530, 9532, 9536, 9538, 9540, 9542, 9546, 9548, 9550, 9552, 9556, 9558, 9560, 9562, 9566, 9568, 9570, 9572, 9576, 9578, 9580, 9582, 9586, 9588, 9590, 9592, 9596, 9598, 9600, 9602, 9606, 9608, 9610, 9612, 9616, 9618, 9620, 9622, 9626, 9628, 9630, 9632, 9636, 9638, 9640, 9642, 9646, 9648, 9650, 9652, 9656, 9658, 9660, 9662, 9666, 9668, 9670, 9672, 9676, 9678, 9680, 9682, 9686, 9688, 9690, 9692, 9696, 9698, 9700, 9702, 9706, 9708, 9710, 9712, 9716, 9718, 9720, 9722, 9726, 9728, 9730, 9732, 9736, 9738, 9740, 9742, 9746, 9748, 9750, 9752, 9756, 9758, 9760, 9762, 9766, 9768, 9770, 9772, 9776, 9778, 9780, 9782, 9786, 9788, 9790, 9792, 9796, 9798, 9800, 9802, 9806, 9808, 9810, 9812, 9816, 9818, 9820, 9822, 9826, 9828, 9830, 9832, 9836, 9838, 9840, 9842, 9846, 9848, 9850, 9852, 9856, 9858, 9860, 9862, 9866, 9868, 9870, 9872, 9876, 9878, 9880, 9882, 9886, 9888, 9890, 9892, 9896, 9898, 9900, 9902, 9906, 9908, 9910, 9912, 9916, 9918, 9920, 9922, 9926, 9928, 9930, 9932, 9936, 9938, 9940, 9942, 9946, 9948, 9950, 9952, 9956, 9958, 9960, 9962, 9966, 9968, 9970, 9972, 9976, 9978, 9980, 9982, 9986, 9988, 9990, 9992, 9996, 9998, 10000]\n"
          ]
        }
      ]
    },
    {
      "cell_type": "markdown",
      "source": [
        "statement yang kita gunakan di while loop bisa digunakan di if juga.\n",
        "\n",
        "if hanya jalan 1x\n",
        "\n",
        "while jalan berulang kali sampai statement mengembalikan False. while bisa jalan selamanya (error tipe infinite loop)"
      ],
      "metadata": {
        "id": "p5vwO7V-GDLV"
      }
    },
    {
      "cell_type": "code",
      "source": [
        "# break\n",
        "# menghentikan loop dengan paksa\n",
        "\n",
        "valids = []\n",
        "n = 9000\n",
        "while n < 10000:\n",
        "  n = n + 1\n",
        "\n",
        "  if (n == 9008):\n",
        "    break\n",
        "\n",
        "  if (n % 2 == 0) & (n % 10 != 4):\n",
        "      valids.append(n)\n",
        "\n",
        "print(valids)"
      ],
      "metadata": {
        "colab": {
          "base_uri": "https://localhost:8080/"
        },
        "id": "YEVMPgi1F4wP",
        "outputId": "0c60e834-8d61-4a0d-b322-38fe5fcc7a9e"
      },
      "execution_count": null,
      "outputs": [
        {
          "output_type": "stream",
          "name": "stdout",
          "text": [
            "[9002, 9006]\n"
          ]
        }
      ]
    },
    {
      "cell_type": "code",
      "source": [
        "# continue\n",
        "# melewati loop 1x, kyk skip.\n",
        "\n",
        "valids = []\n",
        "n = 9000\n",
        "while n < 10000:\n",
        "  n = n + 1\n",
        "\n",
        "  if (n == 9008):\n",
        "    continue\n",
        "\n",
        "  if (n % 2 == 0) & (n % 10 != 4):\n",
        "      valids.append(n)\n",
        "\n",
        "print(valids)"
      ],
      "metadata": {
        "colab": {
          "base_uri": "https://localhost:8080/"
        },
        "id": "5dUDSEf5Gp94",
        "outputId": "f916fdd3-7ad8-439a-9cad-25d286e40bdd"
      },
      "execution_count": null,
      "outputs": [
        {
          "output_type": "stream",
          "name": "stdout",
          "text": [
            "[9002, 9006, 9010, 9012, 9016, 9018, 9020, 9022, 9026, 9028, 9030, 9032, 9036, 9038, 9040, 9042, 9046, 9048, 9050, 9052, 9056, 9058, 9060, 9062, 9066, 9068, 9070, 9072, 9076, 9078, 9080, 9082, 9086, 9088, 9090, 9092, 9096, 9098, 9100, 9102, 9106, 9108, 9110, 9112, 9116, 9118, 9120, 9122, 9126, 9128, 9130, 9132, 9136, 9138, 9140, 9142, 9146, 9148, 9150, 9152, 9156, 9158, 9160, 9162, 9166, 9168, 9170, 9172, 9176, 9178, 9180, 9182, 9186, 9188, 9190, 9192, 9196, 9198, 9200, 9202, 9206, 9208, 9210, 9212, 9216, 9218, 9220, 9222, 9226, 9228, 9230, 9232, 9236, 9238, 9240, 9242, 9246, 9248, 9250, 9252, 9256, 9258, 9260, 9262, 9266, 9268, 9270, 9272, 9276, 9278, 9280, 9282, 9286, 9288, 9290, 9292, 9296, 9298, 9300, 9302, 9306, 9308, 9310, 9312, 9316, 9318, 9320, 9322, 9326, 9328, 9330, 9332, 9336, 9338, 9340, 9342, 9346, 9348, 9350, 9352, 9356, 9358, 9360, 9362, 9366, 9368, 9370, 9372, 9376, 9378, 9380, 9382, 9386, 9388, 9390, 9392, 9396, 9398, 9400, 9402, 9406, 9408, 9410, 9412, 9416, 9418, 9420, 9422, 9426, 9428, 9430, 9432, 9436, 9438, 9440, 9442, 9446, 9448, 9450, 9452, 9456, 9458, 9460, 9462, 9466, 9468, 9470, 9472, 9476, 9478, 9480, 9482, 9486, 9488, 9490, 9492, 9496, 9498, 9500, 9502, 9506, 9508, 9510, 9512, 9516, 9518, 9520, 9522, 9526, 9528, 9530, 9532, 9536, 9538, 9540, 9542, 9546, 9548, 9550, 9552, 9556, 9558, 9560, 9562, 9566, 9568, 9570, 9572, 9576, 9578, 9580, 9582, 9586, 9588, 9590, 9592, 9596, 9598, 9600, 9602, 9606, 9608, 9610, 9612, 9616, 9618, 9620, 9622, 9626, 9628, 9630, 9632, 9636, 9638, 9640, 9642, 9646, 9648, 9650, 9652, 9656, 9658, 9660, 9662, 9666, 9668, 9670, 9672, 9676, 9678, 9680, 9682, 9686, 9688, 9690, 9692, 9696, 9698, 9700, 9702, 9706, 9708, 9710, 9712, 9716, 9718, 9720, 9722, 9726, 9728, 9730, 9732, 9736, 9738, 9740, 9742, 9746, 9748, 9750, 9752, 9756, 9758, 9760, 9762, 9766, 9768, 9770, 9772, 9776, 9778, 9780, 9782, 9786, 9788, 9790, 9792, 9796, 9798, 9800, 9802, 9806, 9808, 9810, 9812, 9816, 9818, 9820, 9822, 9826, 9828, 9830, 9832, 9836, 9838, 9840, 9842, 9846, 9848, 9850, 9852, 9856, 9858, 9860, 9862, 9866, 9868, 9870, 9872, 9876, 9878, 9880, 9882, 9886, 9888, 9890, 9892, 9896, 9898, 9900, 9902, 9906, 9908, 9910, 9912, 9916, 9918, 9920, 9922, 9926, 9928, 9930, 9932, 9936, 9938, 9940, 9942, 9946, 9948, 9950, 9952, 9956, 9958, 9960, 9962, 9966, 9968, 9970, 9972, 9976, 9978, 9980, 9982, 9986, 9988, 9990, 9992, 9996, 9998, 10000]\n"
          ]
        }
      ]
    },
    {
      "cell_type": "markdown",
      "source": [
        "## latihan pendek: while loop dan if\n",
        "\n",
        "diberikan sebuah list berisi nilai nilai murid\n",
        "\n",
        "coba cek masing masing nilai dapat grade berapa, simpan grade grade ke list_grade"
      ],
      "metadata": {
        "id": "cvu1cPcIIHER"
      }
    },
    {
      "cell_type": "code",
      "source": [
        "list_nilai = [90, 78, 45, 89, 65, 23, 34, 67, 56, 78, 98]\n",
        "# A: 90-100\n",
        "# B: 60-89\n",
        "# C: 40-59\n",
        "# F: dibawah 40\n",
        "\n",
        "list_grade = []\n",
        "\n",
        "# gunakan while loop, if, elif else\n",
        "# isi list_grade tergantung dari list_nilai\n",
        "\n",
        "index = 0\n",
        "while index < len(list_nilai):\n",
        "  n = list_nilai[index]\n",
        "\n",
        "  grade = \"\"\n",
        "  if (n >= 90) & (n <= 100):\n",
        "    grade = \"A\"\n",
        "  elif (n >= 60) & (n <= 89):\n",
        "    grade = \"B\"\n",
        "  elif (n >= 40) & (n <= 59):\n",
        "    grade = \"C\"\n",
        "  elif (n < 40):\n",
        "    grade = \"F\"\n",
        "  else:\n",
        "    grade = \"I\" # tandai sebagai invalid grade\n",
        "\n",
        "  # print(n, grade)\n",
        "  list_grade.append(grade)\n",
        "\n",
        "  index = index + 1\n",
        "\n",
        "\n",
        "print(list_grade)"
      ],
      "metadata": {
        "colab": {
          "base_uri": "https://localhost:8080/"
        },
        "id": "rpJ_YiWZISWq",
        "outputId": "454e507a-16a7-4bf0-d995-90d346321e1c"
      },
      "execution_count": null,
      "outputs": [
        {
          "output_type": "stream",
          "name": "stdout",
          "text": [
            "['A', 'B', 'C', 'B', 'B', 'F', 'F', 'B', 'C', 'B', 'A']\n"
          ]
        }
      ]
    },
    {
      "cell_type": "markdown",
      "source": [
        "# For loop\n",
        "Digunakan untuk mengecek setiap barang dalam sebuah koleksi\n",
        "\n",
        "koleksi termasuk:\n",
        "- list\n",
        "- tuple\n",
        "- string\n",
        "- dictionary keys\n",
        "- dictionary values\n",
        "- dictionary items\n",
        "...\n",
        "\n",
        "saat kita mau cek, satu per satu, setiap barang dalam sebuah koleksi. kita bisa gunakan for loop."
      ],
      "metadata": {
        "id": "tPF_0gx4MwnE"
      }
    },
    {
      "cell_type": "code",
      "source": [
        "list_nilai = [90, 78, 45, 89, 65, 23, 34, 67, 56, 78, 98]\n",
        "# A: 90-100\n",
        "# B: 60-89\n",
        "# C: 40-59\n",
        "# F: dibawah 40\n",
        "\n",
        "list_grade = []\n",
        "\n",
        "# gunakan while loop, if, elif else\n",
        "# isi list_grade tergantung dari list_nilai\n",
        "\n",
        "for n in list_nilai:\n",
        "  grade = \"\"\n",
        "  if (n >= 90) & (n <= 100):\n",
        "    grade = \"A\"\n",
        "  elif (n >= 60) & (n <= 89):\n",
        "    grade = \"B\"\n",
        "  elif (n >= 40) & (n <= 59):\n",
        "    grade = \"C\"\n",
        "  elif (n < 40):\n",
        "    grade = \"F\"\n",
        "  else:\n",
        "    grade = \"I\" # tandai sebagai invalid grade\n",
        "\n",
        "  # print(n, grade)\n",
        "  list_grade.append(grade)\n",
        "\n",
        "\n",
        "print(list_grade)"
      ],
      "metadata": {
        "colab": {
          "base_uri": "https://localhost:8080/"
        },
        "id": "-JysynsSL2RL",
        "outputId": "4059741d-65f6-44e7-8e0c-d6e8c8413f93"
      },
      "execution_count": null,
      "outputs": [
        {
          "output_type": "stream",
          "name": "stdout",
          "text": [
            "['A', 'B', 'C', 'B', 'B', 'F', 'F', 'B', 'C', 'B', 'A']\n"
          ]
        }
      ]
    },
    {
      "cell_type": "markdown",
      "source": [
        "- list []\n",
        "- tuple ()\n",
        "- string \"\"\n",
        "\n",
        "sebuah dictionary yang berisi barang sepasang sepasang key:value, bisa kita ubah menjadi list keys nya aja, valuesnya aja, atau list isi sepasang sepasang itu.\n",
        "- dictionary keys\n",
        "- dictionary values\n",
        "- dictionary items"
      ],
      "metadata": {
        "id": "jNPufhKwNlBX"
      }
    },
    {
      "cell_type": "code",
      "source": [
        "belanjaan = {\n",
        "    \"apel\": 5000,\n",
        "    \"pisang\":17000,\n",
        "    \"nanas\": 35000,\n",
        "    \"melon\": 25000\n",
        "}\n",
        "\n",
        "print(belanjaan)"
      ],
      "metadata": {
        "colab": {
          "base_uri": "https://localhost:8080/"
        },
        "id": "4M_qA66sNd3N",
        "outputId": "045abba4-bc81-40a4-ad1e-d43e71f2a7a8"
      },
      "execution_count": null,
      "outputs": [
        {
          "output_type": "stream",
          "name": "stdout",
          "text": [
            "{'apel': 5000, 'pisang': 17000, 'nanas': 35000, 'melon': 25000}\n"
          ]
        }
      ]
    },
    {
      "cell_type": "code",
      "source": [
        "# keys nya saja\n",
        "belanjaan.keys()"
      ],
      "metadata": {
        "colab": {
          "base_uri": "https://localhost:8080/"
        },
        "id": "LW7OIZdvN69-",
        "outputId": "9fe9213a-306f-4a23-bb48-2ddcb90b4a11"
      },
      "execution_count": null,
      "outputs": [
        {
          "output_type": "execute_result",
          "data": {
            "text/plain": [
              "dict_keys(['apel', 'pisang', 'nanas', 'melon'])"
            ]
          },
          "metadata": {},
          "execution_count": 41
        }
      ]
    },
    {
      "cell_type": "code",
      "source": [
        "# values nya saja\n",
        "belanjaan.values()"
      ],
      "metadata": {
        "colab": {
          "base_uri": "https://localhost:8080/"
        },
        "id": "zbL6JWtdN9mz",
        "outputId": "84ff9433-ab59-4417-b385-81c8c31e681e"
      },
      "execution_count": null,
      "outputs": [
        {
          "output_type": "execute_result",
          "data": {
            "text/plain": [
              "dict_values([5000, 17000, 35000, 25000])"
            ]
          },
          "metadata": {},
          "execution_count": 42
        }
      ]
    },
    {
      "cell_type": "code",
      "source": [
        "# items\n",
        "belanjaan.items()"
      ],
      "metadata": {
        "colab": {
          "base_uri": "https://localhost:8080/"
        },
        "id": "Z7qQ6ghiOAqa",
        "outputId": "7cadb7f0-c885-49e6-d290-7ad729de2ef2"
      },
      "execution_count": null,
      "outputs": [
        {
          "output_type": "execute_result",
          "data": {
            "text/plain": [
              "dict_items([('apel', 5000), ('pisang', 17000), ('nanas', 35000), ('melon', 25000)])"
            ]
          },
          "metadata": {},
          "execution_count": 43
        }
      ]
    },
    {
      "cell_type": "code",
      "source": [
        "for nama_buah in belanjaan.keys():\n",
        "  print(nama_buah)"
      ],
      "metadata": {
        "colab": {
          "base_uri": "https://localhost:8080/"
        },
        "id": "GsntnuZBOEW2",
        "outputId": "d425e7f5-b601-41b5-92e4-f862a36d9b0a"
      },
      "execution_count": null,
      "outputs": [
        {
          "output_type": "stream",
          "name": "stdout",
          "text": [
            "apel\n",
            "pisang\n",
            "nanas\n",
            "melon\n"
          ]
        }
      ]
    },
    {
      "cell_type": "code",
      "source": [
        "for harga_buah in belanjaan.values():\n",
        "  print(harga_buah)"
      ],
      "metadata": {
        "colab": {
          "base_uri": "https://localhost:8080/"
        },
        "id": "-1xGOovHOLmo",
        "outputId": "aba1e05f-6122-4ab1-f5a6-7781ebe16682"
      },
      "execution_count": null,
      "outputs": [
        {
          "output_type": "stream",
          "name": "stdout",
          "text": [
            "5000\n",
            "17000\n",
            "35000\n",
            "25000\n"
          ]
        }
      ]
    },
    {
      "cell_type": "code",
      "source": [
        "total = 0\n",
        "for harga_buah in belanjaan.values():\n",
        "  total = total + harga_buah\n",
        "  # print(harga_buah, total)\n",
        "\n",
        "print(total)"
      ],
      "metadata": {
        "colab": {
          "base_uri": "https://localhost:8080/"
        },
        "id": "bBBuJGhCOcIN",
        "outputId": "be0cae0a-4aab-40ed-915b-4c72ac5cdb22"
      },
      "execution_count": null,
      "outputs": [
        {
          "output_type": "stream",
          "name": "stdout",
          "text": [
            "82000\n"
          ]
        }
      ]
    },
    {
      "cell_type": "code",
      "source": [
        "# bikin text beli apa aja\n",
        "jurnal = \"Pergi belanja.\"\n",
        "total = 0\n",
        "for pasangan in belanjaan.items():\n",
        "  jurnal = jurnal + \" Beli \" + pasangan[0] + \" seharga \" + str(pasangan[1]) + \".\"\n",
        "  total = total + pasangan[1]\n",
        "\n",
        "jurnal = jurnal + \" Total belanja menjadi \" + str(total) + \".\"\n",
        "print(jurnal)"
      ],
      "metadata": {
        "colab": {
          "base_uri": "https://localhost:8080/"
        },
        "id": "SVjZhxLVOqlt",
        "outputId": "a99ba917-0f64-4118-a867-19d772f881b5"
      },
      "execution_count": null,
      "outputs": [
        {
          "output_type": "stream",
          "name": "stdout",
          "text": [
            "Pergi belanja. Beli apel seharga 5000. Beli pisang seharga 17000. Beli nanas seharga 35000. Beli melon seharga 25000. Total belanja menjadi 82000.\n"
          ]
        }
      ]
    },
    {
      "cell_type": "code",
      "source": [
        "# list, di for loop\n",
        "# hitung ada berapa angka genap di koleksi list berisi angka angka\n",
        "\n",
        "print(list_nilai)\n",
        "count_genap = 0\n",
        "for n in list_nilai:\n",
        "  if (n % 2 == 0):\n",
        "    count_genap = count_genap + 1\n",
        "\n",
        "print(count_genap, \"jumlah angka genap\")"
      ],
      "metadata": {
        "colab": {
          "base_uri": "https://localhost:8080/"
        },
        "id": "Hcp3Nlr1PKVB",
        "outputId": "51e6646c-2703-4403-d281-79dfc245e451"
      },
      "execution_count": null,
      "outputs": [
        {
          "output_type": "stream",
          "name": "stdout",
          "text": [
            "[90, 78, 45, 89, 65, 23, 34, 67, 56, 78, 98]\n",
            "6 jumlah angka genap\n"
          ]
        }
      ]
    },
    {
      "cell_type": "code",
      "source": [
        "# string, di for loop\n",
        "# hitung ada berapa huruf \"a\" di dalam sebuah text (misalnya text jurnal yang tadi kita buat)\n",
        "\n",
        "print(jurnal)\n",
        "count = 0\n",
        "for character in jurnal:\n",
        "  if (character == \"a\"):\n",
        "    count = count + 1\n",
        "\n",
        "print(count, \"jumlah huruf a di dalam jurnal\")"
      ],
      "metadata": {
        "colab": {
          "base_uri": "https://localhost:8080/"
        },
        "id": "ePaA4_s6QQvF",
        "outputId": "219c2ac5-0839-41b6-b34e-f9a81257ae27"
      },
      "execution_count": null,
      "outputs": [
        {
          "output_type": "stream",
          "name": "stdout",
          "text": [
            "Pergi belanja. Beli apel seharga 5000. Beli pisang seharga 17000. Beli nanas seharga 35000. Beli melon seharga 25000. Total belanja menjadi 82000.\n",
            "18 jumlah huruf a di dalam jurnal\n"
          ]
        }
      ]
    },
    {
      "cell_type": "markdown",
      "source": [
        "# Membuat angka urut di Python\n",
        "dengan tujuan untuk membantu pemakaian for loop\n",
        "\n",
        "bisa juga untuk dipakai sebagai angka urut"
      ],
      "metadata": {
        "id": "-vP70FHFRNl0"
      }
    },
    {
      "cell_type": "code",
      "source": [
        "# cara pertama - membuat 10 angka dari 0, increment 1\n",
        "# 0,1,2,3,..., 9\n",
        "range(10)"
      ],
      "metadata": {
        "colab": {
          "base_uri": "https://localhost:8080/"
        },
        "id": "eBeFASrhQp04",
        "outputId": "169ad3fc-b97a-4260-f8ba-1c698c0b0ca0"
      },
      "execution_count": null,
      "outputs": [
        {
          "output_type": "execute_result",
          "data": {
            "text/plain": [
              "range(0, 10)"
            ]
          },
          "metadata": {},
          "execution_count": 58
        }
      ]
    },
    {
      "cell_type": "code",
      "source": [
        "for n in range(10):\n",
        "  print(n)"
      ],
      "metadata": {
        "colab": {
          "base_uri": "https://localhost:8080/"
        },
        "id": "-Qk_vzn1RMmD",
        "outputId": "81bfb4c0-d3c1-4bdc-8d37-6c55f92be1e9"
      },
      "execution_count": null,
      "outputs": [
        {
          "output_type": "stream",
          "name": "stdout",
          "text": [
            "0\n",
            "1\n",
            "2\n",
            "3\n",
            "4\n",
            "5\n",
            "6\n",
            "7\n",
            "8\n",
            "9\n"
          ]
        }
      ]
    },
    {
      "cell_type": "code",
      "source": [
        "# tidak harus 10, mau buat 100, 1rb, 1jt, boleh berapapun\n",
        "text = \"\"\n",
        "for n in range(1003):\n",
        "  text = text + \" \" + str(n)\n",
        "print(text)"
      ],
      "metadata": {
        "colab": {
          "base_uri": "https://localhost:8080/"
        },
        "id": "XU1RA70CRccT",
        "outputId": "ffa3678c-35c3-4b63-fe50-94ef0905be81"
      },
      "execution_count": null,
      "outputs": [
        {
          "output_type": "stream",
          "name": "stdout",
          "text": [
            " 0 1 2 3 4 5 6 7 8 9 10 11 12 13 14 15 16 17 18 19 20 21 22 23 24 25 26 27 28 29 30 31 32 33 34 35 36 37 38 39 40 41 42 43 44 45 46 47 48 49 50 51 52 53 54 55 56 57 58 59 60 61 62 63 64 65 66 67 68 69 70 71 72 73 74 75 76 77 78 79 80 81 82 83 84 85 86 87 88 89 90 91 92 93 94 95 96 97 98 99 100 101 102 103 104 105 106 107 108 109 110 111 112 113 114 115 116 117 118 119 120 121 122 123 124 125 126 127 128 129 130 131 132 133 134 135 136 137 138 139 140 141 142 143 144 145 146 147 148 149 150 151 152 153 154 155 156 157 158 159 160 161 162 163 164 165 166 167 168 169 170 171 172 173 174 175 176 177 178 179 180 181 182 183 184 185 186 187 188 189 190 191 192 193 194 195 196 197 198 199 200 201 202 203 204 205 206 207 208 209 210 211 212 213 214 215 216 217 218 219 220 221 222 223 224 225 226 227 228 229 230 231 232 233 234 235 236 237 238 239 240 241 242 243 244 245 246 247 248 249 250 251 252 253 254 255 256 257 258 259 260 261 262 263 264 265 266 267 268 269 270 271 272 273 274 275 276 277 278 279 280 281 282 283 284 285 286 287 288 289 290 291 292 293 294 295 296 297 298 299 300 301 302 303 304 305 306 307 308 309 310 311 312 313 314 315 316 317 318 319 320 321 322 323 324 325 326 327 328 329 330 331 332 333 334 335 336 337 338 339 340 341 342 343 344 345 346 347 348 349 350 351 352 353 354 355 356 357 358 359 360 361 362 363 364 365 366 367 368 369 370 371 372 373 374 375 376 377 378 379 380 381 382 383 384 385 386 387 388 389 390 391 392 393 394 395 396 397 398 399 400 401 402 403 404 405 406 407 408 409 410 411 412 413 414 415 416 417 418 419 420 421 422 423 424 425 426 427 428 429 430 431 432 433 434 435 436 437 438 439 440 441 442 443 444 445 446 447 448 449 450 451 452 453 454 455 456 457 458 459 460 461 462 463 464 465 466 467 468 469 470 471 472 473 474 475 476 477 478 479 480 481 482 483 484 485 486 487 488 489 490 491 492 493 494 495 496 497 498 499 500 501 502 503 504 505 506 507 508 509 510 511 512 513 514 515 516 517 518 519 520 521 522 523 524 525 526 527 528 529 530 531 532 533 534 535 536 537 538 539 540 541 542 543 544 545 546 547 548 549 550 551 552 553 554 555 556 557 558 559 560 561 562 563 564 565 566 567 568 569 570 571 572 573 574 575 576 577 578 579 580 581 582 583 584 585 586 587 588 589 590 591 592 593 594 595 596 597 598 599 600 601 602 603 604 605 606 607 608 609 610 611 612 613 614 615 616 617 618 619 620 621 622 623 624 625 626 627 628 629 630 631 632 633 634 635 636 637 638 639 640 641 642 643 644 645 646 647 648 649 650 651 652 653 654 655 656 657 658 659 660 661 662 663 664 665 666 667 668 669 670 671 672 673 674 675 676 677 678 679 680 681 682 683 684 685 686 687 688 689 690 691 692 693 694 695 696 697 698 699 700 701 702 703 704 705 706 707 708 709 710 711 712 713 714 715 716 717 718 719 720 721 722 723 724 725 726 727 728 729 730 731 732 733 734 735 736 737 738 739 740 741 742 743 744 745 746 747 748 749 750 751 752 753 754 755 756 757 758 759 760 761 762 763 764 765 766 767 768 769 770 771 772 773 774 775 776 777 778 779 780 781 782 783 784 785 786 787 788 789 790 791 792 793 794 795 796 797 798 799 800 801 802 803 804 805 806 807 808 809 810 811 812 813 814 815 816 817 818 819 820 821 822 823 824 825 826 827 828 829 830 831 832 833 834 835 836 837 838 839 840 841 842 843 844 845 846 847 848 849 850 851 852 853 854 855 856 857 858 859 860 861 862 863 864 865 866 867 868 869 870 871 872 873 874 875 876 877 878 879 880 881 882 883 884 885 886 887 888 889 890 891 892 893 894 895 896 897 898 899 900 901 902 903 904 905 906 907 908 909 910 911 912 913 914 915 916 917 918 919 920 921 922 923 924 925 926 927 928 929 930 931 932 933 934 935 936 937 938 939 940 941 942 943 944 945 946 947 948 949 950 951 952 953 954 955 956 957 958 959 960 961 962 963 964 965 966 967 968 969 970 971 972 973 974 975 976 977 978 979 980 981 982 983 984 985 986 987 988 989 990 991 992 993 994 995 996 997 998 999 1000 1001 1002\n"
          ]
        }
      ]
    },
    {
      "cell_type": "code",
      "source": [
        "# cara kedua\n",
        "# range, kita kasih mulai dari angka berapa\n",
        "text = \"\"\n",
        "for n in range(5, 20):\n",
        "  text = text + \" \" + str(n)\n",
        "print(text)"
      ],
      "metadata": {
        "colab": {
          "base_uri": "https://localhost:8080/"
        },
        "id": "URu-W_jhR3kq",
        "outputId": "d41b438f-1338-45dc-a386-f377510a457d"
      },
      "execution_count": null,
      "outputs": [
        {
          "output_type": "stream",
          "name": "stdout",
          "text": [
            " 5 6 7 8 9 10 11 12 13 14 15 16 17 18 19\n"
          ]
        }
      ]
    },
    {
      "cell_type": "markdown",
      "source": [
        "mulai dari angka yang kita pilih\n",
        "\n",
        "increment 1\n",
        "\n",
        "berhenti sebelum angka yang kita pilih. di contoh atas, 5, 20, berarti 5 sampai 19 angkanya.."
      ],
      "metadata": {
        "id": "r5Cy26pwSGv7"
      }
    },
    {
      "cell_type": "code",
      "source": [
        "# cara ketiga\n",
        "# range, kita kasih mulai dari mana, berhenti kapan, dan increment nya berapa\n",
        "text = \"\"\n",
        "for n in range(-500, 2000, 250):\n",
        "  text = text + \" \" + str(n)\n",
        "print(text)"
      ],
      "metadata": {
        "colab": {
          "base_uri": "https://localhost:8080/"
        },
        "id": "oi7ohwm6SEVY",
        "outputId": "9ad27aa7-9a94-4579-afd4-1be3675f208c"
      },
      "execution_count": null,
      "outputs": [
        {
          "output_type": "stream",
          "name": "stdout",
          "text": [
            " -500 -250 0 250 500 750 1000 1250 1500 1750\n"
          ]
        }
      ]
    },
    {
      "cell_type": "code",
      "source": [
        "text = \"\"\n",
        "for n in range(500, -500, -38):\n",
        "  text = text + \" \" + str(n)\n",
        "print(text)"
      ],
      "metadata": {
        "colab": {
          "base_uri": "https://localhost:8080/"
        },
        "id": "RzyesgWmSYPF",
        "outputId": "ec0d9850-b324-4050-c875-0b874483474a"
      },
      "execution_count": null,
      "outputs": [
        {
          "output_type": "stream",
          "name": "stdout",
          "text": [
            " 500 462 424 386 348 310 272 234 196 158 120 82 44 6 -32 -70 -108 -146 -184 -222 -260 -298 -336 -374 -412 -450 -488\n"
          ]
        }
      ]
    },
    {
      "cell_type": "markdown",
      "source": [
        "## For fun\n",
        "keyword input bisa kita gunakan untuk meminta input data dari user saat code sedang berjalan\n",
        "\n",
        "misalkan, kita bisa membuat program untuk membalikkan text yang diberikan user, sampai user bilang \"stop\""
      ],
      "metadata": {
        "id": "2pwWpChZTLAO"
      }
    },
    {
      "cell_type": "code",
      "source": [
        "# input\n",
        "keyword = input(\"Isi text yang mau dibalik:\")\n",
        "print(keyword)"
      ],
      "metadata": {
        "colab": {
          "base_uri": "https://localhost:8080/"
        },
        "id": "FW5Hkb4BSmb8",
        "outputId": "93c3f15c-61f0-4f2a-9cab-fbadbd5ecb00"
      },
      "execution_count": null,
      "outputs": [
        {
          "output_type": "stream",
          "name": "stdout",
          "text": [
            "Isi text yang mau dibalik:halo\n",
            "halo\n"
          ]
        }
      ]
    },
    {
      "cell_type": "code",
      "source": [
        "keyword = \"\"\n",
        "while keyword != \"stop\":\n",
        "  keyword = input(\"Isi text yang mau dibalik:\")\n",
        "  keyword_terbalik = \"\"\n",
        "  for char in keyword:\n",
        "    keyword_terbalik = char + keyword_terbalik\n",
        "  print(keyword_terbalik)"
      ],
      "metadata": {
        "colab": {
          "base_uri": "https://localhost:8080/"
        },
        "id": "lnzCGmcDTh2F",
        "outputId": "160f3a03-d0c8-4a23-f541-14a559b9f22c"
      },
      "execution_count": null,
      "outputs": [
        {
          "output_type": "stream",
          "name": "stdout",
          "text": [
            "Isi text yang mau dibalik:123\n",
            "321\n",
            "Isi text yang mau dibalik:9\n",
            "9\n",
            "Isi text yang mau dibalik:stop\n",
            "pots\n"
          ]
        }
      ]
    },
    {
      "cell_type": "code",
      "source": [],
      "metadata": {
        "id": "KErl6z1VT-p9"
      },
      "execution_count": null,
      "outputs": []
    }
  ]
}