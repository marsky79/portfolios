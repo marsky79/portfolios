{
  "cells": [
    {
      "cell_type": "markdown",
      "metadata": {
        "id": "_eDGFz_pz7OU"
      },
      "source": [
        "# Inferential Statistics\n",
        "statistik yang digunakan untuk membuat konklusi dari data\n",
        "\n",
        "Terminologi:\n",
        "- population - keselurhan data yang sedang kita obervasi\n",
        "- sample - sebagian dari data population\n",
        "- outlier - data yang jauh berbeda dari kebanyakan data lainnya di dataset\n",
        "- random variable - satu data di dataset kita\n",
        "- discrete - saat datanya memiliki batasan yang jelas satu sama lain\n",
        "- continuous - saat datanya terus berjalan tanpa batasan antara satu dan yang lainnya (waktu, uang, berat, jarak,...)\n",
        "- distribution - bentuk dari chart histogram dari dataset kita yang menunjukkan probabilitas mendapatkan sebuah value\n",
        "\n",
        "untuk discrete random variable, kita bisa dapatkan bentuk distribution seperti uniform, binomial, bernoulli, poisson distribution, ...\n",
        "\n",
        "untuk continuous random varable, kita bisa dapatkan bentuk distribution seperti uniform, normal, gamma, ...\n",
        "\n",
        "---\n",
        "\n",
        "Setelah kita mendapatkan data yang bentuknya normal distribution, kita bisa terapkan teknik inferential statistik:\n",
        "1. Confidence Interval\n",
        "2. Hypothesis testing\n",
        "\n",
        "---\n",
        "\n",
        "Confidence Interval adalah saat kita membuat pernyataan tentang tengah dan penyebaran dataset kita, dalam sebuah statement. Kita seperti merangkum hasil hitungan descriptive statistics, tapi dengan cara tertentu.\n",
        "\n",
        "Ada formula untuk menghitung CI yang harus kita ikuti.\n",
        "\n",
        "---\n",
        "\n",
        "Hypothesis Testing adalah saat kita membuat pernyataan tentang data kita.\n",
        "- \"Dulu lebih banyak orang yang suka makan mie daripada sekarang.\"\n",
        "- \"Kalau kita pergi olahraga 3x seminggu, dibandingkan pergi olahraga 1x seminggu, berat badan kita akan lebih ringan.\"\n",
        "\n",
        "Semua statement ini harus dibuat berdasarkan data, dan dengan formula statistik menghitung p-value. Kita hitung apakah ada perbedaan yang signifikan antara dua grup (grup 3x olahraga vs grup 1x olahraga) (grup dulu, grup sekarang) apakah ada perbedaan yang bisa dibilang \"signifikan\" antara kedua grup ini untuk kita bisa bikin statement yang membedakan keduanya."
      ]
    },
    {
      "cell_type": "code",
      "execution_count": null,
      "metadata": {
        "id": "o1bWxA-Bz4XM"
      },
      "outputs": [],
      "source": [
        "import pandas as pd\n",
        "import numpy as np\n",
        "\n",
        "from scipy.stats import uniform, norm\n",
        "\n",
        "import seaborn as sns\n",
        "import matplotlib.pyplot as plt\n",
        "plt.style.use('ggplot')\n",
        "\n",
        "import statsmodels.api as sm"
      ]
    },
    {
      "cell_type": "code",
      "execution_count": null,
      "metadata": {
        "id": "Ax-PDJf64KEs",
        "outputId": "0d136d88-1193-40af-ea80-c142fd60356b"
      },
      "outputs": [
        {
          "data": {
            "text/plain": [
              "array([54.00283445, 51.83487126, 52.6525246 , ..., 59.91725634,\n",
              "       59.28301485, 53.47989041])"
            ]
          },
          "execution_count": 2,
          "metadata": {},
          "output_type": "execute_result"
        }
      ],
      "source": [
        "# membuat contoh data yang bentuk distribusinya uniform\n",
        "# kita buat contoh data menggunakan package scipy stats, module uniform\n",
        "\n",
        "data_uniform = uniform.rvs(\n",
        "    size = 10000,   # berapa data\n",
        "    loc = 50,       # datanya mulai dari mana\n",
        "    scale = 10,     # loc + scale = max data\n",
        ")\n",
        "\n",
        "data_uniform"
      ]
    },
    {
      "cell_type": "code",
      "execution_count": null,
      "metadata": {
        "id": "lAdysFBU4iuW",
        "outputId": "04f4fb3a-26d0-4476-d595-eec90e472724"
      },
      "outputs": [
        {
          "name": "stderr",
          "output_type": "stream",
          "text": [
            "c:\\Users\\stefa\\anaconda3\\lib\\site-packages\\seaborn\\axisgrid.py:118: UserWarning: The figure layout has changed to tight\n",
            "  self._figure.tight_layout(*args, **kwargs)\n"
          ]
        },
        {
          "data": {
            "image/png": "[encoded data removed]",
            "text/plain": [
              "<Figure size 500x500 with 1 Axes>"
            ]
          },
          "metadata": {},
          "output_type": "display_data"
        }
      ],
      "source": [
        "# setelah dummy data dibuat, kita buat chart distribusi nya menggunakan seaborn\n",
        "\n",
        "sns.displot(\n",
        "    data_uniform,\n",
        "    bins = 100,\n",
        "    kde = True,\n",
        "    color = 'skyblue'\n",
        ")\n",
        "\n",
        "plt.title(\"Uniform Distribution\")\n",
        "plt.xlabel(\"value\")\n",
        "plt.show()"
      ]
    },
    {
      "cell_type": "code",
      "execution_count": null,
      "metadata": {
        "id": "4EqKk7aC4zw0",
        "outputId": "8da75e3f-a60e-404a-a894-54c3bd449e37"
      },
      "outputs": [
        {
          "data": {
            "text/plain": [
              "array([50.24580025, 48.60502293, 40.32039346, ..., 55.10691841,\n",
              "       43.31128626, 44.85979966])"
            ]
          },
          "execution_count": 4,
          "metadata": {},
          "output_type": "execute_result"
        }
      ],
      "source": [
        "# contoh data terdistribusi normal\n",
        "\n",
        "data_norm = norm.rvs(\n",
        "    size = 10000,   # berapa data\n",
        "    loc = 50,       # tengah data\n",
        "    scale = 10,     # penyebaran\n",
        ")\n",
        "\n",
        "data_norm"
      ]
    },
    {
      "cell_type": "code",
      "execution_count": null,
      "metadata": {
        "id": "-4Uzw3lE6SJr",
        "outputId": "6c20ca81-3aaa-425a-c70a-0f3704ecb4a4"
      },
      "outputs": [
        {
          "name": "stderr",
          "output_type": "stream",
          "text": [
            "c:\\Users\\stefa\\anaconda3\\lib\\site-packages\\seaborn\\axisgrid.py:118: UserWarning: The figure layout has changed to tight\n",
            "  self._figure.tight_layout(*args, **kwargs)\n"
          ]
        },
        {
          "data": {
            "image/png": "[encoded data removed]",
            "text/plain": [
              "<Figure size 500x500 with 1 Axes>"
            ]
          },
          "metadata": {},
          "output_type": "display_data"
        }
      ],
      "source": [
        "sns.displot(\n",
        "    data_norm,\n",
        "    bins = 100,\n",
        "    kde = True,\n",
        "    color = 'skyblue'\n",
        ")\n",
        "\n",
        "plt.title(\"Normal Distribution\")\n",
        "plt.xlabel(\"value\")\n",
        "plt.show()"
      ]
    },
    {
      "cell_type": "markdown",
      "metadata": {
        "id": "3NpEP6rs7K0E"
      },
      "source": [
        "# Confidence Interval\n",
        "\n",
        "Best Estimate +- Margin of Error\n",
        "\n",
        "dimana, ada dua jenis confidence interval yang bisa kita buat yaitu:\n",
        "1. CI untuk rata-rata\n",
        "2. CI untuk proporsi\n",
        "\n",
        "contohnya:\n",
        "- \"rata rata nilai anak kelas A ada di antara 60-90\" --> best estimate 75 dengan margin of error 15. jadi 75 +- 15 atau 60-90\n",
        "- \"50-60% anak kelas A yang nilainya diatas 80\" --> best estimate 55% dengan margin of error 5%. jadi kita dapat 55 +- 5 atau 50-60%\n",
        "\n",
        "untuk menghitung best estimate dan margin of error, ada formulanya. Untuk rata-rata dan untuk proporsi.\n",
        "\n",
        "## **Untuk CI rata-rata**   \n",
        "Best_Estimate = mean   \n",
        "Margin_of_Error = z-score * standard_error   \n",
        "standard_error = standard_deviation / sqrt(jumlah_data)\n",
        "\n",
        "mean dan standard_deviation bisa kita cari menggunakan teknik descriptive statistics yang sudah dipelajari. jumlah_data langsung dihitung dari jumlah data di dataset kita. z_score adalah angka representatif untuk tingkat keyakinan pada statement yang kita buat.\n",
        "\n",
        "umumnya confidence ada di 95%, memberikan statement yang kita buat 5% margin error. Jika ada data yang diluar statement yang kita buat, kita bisa bilang, itu termasuk dari 5% margin error karena tingkat keyakinan kita di 95%.\n",
        "\n",
        "z_score kita set ke 1.96 dengan tingkat keyakinan di 95%\n",
        "\n",
        "## **Untuk CI proporsi**   \n",
        "Best_Estimate = p   \n",
        "Margin_of_Error = z-score * standard_error   \n",
        "standard_error = sqrt(p * (1-p) / jumlah_data)\n",
        "\n",
        "p adalah proporsi. Jadi untuk contoh yang kita bahas sebelumnya, proporsi anak kelas A yang nilainya diatas 80 berapa? kita hitung dari dataset kita. angka ini adalah p atau best estimate kita. kita gunakan angka p ini dan jumlah_data (jumlah dataset kita) untuk dapat standard_error. z-score masih sama di 1.96 untuk tingkat keyakinan 95%.\n",
        "\n",
        "\n",
        "\n",
        "\n",
        "\n"
      ]
    },
    {
      "cell_type": "markdown",
      "metadata": {
        "id": "8RPWV1qS-_cf"
      },
      "source": [
        "## Studi kasus\n",
        "kita gunakan dataset tentang pasien stroke dari https://www.kaggle.com/datasets/fedesoriano/stroke-prediction-dataset atau raw datanya dari https://raw.githubusercontent.com/stefkwan-h8/dataset/main/stroke.csv untuk cari beberapa angka confidence interval"
      ]
    },
    {
      "cell_type": "code",
      "execution_count": null,
      "metadata": {
        "id": "M9vJBz706VK7",
        "outputId": "77ac76f8-3166-4b85-b25d-5ada32e92619"
      },
      "outputs": [
        {
          "data": {
            "text/html": [
              "<div>\n",
              "<style scoped>\n",
              "    .dataframe tbody tr th:only-of-type {\n",
              "        vertical-align: middle;\n",
              "    }\n",
              "\n",
              "    .dataframe tbody tr th {\n",
              "        vertical-align: top;\n",
              "    }\n",
              "\n",
              "    .dataframe thead th {\n",
              "        text-align: right;\n",
              "    }\n",
              "</style>\n",
              "<table border=\"1\" class=\"dataframe\">\n",
              "  <thead>\n",
              "    <tr style=\"text-align: right;\">\n",
              "      <th></th>\n",
              "      <th>id</th>\n",
              "      <th>gender</th>\n",
              "      <th>age</th>\n",
              "      <th>hypertension</th>\n",
              "      <th>heart_disease</th>\n",
              "      <th>ever_married</th>\n",
              "      <th>work_type</th>\n",
              "      <th>Residence_type</th>\n",
              "      <th>avg_glucose_level</th>\n",
              "      <th>bmi</th>\n",
              "      <th>smoking_status</th>\n",
              "      <th>stroke</th>\n",
              "    </tr>\n",
              "  </thead>\n",
              "  <tbody>\n",
              "    <tr>\n",
              "      <th>0</th>\n",
              "      <td>9046</td>\n",
              "      <td>Male</td>\n",
              "      <td>67.0</td>\n",
              "      <td>0</td>\n",
              "      <td>1</td>\n",
              "      <td>Yes</td>\n",
              "      <td>Private</td>\n",
              "      <td>Urban</td>\n",
              "      <td>228.69</td>\n",
              "      <td>36.6</td>\n",
              "      <td>formerly smoked</td>\n",
              "      <td>1</td>\n",
              "    </tr>\n",
              "    <tr>\n",
              "      <th>1</th>\n",
              "      <td>51676</td>\n",
              "      <td>Female</td>\n",
              "      <td>61.0</td>\n",
              "      <td>0</td>\n",
              "      <td>0</td>\n",
              "      <td>Yes</td>\n",
              "      <td>Self-employed</td>\n",
              "      <td>Rural</td>\n",
              "      <td>202.21</td>\n",
              "      <td>NaN</td>\n",
              "      <td>never smoked</td>\n",
              "      <td>1</td>\n",
              "    </tr>\n",
              "    <tr>\n",
              "      <th>2</th>\n",
              "      <td>31112</td>\n",
              "      <td>Male</td>\n",
              "      <td>80.0</td>\n",
              "      <td>0</td>\n",
              "      <td>1</td>\n",
              "      <td>Yes</td>\n",
              "      <td>Private</td>\n",
              "      <td>Rural</td>\n",
              "      <td>105.92</td>\n",
              "      <td>32.5</td>\n",
              "      <td>never smoked</td>\n",
              "      <td>1</td>\n",
              "    </tr>\n",
              "    <tr>\n",
              "      <th>3</th>\n",
              "      <td>60182</td>\n",
              "      <td>Female</td>\n",
              "      <td>49.0</td>\n",
              "      <td>0</td>\n",
              "      <td>0</td>\n",
              "      <td>Yes</td>\n",
              "      <td>Private</td>\n",
              "      <td>Urban</td>\n",
              "      <td>171.23</td>\n",
              "      <td>34.4</td>\n",
              "      <td>smokes</td>\n",
              "      <td>1</td>\n",
              "    </tr>\n",
              "    <tr>\n",
              "      <th>4</th>\n",
              "      <td>1665</td>\n",
              "      <td>Female</td>\n",
              "      <td>79.0</td>\n",
              "      <td>1</td>\n",
              "      <td>0</td>\n",
              "      <td>Yes</td>\n",
              "      <td>Self-employed</td>\n",
              "      <td>Rural</td>\n",
              "      <td>174.12</td>\n",
              "      <td>24.0</td>\n",
              "      <td>never smoked</td>\n",
              "      <td>1</td>\n",
              "    </tr>\n",
              "  </tbody>\n",
              "</table>\n",
              "</div>"
            ],
            "text/plain": [
              "      id  gender   age  hypertension  heart_disease ever_married  \\\n",
              "0   9046    Male  67.0             0              1          Yes   \n",
              "1  51676  Female  61.0             0              0          Yes   \n",
              "2  31112    Male  80.0             0              1          Yes   \n",
              "3  60182  Female  49.0             0              0          Yes   \n",
              "4   1665  Female  79.0             1              0          Yes   \n",
              "\n",
              "       work_type Residence_type  avg_glucose_level   bmi   smoking_status  \\\n",
              "0        Private          Urban             228.69  36.6  formerly smoked   \n",
              "1  Self-employed          Rural             202.21   NaN     never smoked   \n",
              "2        Private          Rural             105.92  32.5     never smoked   \n",
              "3        Private          Urban             171.23  34.4           smokes   \n",
              "4  Self-employed          Rural             174.12  24.0     never smoked   \n",
              "\n",
              "   stroke  \n",
              "0       1  \n",
              "1       1  \n",
              "2       1  \n",
              "3       1  \n",
              "4       1  "
            ]
          },
          "execution_count": 6,
          "metadata": {},
          "output_type": "execute_result"
        }
      ],
      "source": [
        "df_stroke = pd.read_csv(\"stroke.csv\")\n",
        "df_stroke.head()"
      ]
    },
    {
      "cell_type": "code",
      "execution_count": null,
      "metadata": {
        "id": "JWMXw5ne_LM-",
        "outputId": "4b907117-f510-4b12-c2cb-08c9039308db"
      },
      "outputs": [
        {
          "name": "stdout",
          "output_type": "stream",
          "text": [
            "<class 'pandas.core.frame.DataFrame'>\n",
            "RangeIndex: 5110 entries, 0 to 5109\n",
            "Data columns (total 12 columns):\n",
            " #   Column             Non-Null Count  Dtype  \n",
            "---  ------             --------------  -----  \n",
            " 0   id                 5110 non-null   int64  \n",
            " 1   gender             5110 non-null   object \n",
            " 2   age                5110 non-null   float64\n",
            " 3   hypertension       5110 non-null   int64  \n",
            " 4   heart_disease      5110 non-null   int64  \n",
            " 5   ever_married       5110 non-null   object \n",
            " 6   work_type          5110 non-null   object \n",
            " 7   Residence_type     5110 non-null   object \n",
            " 8   avg_glucose_level  5110 non-null   float64\n",
            " 9   bmi                4909 non-null   float64\n",
            " 10  smoking_status     5110 non-null   object \n",
            " 11  stroke             5110 non-null   int64  \n",
            "dtypes: float64(3), int64(4), object(5)\n",
            "memory usage: 479.2+ KB\n"
          ]
        }
      ],
      "source": [
        "df_stroke.info()"
      ]
    },
    {
      "cell_type": "code",
      "execution_count": null,
      "metadata": {
        "id": "6qPERIox_MN-",
        "outputId": "7e348a2e-28dd-4b91-c589-0389f09b046c"
      },
      "outputs": [
        {
          "data": {
            "text/html": [
              "<div>\n",
              "<style scoped>\n",
              "    .dataframe tbody tr th:only-of-type {\n",
              "        vertical-align: middle;\n",
              "    }\n",
              "\n",
              "    .dataframe tbody tr th {\n",
              "        vertical-align: top;\n",
              "    }\n",
              "\n",
              "    .dataframe thead th {\n",
              "        text-align: right;\n",
              "    }\n",
              "</style>\n",
              "<table border=\"1\" class=\"dataframe\">\n",
              "  <thead>\n",
              "    <tr style=\"text-align: right;\">\n",
              "      <th></th>\n",
              "      <th>id</th>\n",
              "      <th>gender</th>\n",
              "      <th>age</th>\n",
              "      <th>hypertension</th>\n",
              "      <th>heart_disease</th>\n",
              "      <th>ever_married</th>\n",
              "      <th>work_type</th>\n",
              "      <th>Residence_type</th>\n",
              "      <th>avg_glucose_level</th>\n",
              "      <th>bmi</th>\n",
              "      <th>smoking_status</th>\n",
              "      <th>stroke</th>\n",
              "    </tr>\n",
              "  </thead>\n",
              "  <tbody>\n",
              "    <tr>\n",
              "      <th>0</th>\n",
              "      <td>9046</td>\n",
              "      <td>Male</td>\n",
              "      <td>67.0</td>\n",
              "      <td>0</td>\n",
              "      <td>1</td>\n",
              "      <td>Yes</td>\n",
              "      <td>Private</td>\n",
              "      <td>Urban</td>\n",
              "      <td>228.69</td>\n",
              "      <td>36.6</td>\n",
              "      <td>formerly smoked</td>\n",
              "      <td>1</td>\n",
              "    </tr>\n",
              "    <tr>\n",
              "      <th>2</th>\n",
              "      <td>31112</td>\n",
              "      <td>Male</td>\n",
              "      <td>80.0</td>\n",
              "      <td>0</td>\n",
              "      <td>1</td>\n",
              "      <td>Yes</td>\n",
              "      <td>Private</td>\n",
              "      <td>Rural</td>\n",
              "      <td>105.92</td>\n",
              "      <td>32.5</td>\n",
              "      <td>never smoked</td>\n",
              "      <td>1</td>\n",
              "    </tr>\n",
              "    <tr>\n",
              "      <th>3</th>\n",
              "      <td>60182</td>\n",
              "      <td>Female</td>\n",
              "      <td>49.0</td>\n",
              "      <td>0</td>\n",
              "      <td>0</td>\n",
              "      <td>Yes</td>\n",
              "      <td>Private</td>\n",
              "      <td>Urban</td>\n",
              "      <td>171.23</td>\n",
              "      <td>34.4</td>\n",
              "      <td>smokes</td>\n",
              "      <td>1</td>\n",
              "    </tr>\n",
              "    <tr>\n",
              "      <th>4</th>\n",
              "      <td>1665</td>\n",
              "      <td>Female</td>\n",
              "      <td>79.0</td>\n",
              "      <td>1</td>\n",
              "      <td>0</td>\n",
              "      <td>Yes</td>\n",
              "      <td>Self-employed</td>\n",
              "      <td>Rural</td>\n",
              "      <td>174.12</td>\n",
              "      <td>24.0</td>\n",
              "      <td>never smoked</td>\n",
              "      <td>1</td>\n",
              "    </tr>\n",
              "    <tr>\n",
              "      <th>5</th>\n",
              "      <td>56669</td>\n",
              "      <td>Male</td>\n",
              "      <td>81.0</td>\n",
              "      <td>0</td>\n",
              "      <td>0</td>\n",
              "      <td>Yes</td>\n",
              "      <td>Private</td>\n",
              "      <td>Urban</td>\n",
              "      <td>186.21</td>\n",
              "      <td>29.0</td>\n",
              "      <td>formerly smoked</td>\n",
              "      <td>1</td>\n",
              "    </tr>\n",
              "  </tbody>\n",
              "</table>\n",
              "</div>"
            ],
            "text/plain": [
              "      id  gender   age  hypertension  heart_disease ever_married  \\\n",
              "0   9046    Male  67.0             0              1          Yes   \n",
              "2  31112    Male  80.0             0              1          Yes   \n",
              "3  60182  Female  49.0             0              0          Yes   \n",
              "4   1665  Female  79.0             1              0          Yes   \n",
              "5  56669    Male  81.0             0              0          Yes   \n",
              "\n",
              "       work_type Residence_type  avg_glucose_level   bmi   smoking_status  \\\n",
              "0        Private          Urban             228.69  36.6  formerly smoked   \n",
              "2        Private          Rural             105.92  32.5     never smoked   \n",
              "3        Private          Urban             171.23  34.4           smokes   \n",
              "4  Self-employed          Rural             174.12  24.0     never smoked   \n",
              "5        Private          Urban             186.21  29.0  formerly smoked   \n",
              "\n",
              "   stroke  \n",
              "0       1  \n",
              "2       1  \n",
              "3       1  \n",
              "4       1  \n",
              "5       1  "
            ]
          },
          "execution_count": 8,
          "metadata": {},
          "output_type": "execute_result"
        }
      ],
      "source": [
        "df_stroke2 = df_stroke.dropna()\n",
        "df_stroke2.head()"
      ]
    },
    {
      "cell_type": "code",
      "execution_count": null,
      "metadata": {
        "id": "HsWhFDHw_fuW",
        "outputId": "07a20374-4f0f-42d6-84cc-2cb708bc109e"
      },
      "outputs": [
        {
          "name": "stdout",
          "output_type": "stream",
          "text": [
            "<class 'pandas.core.frame.DataFrame'>\n",
            "Int64Index: 4909 entries, 0 to 5109\n",
            "Data columns (total 12 columns):\n",
            " #   Column             Non-Null Count  Dtype  \n",
            "---  ------             --------------  -----  \n",
            " 0   id                 4909 non-null   int64  \n",
            " 1   gender             4909 non-null   object \n",
            " 2   age                4909 non-null   float64\n",
            " 3   hypertension       4909 non-null   int64  \n",
            " 4   heart_disease      4909 non-null   int64  \n",
            " 5   ever_married       4909 non-null   object \n",
            " 6   work_type          4909 non-null   object \n",
            " 7   Residence_type     4909 non-null   object \n",
            " 8   avg_glucose_level  4909 non-null   float64\n",
            " 9   bmi                4909 non-null   float64\n",
            " 10  smoking_status     4909 non-null   object \n",
            " 11  stroke             4909 non-null   int64  \n",
            "dtypes: float64(3), int64(4), object(5)\n",
            "memory usage: 498.6+ KB\n"
          ]
        }
      ],
      "source": [
        "df_stroke2.info()"
      ]
    },
    {
      "cell_type": "markdown",
      "metadata": {
        "id": "OZNdG7bO_o_e"
      },
      "source": [
        "## Case 1 - Confidence Interval untuk rata-rata umur pasien yang memiliki stroke\n",
        "- CI rata-rata\n",
        "- untuk umur pasien\n",
        "- khusus pasien yang punya stroke\n",
        "\n",
        "dari dataset kita, kita filter dulu khusus untuk pasien yang punya stroke.\n",
        "\n",
        "setelah itu, kita ambil data kolom umur saja.\n",
        "\n",
        "dari sana baru kita cari rata-rata, standard deviation, jumlah_data, untuk dapat best_estimate dan margin_of_error, baru bisa dapat CI rata-rata."
      ]
    },
    {
      "cell_type": "code",
      "execution_count": null,
      "metadata": {
        "id": "GuuzXJ2S_hqP",
        "outputId": "61981993-86f4-4abb-ee7b-33fdc079b36b"
      },
      "outputs": [
        {
          "name": "stdout",
          "output_type": "stream",
          "text": [
            "<class 'pandas.core.frame.DataFrame'>\n",
            "Int64Index: 209 entries, 0 to 248\n",
            "Data columns (total 12 columns):\n",
            " #   Column             Non-Null Count  Dtype  \n",
            "---  ------             --------------  -----  \n",
            " 0   id                 209 non-null    int64  \n",
            " 1   gender             209 non-null    object \n",
            " 2   age                209 non-null    float64\n",
            " 3   hypertension       209 non-null    int64  \n",
            " 4   heart_disease      209 non-null    int64  \n",
            " 5   ever_married       209 non-null    object \n",
            " 6   work_type          209 non-null    object \n",
            " 7   Residence_type     209 non-null    object \n",
            " 8   avg_glucose_level  209 non-null    float64\n",
            " 9   bmi                209 non-null    float64\n",
            " 10  smoking_status     209 non-null    object \n",
            " 11  stroke             209 non-null    int64  \n",
            "dtypes: float64(3), int64(4), object(5)\n",
            "memory usage: 21.2+ KB\n"
          ]
        }
      ],
      "source": [
        "# filter pasien stroke\n",
        "\n",
        "df_stroke_yes = df_stroke2[df_stroke2['stroke'] == 1]\n",
        "df_stroke_yes.info()"
      ]
    },
    {
      "cell_type": "code",
      "execution_count": null,
      "metadata": {
        "id": "YKF5KvTiATim",
        "outputId": "35bbeb9d-5ffa-4093-94af-e65a648c60c6"
      },
      "outputs": [
        {
          "name": "stdout",
          "output_type": "stream",
          "text": [
            "66.03138964607892 69.39444767449525\n"
          ]
        }
      ],
      "source": [
        "n = len(df_stroke_yes)    # jumlah pasien stroke\n",
        "\n",
        "mean = df_stroke_yes['age'].mean()    # rata rata umur\n",
        "\n",
        "z = 1.96     # saat confidence 95% maka z adalah 1.96\n",
        "\n",
        "sd = df_stroke_yes['age'].std()   # standard deviation umur\n",
        "\n",
        "\n",
        "\n",
        "\n",
        "be = mean\n",
        "se = sd / np.sqrt(n)\n",
        "moe = z * se\n",
        "\n",
        "\n",
        "print(be - moe, be + moe)"
      ]
    },
    {
      "cell_type": "markdown",
      "metadata": {
        "id": "HelgxK7rjW0Z"
      },
      "source": [
        "rata-rata umur pasien stroke ada di antara 66 - 69 tahun"
      ]
    },
    {
      "cell_type": "markdown",
      "metadata": {
        "id": "vUOOWUrfjW0Z"
      },
      "source": [
        "## Latihan Pendek\n",
        "coba cari Confidence Interval untuk rata-rata BMI pasien stroke"
      ]
    },
    {
      "cell_type": "code",
      "execution_count": null,
      "metadata": {
        "id": "WRfBMvoQAmw_",
        "outputId": "176eedf9-b4af-4572-ae24-f6dc1bdf80ed"
      },
      "outputs": [
        {
          "name": "stdout",
          "output_type": "stream",
          "text": [
            "29.613169885063872 31.32941384699355\n"
          ]
        }
      ],
      "source": [
        "n = len(df_stroke_yes)    # jumlah pasien stroke\n",
        "\n",
        "mean = df_stroke_yes['bmi'].mean()    # rata rata bmi\n",
        "\n",
        "z = 1.96     # saat confidence 95% maka z adalah 1.96\n",
        "\n",
        "sd = df_stroke_yes['bmi'].std()   # standard deviation bmi\n",
        "\n",
        "\n",
        "\n",
        "\n",
        "be = mean\n",
        "se = sd / np.sqrt(n)\n",
        "moe = z * se\n",
        "\n",
        "\n",
        "print(be - moe, be + moe)"
      ]
    },
    {
      "cell_type": "markdown",
      "metadata": {
        "id": "tkFcyEpBjW0a"
      },
      "source": [
        "rata rata BMI pasien stroke ada di antara 29.6-31.3"
      ]
    },
    {
      "cell_type": "markdown",
      "metadata": {
        "id": "0NVwZdF8jW0a"
      },
      "source": [
        "## CI untuk proporsi\n",
        "contoh: berapa % pasien umurnya 60 keatas memiliki stroke?\n",
        "\n",
        "- kita filter dulu datanya menjadi khusus pasien umur 60 keatas\n",
        "- lalu kita hitung p, persentase pasien yang memiliki stroke\n",
        "- kita hitung juga n, jumlah pasien umur 60 keatas"
      ]
    },
    {
      "cell_type": "code",
      "execution_count": null,
      "metadata": {
        "id": "OzvT3_AEjW0b",
        "outputId": "c2eff5a7-e391-4e8c-8773-0310745a1f70"
      },
      "outputs": [
        {
          "data": {
            "text/html": [
              "<div>\n",
              "<style scoped>\n",
              "    .dataframe tbody tr th:only-of-type {\n",
              "        vertical-align: middle;\n",
              "    }\n",
              "\n",
              "    .dataframe tbody tr th {\n",
              "        vertical-align: top;\n",
              "    }\n",
              "\n",
              "    .dataframe thead th {\n",
              "        text-align: right;\n",
              "    }\n",
              "</style>\n",
              "<table border=\"1\" class=\"dataframe\">\n",
              "  <thead>\n",
              "    <tr style=\"text-align: right;\">\n",
              "      <th></th>\n",
              "      <th>id</th>\n",
              "      <th>gender</th>\n",
              "      <th>age</th>\n",
              "      <th>hypertension</th>\n",
              "      <th>heart_disease</th>\n",
              "      <th>ever_married</th>\n",
              "      <th>work_type</th>\n",
              "      <th>Residence_type</th>\n",
              "      <th>avg_glucose_level</th>\n",
              "      <th>bmi</th>\n",
              "      <th>smoking_status</th>\n",
              "      <th>stroke</th>\n",
              "    </tr>\n",
              "  </thead>\n",
              "  <tbody>\n",
              "    <tr>\n",
              "      <th>0</th>\n",
              "      <td>9046</td>\n",
              "      <td>Male</td>\n",
              "      <td>67.0</td>\n",
              "      <td>0</td>\n",
              "      <td>1</td>\n",
              "      <td>Yes</td>\n",
              "      <td>Private</td>\n",
              "      <td>Urban</td>\n",
              "      <td>228.69</td>\n",
              "      <td>36.6</td>\n",
              "      <td>formerly smoked</td>\n",
              "      <td>1</td>\n",
              "    </tr>\n",
              "    <tr>\n",
              "      <th>2</th>\n",
              "      <td>31112</td>\n",
              "      <td>Male</td>\n",
              "      <td>80.0</td>\n",
              "      <td>0</td>\n",
              "      <td>1</td>\n",
              "      <td>Yes</td>\n",
              "      <td>Private</td>\n",
              "      <td>Rural</td>\n",
              "      <td>105.92</td>\n",
              "      <td>32.5</td>\n",
              "      <td>never smoked</td>\n",
              "      <td>1</td>\n",
              "    </tr>\n",
              "    <tr>\n",
              "      <th>4</th>\n",
              "      <td>1665</td>\n",
              "      <td>Female</td>\n",
              "      <td>79.0</td>\n",
              "      <td>1</td>\n",
              "      <td>0</td>\n",
              "      <td>Yes</td>\n",
              "      <td>Self-employed</td>\n",
              "      <td>Rural</td>\n",
              "      <td>174.12</td>\n",
              "      <td>24.0</td>\n",
              "      <td>never smoked</td>\n",
              "      <td>1</td>\n",
              "    </tr>\n",
              "    <tr>\n",
              "      <th>5</th>\n",
              "      <td>56669</td>\n",
              "      <td>Male</td>\n",
              "      <td>81.0</td>\n",
              "      <td>0</td>\n",
              "      <td>0</td>\n",
              "      <td>Yes</td>\n",
              "      <td>Private</td>\n",
              "      <td>Urban</td>\n",
              "      <td>186.21</td>\n",
              "      <td>29.0</td>\n",
              "      <td>formerly smoked</td>\n",
              "      <td>1</td>\n",
              "    </tr>\n",
              "    <tr>\n",
              "      <th>6</th>\n",
              "      <td>53882</td>\n",
              "      <td>Male</td>\n",
              "      <td>74.0</td>\n",
              "      <td>1</td>\n",
              "      <td>1</td>\n",
              "      <td>Yes</td>\n",
              "      <td>Private</td>\n",
              "      <td>Rural</td>\n",
              "      <td>70.09</td>\n",
              "      <td>27.4</td>\n",
              "      <td>never smoked</td>\n",
              "      <td>1</td>\n",
              "    </tr>\n",
              "  </tbody>\n",
              "</table>\n",
              "</div>"
            ],
            "text/plain": [
              "      id  gender   age  hypertension  heart_disease ever_married  \\\n",
              "0   9046    Male  67.0             0              1          Yes   \n",
              "2  31112    Male  80.0             0              1          Yes   \n",
              "4   1665  Female  79.0             1              0          Yes   \n",
              "5  56669    Male  81.0             0              0          Yes   \n",
              "6  53882    Male  74.0             1              1          Yes   \n",
              "\n",
              "       work_type Residence_type  avg_glucose_level   bmi   smoking_status  \\\n",
              "0        Private          Urban             228.69  36.6  formerly smoked   \n",
              "2        Private          Rural             105.92  32.5     never smoked   \n",
              "4  Self-employed          Rural             174.12  24.0     never smoked   \n",
              "5        Private          Urban             186.21  29.0  formerly smoked   \n",
              "6        Private          Rural              70.09  27.4     never smoked   \n",
              "\n",
              "   stroke  \n",
              "0       1  \n",
              "2       1  \n",
              "4       1  \n",
              "5       1  \n",
              "6       1  "
            ]
          },
          "execution_count": 14,
          "metadata": {},
          "output_type": "execute_result"
        }
      ],
      "source": [
        "df_lansia = df_stroke2[df_stroke2['age'] >= 60]\n",
        "df_lansia.head()"
      ]
    },
    {
      "cell_type": "code",
      "execution_count": null,
      "metadata": {
        "id": "UOYfjpm8jW0b",
        "outputId": "e3b642b5-461c-48be-8e24-144cebe2d459"
      },
      "outputs": [
        {
          "name": "stdout",
          "output_type": "stream",
          "text": [
            "1285\n"
          ]
        }
      ],
      "source": [
        "n = len(df_lansia)\n",
        "print(n)"
      ]
    },
    {
      "cell_type": "markdown",
      "metadata": {
        "id": "rxycfbBHjW0c"
      },
      "source": [
        "ada 1285 pasien umur 60 keatas"
      ]
    },
    {
      "cell_type": "code",
      "execution_count": null,
      "metadata": {
        "id": "zNif34sIjW0c",
        "outputId": "e7c322a0-e5da-4aa7-9fdd-7d39a599b5d5"
      },
      "outputs": [
        {
          "name": "stdout",
          "output_type": "stream",
          "text": [
            "150\n"
          ]
        }
      ],
      "source": [
        "df_punya_stroke = df_lansia[df_lansia['stroke'] == 1]\n",
        "n_punya_stroke = len(df_punya_stroke)\n",
        "print(n_punya_stroke)"
      ]
    },
    {
      "cell_type": "markdown",
      "metadata": {
        "id": "Cl3CaXJwjW0c"
      },
      "source": [
        "ada 150 dari 1285 pasien umur 60 keatas yang memiliki stroke"
      ]
    },
    {
      "cell_type": "code",
      "execution_count": null,
      "metadata": {
        "id": "RUZB0knCjW0d",
        "outputId": "78e485f2-4d94-4ff7-c2fe-fe0b192c0dae"
      },
      "outputs": [
        {
          "name": "stdout",
          "output_type": "stream",
          "text": [
            "0.11673151750972763\n"
          ]
        }
      ],
      "source": [
        "p = n_punya_stroke / n\n",
        "print(p)"
      ]
    },
    {
      "cell_type": "code",
      "execution_count": null,
      "metadata": {
        "id": "Ckz0n3GejW0d",
        "outputId": "4014a784-81ca-4723-bcf8-3824beca1100"
      },
      "outputs": [
        {
          "name": "stdout",
          "output_type": "stream",
          "text": [
            "0.09917473455768705 0.1342883004617682\n"
          ]
        }
      ],
      "source": [
        "z = 1.96 # tidak berubah, 95% confidence, maka z = 1.96\n",
        "\n",
        "be = p\n",
        "se = np.sqrt(p * (1-p) / n)\n",
        "moe = z * se\n",
        "\n",
        "print(be - moe, be + moe)"
      ]
    },
    {
      "cell_type": "markdown",
      "metadata": {
        "id": "u5nxvvdqjW0d"
      },
      "source": [
        "9.9 - 13.4% pasien umur 60 keatas menderita stroke"
      ]
    },
    {
      "cell_type": "markdown",
      "metadata": {
        "id": "EjxdV3y_jW0e"
      },
      "source": [
        "# Hypothesis Testing\n",
        "teknik untuk membuat statement pembanding\n",
        "- pembanding rata-rata\n",
        "- pembanding proporsi\n",
        "\n",
        "\"dulu lebih banyak orang yang suka x daripada sekarang\" -- membandingkan proporsi dulu dan sekarang\n",
        "\n",
        "\"rata-rata berat badan pria lebih berat daripada berat badan wanita\" -- membandingkan rata-rata pria dan wanita\n",
        "\n",
        "untuk membuat statement seperti ini, kita perlu buat dulu hipotesanya:\n",
        "- H0, null hypothesis, asumsi awal\n",
        "- H1, alternate hypotesis, asumsi yang mau kita buat, untuk membantu statement kita\n",
        "\n",
        "1. kita akan buat dulu H1 alternate hypothesis berdasarkan statement asumsi BARU kita\n",
        "2. lalu dari sana kita buat statement berkebalikan H0 null hypothesis\n",
        "3. lalu kita akan hitung p-value (menggunakan rumus statistik)\n",
        "4. jika p-value ada <= alpha (alpha adalah margin of error 5% atau 0.05), maka kita bisa REJECT null hypothesis, dan kita bisa buat asumsi dimana H1 alternate hypothesis kita benar. dengan tingkat keyakinan 95%.\n",
        "5. jika p-value > alpha, maka kita gagal untuk REJECT null hypothesis. kita tidak bisa membuat asumsi baru. tidak ada perbedaan yang signifikan dari hal yang kita bandingkan."
      ]
    },
    {
      "cell_type": "markdown",
      "metadata": {
        "id": "Ccd3N_hnjW0e"
      },
      "source": [
        "# One Population Proportion\n",
        "mencari apakah ada perbedaan proporsi dari populasi yang sama, dulu dan sekarang.\n",
        "\n",
        "dulu: 52% pecaya x\n",
        "\n",
        "sekarang: 56% percaya x, dari hasil survey 1018 orang\n",
        "\n",
        "statement kita: sekarang lebih banyak yang percaya x\n",
        "\n",
        "``` python\n",
        "# alternate hypothesis bilang sekarang proporsi lebih besar dari dulu\n",
        "H1: p > 0.52\n",
        "\n",
        "# null hypothesis bilang tidak ada perbedaan dari dulu di 52%\n",
        "H0: p = 0.52\n",
        "```\n",
        "\n",
        "kita cari p-value, dengan bantuan proportions_ztest() dari statsmodels\n",
        "\n",
        "```python\n",
        "import statsmodels.api as sm\n",
        "\n",
        "# function yang mau kita gunakan dari statsmodels\n",
        "sm.stats.proportions_ztest()\n",
        "```\n",
        "\n",
        "kalau sudah, kita bandingkan p-value dengan alpha (error margin) 0.05\n",
        "\n",
        "jika p-value <= alpha, maka kita REJECT null hypothesis\n",
        "\n",
        "jika p-value > alpha, maka kita FAIL to REJECT null hypothesis"
      ]
    },
    {
      "cell_type": "code",
      "execution_count": null,
      "metadata": {
        "id": "Ow5C9HyLjW0e",
        "outputId": "bad81a57-6902-41fc-fdcb-b4ee7a1ef4b0"
      },
      "outputs": [
        {
          "name": "stdout",
          "output_type": "stream",
          "text": [
            "0.005069273865860533\n"
          ]
        }
      ],
      "source": [
        "# total orang yang di survey\n",
        "n = 1018\n",
        "\n",
        "# proporsi yang percaya x sekarang\n",
        "phat = 0.56\n",
        "\n",
        "# proporsi yang percaya x dulu\n",
        "pnull = 0.52\n",
        "\n",
        "# kita hitung pvalue nya\n",
        "zstat, pvalue = sm.stats.proportions_ztest(phat*n, n, pnull, alternative='larger')\n",
        "\n",
        "print(pvalue)"
      ]
    },
    {
      "cell_type": "code",
      "execution_count": null,
      "metadata": {
        "id": "gQGyyE6WjW0e",
        "outputId": "0181fbc4-24c7-4613-ee44-b978020b6fa6"
      },
      "outputs": [
        {
          "name": "stdout",
          "output_type": "stream",
          "text": [
            "REJECT null hypothesis\n"
          ]
        }
      ],
      "source": [
        "alpha = 0.05\n",
        "if (pvalue <= alpha):\n",
        "    print(\"REJECT null hypothesis\")\n",
        "else:\n",
        "    print(\"FAIL to REJECT null hypothesis\")"
      ]
    },
    {
      "cell_type": "markdown",
      "metadata": {
        "id": "ofBxXXi2jW0f"
      },
      "source": [
        "proporsi yang percaya x sekarang lebih banyak daripada dulu"
      ]
    },
    {
      "cell_type": "markdown",
      "metadata": {
        "id": "r7JS1fnhjW0f"
      },
      "source": [
        "## Difference in Population Means\n",
        "Perbedaan antara rata-rata dua populasi\n",
        "\n",
        "studi kasus: kita bisa gunakan dataset stroke kita tadi untuk membandingkan rata-rata bmi pria dan wanita\n",
        "\n",
        "kita mau buat statement kalau rata-rata bmi pria dan wanita itu berbeda. bisa lebih kecil, bisa lebih besar, tapi tidak sama.\n",
        "\n",
        "H1: bmi_pria != bmi_wanita   \n",
        "H0: bmi_pria == bmi_wanita\n",
        "\n",
        "dari dataset kita akan perlu value:\n",
        "- berapa wanita, n_wanita\n",
        "- rata-rata bmi wanita, mean_wanita\n",
        "- standard deviation bmi wanita, sd_wanita\n",
        "- berapa pria, n_pria\n",
        "- rata-rata bmi pria, mean_pria\n",
        "- standard deviation bmi pria, sd_pria\n",
        "\n",
        "kita akan gunakan function ztest dari package statsmodels untuk menghitung p-value untuk statement seperti ini\n",
        "\n",
        "```python\n",
        "import statsmodels.api as sm\n",
        "\n",
        "sm.stats.ztest()\n",
        "```"
      ]
    },
    {
      "cell_type": "code",
      "execution_count": null,
      "metadata": {
        "id": "Wvek0gewjW0f",
        "outputId": "17c7e5fc-9811-47fb-ee73-fdfba90e2e1c"
      },
      "outputs": [
        {
          "data": {
            "text/html": [
              "<div>\n",
              "<style scoped>\n",
              "    .dataframe tbody tr th:only-of-type {\n",
              "        vertical-align: middle;\n",
              "    }\n",
              "\n",
              "    .dataframe tbody tr th {\n",
              "        vertical-align: top;\n",
              "    }\n",
              "\n",
              "    .dataframe thead th {\n",
              "        text-align: right;\n",
              "    }\n",
              "</style>\n",
              "<table border=\"1\" class=\"dataframe\">\n",
              "  <thead>\n",
              "    <tr style=\"text-align: right;\">\n",
              "      <th></th>\n",
              "      <th>id</th>\n",
              "      <th>gender</th>\n",
              "      <th>age</th>\n",
              "      <th>hypertension</th>\n",
              "      <th>heart_disease</th>\n",
              "      <th>ever_married</th>\n",
              "      <th>work_type</th>\n",
              "      <th>Residence_type</th>\n",
              "      <th>avg_glucose_level</th>\n",
              "      <th>bmi</th>\n",
              "      <th>smoking_status</th>\n",
              "      <th>stroke</th>\n",
              "    </tr>\n",
              "  </thead>\n",
              "  <tbody>\n",
              "    <tr>\n",
              "      <th>0</th>\n",
              "      <td>9046</td>\n",
              "      <td>Male</td>\n",
              "      <td>67.0</td>\n",
              "      <td>0</td>\n",
              "      <td>1</td>\n",
              "      <td>Yes</td>\n",
              "      <td>Private</td>\n",
              "      <td>Urban</td>\n",
              "      <td>228.69</td>\n",
              "      <td>36.6</td>\n",
              "      <td>formerly smoked</td>\n",
              "      <td>1</td>\n",
              "    </tr>\n",
              "    <tr>\n",
              "      <th>2</th>\n",
              "      <td>31112</td>\n",
              "      <td>Male</td>\n",
              "      <td>80.0</td>\n",
              "      <td>0</td>\n",
              "      <td>1</td>\n",
              "      <td>Yes</td>\n",
              "      <td>Private</td>\n",
              "      <td>Rural</td>\n",
              "      <td>105.92</td>\n",
              "      <td>32.5</td>\n",
              "      <td>never smoked</td>\n",
              "      <td>1</td>\n",
              "    </tr>\n",
              "    <tr>\n",
              "      <th>3</th>\n",
              "      <td>60182</td>\n",
              "      <td>Female</td>\n",
              "      <td>49.0</td>\n",
              "      <td>0</td>\n",
              "      <td>0</td>\n",
              "      <td>Yes</td>\n",
              "      <td>Private</td>\n",
              "      <td>Urban</td>\n",
              "      <td>171.23</td>\n",
              "      <td>34.4</td>\n",
              "      <td>smokes</td>\n",
              "      <td>1</td>\n",
              "    </tr>\n",
              "    <tr>\n",
              "      <th>4</th>\n",
              "      <td>1665</td>\n",
              "      <td>Female</td>\n",
              "      <td>79.0</td>\n",
              "      <td>1</td>\n",
              "      <td>0</td>\n",
              "      <td>Yes</td>\n",
              "      <td>Self-employed</td>\n",
              "      <td>Rural</td>\n",
              "      <td>174.12</td>\n",
              "      <td>24.0</td>\n",
              "      <td>never smoked</td>\n",
              "      <td>1</td>\n",
              "    </tr>\n",
              "    <tr>\n",
              "      <th>5</th>\n",
              "      <td>56669</td>\n",
              "      <td>Male</td>\n",
              "      <td>81.0</td>\n",
              "      <td>0</td>\n",
              "      <td>0</td>\n",
              "      <td>Yes</td>\n",
              "      <td>Private</td>\n",
              "      <td>Urban</td>\n",
              "      <td>186.21</td>\n",
              "      <td>29.0</td>\n",
              "      <td>formerly smoked</td>\n",
              "      <td>1</td>\n",
              "    </tr>\n",
              "  </tbody>\n",
              "</table>\n",
              "</div>"
            ],
            "text/plain": [
              "      id  gender   age  hypertension  heart_disease ever_married  \\\n",
              "0   9046    Male  67.0             0              1          Yes   \n",
              "2  31112    Male  80.0             0              1          Yes   \n",
              "3  60182  Female  49.0             0              0          Yes   \n",
              "4   1665  Female  79.0             1              0          Yes   \n",
              "5  56669    Male  81.0             0              0          Yes   \n",
              "\n",
              "       work_type Residence_type  avg_glucose_level   bmi   smoking_status  \\\n",
              "0        Private          Urban             228.69  36.6  formerly smoked   \n",
              "2        Private          Rural             105.92  32.5     never smoked   \n",
              "3        Private          Urban             171.23  34.4           smokes   \n",
              "4  Self-employed          Rural             174.12  24.0     never smoked   \n",
              "5        Private          Urban             186.21  29.0  formerly smoked   \n",
              "\n",
              "   stroke  \n",
              "0       1  \n",
              "2       1  \n",
              "3       1  \n",
              "4       1  \n",
              "5       1  "
            ]
          },
          "execution_count": 34,
          "metadata": {},
          "output_type": "execute_result"
        }
      ],
      "source": [
        "df_stroke2.head()"
      ]
    },
    {
      "cell_type": "code",
      "execution_count": null,
      "metadata": {
        "id": "GThN6qT4jW0f",
        "outputId": "0bfd1231-8da6-4506-daf1-8d3c21acdae9"
      },
      "outputs": [
        {
          "name": "stdout",
          "output_type": "stream",
          "text": [
            "2897 29.065757680359038 8.110782996454192\n",
            "2011 28.647936350074616 7.464493029469011\n"
          ]
        }
      ],
      "source": [
        "df_pria = df_stroke2[df_stroke2['gender'] == 'Male']\n",
        "df_wanita = df_stroke2[df_stroke2['gender'] == 'Female']\n",
        "\n",
        "n_wanita = len(df_wanita)\n",
        "mean_wanita = df_wanita['bmi'].mean()\n",
        "sd_wanita = df_wanita['bmi'].std()\n",
        "\n",
        "n_pria = len(df_pria)\n",
        "mean_pria = df_pria['bmi'].mean()\n",
        "sd_pria = df_pria['bmi'].std()\n",
        "\n",
        "print(n_wanita, mean_wanita, sd_wanita)\n",
        "print(n_pria, mean_pria, sd_pria)"
      ]
    },
    {
      "cell_type": "code",
      "execution_count": null,
      "metadata": {
        "id": "8T-ABx_0jW0h",
        "outputId": "e9ea904a-fd4c-4ba7-9f43-fcd812df45ca"
      },
      "outputs": [
        {
          "name": "stdout",
          "output_type": "stream",
          "text": [
            "0.06676993495253476\n"
          ]
        }
      ],
      "source": [
        "zstat, pvalue = sm.stats.ztest(df_pria['bmi'], df_wanita['bmi'], alternative='two-sided')\n",
        "\n",
        "print(pvalue)"
      ]
    },
    {
      "cell_type": "code",
      "execution_count": null,
      "metadata": {
        "id": "0YO2POABjW0h",
        "outputId": "bfe2f287-8790-496c-f82b-457a6a07cebe"
      },
      "outputs": [
        {
          "name": "stdout",
          "output_type": "stream",
          "text": [
            "FAIL to REJECT null hypothesis\n"
          ]
        }
      ],
      "source": [
        "alpha = 0.05\n",
        "if (pvalue <= alpha):\n",
        "    print(\"REJECT null hypothesis\")\n",
        "else:\n",
        "    print(\"FAIL to REJECT null hypothesis\")"
      ]
    },
    {
      "cell_type": "markdown",
      "metadata": {
        "id": "lP1xzintjW0i"
      },
      "source": [
        "dari dataset yang kita gunakan, tidak ada perbedaan yang signifikan antara rata-rata bmi pria dan wanita"
      ]
    },
    {
      "cell_type": "code",
      "execution_count": null,
      "metadata": {
        "id": "wug_iBfmjW0m"
      },
      "outputs": [],
      "source": []
    }
  ],
  "metadata": {
    "colab": {
      "provenance": []
    },
    "kernelspec": {
      "display_name": "Python 3",
      "name": "python3"
    },
    "language_info": {
      "codemirror_mode": {
        "name": "ipython",
        "version": 3
      },
      "file_extension": ".py",
      "mimetype": "text/x-python",
      "name": "python",
      "nbconvert_exporter": "python",
      "pygments_lexer": "ipython3",
      "version": "3.9.13"
    }
  },
  "nbformat": 4,
  "nbformat_minor": 0
}