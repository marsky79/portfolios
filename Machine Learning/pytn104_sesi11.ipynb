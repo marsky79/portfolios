{
 "cells": [
  {
   "cell_type": "markdown",
   "metadata": {
    "id": "PF5mKzyvaSGL"
   },
   "source": [
    "# Machine Learning\n",
    "membuat program yang lebih otomatis daripada menulis code baris per baris. kita gunakan algoritma untuk bikin model\n",
    "\n",
    "Terminologi:\n",
    "- model - program hasil pelatihan sebuah machine learning algorithm, algoritma ML + dataset --> selesai latihan, jadilah model ML\n",
    "- fitur - bagian dari dataset yang kita gunakan sebagai \"input\" model ML\n",
    "- target - bagian dari dataset yang kita gunakan sebagai \"output\" model ML\n",
    "- dataset - data yang kita gunakan\n",
    "\n",
    "## Supervised\n",
    "tipe machine learning yang memiliki target. digunakan untuk membuat prediksi\n",
    "\n",
    "### Regression\n",
    "saat target berbentuk angka continuous\n",
    "\n",
    "### Classification\n",
    "saat target berbentuk discrete/ kategorikal\n",
    "\n",
    "## Unsupervised\n",
    "tipe machine learning yang BUKAN supervised, tidak ada target. Contohnya adalah Clustering dan Dimensionality Reduction\n",
    "\n",
    "\n",
    "Note:   \n",
    "Deep Learning: satu level diatas machine learning, lebih rumit dengan algoritmanya, dan lebih otomatis dibandingkan machine learning.\n"
   ]
  },
  {
   "cell_type": "markdown",
   "metadata": {
    "id": "bFV48w1_aSGO"
   },
   "source": [
    "# Regression\n",
    "kita akan pelajari algoritma Linear Regression dan Polynomial Regression untuk membuat model Machine Learning"
   ]
  },
  {
   "cell_type": "markdown",
   "metadata": {
    "id": "WedV9wcSaSGP"
   },
   "source": [
    "saat melatih sebuah model machine learning, kita perlu ikuti beberapa langkah berikut:\n",
    "1. koleksi data (kalau di riil, data pribadi perusahaan, atau buat survey sendiri, atau kumpulin data sendiri, ...) (kalau di kelas, utk latihan, kita ambil saja data dari kaggle)\n",
    "2. siapkan data, termasuk data cleaning, explore, perhatikan kira2 model seperti apa yang masuk akal, yang bisa dibuat, yang mau dibuat, dari data seperti ini\n",
    "3. train model, pilih algoritma ML yang mau digunakan, dan kita latih model ML dengan algoritma + dataset yang sudah kita siapkan\n",
    "4. evaluasi, apakah model bagus? akurat? underfit/overfit tidak? gunakan teknik teknik evaluasi untuk mengira-ngira modelnya bagus atau tidak\n",
    "5. tuning, kita ulang kembali step 1-4 bisa lompat2, untuk membuat model yang terbaik"
   ]
  },
  {
   "cell_type": "code",
   "execution_count": null,
   "metadata": {
    "id": "u7UkI3rZaSGP"
   },
   "outputs": [],
   "source": [
    "import pandas as pd\n",
    "import numpy as np\n",
    "\n",
    "import matplotlib.pyplot as plt\n",
    "\n",
    "from sklearn.linear_model import LinearRegression\n",
    "from sklearn.preprocessing import PolynomialFeatures\n",
    "from sklearn.model_selection import train_test_split"
   ]
  },
  {
   "cell_type": "markdown",
   "metadata": {
    "id": "X6NycJqgaSGQ"
   },
   "source": [
    "di contoh kali ini, kita gunakan data diabetes dari https://raw.githubusercontent.com/stefkwan-h8/dataset/main/diabetes.csv untuk membuat sebuah model regression.\n",
    "\n",
    "tujuannya adalah untuk prediksi BMI seseorang dari fitur:\n",
    "- glucose\n",
    "- bloodpressure\n",
    "- insulin\n",
    "- age\n",
    "\n",
    "jadi model kita akan menerima 4 input fitur diatas untuk memprediksi 1 target (BMI)"
   ]
  },
  {
   "cell_type": "code",
   "execution_count": null,
   "metadata": {
    "id": "9TFe8rJwaSGS",
    "outputId": "232cc7ad-e00f-4663-f489-e320e20edb2f"
   },
   "outputs": [
    {
     "data": {
      "text/html": [
       "<div>\n",
       "<style scoped>\n",
       "    .dataframe tbody tr th:only-of-type {\n",
       "        vertical-align: middle;\n",
       "    }\n",
       "\n",
       "    .dataframe tbody tr th {\n",
       "        vertical-align: top;\n",
       "    }\n",
       "\n",
       "    .dataframe thead th {\n",
       "        text-align: right;\n",
       "    }\n",
       "</style>\n",
       "<table border=\"1\" class=\"dataframe\">\n",
       "  <thead>\n",
       "    <tr style=\"text-align: right;\">\n",
       "      <th></th>\n",
       "      <th>Pregnancies</th>\n",
       "      <th>Glucose</th>\n",
       "      <th>BloodPressure</th>\n",
       "      <th>SkinThickness</th>\n",
       "      <th>Insulin</th>\n",
       "      <th>BMI</th>\n",
       "      <th>DiabetesPedigreeFunction</th>\n",
       "      <th>Age</th>\n",
       "      <th>Outcome</th>\n",
       "    </tr>\n",
       "  </thead>\n",
       "  <tbody>\n",
       "    <tr>\n",
       "      <th>0</th>\n",
       "      <td>6</td>\n",
       "      <td>148</td>\n",
       "      <td>72</td>\n",
       "      <td>35</td>\n",
       "      <td>0</td>\n",
       "      <td>33.6</td>\n",
       "      <td>0.627</td>\n",
       "      <td>50</td>\n",
       "      <td>1</td>\n",
       "    </tr>\n",
       "    <tr>\n",
       "      <th>1</th>\n",
       "      <td>1</td>\n",
       "      <td>85</td>\n",
       "      <td>66</td>\n",
       "      <td>29</td>\n",
       "      <td>0</td>\n",
       "      <td>26.6</td>\n",
       "      <td>0.351</td>\n",
       "      <td>31</td>\n",
       "      <td>0</td>\n",
       "    </tr>\n",
       "    <tr>\n",
       "      <th>2</th>\n",
       "      <td>8</td>\n",
       "      <td>183</td>\n",
       "      <td>64</td>\n",
       "      <td>0</td>\n",
       "      <td>0</td>\n",
       "      <td>23.3</td>\n",
       "      <td>0.672</td>\n",
       "      <td>32</td>\n",
       "      <td>1</td>\n",
       "    </tr>\n",
       "    <tr>\n",
       "      <th>3</th>\n",
       "      <td>1</td>\n",
       "      <td>89</td>\n",
       "      <td>66</td>\n",
       "      <td>23</td>\n",
       "      <td>94</td>\n",
       "      <td>28.1</td>\n",
       "      <td>0.167</td>\n",
       "      <td>21</td>\n",
       "      <td>0</td>\n",
       "    </tr>\n",
       "    <tr>\n",
       "      <th>4</th>\n",
       "      <td>0</td>\n",
       "      <td>137</td>\n",
       "      <td>40</td>\n",
       "      <td>35</td>\n",
       "      <td>168</td>\n",
       "      <td>43.1</td>\n",
       "      <td>2.288</td>\n",
       "      <td>33</td>\n",
       "      <td>1</td>\n",
       "    </tr>\n",
       "  </tbody>\n",
       "</table>\n",
       "</div>"
      ],
      "text/plain": [
       "   Pregnancies  Glucose  BloodPressure  SkinThickness  Insulin   BMI  \\\n",
       "0            6      148             72             35        0  33.6   \n",
       "1            1       85             66             29        0  26.6   \n",
       "2            8      183             64              0        0  23.3   \n",
       "3            1       89             66             23       94  28.1   \n",
       "4            0      137             40             35      168  43.1   \n",
       "\n",
       "   DiabetesPedigreeFunction  Age  Outcome  \n",
       "0                     0.627   50        1  \n",
       "1                     0.351   31        0  \n",
       "2                     0.672   32        1  \n",
       "3                     0.167   21        0  \n",
       "4                     2.288   33        1  "
      ]
     },
     "execution_count": 2,
     "metadata": {},
     "output_type": "execute_result"
    }
   ],
   "source": [
    "# 1. koleksi data\n",
    "df_diabetes = pd.read_csv(\"https://raw.githubusercontent.com/stefkwan-h8/dataset/main/diabetes.csv\")\n",
    "df_diabetes.head()"
   ]
  },
  {
   "cell_type": "code",
   "execution_count": null,
   "metadata": {
    "id": "RMDT7gR-aSGU"
   },
   "outputs": [],
   "source": [
    "df_diabetes_copy = df_diabetes.copy()"
   ]
  },
  {
   "cell_type": "code",
   "execution_count": null,
   "metadata": {
    "id": "Ei_HwJMXaSGU",
    "outputId": "48ee67a9-9972-4d07-b866-4774736ff8c3"
   },
   "outputs": [
    {
     "name": "stdout",
     "output_type": "stream",
     "text": [
      "<class 'pandas.core.frame.DataFrame'>\n",
      "RangeIndex: 768 entries, 0 to 767\n",
      "Data columns (total 9 columns):\n",
      " #   Column                    Non-Null Count  Dtype  \n",
      "---  ------                    --------------  -----  \n",
      " 0   Pregnancies               768 non-null    int64  \n",
      " 1   Glucose                   768 non-null    int64  \n",
      " 2   BloodPressure             768 non-null    int64  \n",
      " 3   SkinThickness             768 non-null    int64  \n",
      " 4   Insulin                   768 non-null    int64  \n",
      " 5   BMI                       768 non-null    float64\n",
      " 6   DiabetesPedigreeFunction  768 non-null    float64\n",
      " 7   Age                       768 non-null    int64  \n",
      " 8   Outcome                   768 non-null    int64  \n",
      "dtypes: float64(2), int64(7)\n",
      "memory usage: 54.1 KB\n"
     ]
    }
   ],
   "source": [
    "# 2. siapkan data\n",
    "df_diabetes.info()"
   ]
  },
  {
   "cell_type": "markdown",
   "metadata": {
    "id": "upnsBpZ0aSGW"
   },
   "source": [
    "biasanya di step ini kita lakukan:\n",
    "- data cleaning: missing values, invalid values, outlier\n",
    "- encoding: data tipe non-numerik kita konversi jadi numerik, karena ML cuma bisa terima data tipe numerik\n",
    "- scaling: ubah skala datanya supaya setiap fitur dianggap sama pentingnya oleh model ML\n",
    "- data splitting: memisahkan dataset jadi dua bagian, satu untuk latihan, dan satu untuk test modelnya setelah selesai dilatih\n",
    "- data visualization: mencoba cari pattern/ trend di datanya untuk lebih mengerti datanya dan nanti kita bisa tau hasil dari model ML masuk akal atau tidak\n",
    "- dan teknik lainnya\n",
    "\n",
    "di contoh kali ini, kita tidak lakukan step2 diatas, kita langsung lanjut ke step berikut, melatih model"
   ]
  },
  {
   "cell_type": "code",
   "execution_count": null,
   "metadata": {
    "id": "09iuQhLNaSGX",
    "outputId": "f3a84db8-e165-45e2-fcc3-7ebe4c865813"
   },
   "outputs": [
    {
     "data": {
      "image/png": "[encoded data removed]",
      "text/plain": [
       "<Figure size 640x480 with 1 Axes>"
      ]
     },
     "metadata": {},
     "output_type": "display_data"
    }
   ],
   "source": [
    "# sebagai contoh kita gunakan 1 fitur dan 1 target --> fitur Glucose, target Insulin\n",
    "\n",
    "fitur = df_diabetes[['Glucose']] # fitur 2 dimensi, persiapan bisa ada lebih dari 1 fitur\n",
    "target = df_diabetes['Insulin'] # target 1 dimensi, target cuma 1\n",
    "\n",
    "# extra: visualisasikan target dan fitur, karena hanya ada 1 fitur kita bisa buat chart 2 dimensi untuk melihat hubugan fitur dan target\n",
    "plt.scatter(fitur, target)\n",
    "\n",
    "plt.xlabel(\"Glucose\")\n",
    "plt.ylabel(\"Insulin\")\n",
    "plt.title(\"Glucose vs Insulin\")\n",
    "\n",
    "plt.show()"
   ]
  },
  {
   "cell_type": "code",
   "execution_count": null,
   "metadata": {
    "id": "HeQzxP15aSGZ",
    "outputId": "683aa408-0cb0-410a-9a2e-f836fab6c9aa"
   },
   "outputs": [
    {
     "data": {
      "text/plain": [
       "LinearRegression()"
      ]
     },
     "execution_count": 12,
     "metadata": {},
     "output_type": "execute_result"
    }
   ],
   "source": [
    "# 3. latih model\n",
    "model_insulin = LinearRegression() # pilih algoritma Linear Regression\n",
    "model_insulin.fit(fitur, target) # masukkan datanya, input fitur dan output target\n"
   ]
  },
  {
   "cell_type": "markdown",
   "metadata": {
    "id": "iSdRI9VGaSGe"
   },
   "source": [
    "untuk model tipe Linear Regression, kita gunakan angka korelasi R-squared untuk mengevaluasi model tersebut.\n",
    "\n",
    "angka R-squared mendekati 0 artinya model tidak bisa membuat prediksi dengan baik (underfit)\n",
    "\n",
    "angka R-squared mendekati 1 artinya model memprediksi terlalu sempurna - seperti menghafal data latihannya dan bukan membuat general model yang baik (overfit)"
   ]
  },
  {
   "cell_type": "code",
   "execution_count": null,
   "metadata": {
    "id": "GQYKNQUSaSGe",
    "outputId": "968b494a-87ce-4009-9a83-78106e6d9cf7"
   },
   "outputs": [
    {
     "name": "stdout",
     "output_type": "stream",
     "text": [
      "0.10979753429467365\n"
     ]
    }
   ],
   "source": [
    "# 4. evaluasi\n",
    "# apakah modelnya bisa memprediksi dengan baik?\n",
    "r_sq = model_insulin.score(fitur, target)\n",
    "print(r_sq)"
   ]
  },
  {
   "cell_type": "code",
   "execution_count": null,
   "metadata": {
    "id": "6j7VPBZeaSGe",
    "outputId": "8e487214-d66e-46de-d445-a37c301148a9"
   },
   "outputs": [
    {
     "data": {
      "text/html": [
       "<div>\n",
       "<style scoped>\n",
       "    .dataframe tbody tr th:only-of-type {\n",
       "        vertical-align: middle;\n",
       "    }\n",
       "\n",
       "    .dataframe tbody tr th {\n",
       "        vertical-align: top;\n",
       "    }\n",
       "\n",
       "    .dataframe thead th {\n",
       "        text-align: right;\n",
       "    }\n",
       "</style>\n",
       "<table border=\"1\" class=\"dataframe\">\n",
       "  <thead>\n",
       "    <tr style=\"text-align: right;\">\n",
       "      <th></th>\n",
       "      <th>Glucose</th>\n",
       "    </tr>\n",
       "  </thead>\n",
       "  <tbody>\n",
       "    <tr>\n",
       "      <th>0</th>\n",
       "      <td>148</td>\n",
       "    </tr>\n",
       "    <tr>\n",
       "      <th>1</th>\n",
       "      <td>85</td>\n",
       "    </tr>\n",
       "    <tr>\n",
       "      <th>2</th>\n",
       "      <td>183</td>\n",
       "    </tr>\n",
       "    <tr>\n",
       "      <th>3</th>\n",
       "      <td>89</td>\n",
       "    </tr>\n",
       "    <tr>\n",
       "      <th>4</th>\n",
       "      <td>137</td>\n",
       "    </tr>\n",
       "    <tr>\n",
       "      <th>...</th>\n",
       "      <td>...</td>\n",
       "    </tr>\n",
       "    <tr>\n",
       "      <th>763</th>\n",
       "      <td>101</td>\n",
       "    </tr>\n",
       "    <tr>\n",
       "      <th>764</th>\n",
       "      <td>122</td>\n",
       "    </tr>\n",
       "    <tr>\n",
       "      <th>765</th>\n",
       "      <td>121</td>\n",
       "    </tr>\n",
       "    <tr>\n",
       "      <th>766</th>\n",
       "      <td>126</td>\n",
       "    </tr>\n",
       "    <tr>\n",
       "      <th>767</th>\n",
       "      <td>93</td>\n",
       "    </tr>\n",
       "  </tbody>\n",
       "</table>\n",
       "<p>768 rows × 1 columns</p>\n",
       "</div>"
      ],
      "text/plain": [
       "     Glucose\n",
       "0        148\n",
       "1         85\n",
       "2        183\n",
       "3         89\n",
       "4        137\n",
       "..       ...\n",
       "763      101\n",
       "764      122\n",
       "765      121\n",
       "766      126\n",
       "767       93\n",
       "\n",
       "[768 rows x 1 columns]"
      ]
     },
     "execution_count": 14,
     "metadata": {},
     "output_type": "execute_result"
    }
   ],
   "source": [
    "fitur"
   ]
  },
  {
   "cell_type": "markdown",
   "metadata": {
    "id": "ojJX8eCxaSGf"
   },
   "source": [
    "EXTRA step - model yang sudah dibuat, kita bisa pakai untuk bikin prediksi karena ini adalah model Regression.\n",
    "\n",
    "kita pakai modelnya. contoh, kalau ada orang dengan tingkat glucose di 100, kira kira berapa insulinnya?"
   ]
  },
  {
   "cell_type": "code",
   "execution_count": null,
   "metadata": {
    "id": "BfFcfKkdaSGh",
    "outputId": "aee1ce0c-71ba-47a8-f7dc-4207a6dd98f4"
   },
   "outputs": [
    {
     "data": {
      "text/plain": [
       "[[100]]"
      ]
     },
     "execution_count": 17,
     "metadata": {},
     "output_type": "execute_result"
    }
   ],
   "source": [
    "[[100]]"
   ]
  },
  {
   "cell_type": "code",
   "execution_count": null,
   "metadata": {
    "id": "V0drfc6raSGm",
    "outputId": "a6a8f737-ffbf-49b0-ba9f-5dc9a37b860b"
   },
   "outputs": [
    {
     "name": "stdout",
     "output_type": "stream",
     "text": [
      "[54.84381932]\n"
     ]
    }
   ],
   "source": [
    "hasil_prediksi_insulin = model_insulin.predict([[100]])\n",
    "print(hasil_prediksi_insulin)"
   ]
  },
  {
   "cell_type": "markdown",
   "metadata": {
    "id": "pviSI4toaSGn"
   },
   "source": [
    "dari model Linear Regression yang kita buat, kalau glucose di 100, model membuat prediksi insulin di 54.8"
   ]
  },
  {
   "cell_type": "markdown",
   "metadata": {
    "id": "chvP8ppuaSGn"
   },
   "source": [
    "kita bisa buat prediksi untuk banyak data sekaligus, misalnya, untuk glucose level  0,50,100,150,200 berapa tingkat insulin yang di prediksi modelnya"
   ]
  },
  {
   "cell_type": "code",
   "execution_count": null,
   "metadata": {
    "id": "ygfYkm7caSGq",
    "outputId": "3ad83770-9463-4e4a-c7a3-1d8de5a834de"
   },
   "outputs": [
    {
     "data": {
      "text/plain": [
       "array([[  0],\n",
       "       [ 50],\n",
       "       [100],\n",
       "       [150],\n",
       "       [200]])"
      ]
     },
     "execution_count": 21,
     "metadata": {},
     "output_type": "execute_result"
    }
   ],
   "source": [
    "test_data_glucose = np.arange(0,201,50).reshape(-1, 1)\n",
    "test_data_glucose"
   ]
  },
  {
   "cell_type": "code",
   "execution_count": null,
   "metadata": {
    "id": "W6fGzIoFaSGr",
    "outputId": "02d0edd8-c7c6-4b3f-950e-d70798a4acab"
   },
   "outputs": [
    {
     "data": {
      "text/plain": [
       "array([-64.59250373,  -4.8743422 ,  54.84381932, 114.56198085,\n",
       "       174.28014237])"
      ]
     },
     "execution_count": 22,
     "metadata": {},
     "output_type": "execute_result"
    }
   ],
   "source": [
    "hasil_prediksi_insulin = model_insulin.predict(test_data_glucose)\n",
    "hasil_prediksi_insulin"
   ]
  },
  {
   "cell_type": "code",
   "execution_count": null,
   "metadata": {
    "id": "LG9ee_00aSGr",
    "outputId": "51e32afd-e96e-4503-acd3-8e2d81c26c77"
   },
   "outputs": [
    {
     "data": {
      "image/png": "[encoded data removed]",
      "text/plain": [
       "<Figure size 640x480 with 1 Axes>"
      ]
     },
     "metadata": {},
     "output_type": "display_data"
    }
   ],
   "source": [
    "# optional: buat visualisasi\n",
    "\n",
    "plt.scatter(test_data_glucose, hasil_prediksi_insulin, color=\"red\", marker=\"x\")\n",
    "plt.plot(test_data_glucose, hasil_prediksi_insulin, color=\"orange\")\n",
    "\n",
    "plt.scatter(fitur, target)\n",
    "\n",
    "plt.xlabel(\"Glucose\")\n",
    "plt.ylabel(\"Insulin\")\n",
    "plt.title(\"Glucose vs Insulin\")\n",
    "\n",
    "plt.show()"
   ]
  },
  {
   "cell_type": "code",
   "execution_count": null,
   "metadata": {
    "id": "EW0mNnJiaSGs"
   },
   "outputs": [],
   "source": [
    "# 5. tuning\n",
    "# kita coba ubah/ tambahkan teknik dari step 1-4 untuk membuat model yang lebih baik"
   ]
  },
  {
   "cell_type": "markdown",
   "metadata": {
    "id": "TgRtgYesaSGs"
   },
   "source": [
    "# Polynomial Regression\n",
    "\n",
    "secara konsep matematik, polynomial regression mirip dengan linear regression. linear regression adalah polynomial regression degree 1.\n",
    "\n",
    "polynomial regression degree 1, tidak berbelok, sama persis dengan linear regression.\n",
    "\n",
    "polynomial regression degree 2, ada x kuadrat, akan membuat secara visual garis regresi yang kita buat bisa berbelok 1x.\n",
    "\n",
    "polynomial regression degree 3, ada x kuadrat, ada x kubik, akan membuat berbelok 2x... dan seterusnya...\n",
    "\n",
    "\n",
    "secara coding, karena memang sangat mirip, sklearn tidak membuat package berbeda untuk model polynomial regression. sklearn hanya membuat step tambahan \"PolynomialFeatures\" yang dilakukan sebelum \"LinearRegression\" untuk membuat model Polynomial Regression."
   ]
  },
  {
   "cell_type": "code",
   "execution_count": null,
   "metadata": {
    "id": "h14z5LK7aSGt",
    "outputId": "43ff8d68-6fcd-42e8-eaa3-518dff8f42b2"
   },
   "outputs": [
    {
     "data": {
      "text/html": [
       "<div>\n",
       "<style scoped>\n",
       "    .dataframe tbody tr th:only-of-type {\n",
       "        vertical-align: middle;\n",
       "    }\n",
       "\n",
       "    .dataframe tbody tr th {\n",
       "        vertical-align: top;\n",
       "    }\n",
       "\n",
       "    .dataframe thead th {\n",
       "        text-align: right;\n",
       "    }\n",
       "</style>\n",
       "<table border=\"1\" class=\"dataframe\">\n",
       "  <thead>\n",
       "    <tr style=\"text-align: right;\">\n",
       "      <th></th>\n",
       "      <th>Glucose</th>\n",
       "    </tr>\n",
       "  </thead>\n",
       "  <tbody>\n",
       "    <tr>\n",
       "      <th>0</th>\n",
       "      <td>148</td>\n",
       "    </tr>\n",
       "    <tr>\n",
       "      <th>1</th>\n",
       "      <td>85</td>\n",
       "    </tr>\n",
       "    <tr>\n",
       "      <th>2</th>\n",
       "      <td>183</td>\n",
       "    </tr>\n",
       "    <tr>\n",
       "      <th>3</th>\n",
       "      <td>89</td>\n",
       "    </tr>\n",
       "    <tr>\n",
       "      <th>4</th>\n",
       "      <td>137</td>\n",
       "    </tr>\n",
       "    <tr>\n",
       "      <th>...</th>\n",
       "      <td>...</td>\n",
       "    </tr>\n",
       "    <tr>\n",
       "      <th>763</th>\n",
       "      <td>101</td>\n",
       "    </tr>\n",
       "    <tr>\n",
       "      <th>764</th>\n",
       "      <td>122</td>\n",
       "    </tr>\n",
       "    <tr>\n",
       "      <th>765</th>\n",
       "      <td>121</td>\n",
       "    </tr>\n",
       "    <tr>\n",
       "      <th>766</th>\n",
       "      <td>126</td>\n",
       "    </tr>\n",
       "    <tr>\n",
       "      <th>767</th>\n",
       "      <td>93</td>\n",
       "    </tr>\n",
       "  </tbody>\n",
       "</table>\n",
       "<p>768 rows × 1 columns</p>\n",
       "</div>"
      ],
      "text/plain": [
       "     Glucose\n",
       "0        148\n",
       "1         85\n",
       "2        183\n",
       "3         89\n",
       "4        137\n",
       "..       ...\n",
       "763      101\n",
       "764      122\n",
       "765      121\n",
       "766      126\n",
       "767       93\n",
       "\n",
       "[768 rows x 1 columns]"
      ]
     },
     "execution_count": 28,
     "metadata": {},
     "output_type": "execute_result"
    }
   ],
   "source": [
    "fitur"
   ]
  },
  {
   "cell_type": "code",
   "execution_count": null,
   "metadata": {
    "id": "8gLDDHNpaSGt",
    "outputId": "d2f2c773-40b2-4ca7-f4ce-1ed864414c27"
   },
   "outputs": [
    {
     "data": {
      "text/plain": [
       "0        0\n",
       "1        0\n",
       "2        0\n",
       "3       94\n",
       "4      168\n",
       "      ... \n",
       "763    180\n",
       "764      0\n",
       "765    112\n",
       "766      0\n",
       "767      0\n",
       "Name: Insulin, Length: 768, dtype: int64"
      ]
     },
     "execution_count": 29,
     "metadata": {},
     "output_type": "execute_result"
    }
   ],
   "source": [
    "target"
   ]
  },
  {
   "cell_type": "code",
   "execution_count": null,
   "metadata": {
    "id": "ztD6R_o8aSGu",
    "outputId": "369ec701-5b61-4ddb-c598-baeef124daaf"
   },
   "outputs": [
    {
     "data": {
      "text/plain": [
       "array([[  148., 21904.],\n",
       "       [   85.,  7225.],\n",
       "       [  183., 33489.],\n",
       "       ...,\n",
       "       [  121., 14641.],\n",
       "       [  126., 15876.],\n",
       "       [   93.,  8649.]])"
      ]
     },
     "execution_count": 31,
     "metadata": {},
     "output_type": "execute_result"
    }
   ],
   "source": [
    "# step 2, persiapan data\n",
    "# membuat model polynomial regression\n",
    "\n",
    "transformer = PolynomialFeatures(\n",
    "    degree=2,  # degree 2, ada x kuadrat, belok 1x\n",
    "    include_bias=False # selalu set include bias ke False saat kita gunakan sklearn untuk bikin model LinearRegression\n",
    "    )\n",
    "\n",
    "# ubah data kita menjadi tipe polinomial\n",
    "fitur_poly = transformer.fit_transform(fitur)\n",
    "fitur_poly"
   ]
  },
  {
   "cell_type": "markdown",
   "metadata": {
    "id": "9Voo99chaSGv"
   },
   "source": [
    "kita sudah siapkan data fitur kita, menjadi versi polynomial\n",
    "\n",
    "menggunakan data versi polynomial, kita buat model LinearRegression() dari sklearn untuk membuat model Polynomial Regression"
   ]
  },
  {
   "cell_type": "code",
   "execution_count": null,
   "metadata": {
    "id": "BkhoervoaSGv",
    "outputId": "0e178e92-7db3-4e65-c5b0-59119c26643f"
   },
   "outputs": [
    {
     "data": {
      "text/plain": [
       "LinearRegression()"
      ]
     },
     "execution_count": 32,
     "metadata": {},
     "output_type": "execute_result"
    }
   ],
   "source": [
    "# step 3, melatih model\n",
    "model_insulin_poly = LinearRegression()\n",
    "model_insulin_poly.fit(fitur_poly, target)"
   ]
  },
  {
   "cell_type": "markdown",
   "metadata": {
    "id": "SFzjFc-DaSGw"
   },
   "source": [
    "step evaluasi, kita cek berapa skor r-squared nya"
   ]
  },
  {
   "cell_type": "code",
   "execution_count": null,
   "metadata": {
    "id": "OHjvlI4raSGw",
    "outputId": "f6aae02e-b10f-470b-d028-1a9bb0ec55b2"
   },
   "outputs": [
    {
     "name": "stdout",
     "output_type": "stream",
     "text": [
      "0.11237305311002188\n"
     ]
    }
   ],
   "source": [
    "# step 4, evaluasi model\n",
    "# apakah modelnya bisa memprediksi dengan baik?\n",
    "r_sq = model_insulin_poly.score(fitur_poly, target)\n",
    "print(r_sq)"
   ]
  },
  {
   "cell_type": "markdown",
   "metadata": {
    "id": "BIWiLlyUaSGx"
   },
   "source": [
    "sebenarnya sama sama tidak akurat, r-squared nya mendekati 0\n",
    "\n",
    "berikut kita masuk ke step optional, untuk melihat model kita secara visual. hanya bisa dilakukan jika kita punya 1 fitur saja."
   ]
  },
  {
   "cell_type": "code",
   "execution_count": null,
   "metadata": {
    "id": "cIvfP0GXaSGy",
    "outputId": "88fb3f83-9a4e-4ab7-d820-ad635a9b41d9"
   },
   "outputs": [
    {
     "data": {
      "text/plain": [
       "array([[  0],\n",
       "       [ 50],\n",
       "       [100],\n",
       "       [150],\n",
       "       [200]])"
      ]
     },
     "execution_count": 33,
     "metadata": {},
     "output_type": "execute_result"
    }
   ],
   "source": [
    "test_data_glucose"
   ]
  },
  {
   "cell_type": "code",
   "execution_count": null,
   "metadata": {
    "id": "8CdTgRTMaSGz",
    "outputId": "118aef98-f89a-46d0-8354-085728ad92a2"
   },
   "outputs": [
    {
     "data": {
      "text/plain": [
       "array([[    0.,     0.],\n",
       "       [   50.,  2500.],\n",
       "       [  100., 10000.],\n",
       "       [  150., 22500.],\n",
       "       [  200., 40000.]])"
      ]
     },
     "execution_count": 35,
     "metadata": {},
     "output_type": "execute_result"
    }
   ],
   "source": [
    "test_data_glucose_poly = transformer.fit_transform(test_data_glucose)\n",
    "test_data_glucose_poly"
   ]
  },
  {
   "cell_type": "markdown",
   "metadata": {
    "id": "-feXP3NgaSGz"
   },
   "source": [
    "tes datanya juga kita ubah jadi versi polynomial\n",
    "\n",
    "setelah itu kita bisa buat visualisasi untuk model polynomial regression kita"
   ]
  },
  {
   "cell_type": "code",
   "execution_count": null,
   "metadata": {
    "id": "Z7_LewG4aSG0",
    "outputId": "163d8c76-d9bc-4d4d-b94a-d6065a127b9c"
   },
   "outputs": [
    {
     "data": {
      "text/plain": [
       "array([-13.93424554,  10.74434846,  53.17978452, 113.37206264,\n",
       "       191.32118282])"
      ]
     },
     "execution_count": 36,
     "metadata": {},
     "output_type": "execute_result"
    }
   ],
   "source": [
    "hasil_prediksi_insulin_poly = model_insulin_poly.predict(test_data_glucose_poly)\n",
    "hasil_prediksi_insulin_poly"
   ]
  },
  {
   "cell_type": "code",
   "execution_count": null,
   "metadata": {
    "id": "QHrXg7_qaSG0",
    "outputId": "9f21b896-36da-4f0a-8130-75317e866bf8"
   },
   "outputs": [
    {
     "data": {
      "image/png": "[encoded data removed]",
      "text/plain": [
       "<Figure size 640x480 with 1 Axes>"
      ]
     },
     "metadata": {},
     "output_type": "display_data"
    }
   ],
   "source": [
    "# optional: buat visualisasi\n",
    "\n",
    "# model linear regression\n",
    "plt.scatter(test_data_glucose, hasil_prediksi_insulin, color=\"orange\", marker=\"x\")\n",
    "plt.plot(test_data_glucose, hasil_prediksi_insulin, color=\"orange\")\n",
    "\n",
    "# model polynomial regression\n",
    "plt.scatter(test_data_glucose, hasil_prediksi_insulin_poly, color=\"navy\", marker=\"o\")\n",
    "plt.plot(test_data_glucose, hasil_prediksi_insulin_poly, color=\"navy\")\n",
    "\n",
    "# dataset awal\n",
    "plt.scatter(fitur, target)\n",
    "\n",
    "# labels\n",
    "plt.xlabel(\"Glucose\")\n",
    "plt.ylabel(\"Insulin\")\n",
    "plt.title(\"Glucose vs Insulin\")\n",
    "\n",
    "plt.show()"
   ]
  },
  {
   "cell_type": "markdown",
   "metadata": {
    "id": "PcGmHMZ_aSG2"
   },
   "source": [
    "## latihan pendek\n",
    "coba buat model polynomial regression dengan degree 3\n",
    "\n",
    "lalu visualisasikan hasil modelnya seperti diatas\n",
    "\n",
    "setelah itu kita lanjut ke contoh membuat model dengan lebih dari 1 fitur"
   ]
  },
  {
   "cell_type": "code",
   "execution_count": null,
   "metadata": {
    "id": "N6YYJSXaaSG3",
    "outputId": "65c81c7f-d42e-4557-d202-9be75e837d54"
   },
   "outputs": [
    {
     "name": "stdout",
     "output_type": "stream",
     "text": [
      "Fitur - tingkat glucose\n"
     ]
    },
    {
     "data": {
      "text/html": [
       "<div>\n",
       "<style scoped>\n",
       "    .dataframe tbody tr th:only-of-type {\n",
       "        vertical-align: middle;\n",
       "    }\n",
       "\n",
       "    .dataframe tbody tr th {\n",
       "        vertical-align: top;\n",
       "    }\n",
       "\n",
       "    .dataframe thead th {\n",
       "        text-align: right;\n",
       "    }\n",
       "</style>\n",
       "<table border=\"1\" class=\"dataframe\">\n",
       "  <thead>\n",
       "    <tr style=\"text-align: right;\">\n",
       "      <th></th>\n",
       "      <th>Glucose</th>\n",
       "    </tr>\n",
       "  </thead>\n",
       "  <tbody>\n",
       "    <tr>\n",
       "      <th>0</th>\n",
       "      <td>148</td>\n",
       "    </tr>\n",
       "    <tr>\n",
       "      <th>1</th>\n",
       "      <td>85</td>\n",
       "    </tr>\n",
       "    <tr>\n",
       "      <th>2</th>\n",
       "      <td>183</td>\n",
       "    </tr>\n",
       "    <tr>\n",
       "      <th>3</th>\n",
       "      <td>89</td>\n",
       "    </tr>\n",
       "    <tr>\n",
       "      <th>4</th>\n",
       "      <td>137</td>\n",
       "    </tr>\n",
       "  </tbody>\n",
       "</table>\n",
       "</div>"
      ],
      "text/plain": [
       "   Glucose\n",
       "0      148\n",
       "1       85\n",
       "2      183\n",
       "3       89\n",
       "4      137"
      ]
     },
     "metadata": {},
     "output_type": "display_data"
    },
    {
     "name": "stdout",
     "output_type": "stream",
     "text": [
      "Target - tingkat insulin\n"
     ]
    },
    {
     "data": {
      "text/plain": [
       "0      0\n",
       "1      0\n",
       "2      0\n",
       "3     94\n",
       "4    168\n",
       "Name: Insulin, dtype: int64"
      ]
     },
     "metadata": {},
     "output_type": "display_data"
    }
   ],
   "source": [
    "# 1. collect data - kita gunakan data yang sama df_diabetes\n",
    "# 2. siapkan data - kita lakukan data cleaning yang sama, validasi, siapkan fitur dan target yang sama\n",
    "\n",
    "print(\"Fitur - tingkat glucose\")\n",
    "display(fitur.head())\n",
    "print(\"Target - tingkat insulin\")\n",
    "display(target[:5])"
   ]
  },
  {
   "cell_type": "code",
   "execution_count": null,
   "metadata": {
    "id": "aHUwVZv6aSG5",
    "outputId": "46eb876e-1a5c-4d65-c5b7-70846827951e"
   },
   "outputs": [
    {
     "name": "stdout",
     "output_type": "stream",
     "text": [
      "R squared: 0.11297771173056503\n"
     ]
    }
   ],
   "source": [
    "# step persiapan data untuk polynomial regression, kita ubah fitur menjadi versi polynomial\n",
    "\n",
    "# buat transformer\n",
    "transformer = PolynomialFeatures(degree=3, include_bias=False)\n",
    "\n",
    "# ubah fitur jadi versi polynomial\n",
    "fitur_poly = transformer.fit_transform(fitur)\n",
    "\n",
    "# 3. membuat model\n",
    "# kita buat model polynomial regression dari function LinearRegression() dengan input fitur tipe Polynomial\n",
    "model_insulin_v3 = LinearRegression()\n",
    "model_insulin_v3.fit(fitur_poly, target)\n",
    "\n",
    "# 4. evaluasi model\n",
    "# untuk tipe model Regression kita cari angka r_squared nya\n",
    "r_sq = model_insulin_v3.score(fitur_poly, target)\n",
    "# perhatikan kita menggunakan data yang sama saat melatih dan mengecek akurasi model,\n",
    "# kedepannya kita mau bedakan data latihan dan data test, dengan menggunakan teknik data splitting\n",
    "# split dulu jadi train dan test data, baru latih model, baru evaluasi model\n",
    "\n",
    "print(\"R squared:\", r_sq)"
   ]
  },
  {
   "cell_type": "code",
   "execution_count": null,
   "metadata": {
    "id": "yjj_GNpfaSG7"
   },
   "outputs": [],
   "source": [
    "# membuat prediksi dari tes data\n",
    "\n",
    "# membuat test data versi polynomial degree 3\n",
    "test_data = transformer.fit_transform(test_data_glucose)\n",
    "\n",
    "# membuat prediksi dengan model polynomial regression degree 3 yang barusan kita buat\n",
    "hasil_prediksi_insulin_v3 = model_insulin_v3.predict(test_data)"
   ]
  },
  {
   "cell_type": "code",
   "execution_count": null,
   "metadata": {
    "id": "6suR2wvcaSG9",
    "outputId": "b2238196-6341-4fe7-f5c5-1ced3d48a14d"
   },
   "outputs": [
    {
     "data": {
      "image/png": "[encoded data removed]",
      "text/plain": [
       "<Figure size 640x480 with 1 Axes>"
      ]
     },
     "metadata": {},
     "output_type": "display_data"
    }
   ],
   "source": [
    "# optional: buat visualisasi\n",
    "\n",
    "# model linear regression\n",
    "plt.scatter(test_data_glucose, hasil_prediksi_insulin, color=\"orange\", marker=\"x\")\n",
    "plt.plot(test_data_glucose, hasil_prediksi_insulin, color=\"orange\")\n",
    "\n",
    "# model polynomial regression degree 2\n",
    "plt.scatter(test_data_glucose, hasil_prediksi_insulin_poly, color=\"navy\", marker=\"o\")\n",
    "plt.plot(test_data_glucose, hasil_prediksi_insulin_poly, color=\"navy\")\n",
    "\n",
    "# model polynomial regression degree 3\n",
    "plt.scatter(test_data_glucose, hasil_prediksi_insulin_v3, color=\"green\", marker=\"o\")\n",
    "plt.plot(test_data_glucose, hasil_prediksi_insulin_v3, color=\"green\")\n",
    "\n",
    "# dataset awal\n",
    "plt.scatter(fitur, target)\n",
    "\n",
    "# labels\n",
    "plt.xlabel(\"Glucose\")\n",
    "plt.ylabel(\"Insulin\")\n",
    "plt.title(\"Glucose vs Insulin\")\n",
    "\n",
    "plt.show()"
   ]
  },
  {
   "cell_type": "markdown",
   "metadata": {
    "id": "V71QfKuDaSHA"
   },
   "source": [
    "## Model Linear dan Polynomial Regression dengan lebih dari 1 fitur\n",
    "\n",
    "balik ke tujuan awal kita hari ini, kita mau buat model tipe regression,\n",
    "tujuannya adalah untuk prediksi **BMI** seseorang dari fitur:\n",
    "- glucose\n",
    "- bloodpressure\n",
    "- insulin\n",
    "- age"
   ]
  },
  {
   "cell_type": "code",
   "execution_count": null,
   "metadata": {
    "id": "nAAzuZ6paSHG",
    "outputId": "12e18904-e5dd-4d1d-8553-e69f2fee866c"
   },
   "outputs": [
    {
     "data": {
      "text/html": [
       "<div>\n",
       "<style scoped>\n",
       "    .dataframe tbody tr th:only-of-type {\n",
       "        vertical-align: middle;\n",
       "    }\n",
       "\n",
       "    .dataframe tbody tr th {\n",
       "        vertical-align: top;\n",
       "    }\n",
       "\n",
       "    .dataframe thead th {\n",
       "        text-align: right;\n",
       "    }\n",
       "</style>\n",
       "<table border=\"1\" class=\"dataframe\">\n",
       "  <thead>\n",
       "    <tr style=\"text-align: right;\">\n",
       "      <th></th>\n",
       "      <th>Pregnancies</th>\n",
       "      <th>Glucose</th>\n",
       "      <th>BloodPressure</th>\n",
       "      <th>SkinThickness</th>\n",
       "      <th>Insulin</th>\n",
       "      <th>BMI</th>\n",
       "      <th>DiabetesPedigreeFunction</th>\n",
       "      <th>Age</th>\n",
       "      <th>Outcome</th>\n",
       "    </tr>\n",
       "  </thead>\n",
       "  <tbody>\n",
       "    <tr>\n",
       "      <th>0</th>\n",
       "      <td>6</td>\n",
       "      <td>148</td>\n",
       "      <td>72</td>\n",
       "      <td>35</td>\n",
       "      <td>0</td>\n",
       "      <td>33.6</td>\n",
       "      <td>0.627</td>\n",
       "      <td>50</td>\n",
       "      <td>1</td>\n",
       "    </tr>\n",
       "    <tr>\n",
       "      <th>1</th>\n",
       "      <td>1</td>\n",
       "      <td>85</td>\n",
       "      <td>66</td>\n",
       "      <td>29</td>\n",
       "      <td>0</td>\n",
       "      <td>26.6</td>\n",
       "      <td>0.351</td>\n",
       "      <td>31</td>\n",
       "      <td>0</td>\n",
       "    </tr>\n",
       "    <tr>\n",
       "      <th>2</th>\n",
       "      <td>8</td>\n",
       "      <td>183</td>\n",
       "      <td>64</td>\n",
       "      <td>0</td>\n",
       "      <td>0</td>\n",
       "      <td>23.3</td>\n",
       "      <td>0.672</td>\n",
       "      <td>32</td>\n",
       "      <td>1</td>\n",
       "    </tr>\n",
       "    <tr>\n",
       "      <th>3</th>\n",
       "      <td>1</td>\n",
       "      <td>89</td>\n",
       "      <td>66</td>\n",
       "      <td>23</td>\n",
       "      <td>94</td>\n",
       "      <td>28.1</td>\n",
       "      <td>0.167</td>\n",
       "      <td>21</td>\n",
       "      <td>0</td>\n",
       "    </tr>\n",
       "    <tr>\n",
       "      <th>4</th>\n",
       "      <td>0</td>\n",
       "      <td>137</td>\n",
       "      <td>40</td>\n",
       "      <td>35</td>\n",
       "      <td>168</td>\n",
       "      <td>43.1</td>\n",
       "      <td>2.288</td>\n",
       "      <td>33</td>\n",
       "      <td>1</td>\n",
       "    </tr>\n",
       "  </tbody>\n",
       "</table>\n",
       "</div>"
      ],
      "text/plain": [
       "   Pregnancies  Glucose  BloodPressure  SkinThickness  Insulin   BMI  \\\n",
       "0            6      148             72             35        0  33.6   \n",
       "1            1       85             66             29        0  26.6   \n",
       "2            8      183             64              0        0  23.3   \n",
       "3            1       89             66             23       94  28.1   \n",
       "4            0      137             40             35      168  43.1   \n",
       "\n",
       "   DiabetesPedigreeFunction  Age  Outcome  \n",
       "0                     0.627   50        1  \n",
       "1                     0.351   31        0  \n",
       "2                     0.672   32        1  \n",
       "3                     0.167   21        0  \n",
       "4                     2.288   33        1  "
      ]
     },
     "execution_count": 46,
     "metadata": {},
     "output_type": "execute_result"
    }
   ],
   "source": [
    "df_diabetes.head()"
   ]
  },
  {
   "cell_type": "code",
   "execution_count": null,
   "metadata": {
    "id": "UW2PR3KgaSHH",
    "outputId": "a59235a2-f02e-4e27-c00c-deee5c4031d0"
   },
   "outputs": [
    {
     "name": "stdout",
     "output_type": "stream",
     "text": [
      "R-Squared: 0.1301928376242355\n"
     ]
    }
   ],
   "source": [
    "# Linear Regression\n",
    "\n",
    "# siapin fitur dan target\n",
    "X = df_diabetes[['Glucose', 'BloodPressure', 'Insulin', 'Age']]\n",
    "y = df_diabetes['BMI']\n",
    "\n",
    "# buat dan latih model\n",
    "model = LinearRegression()\n",
    "model.fit(X, y)\n",
    "\n",
    "# evaluasi model\n",
    "r_sq = model.score(X, y)\n",
    "print(\"R-Squared:\", r_sq)"
   ]
  },
  {
   "cell_type": "code",
   "execution_count": null,
   "metadata": {
    "id": "apWMEmBsaSHI",
    "outputId": "99663b02-2133-41fc-eed4-36d2e730599f"
   },
   "outputs": [
    {
     "name": "stdout",
     "output_type": "stream",
     "text": [
      "R-Squared: 0.22116814353684033\n"
     ]
    }
   ],
   "source": [
    "# Polynomial Regression\n",
    "\n",
    "# siapin fitur dan target\n",
    "X = df_diabetes[['Glucose', 'BloodPressure', 'Insulin', 'Age']]\n",
    "y = df_diabetes['BMI']\n",
    "\n",
    "# ubah data latihan kita menjadi versi polynomial\n",
    "transformer = PolynomialFeatures(degree = 2, include_bias = False)\n",
    "X_poly = transformer.fit_transform(X)\n",
    "\n",
    "# buat dan latih model\n",
    "model2 = LinearRegression()\n",
    "model2.fit(X_poly, y)\n",
    "\n",
    "# evaluasi model\n",
    "r_sq = model2.score(X_poly, y)\n",
    "print(\"R-Squared:\", r_sq)"
   ]
  },
  {
   "cell_type": "code",
   "execution_count": null,
   "metadata": {
    "id": "PviV3rVraSHI",
    "outputId": "c26e9296-052e-4614-a32b-91ee56a226dc"
   },
   "outputs": [
    {
     "name": "stdout",
     "output_type": "stream",
     "text": [
      "R-Squared: 0.14876195944366266\n"
     ]
    }
   ],
   "source": [
    "# Polynomial Regression\n",
    "\n",
    "# siapin fitur dan target\n",
    "X = df_diabetes[['Glucose', 'BloodPressure', 'Insulin', 'Age']]\n",
    "y = df_diabetes['BMI']\n",
    "\n",
    "# ubah data latihan kita menjadi versi polynomial\n",
    "transformer = PolynomialFeatures(degree = 10, include_bias = False)\n",
    "X_poly = transformer.fit_transform(X)\n",
    "\n",
    "# buat dan latih model\n",
    "model3 = LinearRegression()\n",
    "model3.fit(X_poly, y)\n",
    "\n",
    "# evaluasi model\n",
    "r_sq = model3.score(X_poly, y)\n",
    "print(\"R-Squared:\", r_sq)"
   ]
  },
  {
   "cell_type": "markdown",
   "metadata": {
    "id": "qgw_AbmsaSHJ"
   },
   "source": [
    "EXTRA\n",
    "\n",
    "kita pelajari teknik \"Data Splitting\"\n",
    "\n",
    "memisahkan dataset kita menjadi dua: train data, test data\n",
    "\n",
    "kita gunakan train_test_split dari sklearn.model_selection"
   ]
  },
  {
   "cell_type": "code",
   "execution_count": null,
   "metadata": {
    "id": "mjezpFbtaSHK",
    "outputId": "7e027dc9-2a15-4245-af04-d6059f857ca6"
   },
   "outputs": [
    {
     "data": {
      "text/html": [
       "<div>\n",
       "<style scoped>\n",
       "    .dataframe tbody tr th:only-of-type {\n",
       "        vertical-align: middle;\n",
       "    }\n",
       "\n",
       "    .dataframe tbody tr th {\n",
       "        vertical-align: top;\n",
       "    }\n",
       "\n",
       "    .dataframe thead th {\n",
       "        text-align: right;\n",
       "    }\n",
       "</style>\n",
       "<table border=\"1\" class=\"dataframe\">\n",
       "  <thead>\n",
       "    <tr style=\"text-align: right;\">\n",
       "      <th></th>\n",
       "      <th>Glucose</th>\n",
       "      <th>BloodPressure</th>\n",
       "      <th>Insulin</th>\n",
       "      <th>Age</th>\n",
       "    </tr>\n",
       "  </thead>\n",
       "  <tbody>\n",
       "    <tr>\n",
       "      <th>762</th>\n",
       "      <td>89</td>\n",
       "      <td>62</td>\n",
       "      <td>0</td>\n",
       "      <td>33</td>\n",
       "    </tr>\n",
       "    <tr>\n",
       "      <th>127</th>\n",
       "      <td>118</td>\n",
       "      <td>58</td>\n",
       "      <td>94</td>\n",
       "      <td>23</td>\n",
       "    </tr>\n",
       "    <tr>\n",
       "      <th>564</th>\n",
       "      <td>91</td>\n",
       "      <td>80</td>\n",
       "      <td>0</td>\n",
       "      <td>27</td>\n",
       "    </tr>\n",
       "    <tr>\n",
       "      <th>375</th>\n",
       "      <td>140</td>\n",
       "      <td>82</td>\n",
       "      <td>325</td>\n",
       "      <td>58</td>\n",
       "    </tr>\n",
       "    <tr>\n",
       "      <th>663</th>\n",
       "      <td>145</td>\n",
       "      <td>80</td>\n",
       "      <td>130</td>\n",
       "      <td>40</td>\n",
       "    </tr>\n",
       "  </tbody>\n",
       "</table>\n",
       "</div>"
      ],
      "text/plain": [
       "     Glucose  BloodPressure  Insulin  Age\n",
       "762       89             62        0   33\n",
       "127      118             58       94   23\n",
       "564       91             80        0   27\n",
       "375      140             82      325   58\n",
       "663      145             80      130   40"
      ]
     },
     "execution_count": 54,
     "metadata": {},
     "output_type": "execute_result"
    }
   ],
   "source": [
    "# siapin fitur dan target\n",
    "X = df_diabetes[['Glucose', 'BloodPressure', 'Insulin', 'Age']]\n",
    "y = df_diabetes['BMI']\n",
    "\n",
    "# split jadi train dan test data\n",
    "X_train, X_test, y_train, y_test = train_test_split(X, y, random_state=0)\n",
    "X_train.head()"
   ]
  },
  {
   "cell_type": "code",
   "execution_count": null,
   "metadata": {
    "id": "FX5TCghNaSHL",
    "outputId": "30fb0bd7-c9d6-4fb6-8b78-f67e74274ce8"
   },
   "outputs": [
    {
     "name": "stdout",
     "output_type": "stream",
     "text": [
      "R-squared: 0.06807543236940539\n"
     ]
    }
   ],
   "source": [
    "# latih model dengan train data\n",
    "model = LinearRegression()\n",
    "model.fit(X_train, y_train)\n",
    "\n",
    "# evaluasi model dengan test data\n",
    "r_sq = model.score(X_test, y_test)\n",
    "print(\"R-squared:\", r_sq)"
   ]
  },
  {
   "cell_type": "markdown",
   "metadata": {
    "id": "5tbdgxRUaSHL"
   },
   "source": [
    "apa yang terjadi kalau kita gunakan data latihan (train) untuk cek skor model?\n",
    "\n",
    "kita bisa membuat observasi underfit/ overfit\n",
    "\n",
    "kalau skor model r_sq tinggi dengan data train, tapi rendah dengan data test, berarti model overfit\n",
    "\n",
    "kalau skor model r_sq rendah dengan data train maupun data test, berarti model underfit"
   ]
  },
  {
   "cell_type": "code",
   "execution_count": null,
   "metadata": {
    "id": "zqqboNR9aSHM",
    "outputId": "fafae7c6-7d32-48ae-83ea-a932feef28c4"
   },
   "outputs": [
    {
     "data": {
      "text/plain": [
       "0.1435691416861793"
      ]
     },
     "execution_count": 56,
     "metadata": {},
     "output_type": "execute_result"
    }
   ],
   "source": [
    "model.score(X_train, y_train)"
   ]
  },
  {
   "cell_type": "code",
   "execution_count": null,
   "metadata": {
    "id": "hzcoLVAsaSHN"
   },
   "outputs": [],
   "source": []
  }
 ],
 "metadata": {
  "colab": {
   "provenance": []
  },
  "kernelspec": {
   "display_name": "Python 3 (ipykernel)",
   "language": "python",
   "name": "python3"
  },
  "language_info": {
   "codemirror_mode": {
    "name": "ipython",
    "version": 3
   },
   "file_extension": ".py",
   "mimetype": "text/x-python",
   "name": "python",
   "nbconvert_exporter": "python",
   "pygments_lexer": "ipython3",
   "version": "3.11.8"
  }
 },
 "nbformat": 4,
 "nbformat_minor": 4
}
