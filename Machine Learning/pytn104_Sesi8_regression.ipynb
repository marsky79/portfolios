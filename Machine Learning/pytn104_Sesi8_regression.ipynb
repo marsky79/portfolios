{
  "cells": [
    {
      "cell_type": "markdown",
      "metadata": {
        "id": "t4yNnwIMjmCv"
      },
      "source": [
        "# Regression\n",
        "mencari hubungan di data\n",
        "\n",
        "Linear Regresson - hubungan garis lurus antara data\n",
        "\n",
        "misalkan, hubungan tinggi dan berat badan. kita bisa cari hubungannya dan representasi dalam garis lurus dengan teknik linear regression.\n",
        "\n",
        "di contoh kali ini, kita gunakan dataset https://www.kaggle.com/datasets/sujithmandala/obesity-classification-dataset untuk melihat apakah ada hubungan antara berat dengan tinggi badan"
      ]
    },
    {
      "cell_type": "code",
      "execution_count": null,
      "metadata": {
        "id": "tPhsnNqQjmC7"
      },
      "outputs": [],
      "source": [
        "import pandas as pd\n",
        "import seaborn as sns\n",
        "\n",
        "from scipy import stats"
      ]
    },
    {
      "cell_type": "code",
      "execution_count": null,
      "metadata": {
        "id": "WryIEPNvjmDC",
        "outputId": "87abbea8-852f-4a84-fb16-b76a44439434"
      },
      "outputs": [
        {
          "data": {
            "text/html": [
              "<div>\n",
              "<style scoped>\n",
              "    .dataframe tbody tr th:only-of-type {\n",
              "        vertical-align: middle;\n",
              "    }\n",
              "\n",
              "    .dataframe tbody tr th {\n",
              "        vertical-align: top;\n",
              "    }\n",
              "\n",
              "    .dataframe thead th {\n",
              "        text-align: right;\n",
              "    }\n",
              "</style>\n",
              "<table border=\"1\" class=\"dataframe\">\n",
              "  <thead>\n",
              "    <tr style=\"text-align: right;\">\n",
              "      <th></th>\n",
              "      <th>ID</th>\n",
              "      <th>Age</th>\n",
              "      <th>Gender</th>\n",
              "      <th>Height</th>\n",
              "      <th>Weight</th>\n",
              "      <th>BMI</th>\n",
              "      <th>Label</th>\n",
              "    </tr>\n",
              "  </thead>\n",
              "  <tbody>\n",
              "    <tr>\n",
              "      <th>0</th>\n",
              "      <td>1</td>\n",
              "      <td>25</td>\n",
              "      <td>Male</td>\n",
              "      <td>175</td>\n",
              "      <td>80</td>\n",
              "      <td>25.3</td>\n",
              "      <td>Normal Weight</td>\n",
              "    </tr>\n",
              "    <tr>\n",
              "      <th>1</th>\n",
              "      <td>2</td>\n",
              "      <td>30</td>\n",
              "      <td>Female</td>\n",
              "      <td>160</td>\n",
              "      <td>60</td>\n",
              "      <td>22.5</td>\n",
              "      <td>Normal Weight</td>\n",
              "    </tr>\n",
              "    <tr>\n",
              "      <th>2</th>\n",
              "      <td>3</td>\n",
              "      <td>35</td>\n",
              "      <td>Male</td>\n",
              "      <td>180</td>\n",
              "      <td>90</td>\n",
              "      <td>27.3</td>\n",
              "      <td>Overweight</td>\n",
              "    </tr>\n",
              "    <tr>\n",
              "      <th>3</th>\n",
              "      <td>4</td>\n",
              "      <td>40</td>\n",
              "      <td>Female</td>\n",
              "      <td>150</td>\n",
              "      <td>50</td>\n",
              "      <td>20.0</td>\n",
              "      <td>Underweight</td>\n",
              "    </tr>\n",
              "    <tr>\n",
              "      <th>4</th>\n",
              "      <td>5</td>\n",
              "      <td>45</td>\n",
              "      <td>Male</td>\n",
              "      <td>190</td>\n",
              "      <td>100</td>\n",
              "      <td>31.2</td>\n",
              "      <td>Obese</td>\n",
              "    </tr>\n",
              "  </tbody>\n",
              "</table>\n",
              "</div>"
            ],
            "text/plain": [
              "   ID  Age  Gender  Height  Weight   BMI          Label\n",
              "0   1   25    Male     175      80  25.3  Normal Weight\n",
              "1   2   30  Female     160      60  22.5  Normal Weight\n",
              "2   3   35    Male     180      90  27.3     Overweight\n",
              "3   4   40  Female     150      50  20.0    Underweight\n",
              "4   5   45    Male     190     100  31.2          Obese"
            ]
          },
          "execution_count": 3,
          "metadata": {},
          "output_type": "execute_result"
        }
      ],
      "source": [
        "df_obes = pd.read_csv(\"Obesity Classification.csv\")\n",
        "df_obes.head()"
      ]
    },
    {
      "cell_type": "code",
      "execution_count": null,
      "metadata": {
        "id": "qQflNvf6jmDg",
        "outputId": "2e29d58b-8468-45f6-9120-cf277bf76d5b"
      },
      "outputs": [
        {
          "name": "stdout",
          "output_type": "stream",
          "text": [
            "<class 'pandas.core.frame.DataFrame'>\n",
            "RangeIndex: 108 entries, 0 to 107\n",
            "Data columns (total 7 columns):\n",
            " #   Column  Non-Null Count  Dtype  \n",
            "---  ------  --------------  -----  \n",
            " 0   ID      108 non-null    int64  \n",
            " 1   Age     108 non-null    int64  \n",
            " 2   Gender  108 non-null    object \n",
            " 3   Height  108 non-null    int64  \n",
            " 4   Weight  108 non-null    int64  \n",
            " 5   BMI     108 non-null    float64\n",
            " 6   Label   108 non-null    object \n",
            "dtypes: float64(1), int64(4), object(2)\n",
            "memory usage: 6.0+ KB\n"
          ]
        }
      ],
      "source": [
        "df_obes.info()"
      ]
    },
    {
      "cell_type": "code",
      "execution_count": null,
      "metadata": {
        "id": "lHcwAD_jjmDh",
        "outputId": "7af39308-e451-404e-9838-fccca5ecbf1a"
      },
      "outputs": [
        {
          "data": {
            "text/plain": [
              "<Axes: xlabel='Weight', ylabel='Height'>"
            ]
          },
          "execution_count": 5,
          "metadata": {},
          "output_type": "execute_result"
        },
        {
          "data": {
            "image/png": "[encoded data removed]",
            "text/plain": [
              "<Figure size 640x480 with 1 Axes>"
            ]
          },
          "metadata": {},
          "output_type": "display_data"
        }
      ],
      "source": [
        "df_obes.plot(kind=\"scatter\", x=\"Weight\", y=\"Height\")"
      ]
    },
    {
      "cell_type": "code",
      "execution_count": null,
      "metadata": {
        "id": "gRi5nGvSjmDi",
        "outputId": "069f61e4-7b0a-4300-a948-ec893e38594b"
      },
      "outputs": [
        {
          "data": {
            "text/plain": [
              "<Axes: xlabel='Weight', ylabel='Height'>"
            ]
          },
          "execution_count": 7,
          "metadata": {},
          "output_type": "execute_result"
        },
        {
          "data": {
            "image/png": "[encoded data removed]",
            "text/plain": [
              "<Figure size 640x480 with 1 Axes>"
            ]
          },
          "metadata": {},
          "output_type": "display_data"
        }
      ],
      "source": [
        "sns.regplot(df_obes, x=\"Weight\", y=\"Height\")"
      ]
    },
    {
      "cell_type": "markdown",
      "metadata": {
        "id": "7UFi_A9yjmDj"
      },
      "source": [
        "demikian perbedaan antara scatter plot dengan regression plot. lebih tepatnya linear regression.\n",
        "\n",
        "garis lurusnya itu kita bisa gunakan untuk prediksi. misalkan beratnya di 150, kira kita tinggi nya berapa? kita plot saja di garisnya.\n",
        "\n",
        "garisnya secara matematika adalah sebuah formula dalam bentuk c = ax + b\n",
        "\n",
        "di kasus ini:   \n",
        "c = height,   \n",
        "a = sebuah angka konstan untuk menunjukkan kemiringan garis,   \n",
        "x = weight,   \n",
        "b = sebuah angka konstan saat x adalah 0  \n",
        "\n",
        "kita bisa minta formula ini menggunakan python juga"
      ]
    },
    {
      "cell_type": "code",
      "execution_count": null,
      "metadata": {
        "id": "yRGx5IALjmDk",
        "outputId": "551e8af3-832d-4ec6-c63c-3b76240db90b"
      },
      "outputs": [
        {
          "name": "stdout",
          "output_type": "stream",
          "text": [
            "a 0.41428530601534447\n",
            "x weight\n",
            "b 141.92793434121677\n",
            "c height\n"
          ]
        }
      ],
      "source": [
        "# optional\n",
        "# cari formula linear regression nya\n",
        "x = df_obes['Weight']\n",
        "y = df_obes['Height']\n",
        "slope, intercept, r_value, p_value, std_err = stats.linregress(x,y)\n",
        "\n",
        "print(\"a\", slope)\n",
        "print(\"x\", \"weight\")\n",
        "print(\"b\", intercept)\n",
        "print(\"c\", \"height\")"
      ]
    },
    {
      "cell_type": "markdown",
      "metadata": {
        "id": "QX28AwmxjmDn"
      },
      "source": [
        "jadi, kalau kita mau prediksi, berapa height (tinggi) seseorang saat weight (berat badan)nya di 150, kita bisa hitung dengan formula"
      ]
    },
    {
      "cell_type": "code",
      "execution_count": null,
      "metadata": {
        "id": "IY0ZlK-ejmDo",
        "outputId": "071cd8ab-a4c0-463b-89c4-79b8c0539237"
      },
      "outputs": [
        {
          "name": "stdout",
          "output_type": "stream",
          "text": [
            "204.07073024351843\n"
          ]
        }
      ],
      "source": [
        "c = slope*150 + intercept\n",
        "print(c)"
      ]
    },
    {
      "cell_type": "code",
      "execution_count": null,
      "metadata": {
        "id": "9HSIgosEjmDo"
      },
      "outputs": [],
      "source": []
    }
  ],
  "metadata": {
    "kernelspec": {
      "display_name": "Python 3",
      "language": "python",
      "name": "python3"
    },
    "language_info": {
      "codemirror_mode": {
        "name": "ipython",
        "version": 3
      },
      "file_extension": ".py",
      "mimetype": "text/x-python",
      "name": "python",
      "nbconvert_exporter": "python",
      "pygments_lexer": "ipython3",
      "version": "3.11.7"
    },
    "colab": {
      "provenance": []
    }
  },
  "nbformat": 4,
  "nbformat_minor": 0
}