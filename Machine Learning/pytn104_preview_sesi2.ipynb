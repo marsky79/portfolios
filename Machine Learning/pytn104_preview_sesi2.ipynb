{
  "nbformat": 4,
  "nbformat_minor": 0,
  "metadata": {
    "colab": {
      "provenance": []
    },
    "kernelspec": {
      "name": "python3",
      "display_name": "Python 3"
    },
    "language_info": {
      "name": "python"
    }
  },
  "cells": [
    {
      "cell_type": "markdown",
      "source": [
        "Di sesi 2 kita akan masuk ke materi yang mengontrol jalan code nya.\n",
        "\n",
        "Selain data, saat membuat program kita perlu proses. input > proses > output\n",
        "\n",
        "di proses ini kita perlu cara untuk memisahkan jalan mana yang benar atau salah. contohnya:\n",
        "- program untuk cetak ktp\n",
        "- cek umur orang yang minta (>= 17 tahun atau tidak)\n",
        "- cek status ktp orang yang minta (sudah pernah print/ belum)\n",
        "\n",
        "kalau orangnya >= 17 tahun, cetak ktp warna biru. kalau tidak, cetak ktp warna pink.\n",
        "\n",
        "kalau sudah pernah print, minta lampiran ktp hilang. kalau belum pernah, bisa langsung cetak.\n",
        "\n",
        "satu pertanyaan dua jalur. kalau lebih dari dua jalur, saat menyusun pertanyaan tetap satu per satu.\n",
        "\n",
        "- misalkan untuk lansia dibuatlah ktp baru warna emas, kita perlu tambah satu pertanyaan lagi saat cek umur.\n",
        "\n",
        "kalau orangnya >= 17 tahun, apakah >= 65 tahun? iya - cetak warna emas. tidak - cetak warna biru\n",
        "\n",
        "# Conditional\n",
        "kita tanya sebuah pertanyaan True atau False, lalu tergantung dari jawaban pertanyaan tersebut, kita masuk ke jalur code A atau jalur code B."
      ],
      "metadata": {
        "id": "p7D2JG_b74eV"
      }
    },
    {
      "cell_type": "code",
      "source": [
        "umur = 12\n",
        "pernah_print = True\n",
        "\n",
        "if (umur >= 17):\n",
        "  print(\"cetak ktp warna biru\")"
      ],
      "metadata": {
        "id": "lKbhojNT9F8H"
      },
      "execution_count": null,
      "outputs": []
    },
    {
      "cell_type": "code",
      "source": [
        "if (umur >= 17):\n",
        "  if (umur >= 65):\n",
        "    print(\"cetak ktp warna emas\")\n",
        "  else:\n",
        "    print(\"cetak ktp warna biru\")"
      ],
      "metadata": {
        "id": "aiQGLlRJ9TLG"
      },
      "execution_count": null,
      "outputs": []
    },
    {
      "cell_type": "code",
      "source": [
        "if (umur >= 17):\n",
        "  if (umur >= 65):\n",
        "    print(\"cetak ktp warna emas\")\n",
        "  else:\n",
        "    print(\"cetak ktp warna biru\")\n",
        "else:\n",
        "  print(\"cetak ktp warna pink\")"
      ],
      "metadata": {
        "colab": {
          "base_uri": "https://localhost:8080/"
        },
        "id": "WNE93GYi9lJJ",
        "outputId": "13adff71-4ceb-4746-f40b-c42acc3503cb"
      },
      "execution_count": null,
      "outputs": [
        {
          "output_type": "stream",
          "name": "stdout",
          "text": [
            "cetak ktp warna pink\n"
          ]
        }
      ]
    },
    {
      "cell_type": "markdown",
      "source": [
        "# latihan pendek\n",
        "\n",
        "misalkan kita diberikan tugas untuk pergi berbelanja.\n",
        "\n",
        "- buatlah dictionary barang-barang belanjaan dengan harganya (misalnya \"apel\": 5000)\n",
        "- buatlah list barang yang mau dibeli (string)\n",
        "- ambil barang pertama dalam list, masukin ke variable\n",
        "- cek harga barang tersebut\n",
        "- cek apakah ada \"susu\" di dalam list barang yang mau dibeli\n",
        "  - kalau ada, cek harga \"susu\" di dalam dictionary tadi\n",
        "  - kalau tidak ada, tambahkan ke list, dan tambahkan ke dictionary item susu seharga 15000\n",
        "\n"
      ],
      "metadata": {
        "id": "7GqN5rGh-Tbt"
      }
    },
    {
      "cell_type": "code",
      "source": [
        "harga_barang = {\n",
        "    \"beras\": 5000,\n",
        "    \"spageti\": 12000,\n",
        "    \"tomat\": 3000,\n",
        "    \"kecap_manis\": 5500,\n",
        "    \"kecap_asin\": 3200\n",
        "}"
      ],
      "metadata": {
        "id": "CXeSnGhT9s0-"
      },
      "execution_count": null,
      "outputs": []
    },
    {
      "cell_type": "code",
      "source": [
        "mau_dibeli = [\"tomat\", \"beras\"]"
      ],
      "metadata": {
        "id": "GPgaxUsjDDBT"
      },
      "execution_count": null,
      "outputs": []
    },
    {
      "cell_type": "code",
      "source": [
        "brg = mau_dibeli[0]"
      ],
      "metadata": {
        "id": "5i5hb5BZDHjd"
      },
      "execution_count": null,
      "outputs": []
    },
    {
      "cell_type": "code",
      "source": [
        "print(brg)"
      ],
      "metadata": {
        "colab": {
          "base_uri": "https://localhost:8080/"
        },
        "id": "ZGvaXXR_DTJB",
        "outputId": "04812291-a677-4762-b1d0-9353c75dd55e"
      },
      "execution_count": null,
      "outputs": [
        {
          "output_type": "stream",
          "name": "stdout",
          "text": [
            "tomat\n"
          ]
        }
      ]
    },
    {
      "cell_type": "code",
      "source": [
        "harga_barang[\"tomat\"]"
      ],
      "metadata": {
        "colab": {
          "base_uri": "https://localhost:8080/"
        },
        "id": "JMEPfF95DVPg",
        "outputId": "36d304ae-53ea-4020-e6c0-bcf266e01ee3"
      },
      "execution_count": null,
      "outputs": [
        {
          "output_type": "execute_result",
          "data": {
            "text/plain": [
              "3000"
            ]
          },
          "metadata": {},
          "execution_count": 11
        }
      ]
    },
    {
      "cell_type": "code",
      "source": [
        "harga_barang[brg]"
      ],
      "metadata": {
        "colab": {
          "base_uri": "https://localhost:8080/"
        },
        "id": "frp2Om97DjIY",
        "outputId": "62829f42-ada7-4dfe-d2d6-749a7290e4a5"
      },
      "execution_count": null,
      "outputs": [
        {
          "output_type": "execute_result",
          "data": {
            "text/plain": [
              "3000"
            ]
          },
          "metadata": {},
          "execution_count": 12
        }
      ]
    },
    {
      "cell_type": "code",
      "source": [
        "\"susu\" in mau_dibeli"
      ],
      "metadata": {
        "colab": {
          "base_uri": "https://localhost:8080/"
        },
        "id": "EpshyujwDoxU",
        "outputId": "5af8998b-54df-4d4b-bd14-3797e082aa8e"
      },
      "execution_count": null,
      "outputs": [
        {
          "output_type": "execute_result",
          "data": {
            "text/plain": [
              "False"
            ]
          },
          "metadata": {},
          "execution_count": 13
        }
      ]
    },
    {
      "cell_type": "code",
      "source": [
        "if (\"susu\" in mau_dibeli):\n",
        "  print(harga_barang[\"susu\"])\n",
        "else:\n",
        "  mau_dibeli.append(\"susu\")\n",
        "  harga_barang[\"susu\"] = 15000\n",
        "\n",
        "print(mau_dibeli)\n",
        "print(harga_barang)"
      ],
      "metadata": {
        "colab": {
          "base_uri": "https://localhost:8080/"
        },
        "id": "ols1VR1LDwpc",
        "outputId": "72853a0b-93de-4c6c-8d4e-33df7a3fbdef"
      },
      "execution_count": null,
      "outputs": [
        {
          "output_type": "stream",
          "name": "stdout",
          "text": [
            "['tomat', 'beras', 'susu']\n",
            "{'beras': 5000, 'spageti': 12000, 'tomat': 3000, 'kecap_manis': 5500, 'kecap_asin': 3200, 'susu': 15000}\n"
          ]
        }
      ]
    },
    {
      "cell_type": "code",
      "source": [],
      "metadata": {
        "id": "8_BIBxJZEEEt"
      },
      "execution_count": null,
      "outputs": []
    }
  ]
}