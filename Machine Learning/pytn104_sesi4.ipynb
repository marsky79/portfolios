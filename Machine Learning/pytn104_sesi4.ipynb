{
  "nbformat": 4,
  "nbformat_minor": 0,
  "metadata": {
    "colab": {
      "provenance": []
    },
    "kernelspec": {
      "name": "python3",
      "display_name": "Python 3"
    },
    "language_info": {
      "name": "python"
    }
  },
  "cells": [
    {
      "cell_type": "markdown",
      "source": [
        "# NumPy\n",
        "\n",
        "Numpy atau Numerical Python adalah sebuah package yang digunakan untuk manipulasi data tipe numerik.\n",
        "\n",
        "Banyak fungsi matematik, formula, yang basic, dipermudah oleh package Numpy.\n",
        "\n",
        "Banyak package yang lebih complex seperti package statistics scipy stats atau untuk manipulasi data tabular pandas yang dibangun di atas package NumPy ini.\n",
        "\n",
        "Tujuan:\n",
        "- lebih familiar dengan package python\n",
        "- struktur data n-dimensional array yang ada di dalam numpy\n",
        "- belajar cara pakai package numpy untuk manipulasi angka\n",
        "\n",
        "## NumPy Array\n",
        "kita bisa konversi list berisi angka menjadi sebuah NumPy Array. Ada beberapa requirement:\n",
        "1. isinya harus angka semua, boleh float boleh int\n",
        "2. kalau dimensi lebih dari 1, setiap dimensi memiliki ukuran yang sama"
      ],
      "metadata": {
        "id": "j2ta2FEc0H40"
      }
    },
    {
      "cell_type": "code",
      "execution_count": null,
      "metadata": {
        "id": "1d2hLdWfwzLh"
      },
      "outputs": [],
      "source": [
        "import numpy as np"
      ]
    },
    {
      "cell_type": "code",
      "source": [
        "# Create Array\n",
        "np.array([1,2,3])"
      ],
      "metadata": {
        "colab": {
          "base_uri": "https://localhost:8080/"
        },
        "id": "iguWiJo_1WGI",
        "outputId": "20ec79c3-18f9-412b-c6b0-93dd759a8841"
      },
      "execution_count": null,
      "outputs": [
        {
          "output_type": "execute_result",
          "data": {
            "text/plain": [
              "array([1, 2, 3])"
            ]
          },
          "metadata": {},
          "execution_count": 2
        }
      ]
    },
    {
      "cell_type": "markdown",
      "source": [
        "kenapa pakai numpy array dan bukan list? ada banyak teknik yang built-in di dalam numpy array yang mempermudah kita handle data numerik"
      ],
      "metadata": {
        "id": "IZNHTXzG2pc7"
      }
    },
    {
      "cell_type": "code",
      "source": [
        "stok = np.array([10,20,15])\n",
        "harga= np.array([5000,25000,51000])\n",
        "\n",
        "stok * harga"
      ],
      "metadata": {
        "colab": {
          "base_uri": "https://localhost:8080/"
        },
        "id": "urrHf6Om13qc",
        "outputId": "9547faa9-e5ff-4147-a602-47758f65703d"
      },
      "execution_count": null,
      "outputs": [
        {
          "output_type": "execute_result",
          "data": {
            "text/plain": [
              "array([ 50000, 500000, 765000])"
            ]
          },
          "metadata": {},
          "execution_count": 3
        }
      ]
    },
    {
      "cell_type": "code",
      "source": [
        "stok + np.array([10,10,10])"
      ],
      "metadata": {
        "colab": {
          "base_uri": "https://localhost:8080/"
        },
        "id": "y5CcfJdd2XKX",
        "outputId": "35309a04-e8e4-4ec6-f118-75bd74760319"
      },
      "execution_count": null,
      "outputs": [
        {
          "output_type": "execute_result",
          "data": {
            "text/plain": [
              "array([20, 30, 25])"
            ]
          },
          "metadata": {},
          "execution_count": 5
        }
      ]
    },
    {
      "cell_type": "code",
      "source": [
        "stok + 10"
      ],
      "metadata": {
        "colab": {
          "base_uri": "https://localhost:8080/"
        },
        "id": "9K-IvQyZ2jd9",
        "outputId": "19a2e18e-4882-47ba-9a30-16d74e8b4ea6"
      },
      "execution_count": null,
      "outputs": [
        {
          "output_type": "execute_result",
          "data": {
            "text/plain": [
              "array([20, 30, 25])"
            ]
          },
          "metadata": {},
          "execution_count": 6
        }
      ]
    },
    {
      "cell_type": "code",
      "source": [
        "# Create Array - generate list angka langsung tanpa konversi dari list/tuple\n",
        "# isinya 0 semua\n",
        "np.zeros(5)"
      ],
      "metadata": {
        "colab": {
          "base_uri": "https://localhost:8080/"
        },
        "id": "hFLXDVAe2m68",
        "outputId": "3a60987a-35fd-494f-d1de-e08d35ab4e46"
      },
      "execution_count": null,
      "outputs": [
        {
          "output_type": "execute_result",
          "data": {
            "text/plain": [
              "array([0., 0., 0., 0., 0.])"
            ]
          },
          "metadata": {},
          "execution_count": 7
        }
      ]
    },
    {
      "cell_type": "code",
      "source": [
        "# isinya 1 semua\n",
        "np.ones(7)"
      ],
      "metadata": {
        "colab": {
          "base_uri": "https://localhost:8080/"
        },
        "id": "jXJyZKhQ26AF",
        "outputId": "815ff28c-0c00-4c79-e594-d3f0b6effe60"
      },
      "execution_count": null,
      "outputs": [
        {
          "output_type": "execute_result",
          "data": {
            "text/plain": [
              "array([1., 1., 1., 1., 1., 1., 1.])"
            ]
          },
          "metadata": {},
          "execution_count": 9
        }
      ]
    },
    {
      "cell_type": "code",
      "source": [
        "# isinya angka urut\n",
        "np.arange(10)"
      ],
      "metadata": {
        "colab": {
          "base_uri": "https://localhost:8080/"
        },
        "id": "hsIHObui29iU",
        "outputId": "d48c8c5b-14ae-4e37-8e6a-74a478b1a8b8"
      },
      "execution_count": null,
      "outputs": [
        {
          "output_type": "execute_result",
          "data": {
            "text/plain": [
              "array([0, 1, 2, 3, 4, 5, 6, 7, 8, 9])"
            ]
          },
          "metadata": {},
          "execution_count": 10
        }
      ]
    },
    {
      "cell_type": "code",
      "source": [
        "np.arange(5,50)"
      ],
      "metadata": {
        "colab": {
          "base_uri": "https://localhost:8080/"
        },
        "id": "B38db3HX3IkK",
        "outputId": "e6464965-bfa3-4c40-99dd-516e8c8f0985"
      },
      "execution_count": null,
      "outputs": [
        {
          "output_type": "execute_result",
          "data": {
            "text/plain": [
              "array([ 5,  6,  7,  8,  9, 10, 11, 12, 13, 14, 15, 16, 17, 18, 19, 20, 21,\n",
              "       22, 23, 24, 25, 26, 27, 28, 29, 30, 31, 32, 33, 34, 35, 36, 37, 38,\n",
              "       39, 40, 41, 42, 43, 44, 45, 46, 47, 48, 49])"
            ]
          },
          "metadata": {},
          "execution_count": 11
        }
      ]
    },
    {
      "cell_type": "code",
      "source": [
        "np.arange(5,100,10)"
      ],
      "metadata": {
        "colab": {
          "base_uri": "https://localhost:8080/"
        },
        "id": "UNoajgUf3MLx",
        "outputId": "56a155b2-17b5-47fd-b001-2bb6a1561ceb"
      },
      "execution_count": null,
      "outputs": [
        {
          "output_type": "execute_result",
          "data": {
            "text/plain": [
              "array([ 5, 15, 25, 35, 45, 55, 65, 75, 85, 95])"
            ]
          },
          "metadata": {},
          "execution_count": 12
        }
      ]
    },
    {
      "cell_type": "markdown",
      "source": [
        "# Array 2D\n",
        "NumPy Array bisa memiliki lebih dari 1 dimensi"
      ],
      "metadata": {
        "id": "jbSMAhpd3oKQ"
      }
    },
    {
      "cell_type": "code",
      "source": [
        "np.array([[1,2,3]])"
      ],
      "metadata": {
        "colab": {
          "base_uri": "https://localhost:8080/"
        },
        "id": "NEHN073_3SuN",
        "outputId": "534489e8-8258-4461-e3bb-765bd79c14fe"
      },
      "execution_count": null,
      "outputs": [
        {
          "output_type": "execute_result",
          "data": {
            "text/plain": [
              "array([[1, 2, 3]])"
            ]
          },
          "metadata": {},
          "execution_count": 13
        }
      ]
    },
    {
      "cell_type": "markdown",
      "source": [
        "diatas adalah numpy array 2 dimensi dengan 1 row dan 3 columns"
      ],
      "metadata": {
        "id": "OVkLUx0B3yFf"
      }
    },
    {
      "cell_type": "code",
      "source": [
        "np.array([[1,2,3], [4,5,6], [7,8,9], [10,11,12]])"
      ],
      "metadata": {
        "colab": {
          "base_uri": "https://localhost:8080/"
        },
        "id": "5ELGz3kz3wSw",
        "outputId": "c4213a0d-13aa-44d8-cb75-880570a6c1e8"
      },
      "execution_count": null,
      "outputs": [
        {
          "output_type": "execute_result",
          "data": {
            "text/plain": [
              "array([[ 1,  2,  3],\n",
              "       [ 4,  5,  6],\n",
              "       [ 7,  8,  9],\n",
              "       [10, 11, 12]])"
            ]
          },
          "metadata": {},
          "execution_count": 14
        }
      ]
    },
    {
      "cell_type": "markdown",
      "source": [
        "diatas adalah numpy array 2 dimensi dengan 4 row dan 3 column"
      ],
      "metadata": {
        "id": "0rGDoppW396n"
      }
    },
    {
      "cell_type": "markdown",
      "source": [
        "## Shape\n",
        "untuk mengecek sebuah numpy array memiliki:\n",
        "- berapa dimensi\n",
        "- berapa item (ada berapa angka totalnya)\n",
        "- berapa row, column... berapa item per dimensi\n",
        "\n",
        "kita bisa gunakan `shape`"
      ],
      "metadata": {
        "id": "55EVCkFE4ced"
      }
    },
    {
      "cell_type": "code",
      "source": [
        "contoh_arr = np.array([[1,2,3], [4,5,6], [7,8,9], [10,11,12]])\n",
        "\n",
        "contoh_arr.shape"
      ],
      "metadata": {
        "colab": {
          "base_uri": "https://localhost:8080/"
        },
        "id": "zNB2MBa0386r",
        "outputId": "ef8aa22a-2af8-4fc8-8347-2035c33e2530"
      },
      "execution_count": null,
      "outputs": [
        {
          "output_type": "execute_result",
          "data": {
            "text/plain": [
              "(4, 3)"
            ]
          },
          "metadata": {},
          "execution_count": 16
        }
      ]
    },
    {
      "cell_type": "markdown",
      "source": [
        "di contoh diatas, numpy array kita yang memiliki 4 rows dan 3 columns, memiliki shape `4,3`\n",
        "\n",
        "artinya, di dimensi pertama ada 4 item. di dimensi kedua ada 3 item.\n",
        "\n",
        "row adalah dimensi pertama, column adalah dimensi kedua."
      ],
      "metadata": {
        "id": "ZCphRcB64vsE"
      }
    },
    {
      "cell_type": "code",
      "source": [
        "contoh_arr = np.array([7,8,9])\n",
        "\n",
        "contoh_arr.shape"
      ],
      "metadata": {
        "colab": {
          "base_uri": "https://localhost:8080/"
        },
        "id": "uGSBhRN_4tRB",
        "outputId": "586cb596-d0ca-4c61-f472-2cfa1837720d"
      },
      "execution_count": null,
      "outputs": [
        {
          "output_type": "execute_result",
          "data": {
            "text/plain": [
              "(3,)"
            ]
          },
          "metadata": {},
          "execution_count": 17
        }
      ]
    },
    {
      "cell_type": "markdown",
      "source": [
        "di contoh diatas, numpy array kita memiliki 1 dimensi berisi 3 item. jadi shape nya `3`"
      ],
      "metadata": {
        "id": "ixgUK1uk5bbl"
      }
    },
    {
      "cell_type": "code",
      "source": [
        "contoh_arr = np.array([[7,8,9]])\n",
        "\n",
        "contoh_arr.shape"
      ],
      "metadata": {
        "colab": {
          "base_uri": "https://localhost:8080/"
        },
        "id": "fiHm-1c85YQ1",
        "outputId": "7fe79c6c-e16c-45e2-99aa-1a4bdccb6e18"
      },
      "execution_count": null,
      "outputs": [
        {
          "output_type": "execute_result",
          "data": {
            "text/plain": [
              "(1, 3)"
            ]
          },
          "metadata": {},
          "execution_count": 18
        }
      ]
    },
    {
      "cell_type": "markdown",
      "source": [
        "di contoh diatas, dimensi pertama memiliki 1 item saja. 1 row. dimensi kedua memiliki 3 item. 3 column."
      ],
      "metadata": {
        "id": "Fu24TdsL5sRg"
      }
    },
    {
      "cell_type": "code",
      "source": [
        "np.array([[7],[8],[9]])"
      ],
      "metadata": {
        "colab": {
          "base_uri": "https://localhost:8080/"
        },
        "id": "-bn7TqQc6DuX",
        "outputId": "3b1f60c0-32d6-4bf5-ed96-e4a7d1fc03bd"
      },
      "execution_count": null,
      "outputs": [
        {
          "output_type": "execute_result",
          "data": {
            "text/plain": [
              "array([[7],\n",
              "       [8],\n",
              "       [9]])"
            ]
          },
          "metadata": {},
          "execution_count": 19
        }
      ]
    },
    {
      "cell_type": "code",
      "source": [
        "contoh_arr = np.array([[7],[8],[9]])\n",
        "\n",
        "contoh_arr.shape"
      ],
      "metadata": {
        "colab": {
          "base_uri": "https://localhost:8080/"
        },
        "id": "qoEScMx85prG",
        "outputId": "9038fe48-8827-472d-9755-6e6e564655f6"
      },
      "execution_count": null,
      "outputs": [
        {
          "output_type": "execute_result",
          "data": {
            "text/plain": [
              "(3, 1)"
            ]
          },
          "metadata": {},
          "execution_count": 20
        }
      ]
    },
    {
      "cell_type": "markdown",
      "source": [
        "## recap\n",
        "- numpy array bisa memiliki lebih dari 1 dimensi\n",
        "- kita buat numpy array menggunakan:\n",
        "  - np.array()\n",
        "  - np.ones()\n",
        "  - np.zeros()\n",
        "  - np.arange()\n",
        "- untuk mengecek bentuk sebuah numpy array kita gunakan `shape`\n",
        "\n",
        "untuk mengubah `shape` sebuah numpy array kita bisa gunakan `reshape` dan teknik lainnya seperti: append, delete, dan sort.\n",
        "\n",
        "## Mengubah Numpy Array - reshape\n",
        "\n",
        "kita bisa membuat numpy array dengan np.ones, zeros, dan arange. tapi bentuknya semua 1 dimensi. untuk membuat yang bentuknya 2 dimensi kita pakai `reshape`"
      ],
      "metadata": {
        "id": "Sfo1ozaZ6NIf"
      }
    },
    {
      "cell_type": "code",
      "source": [
        "np.ones(12)"
      ],
      "metadata": {
        "colab": {
          "base_uri": "https://localhost:8080/"
        },
        "id": "38CeHEjQ6FSP",
        "outputId": "702f3dc1-e277-4214-e137-1e2d9ff28088"
      },
      "execution_count": null,
      "outputs": [
        {
          "output_type": "execute_result",
          "data": {
            "text/plain": [
              "array([1., 1., 1., 1., 1., 1., 1., 1., 1., 1., 1., 1.])"
            ]
          },
          "metadata": {},
          "execution_count": 21
        }
      ]
    },
    {
      "cell_type": "code",
      "source": [
        "np.ones(12).reshape((3,4))"
      ],
      "metadata": {
        "colab": {
          "base_uri": "https://localhost:8080/"
        },
        "id": "23O_xy-c8TnO",
        "outputId": "a427b1eb-3054-41bd-a41b-e244c197355c"
      },
      "execution_count": null,
      "outputs": [
        {
          "output_type": "execute_result",
          "data": {
            "text/plain": [
              "array([[1., 1., 1., 1.],\n",
              "       [1., 1., 1., 1.],\n",
              "       [1., 1., 1., 1.]])"
            ]
          },
          "metadata": {},
          "execution_count": 22
        }
      ]
    },
    {
      "cell_type": "code",
      "source": [
        "np.ones(12).reshape((4,3))"
      ],
      "metadata": {
        "colab": {
          "base_uri": "https://localhost:8080/"
        },
        "id": "w-Co1Va48cGu",
        "outputId": "eaf1e56a-21b5-42ec-c588-2dd17a650b93"
      },
      "execution_count": null,
      "outputs": [
        {
          "output_type": "execute_result",
          "data": {
            "text/plain": [
              "array([[1., 1., 1.],\n",
              "       [1., 1., 1.],\n",
              "       [1., 1., 1.],\n",
              "       [1., 1., 1.]])"
            ]
          },
          "metadata": {},
          "execution_count": 23
        }
      ]
    },
    {
      "cell_type": "code",
      "source": [
        "np.ones(12).reshape((2,6))"
      ],
      "metadata": {
        "colab": {
          "base_uri": "https://localhost:8080/"
        },
        "id": "daxSh6FO8ejH",
        "outputId": "84def0ab-1010-46c7-c3f3-3b5a15bb58b8"
      },
      "execution_count": null,
      "outputs": [
        {
          "output_type": "execute_result",
          "data": {
            "text/plain": [
              "array([[1., 1., 1., 1., 1., 1.],\n",
              "       [1., 1., 1., 1., 1., 1.]])"
            ]
          },
          "metadata": {},
          "execution_count": 24
        }
      ]
    },
    {
      "cell_type": "code",
      "source": [
        "np.ones(12).reshape((1,12))"
      ],
      "metadata": {
        "colab": {
          "base_uri": "https://localhost:8080/"
        },
        "id": "3DGwyDJ08gm2",
        "outputId": "f86fbed7-6767-4dff-d047-5a375fd3df99"
      },
      "execution_count": null,
      "outputs": [
        {
          "output_type": "execute_result",
          "data": {
            "text/plain": [
              "array([[1., 1., 1., 1., 1., 1., 1., 1., 1., 1., 1., 1.]])"
            ]
          },
          "metadata": {},
          "execution_count": 26
        }
      ]
    },
    {
      "cell_type": "markdown",
      "source": [
        "dengan menggunakan reshape dan memberi shape seperti (1,12) atau (3,4) kita mengubah shape numpy array menjadi 2 dimensi\n",
        "\n",
        "note: untuk ones dan zeros shape nya bisa kita langsung request tanpa menggunakan reshape"
      ],
      "metadata": {
        "id": "do-XDGCJ8mBC"
      }
    },
    {
      "cell_type": "code",
      "source": [
        "np.ones((6))"
      ],
      "metadata": {
        "colab": {
          "base_uri": "https://localhost:8080/"
        },
        "id": "tGNDEhJ28i0H",
        "outputId": "2e4a1ac9-d91b-48ac-f78e-a2775371687c"
      },
      "execution_count": null,
      "outputs": [
        {
          "output_type": "execute_result",
          "data": {
            "text/plain": [
              "array([1., 1., 1., 1., 1., 1.])"
            ]
          },
          "metadata": {},
          "execution_count": 27
        }
      ]
    },
    {
      "cell_type": "code",
      "source": [
        "np.ones((6,3))"
      ],
      "metadata": {
        "colab": {
          "base_uri": "https://localhost:8080/"
        },
        "id": "mjsRIT2h83mP",
        "outputId": "86450702-bba5-42a6-c7e1-03e44769afc7"
      },
      "execution_count": null,
      "outputs": [
        {
          "output_type": "execute_result",
          "data": {
            "text/plain": [
              "array([[1., 1., 1.],\n",
              "       [1., 1., 1.],\n",
              "       [1., 1., 1.],\n",
              "       [1., 1., 1.],\n",
              "       [1., 1., 1.],\n",
              "       [1., 1., 1.]])"
            ]
          },
          "metadata": {},
          "execution_count": 28
        }
      ]
    },
    {
      "cell_type": "markdown",
      "source": [
        "perhatikan shape (6) membuat 1 dimensi. dan shape (6,3) membuat 2 dimensi.\n",
        "\n",
        "untuk np.arange, khusus kita bisa pakai reshape saja, untuk mengubah bentuk dan dimensi nya"
      ],
      "metadata": {
        "id": "xlvoRtHn871m"
      }
    },
    {
      "cell_type": "code",
      "source": [
        "np.arange(12).reshape((3,4))"
      ],
      "metadata": {
        "colab": {
          "base_uri": "https://localhost:8080/"
        },
        "id": "78cQMVwb85an",
        "outputId": "35cb389a-6701-4d52-a5d2-9cb28fa81c90"
      },
      "execution_count": null,
      "outputs": [
        {
          "output_type": "execute_result",
          "data": {
            "text/plain": [
              "array([[ 0,  1,  2,  3],\n",
              "       [ 4,  5,  6,  7],\n",
              "       [ 8,  9, 10, 11]])"
            ]
          },
          "metadata": {},
          "execution_count": 29
        }
      ]
    },
    {
      "cell_type": "markdown",
      "source": [
        "contoh diatas, kita membuat numpy array 2 dimensi dengan 12 angka urut bentuk 3 row 4 column\n",
        "\n",
        "sebenarnya dengan menggabungkan beberapa kemampuan numpy array kita bisa \"generate\" data dummy dengan mudah. contohnya hasil lempar dadu, result antara 1-6, kita bisa buat dummy data hasil lempar 100x."
      ],
      "metadata": {
        "id": "37nxAf8P9KJr"
      }
    },
    {
      "cell_type": "code",
      "source": [
        "# np.random.random -- untuk membuat data random\n",
        "np.random.random(10)"
      ],
      "metadata": {
        "colab": {
          "base_uri": "https://localhost:8080/"
        },
        "id": "L7JFoGbf9IJc",
        "outputId": "28472546-088e-4a7c-8615-c0da7a7465f5"
      },
      "execution_count": null,
      "outputs": [
        {
          "output_type": "execute_result",
          "data": {
            "text/plain": [
              "array([0.61654614, 0.98022031, 0.03185836, 0.85224338, 0.51867221,\n",
              "       0.83643745, 0.18181928, 0.81818816, 0.7297825 , 0.43899211])"
            ]
          },
          "metadata": {},
          "execution_count": 30
        }
      ]
    },
    {
      "cell_type": "code",
      "source": [
        "np.random.random(10) * 6"
      ],
      "metadata": {
        "colab": {
          "base_uri": "https://localhost:8080/"
        },
        "id": "HjU_8Uqh9jRm",
        "outputId": "cb43db39-edf4-43ae-e3a8-66dc497ebeda"
      },
      "execution_count": null,
      "outputs": [
        {
          "output_type": "execute_result",
          "data": {
            "text/plain": [
              "array([3.44547367, 4.19725603, 0.75589464, 0.85848698, 3.36854271,\n",
              "       5.27140438, 4.57688912, 2.71440659, 4.4869498 , 2.66390181])"
            ]
          },
          "metadata": {},
          "execution_count": 31
        }
      ]
    },
    {
      "cell_type": "code",
      "source": [
        "# ubah jadi integer\n",
        "random_arr = np.random.random(100) * 6 + 1\n",
        "random_arr.astype(int)"
      ],
      "metadata": {
        "colab": {
          "base_uri": "https://localhost:8080/"
        },
        "id": "e47UWiP99pDP",
        "outputId": "59fd5cdd-80be-47f6-ce86-cc6655bccedf"
      },
      "execution_count": null,
      "outputs": [
        {
          "output_type": "execute_result",
          "data": {
            "text/plain": [
              "array([6, 3, 5, 3, 2, 3, 6, 3, 1, 6, 1, 3, 6, 2, 6, 1, 4, 3, 3, 6, 6, 1,\n",
              "       3, 5, 5, 5, 2, 2, 4, 5, 5, 5, 4, 2, 5, 4, 3, 5, 2, 4, 1, 2, 1, 1,\n",
              "       3, 6, 5, 2, 2, 2, 1, 5, 1, 3, 5, 1, 1, 1, 2, 2, 4, 2, 6, 5, 4, 1,\n",
              "       1, 6, 3, 3, 3, 6, 5, 3, 1, 5, 5, 6, 1, 6, 2, 5, 5, 6, 6, 3, 6, 4,\n",
              "       6, 3, 1, 3, 5, 1, 3, 2, 1, 6, 5, 3])"
            ]
          },
          "metadata": {},
          "execution_count": 35
        }
      ]
    },
    {
      "cell_type": "code",
      "source": [
        "# reshape, misalnya ini hasil lempar dadu 5 orang, masing2 melempar 20x. jadi kita bentuk menjadi 5 baris 20 kolom\n",
        "random_arr = random_arr.astype(int)\n",
        "random_arr.reshape((5, 20))"
      ],
      "metadata": {
        "colab": {
          "base_uri": "https://localhost:8080/"
        },
        "id": "1ZPHOrRm9umC",
        "outputId": "618b3eca-5963-4f26-eb21-10bd67678a0b"
      },
      "execution_count": null,
      "outputs": [
        {
          "output_type": "execute_result",
          "data": {
            "text/plain": [
              "array([[6, 3, 5, 3, 2, 3, 6, 3, 1, 6, 1, 3, 6, 2, 6, 1, 4, 3, 3, 6],\n",
              "       [6, 1, 3, 5, 5, 5, 2, 2, 4, 5, 5, 5, 4, 2, 5, 4, 3, 5, 2, 4],\n",
              "       [1, 2, 1, 1, 3, 6, 5, 2, 2, 2, 1, 5, 1, 3, 5, 1, 1, 1, 2, 2],\n",
              "       [4, 2, 6, 5, 4, 1, 1, 6, 3, 3, 3, 6, 5, 3, 1, 5, 5, 6, 1, 6],\n",
              "       [2, 5, 5, 6, 6, 3, 6, 4, 6, 3, 1, 3, 5, 1, 3, 2, 1, 6, 5, 3]])"
            ]
          },
          "metadata": {},
          "execution_count": 36
        }
      ]
    },
    {
      "cell_type": "markdown",
      "source": [
        "## append, delete, sort\n",
        "append untuk menambahkan value\n",
        "\n",
        "delete menghapus\n",
        "\n",
        "sort mensortir hingga angka dalam numpy array urut"
      ],
      "metadata": {
        "id": "92Q5ATFA-b99"
      }
    },
    {
      "cell_type": "code",
      "source": [
        "a = np.array([1,2,3])\n",
        "b = np.array([4,5,6])\n",
        "\n",
        "c = np.append(a,b)\n",
        "c"
      ],
      "metadata": {
        "colab": {
          "base_uri": "https://localhost:8080/"
        },
        "id": "yL9xHAG_-Oca",
        "outputId": "3c8e0224-0958-4826-b0dc-e2e474525fec"
      },
      "execution_count": null,
      "outputs": [
        {
          "output_type": "execute_result",
          "data": {
            "text/plain": [
              "array([1, 2, 3, 4, 5, 6])"
            ]
          },
          "metadata": {},
          "execution_count": 39
        }
      ]
    },
    {
      "cell_type": "code",
      "source": [
        "a = np.array([[1,2,3]])\n",
        "b = np.array([[4,5,6], [7,8,9]])\n",
        "\n",
        "c = np.append(a,b)\n",
        "c"
      ],
      "metadata": {
        "colab": {
          "base_uri": "https://localhost:8080/"
        },
        "id": "wDpk_J8n-tJL",
        "outputId": "38603eac-f551-45ac-a2a5-3783f9b026d9"
      },
      "execution_count": null,
      "outputs": [
        {
          "output_type": "execute_result",
          "data": {
            "text/plain": [
              "array([1, 2, 3, 4, 5, 6, 7, 8, 9])"
            ]
          },
          "metadata": {},
          "execution_count": 41
        }
      ]
    },
    {
      "cell_type": "code",
      "source": [
        "# hapus angka 9 di array c\n",
        "np.delete(c, -1)"
      ],
      "metadata": {
        "colab": {
          "base_uri": "https://localhost:8080/"
        },
        "id": "MIGYHipK-9Pn",
        "outputId": "7080bd04-7d43-4c40-f34b-2087f5b7d7a5"
      },
      "execution_count": null,
      "outputs": [
        {
          "output_type": "execute_result",
          "data": {
            "text/plain": [
              "array([1, 2, 3, 4, 5, 6, 7, 8])"
            ]
          },
          "metadata": {},
          "execution_count": 45
        }
      ]
    },
    {
      "cell_type": "code",
      "source": [
        "# sort\n",
        "random_arr"
      ],
      "metadata": {
        "colab": {
          "base_uri": "https://localhost:8080/"
        },
        "id": "Oe6QbTEs_RLA",
        "outputId": "34f46b2b-ea0a-40b8-f378-090c044f7b5c"
      },
      "execution_count": null,
      "outputs": [
        {
          "output_type": "execute_result",
          "data": {
            "text/plain": [
              "array([6, 3, 5, 3, 2, 3, 6, 3, 1, 6, 1, 3, 6, 2, 6, 1, 4, 3, 3, 6, 6, 1,\n",
              "       3, 5, 5, 5, 2, 2, 4, 5, 5, 5, 4, 2, 5, 4, 3, 5, 2, 4, 1, 2, 1, 1,\n",
              "       3, 6, 5, 2, 2, 2, 1, 5, 1, 3, 5, 1, 1, 1, 2, 2, 4, 2, 6, 5, 4, 1,\n",
              "       1, 6, 3, 3, 3, 6, 5, 3, 1, 5, 5, 6, 1, 6, 2, 5, 5, 6, 6, 3, 6, 4,\n",
              "       6, 3, 1, 3, 5, 1, 3, 2, 1, 6, 5, 3])"
            ]
          },
          "metadata": {},
          "execution_count": 46
        }
      ]
    },
    {
      "cell_type": "code",
      "source": [
        "np.sort(random_arr)"
      ],
      "metadata": {
        "colab": {
          "base_uri": "https://localhost:8080/"
        },
        "id": "9GBrUipb_afU",
        "outputId": "0eb91d8b-bb81-4927-e892-ebbdd72e72ec"
      },
      "execution_count": null,
      "outputs": [
        {
          "output_type": "execute_result",
          "data": {
            "text/plain": [
              "array([1, 1, 1, 1, 1, 1, 1, 1, 1, 1, 1, 1, 1, 1, 1, 1, 1, 1, 1, 2, 2, 2,\n",
              "       2, 2, 2, 2, 2, 2, 2, 2, 2, 2, 2, 2, 3, 3, 3, 3, 3, 3, 3, 3, 3, 3,\n",
              "       3, 3, 3, 3, 3, 3, 3, 3, 3, 3, 4, 4, 4, 4, 4, 4, 4, 4, 5, 5, 5, 5,\n",
              "       5, 5, 5, 5, 5, 5, 5, 5, 5, 5, 5, 5, 5, 5, 5, 5, 6, 6, 6, 6, 6, 6,\n",
              "       6, 6, 6, 6, 6, 6, 6, 6, 6, 6, 6, 6])"
            ]
          },
          "metadata": {},
          "execution_count": 47
        }
      ]
    },
    {
      "cell_type": "markdown",
      "source": [
        "ndim dan size"
      ],
      "metadata": {
        "id": "9Zoks5cL_i9D"
      }
    },
    {
      "cell_type": "code",
      "source": [
        "random_arr.ndim"
      ],
      "metadata": {
        "colab": {
          "base_uri": "https://localhost:8080/"
        },
        "id": "55IMwtd__cBZ",
        "outputId": "b146bb45-739f-402f-d3cf-d8bbadd77163"
      },
      "execution_count": null,
      "outputs": [
        {
          "output_type": "execute_result",
          "data": {
            "text/plain": [
              "1"
            ]
          },
          "metadata": {},
          "execution_count": 48
        }
      ]
    },
    {
      "cell_type": "code",
      "source": [
        "random_arr.size"
      ],
      "metadata": {
        "colab": {
          "base_uri": "https://localhost:8080/"
        },
        "id": "bCIsrz-h_lDV",
        "outputId": "9702e968-6462-4e6c-dbc2-76e542008598"
      },
      "execution_count": null,
      "outputs": [
        {
          "output_type": "execute_result",
          "data": {
            "text/plain": [
              "100"
            ]
          },
          "metadata": {},
          "execution_count": 49
        }
      ]
    },
    {
      "cell_type": "code",
      "source": [
        "random_arr.shape"
      ],
      "metadata": {
        "colab": {
          "base_uri": "https://localhost:8080/"
        },
        "id": "6OpZWXJc_mct",
        "outputId": "5097d3af-b234-49e2-a341-54553afcbf8c"
      },
      "execution_count": null,
      "outputs": [
        {
          "output_type": "execute_result",
          "data": {
            "text/plain": [
              "(100,)"
            ]
          },
          "metadata": {},
          "execution_count": 50
        }
      ]
    },
    {
      "cell_type": "markdown",
      "source": [
        "selain `shape` kita bisa gunakan `ndim` untuk cek ada berapa dimensi dan `size` untuk mengetahui ada berapa angka di dalam sebuah numpy array"
      ],
      "metadata": {
        "id": "ICdu_uJM_pLf"
      }
    },
    {
      "cell_type": "code",
      "source": [
        "arr2 = random_arr.reshape((5,20))\n",
        "\n",
        "print(arr2.ndim, arr2.size, arr2.shape)"
      ],
      "metadata": {
        "colab": {
          "base_uri": "https://localhost:8080/"
        },
        "id": "9TSJy0G4_oRO",
        "outputId": "b790b305-6c2a-4b81-f6d2-4eee0b9b481d"
      },
      "execution_count": null,
      "outputs": [
        {
          "output_type": "stream",
          "name": "stdout",
          "text": [
            "2 100 (5, 20)\n"
          ]
        }
      ]
    },
    {
      "cell_type": "code",
      "source": [
        "arr2"
      ],
      "metadata": {
        "colab": {
          "base_uri": "https://localhost:8080/"
        },
        "id": "X4pXe_Cc_3WN",
        "outputId": "816ce75b-aa4b-4e70-8b8f-5e6d59c96679"
      },
      "execution_count": null,
      "outputs": [
        {
          "output_type": "execute_result",
          "data": {
            "text/plain": [
              "array([[6, 3, 5, 3, 2, 3, 6, 3, 1, 6, 1, 3, 6, 2, 6, 1, 4, 3, 3, 6],\n",
              "       [6, 1, 3, 5, 5, 5, 2, 2, 4, 5, 5, 5, 4, 2, 5, 4, 3, 5, 2, 4],\n",
              "       [1, 2, 1, 1, 3, 6, 5, 2, 2, 2, 1, 5, 1, 3, 5, 1, 1, 1, 2, 2],\n",
              "       [4, 2, 6, 5, 4, 1, 1, 6, 3, 3, 3, 6, 5, 3, 1, 5, 5, 6, 1, 6],\n",
              "       [2, 5, 5, 6, 6, 3, 6, 4, 6, 3, 1, 3, 5, 1, 3, 2, 1, 6, 5, 3]])"
            ]
          },
          "metadata": {},
          "execution_count": 52
        }
      ]
    },
    {
      "cell_type": "markdown",
      "source": [
        "# Indexing dan Slicing\n",
        "Indexing - mengambil 1 data dari sebuah numpy array\n",
        "\n",
        "Slicing - mengambil beberapa data sekaligus dari sebuah numpy array"
      ],
      "metadata": {
        "id": "E7IKtfv1AZxY"
      }
    },
    {
      "cell_type": "code",
      "source": [
        "# kita gunakan contoh array baru\n",
        "arr3 = np.arange(7,108,7).reshape((3,5))\n",
        "arr3"
      ],
      "metadata": {
        "colab": {
          "base_uri": "https://localhost:8080/"
        },
        "id": "qMLtVoIVAWcY",
        "outputId": "ba4545e8-13ab-4d17-9a4b-69552755df0a"
      },
      "execution_count": null,
      "outputs": [
        {
          "output_type": "execute_result",
          "data": {
            "text/plain": [
              "array([[  7,  14,  21,  28,  35],\n",
              "       [ 42,  49,  56,  63,  70],\n",
              "       [ 77,  84,  91,  98, 105]])"
            ]
          },
          "metadata": {},
          "execution_count": 57
        }
      ]
    },
    {
      "cell_type": "markdown",
      "source": [
        "mau ambil angka 49, kita gunakan indexing. berapa index angka 49?\n",
        "\n",
        "angka 49 ada di baris ke-2 dan di kolom ke-2\n",
        "\n",
        "baris ke-2 memiliki index 1 di dimensi pertama\n",
        "\n",
        "kolom ke-2 memiliki index 1 di dimensi kedua\n",
        "\n",
        "jadi, index yang kita perlukan adalah [1,1]"
      ],
      "metadata": {
        "id": "n3MvSjK4A92i"
      }
    },
    {
      "cell_type": "code",
      "source": [
        "arr3[1,1]"
      ],
      "metadata": {
        "colab": {
          "base_uri": "https://localhost:8080/"
        },
        "id": "IUm8yRv9ArKJ",
        "outputId": "9908fee3-4c2f-40a4-bc07-b7dff1235804"
      },
      "execution_count": null,
      "outputs": [
        {
          "output_type": "execute_result",
          "data": {
            "text/plain": [
              "49"
            ]
          },
          "metadata": {},
          "execution_count": 58
        }
      ]
    },
    {
      "cell_type": "markdown",
      "source": [
        "mau ambil angka 84, kita gunakan indexing, berapa index angka 84?\n",
        "\n",
        "angka 84 ada di baris ke-3 dan di kolom ke-2\n",
        "\n",
        "baris ke-3 memiliki index 2 di dimensi pertama\n",
        "\n",
        "kolom ke-2 memiliki index 1 di dimensi kedua\n",
        "\n",
        "jadi, index yang kita perlukan adalah [2,1]"
      ],
      "metadata": {
        "id": "BVWvZz0RBMKJ"
      }
    },
    {
      "cell_type": "code",
      "source": [
        "arr3[2,1]"
      ],
      "metadata": {
        "colab": {
          "base_uri": "https://localhost:8080/"
        },
        "id": "oRcpktArBKHM",
        "outputId": "ef478bf1-2004-47db-bd30-f10114154f34"
      },
      "execution_count": null,
      "outputs": [
        {
          "output_type": "execute_result",
          "data": {
            "text/plain": [
              "84"
            ]
          },
          "metadata": {},
          "execution_count": 59
        }
      ]
    },
    {
      "cell_type": "code",
      "source": [
        "arr3"
      ],
      "metadata": {
        "colab": {
          "base_uri": "https://localhost:8080/"
        },
        "id": "lows0_zbCH1s",
        "outputId": "0ae5dbaf-3ffd-4433-a632-2505ed1a6211"
      },
      "execution_count": null,
      "outputs": [
        {
          "output_type": "execute_result",
          "data": {
            "text/plain": [
              "array([[  7,  14,  21,  28,  35],\n",
              "       [ 42,  49,  56,  63,  70],\n",
              "       [ 77,  84,  91,  98, 105]])"
            ]
          },
          "metadata": {},
          "execution_count": 61
        }
      ]
    },
    {
      "cell_type": "markdown",
      "source": [
        "untuk mengambil banyak angka sekaligus, kita gunakan slicing. misalkan kita anggap data arr3 adalah data 3 orang berbeda: andi budi cindy. kita mau ambil data milik andi dan budi - baris pertama dan kedua saja.\n",
        "\n",
        "berarti kita mau ambil seluruh data di baris pertama dan kedua.\n",
        "\n",
        "baris pertama index 0 di dimensi pertama. baris kedua index 1 di dimensi pertama.\n",
        "\n",
        "kolom mau kita ambil semua, index kolom adalah `:` di dimensi kedua.\n",
        "\n",
        "jadi, kita mau ambil [[0,1],:]"
      ],
      "metadata": {
        "id": "jn3DWPx7Bok5"
      }
    },
    {
      "cell_type": "code",
      "source": [
        "arr3[[0,1],:]"
      ],
      "metadata": {
        "colab": {
          "base_uri": "https://localhost:8080/"
        },
        "id": "IlX2U6tLBgy-",
        "outputId": "c18c006b-c049-4452-8607-f987b235b483"
      },
      "execution_count": null,
      "outputs": [
        {
          "output_type": "execute_result",
          "data": {
            "text/plain": [
              "array([[ 7, 14, 21, 28, 35],\n",
              "       [42, 49, 56, 63, 70]])"
            ]
          },
          "metadata": {},
          "execution_count": 62
        }
      ]
    },
    {
      "cell_type": "markdown",
      "source": [
        "dengan demikian kita berhasil slicing, mengambil data baris 1 dan 2, dan semua kolom.\n",
        "\n",
        "bagaimana kalau kita mau ambil data kolom ke-3 saja? index kolom ke-3 adalah 2 di dimensi kedua\n",
        "\n",
        "jadi kita edit index dimensi kedua dari : menjadi 2"
      ],
      "metadata": {
        "id": "uldX7z_cCSSL"
      }
    },
    {
      "cell_type": "code",
      "source": [
        "arr3[[0,1], 2]"
      ],
      "metadata": {
        "colab": {
          "base_uri": "https://localhost:8080/"
        },
        "id": "lNSJZAl1CGlB",
        "outputId": "571b8cee-e549-4bd4-a68e-cd97fb54de98"
      },
      "execution_count": null,
      "outputs": [
        {
          "output_type": "execute_result",
          "data": {
            "text/plain": [
              "array([21, 56])"
            ]
          },
          "metadata": {},
          "execution_count": 63
        }
      ]
    },
    {
      "cell_type": "markdown",
      "source": [
        "# latihan pendek\n",
        "diberikan sebuah numpy array 2 dimensi 5 baris 10 kolom\n",
        "\n",
        "coba indexing untuk mengambil\n",
        "- data terakhir baris terakhir kolom terakhir\n",
        "- data pertama baris pertama kolom pertama\n",
        "- data baris ke-3 dan kolom ke-7\n",
        "\n",
        "coba slicing untuk mengambil\n",
        "- data baris terakhir, kolom ke-3 dan kolom ke-5\n",
        "- data baris pertama, kedua, ketiga dan kolom ke-8\n",
        "- data beris pertama, kedua, ketiga dan kolom ke 5,6,7\n",
        "\n",
        "\n"
      ],
      "metadata": {
        "id": "X6yx1QW3CkmZ"
      }
    },
    {
      "cell_type": "code",
      "source": [
        "arr = np.arange(-75,75,3).reshape((5,10))\n",
        "arr"
      ],
      "metadata": {
        "colab": {
          "base_uri": "https://localhost:8080/"
        },
        "id": "8iz5BIwECgFV",
        "outputId": "c8ceca08-0b88-45c6-958d-5d423711dc5f"
      },
      "execution_count": null,
      "outputs": [
        {
          "output_type": "execute_result",
          "data": {
            "text/plain": [
              "array([[-75, -72, -69, -66, -63, -60, -57, -54, -51, -48],\n",
              "       [-45, -42, -39, -36, -33, -30, -27, -24, -21, -18],\n",
              "       [-15, -12,  -9,  -6,  -3,   0,   3,   6,   9,  12],\n",
              "       [ 15,  18,  21,  24,  27,  30,  33,  36,  39,  42],\n",
              "       [ 45,  48,  51,  54,  57,  60,  63,  66,  69,  72]])"
            ]
          },
          "metadata": {},
          "execution_count": 70
        }
      ]
    },
    {
      "cell_type": "code",
      "source": [
        "arr[-1,-1]"
      ],
      "metadata": {
        "colab": {
          "base_uri": "https://localhost:8080/"
        },
        "id": "i1-yzvEODFf4",
        "outputId": "f6c7252c-8817-441c-d6a6-6eb18f0371d9"
      },
      "execution_count": null,
      "outputs": [
        {
          "output_type": "execute_result",
          "data": {
            "text/plain": [
              "72"
            ]
          },
          "metadata": {},
          "execution_count": 71
        }
      ]
    },
    {
      "cell_type": "code",
      "source": [
        "arr[0,0]"
      ],
      "metadata": {
        "colab": {
          "base_uri": "https://localhost:8080/"
        },
        "id": "l_TkZgQRHKiZ",
        "outputId": "218a5cb0-7a32-43f5-b64f-940e0bebad72"
      },
      "execution_count": null,
      "outputs": [
        {
          "output_type": "execute_result",
          "data": {
            "text/plain": [
              "-75"
            ]
          },
          "metadata": {},
          "execution_count": 73
        }
      ]
    },
    {
      "cell_type": "code",
      "source": [
        "arr[2,6]"
      ],
      "metadata": {
        "colab": {
          "base_uri": "https://localhost:8080/"
        },
        "id": "wRqft8bpHNhz",
        "outputId": "029d836f-f308-4711-c54b-fd9fec83eb17"
      },
      "execution_count": null,
      "outputs": [
        {
          "output_type": "execute_result",
          "data": {
            "text/plain": [
              "3"
            ]
          },
          "metadata": {},
          "execution_count": 74
        }
      ]
    },
    {
      "cell_type": "code",
      "source": [
        "arr[-1, [2,4]]"
      ],
      "metadata": {
        "colab": {
          "base_uri": "https://localhost:8080/"
        },
        "id": "U0ns_cS_HU6k",
        "outputId": "e4e049db-bf32-404b-d69e-1933f2091b6a"
      },
      "execution_count": null,
      "outputs": [
        {
          "output_type": "execute_result",
          "data": {
            "text/plain": [
              "array([51, 57])"
            ]
          },
          "metadata": {},
          "execution_count": 75
        }
      ]
    },
    {
      "cell_type": "code",
      "source": [
        "arr[[0,1,2], 7]"
      ],
      "metadata": {
        "colab": {
          "base_uri": "https://localhost:8080/"
        },
        "id": "RfZh7coXHe3e",
        "outputId": "c84082a6-b99a-47a4-9650-d401359124f8"
      },
      "execution_count": null,
      "outputs": [
        {
          "output_type": "execute_result",
          "data": {
            "text/plain": [
              "array([-54, -24,   6])"
            ]
          },
          "metadata": {},
          "execution_count": 76
        }
      ]
    },
    {
      "cell_type": "code",
      "source": [
        "arr"
      ],
      "metadata": {
        "colab": {
          "base_uri": "https://localhost:8080/"
        },
        "id": "_xtSQHVhH1y6",
        "outputId": "416a22cb-82f2-427a-f4aa-5a51148c8442"
      },
      "execution_count": null,
      "outputs": [
        {
          "output_type": "execute_result",
          "data": {
            "text/plain": [
              "array([[-75, -72, -69, -66, -63, -60, -57, -54, -51, -48],\n",
              "       [-45, -42, -39, -36, -33, -30, -27, -24, -21, -18],\n",
              "       [-15, -12,  -9,  -6,  -3,   0,   3,   6,   9,  12],\n",
              "       [ 15,  18,  21,  24,  27,  30,  33,  36,  39,  42],\n",
              "       [ 45,  48,  51,  54,  57,  60,  63,  66,  69,  72]])"
            ]
          },
          "metadata": {},
          "execution_count": 77
        }
      ]
    },
    {
      "cell_type": "code",
      "source": [
        "# data beris pertama, kedua, ketiga dan kolom ke 5,6,7\n",
        "arr[[0,1,2], [4,5,6]]"
      ],
      "metadata": {
        "colab": {
          "base_uri": "https://localhost:8080/"
        },
        "id": "MPKHbjplHtGb",
        "outputId": "d8bc5963-d25e-4386-83cf-e9d48700b7a8"
      },
      "execution_count": null,
      "outputs": [
        {
          "output_type": "execute_result",
          "data": {
            "text/plain": [
              "array([-63, -30,   3])"
            ]
          },
          "metadata": {},
          "execution_count": 78
        }
      ]
    },
    {
      "cell_type": "code",
      "source": [
        "arr[0:3, 4:7]"
      ],
      "metadata": {
        "colab": {
          "base_uri": "https://localhost:8080/"
        },
        "id": "41uc421hH8qT",
        "outputId": "934a255a-0421-45d9-de61-f0f0066ce3ce"
      },
      "execution_count": null,
      "outputs": [
        {
          "output_type": "execute_result",
          "data": {
            "text/plain": [
              "array([[-63, -60, -57],\n",
              "       [-33, -30, -27],\n",
              "       [ -3,   0,   3]])"
            ]
          },
          "metadata": {},
          "execution_count": 79
        }
      ]
    },
    {
      "cell_type": "markdown",
      "source": [
        "## teknik edit array lainnya\n",
        "splitting - memotong array menjadi beberapa bagian yang sama size nya\n",
        "\n",
        "stacking - menempelkan array, dengan catatan bentuknya harus sama. misal stack rows, jumlah column setiap array yang di stack harus sama.\n",
        "\n",
        "copy - membuat copy dari array"
      ],
      "metadata": {
        "id": "-zJFmSRaIo7B"
      }
    },
    {
      "cell_type": "code",
      "source": [
        "arr"
      ],
      "metadata": {
        "colab": {
          "base_uri": "https://localhost:8080/"
        },
        "id": "mAH_etKTIRoK",
        "outputId": "f12374ba-5364-4d7e-f3fc-af4354b7d214"
      },
      "execution_count": null,
      "outputs": [
        {
          "output_type": "execute_result",
          "data": {
            "text/plain": [
              "array([[-75, -72, -69, -66, -63, -60, -57, -54, -51, -48],\n",
              "       [-45, -42, -39, -36, -33, -30, -27, -24, -21, -18],\n",
              "       [-15, -12,  -9,  -6,  -3,   0,   3,   6,   9,  12],\n",
              "       [ 15,  18,  21,  24,  27,  30,  33,  36,  39,  42],\n",
              "       [ 45,  48,  51,  54,  57,  60,  63,  66,  69,  72]])"
            ]
          },
          "metadata": {},
          "execution_count": 80
        }
      ]
    },
    {
      "cell_type": "code",
      "source": [
        "np.hsplit(arr, 5)"
      ],
      "metadata": {
        "colab": {
          "base_uri": "https://localhost:8080/"
        },
        "id": "lYQuPR8dJCqp",
        "outputId": "6bd9ee54-0176-4757-a5ac-0441dc3e3394"
      },
      "execution_count": null,
      "outputs": [
        {
          "output_type": "execute_result",
          "data": {
            "text/plain": [
              "[array([[-75, -72],\n",
              "        [-45, -42],\n",
              "        [-15, -12],\n",
              "        [ 15,  18],\n",
              "        [ 45,  48]]),\n",
              " array([[-69, -66],\n",
              "        [-39, -36],\n",
              "        [ -9,  -6],\n",
              "        [ 21,  24],\n",
              "        [ 51,  54]]),\n",
              " array([[-63, -60],\n",
              "        [-33, -30],\n",
              "        [ -3,   0],\n",
              "        [ 27,  30],\n",
              "        [ 57,  60]]),\n",
              " array([[-57, -54],\n",
              "        [-27, -24],\n",
              "        [  3,   6],\n",
              "        [ 33,  36],\n",
              "        [ 63,  66]]),\n",
              " array([[-51, -48],\n",
              "        [-21, -18],\n",
              "        [  9,  12],\n",
              "        [ 39,  42],\n",
              "        [ 69,  72]])]"
            ]
          },
          "metadata": {},
          "execution_count": 81
        }
      ]
    },
    {
      "cell_type": "markdown",
      "source": [
        "hsplit membagi array kita menjadi beberapa array. di contoh diatas, kita minta 5 array, dipotong dari array awal secara kolom. ada 10 kolom dibagi 5, jadi masing-masing array baru punya 2 kolom"
      ],
      "metadata": {
        "id": "9ZMNpZywJOwi"
      }
    },
    {
      "cell_type": "code",
      "source": [
        "arr2 = arr.reshape((10,5))\n",
        "arr2"
      ],
      "metadata": {
        "colab": {
          "base_uri": "https://localhost:8080/"
        },
        "id": "WQ-470UpJIyq",
        "outputId": "adf41e3b-3943-4e77-93fb-085f1ef3d9e4"
      },
      "execution_count": null,
      "outputs": [
        {
          "output_type": "execute_result",
          "data": {
            "text/plain": [
              "array([[-75, -72, -69, -66, -63],\n",
              "       [-60, -57, -54, -51, -48],\n",
              "       [-45, -42, -39, -36, -33],\n",
              "       [-30, -27, -24, -21, -18],\n",
              "       [-15, -12,  -9,  -6,  -3],\n",
              "       [  0,   3,   6,   9,  12],\n",
              "       [ 15,  18,  21,  24,  27],\n",
              "       [ 30,  33,  36,  39,  42],\n",
              "       [ 45,  48,  51,  54,  57],\n",
              "       [ 60,  63,  66,  69,  72]])"
            ]
          },
          "metadata": {},
          "execution_count": 85
        }
      ]
    },
    {
      "cell_type": "code",
      "source": [
        "np.vsplit(arr2, 5)"
      ],
      "metadata": {
        "colab": {
          "base_uri": "https://localhost:8080/"
        },
        "id": "WxQ8hLRnJa32",
        "outputId": "7bb80dcd-c43a-473e-c89c-6d5b1f30f959"
      },
      "execution_count": null,
      "outputs": [
        {
          "output_type": "execute_result",
          "data": {
            "text/plain": [
              "[array([[-75, -72, -69, -66, -63],\n",
              "        [-60, -57, -54, -51, -48]]),\n",
              " array([[-45, -42, -39, -36, -33],\n",
              "        [-30, -27, -24, -21, -18]]),\n",
              " array([[-15, -12,  -9,  -6,  -3],\n",
              "        [  0,   3,   6,   9,  12]]),\n",
              " array([[15, 18, 21, 24, 27],\n",
              "        [30, 33, 36, 39, 42]]),\n",
              " array([[45, 48, 51, 54, 57],\n",
              "        [60, 63, 66, 69, 72]])]"
            ]
          },
          "metadata": {},
          "execution_count": 86
        }
      ]
    },
    {
      "cell_type": "markdown",
      "source": [
        "di contoh diatas, kita gunakan vsplit, kita bari array awal menjadi beberapa array baru dari jumlah rows nya. awalnya 10 rows menjadi 5 array masing-masing 2 row. 10 bagi 5 jadi 2."
      ],
      "metadata": {
        "id": "PqCjG1KxJour"
      }
    },
    {
      "cell_type": "markdown",
      "source": [
        "berikutnya contoh `hstack` menempelkan beberapa array yang jumlah rows nya sama"
      ],
      "metadata": {
        "id": "x_7XEMTDKWwb"
      }
    },
    {
      "cell_type": "code",
      "source": [
        "a = np.ones((3,2))\n",
        "b = np.zeros((3,1))\n",
        "\n",
        "a"
      ],
      "metadata": {
        "colab": {
          "base_uri": "https://localhost:8080/"
        },
        "id": "sZTN1vPRJnN0",
        "outputId": "df14dd26-c233-4df8-b338-42a68e53b6a7"
      },
      "execution_count": null,
      "outputs": [
        {
          "output_type": "execute_result",
          "data": {
            "text/plain": [
              "array([[1., 1.],\n",
              "       [1., 1.],\n",
              "       [1., 1.]])"
            ]
          },
          "metadata": {},
          "execution_count": 87
        }
      ]
    },
    {
      "cell_type": "code",
      "source": [
        "b"
      ],
      "metadata": {
        "colab": {
          "base_uri": "https://localhost:8080/"
        },
        "id": "_AHoGvqFKGD7",
        "outputId": "d8eb1e27-5428-4393-f208-e8ec5ebdd178"
      },
      "execution_count": null,
      "outputs": [
        {
          "output_type": "execute_result",
          "data": {
            "text/plain": [
              "array([[0.],\n",
              "       [0.],\n",
              "       [0.]])"
            ]
          },
          "metadata": {},
          "execution_count": 88
        }
      ]
    },
    {
      "cell_type": "code",
      "source": [
        "c = np.hstack([a,b])\n",
        "c"
      ],
      "metadata": {
        "colab": {
          "base_uri": "https://localhost:8080/"
        },
        "id": "yXDCwQC9KGa_",
        "outputId": "3eb86cdd-400e-494b-fffb-bf4862c80613"
      },
      "execution_count": null,
      "outputs": [
        {
          "output_type": "execute_result",
          "data": {
            "text/plain": [
              "array([[1., 1., 0.],\n",
              "       [1., 1., 0.],\n",
              "       [1., 1., 0.]])"
            ]
          },
          "metadata": {},
          "execution_count": 92
        }
      ]
    },
    {
      "cell_type": "markdown",
      "source": [
        "berikutnya contoh `vstack` menempelkan beberapa array yang jumlah columns nya sama"
      ],
      "metadata": {
        "id": "1TPjp6lrKbhv"
      }
    },
    {
      "cell_type": "code",
      "source": [
        "a = np.ones((3,4))\n",
        "b = np.zeros((2,4))\n",
        "\n",
        "a"
      ],
      "metadata": {
        "colab": {
          "base_uri": "https://localhost:8080/"
        },
        "id": "b_5QWcCEKO0O",
        "outputId": "43579ad8-9278-49ef-b802-34fc2fa9aef3"
      },
      "execution_count": null,
      "outputs": [
        {
          "output_type": "execute_result",
          "data": {
            "text/plain": [
              "array([[1., 1., 1., 1.],\n",
              "       [1., 1., 1., 1.],\n",
              "       [1., 1., 1., 1.]])"
            ]
          },
          "metadata": {},
          "execution_count": 93
        }
      ]
    },
    {
      "cell_type": "code",
      "source": [
        "b"
      ],
      "metadata": {
        "colab": {
          "base_uri": "https://localhost:8080/"
        },
        "id": "O4esJiM1KoSQ",
        "outputId": "5ec46aa1-2da1-4c27-832e-6efb7ffe0c87"
      },
      "execution_count": null,
      "outputs": [
        {
          "output_type": "execute_result",
          "data": {
            "text/plain": [
              "array([[0., 0., 0., 0.],\n",
              "       [0., 0., 0., 0.]])"
            ]
          },
          "metadata": {},
          "execution_count": 94
        }
      ]
    },
    {
      "cell_type": "code",
      "source": [
        "c = np.vstack([a,b])\n",
        "c"
      ],
      "metadata": {
        "colab": {
          "base_uri": "https://localhost:8080/"
        },
        "id": "GPu9KdtfKpTn",
        "outputId": "487982f8-9f8e-49c1-bb6a-7ce2ce12be46"
      },
      "execution_count": null,
      "outputs": [
        {
          "output_type": "execute_result",
          "data": {
            "text/plain": [
              "array([[1., 1., 1., 1.],\n",
              "       [1., 1., 1., 1.],\n",
              "       [1., 1., 1., 1.],\n",
              "       [0., 0., 0., 0.],\n",
              "       [0., 0., 0., 0.]])"
            ]
          },
          "metadata": {},
          "execution_count": 95
        }
      ]
    },
    {
      "cell_type": "markdown",
      "source": [
        "teknik copy kita gunakan untuk membuat copy sebuah array"
      ],
      "metadata": {
        "id": "-BdkylY2KwtI"
      }
    },
    {
      "cell_type": "code",
      "source": [
        "arr3"
      ],
      "metadata": {
        "colab": {
          "base_uri": "https://localhost:8080/"
        },
        "id": "jsNYyZ5mKvCu",
        "outputId": "2c3fe32a-7562-412e-dac1-9988e96211c3"
      },
      "execution_count": null,
      "outputs": [
        {
          "output_type": "execute_result",
          "data": {
            "text/plain": [
              "array([[  7,  14,  21,  28,  35],\n",
              "       [ 42,  49,  56,  63,  70],\n",
              "       [ 77,  84,  91,  98, 105]])"
            ]
          },
          "metadata": {},
          "execution_count": 96
        }
      ]
    },
    {
      "cell_type": "code",
      "source": [
        "arr3_copy = arr3.copy()\n",
        "arr3_copy"
      ],
      "metadata": {
        "colab": {
          "base_uri": "https://localhost:8080/"
        },
        "id": "BXSuN6GZKz3M",
        "outputId": "35eb58e5-1ae8-4195-c400-b4b0ca2774a1"
      },
      "execution_count": null,
      "outputs": [
        {
          "output_type": "execute_result",
          "data": {
            "text/plain": [
              "array([[  7,  14,  21,  28,  35],\n",
              "       [ 42,  49,  56,  63,  70],\n",
              "       [ 77,  84,  91,  98, 105]])"
            ]
          },
          "metadata": {},
          "execution_count": 97
        }
      ]
    },
    {
      "cell_type": "markdown",
      "source": [
        "dengan menggunakan `copy` kita membuat sebuah *deep copy* dimana mengubah arr3_copy hasil copyan tidak mengganggu data awal kita arr3"
      ],
      "metadata": {
        "id": "ass8l-8lK5Ms"
      }
    },
    {
      "cell_type": "code",
      "source": [
        "# ubah arr3_copy\n",
        "arr3_copy[-1,-1] = 100\n",
        "arr3_copy"
      ],
      "metadata": {
        "colab": {
          "base_uri": "https://localhost:8080/"
        },
        "id": "z1Bwbk76K39f",
        "outputId": "b8cd6ef6-b907-4c33-dcbc-46e39274159c"
      },
      "execution_count": null,
      "outputs": [
        {
          "output_type": "execute_result",
          "data": {
            "text/plain": [
              "array([[  7,  14,  21,  28,  35],\n",
              "       [ 42,  49,  56,  63,  70],\n",
              "       [ 77,  84,  91,  98, 100]])"
            ]
          },
          "metadata": {},
          "execution_count": 98
        }
      ]
    },
    {
      "cell_type": "code",
      "source": [
        "# tidak mengubah array awal kita arr3\n",
        "arr3"
      ],
      "metadata": {
        "colab": {
          "base_uri": "https://localhost:8080/"
        },
        "id": "MEsH4abYLGKg",
        "outputId": "e8775c1f-b7bb-46b5-9209-74402401efa9"
      },
      "execution_count": null,
      "outputs": [
        {
          "output_type": "execute_result",
          "data": {
            "text/plain": [
              "array([[  7,  14,  21,  28,  35],\n",
              "       [ 42,  49,  56,  63,  70],\n",
              "       [ 77,  84,  91,  98, 105]])"
            ]
          },
          "metadata": {},
          "execution_count": 99
        }
      ]
    },
    {
      "cell_type": "markdown",
      "source": [
        "kalau kita gunakan `view` maka hasil copy dan array asli mengganggu satu sama lain"
      ],
      "metadata": {
        "id": "NCsAI8N9LNHq"
      }
    },
    {
      "cell_type": "code",
      "source": [
        "arr3_view = arr3.view()\n",
        "arr3_view"
      ],
      "metadata": {
        "colab": {
          "base_uri": "https://localhost:8080/"
        },
        "id": "QmRaQtSaLJXo",
        "outputId": "ab24eb39-98df-4f9e-90a1-e3b526ba51ef"
      },
      "execution_count": null,
      "outputs": [
        {
          "output_type": "execute_result",
          "data": {
            "text/plain": [
              "array([[  7,  14,  21,  28,  35],\n",
              "       [ 42,  49,  56,  63,  70],\n",
              "       [ 77,  84,  91,  98, 105]])"
            ]
          },
          "metadata": {},
          "execution_count": 100
        }
      ]
    },
    {
      "cell_type": "code",
      "source": [
        "arr3_view[-1,-1] = 0"
      ],
      "metadata": {
        "id": "Vu4eJqK2LWyy"
      },
      "execution_count": null,
      "outputs": []
    },
    {
      "cell_type": "code",
      "source": [
        "arr3_view"
      ],
      "metadata": {
        "colab": {
          "base_uri": "https://localhost:8080/"
        },
        "id": "TAIb2j_GLZ2e",
        "outputId": "01864476-5d32-4a0f-8ae2-528cf837f6d8"
      },
      "execution_count": null,
      "outputs": [
        {
          "output_type": "execute_result",
          "data": {
            "text/plain": [
              "array([[ 7, 14, 21, 28, 35],\n",
              "       [42, 49, 56, 63, 70],\n",
              "       [77, 84, 91, 98,  0]])"
            ]
          },
          "metadata": {},
          "execution_count": 102
        }
      ]
    },
    {
      "cell_type": "code",
      "source": [
        "arr3"
      ],
      "metadata": {
        "colab": {
          "base_uri": "https://localhost:8080/"
        },
        "id": "GDq-LgYdLa_e",
        "outputId": "e271ef6c-b321-4790-b51e-6c99aa27a196"
      },
      "execution_count": null,
      "outputs": [
        {
          "output_type": "execute_result",
          "data": {
            "text/plain": [
              "array([[ 7, 14, 21, 28, 35],\n",
              "       [42, 49, 56, 63, 70],\n",
              "       [77, 84, 91, 98,  0]])"
            ]
          },
          "metadata": {},
          "execution_count": 103
        }
      ]
    },
    {
      "cell_type": "markdown",
      "source": [
        "mengubah array awal akan mengubah view, begitu pula sebaliknya"
      ],
      "metadata": {
        "id": "rFtyYqjGLdbO"
      }
    },
    {
      "cell_type": "markdown",
      "source": [
        "# Basic Array Operations\n",
        "kali bagi tambah kurang\n",
        "\n",
        "kita bisa lakukan operasi matematik ke array numpy kita"
      ],
      "metadata": {
        "id": "KyNlTmbILmnw"
      }
    },
    {
      "cell_type": "code",
      "source": [
        "arr3"
      ],
      "metadata": {
        "colab": {
          "base_uri": "https://localhost:8080/"
        },
        "id": "oZnGFhz7Lb8w",
        "outputId": "80a623c1-ad29-447b-f134-202dc0395191"
      },
      "execution_count": null,
      "outputs": [
        {
          "output_type": "execute_result",
          "data": {
            "text/plain": [
              "array([[ 7, 14, 21, 28, 35],\n",
              "       [42, 49, 56, 63, 70],\n",
              "       [77, 84, 91, 98,  0]])"
            ]
          },
          "metadata": {},
          "execution_count": 108
        }
      ]
    },
    {
      "cell_type": "code",
      "source": [
        "arr3.shape"
      ],
      "metadata": {
        "colab": {
          "base_uri": "https://localhost:8080/"
        },
        "id": "hERcIYpZLtXy",
        "outputId": "630b8b1f-1787-48e0-cfba-ef08b63838f3"
      },
      "execution_count": null,
      "outputs": [
        {
          "output_type": "execute_result",
          "data": {
            "text/plain": [
              "(3, 5)"
            ]
          },
          "metadata": {},
          "execution_count": 109
        }
      ]
    },
    {
      "cell_type": "code",
      "source": [
        "arr3 + 100"
      ],
      "metadata": {
        "colab": {
          "base_uri": "https://localhost:8080/"
        },
        "id": "QRDRhd4GLu0K",
        "outputId": "bfbdfbc6-d44d-41fc-c3ba-36d82aa3f0e6"
      },
      "execution_count": null,
      "outputs": [
        {
          "output_type": "execute_result",
          "data": {
            "text/plain": [
              "array([[107, 114, 121, 128, 135],\n",
              "       [142, 149, 156, 163, 170],\n",
              "       [177, 184, 191, 198, 100]])"
            ]
          },
          "metadata": {},
          "execution_count": 110
        }
      ]
    },
    {
      "cell_type": "code",
      "source": [
        "arr3 * 2"
      ],
      "metadata": {
        "colab": {
          "base_uri": "https://localhost:8080/"
        },
        "id": "zSVRYWjBLxVX",
        "outputId": "e381adff-b837-41b2-f3e1-5358c6c066b2"
      },
      "execution_count": null,
      "outputs": [
        {
          "output_type": "execute_result",
          "data": {
            "text/plain": [
              "array([[ 14,  28,  42,  56,  70],\n",
              "       [ 84,  98, 112, 126, 140],\n",
              "       [154, 168, 182, 196,   0]])"
            ]
          },
          "metadata": {},
          "execution_count": 112
        }
      ]
    },
    {
      "cell_type": "code",
      "source": [
        "arr4 = np.arange(15).reshape((3,5))\n",
        "arr4"
      ],
      "metadata": {
        "colab": {
          "base_uri": "https://localhost:8080/"
        },
        "id": "gxuBBvi7MCwe",
        "outputId": "f0063aba-c7cf-4386-c6d9-2aa60c0390f3"
      },
      "execution_count": null,
      "outputs": [
        {
          "output_type": "execute_result",
          "data": {
            "text/plain": [
              "array([[ 0,  1,  2,  3,  4],\n",
              "       [ 5,  6,  7,  8,  9],\n",
              "       [10, 11, 12, 13, 14]])"
            ]
          },
          "metadata": {},
          "execution_count": 114
        }
      ]
    },
    {
      "cell_type": "code",
      "source": [
        "arr3"
      ],
      "metadata": {
        "colab": {
          "base_uri": "https://localhost:8080/"
        },
        "id": "TdGIDqwbL5b4",
        "outputId": "c669c633-eb97-4048-fbdd-4c1203011022"
      },
      "execution_count": null,
      "outputs": [
        {
          "output_type": "execute_result",
          "data": {
            "text/plain": [
              "array([[ 7, 14, 21, 28, 35],\n",
              "       [42, 49, 56, 63, 70],\n",
              "       [77, 84, 91, 98,  0]])"
            ]
          },
          "metadata": {},
          "execution_count": 115
        }
      ]
    },
    {
      "cell_type": "code",
      "source": [
        "arr3 - arr4"
      ],
      "metadata": {
        "colab": {
          "base_uri": "https://localhost:8080/"
        },
        "id": "DW1V3ODWMAx7",
        "outputId": "3355f3d6-1f9e-480b-e408-ce91c0c78309"
      },
      "execution_count": null,
      "outputs": [
        {
          "output_type": "execute_result",
          "data": {
            "text/plain": [
              "array([[  7,  13,  19,  25,  31],\n",
              "       [ 37,  43,  49,  55,  61],\n",
              "       [ 67,  73,  79,  85, -14]])"
            ]
          },
          "metadata": {},
          "execution_count": 116
        }
      ]
    },
    {
      "cell_type": "code",
      "source": [
        "arr3 - arr4 + 3 * 2 - 10 / 5"
      ],
      "metadata": {
        "colab": {
          "base_uri": "https://localhost:8080/"
        },
        "id": "8wltxPoQMHHV",
        "outputId": "0e509c9b-948b-4482-da7c-b141936a9ea7"
      },
      "execution_count": null,
      "outputs": [
        {
          "output_type": "execute_result",
          "data": {
            "text/plain": [
              "array([[ 11.,  17.,  23.,  29.,  35.],\n",
              "       [ 41.,  47.,  53.,  59.,  65.],\n",
              "       [ 71.,  77.,  83.,  89., -10.]])"
            ]
          },
          "metadata": {},
          "execution_count": 117
        }
      ]
    },
    {
      "cell_type": "markdown",
      "source": [
        "## Aggregation\n",
        "selain basic math operations kita bisa minta angka angka hasil agregasi seperti\n",
        "- max\n",
        "- min\n",
        "- sum\n",
        "- mean (rata rata)\n",
        "- dan lainnya"
      ],
      "metadata": {
        "id": "jrr5VK70MXhP"
      }
    },
    {
      "cell_type": "code",
      "source": [
        "arr"
      ],
      "metadata": {
        "colab": {
          "base_uri": "https://localhost:8080/"
        },
        "id": "SoefBmE6MOW2",
        "outputId": "d04bf50f-e663-4a1f-f8a8-35021815b25a"
      },
      "execution_count": null,
      "outputs": [
        {
          "output_type": "execute_result",
          "data": {
            "text/plain": [
              "array([[-75, -72, -69, -66, -63, -60, -57, -54, -51, -48],\n",
              "       [-45, -42, -39, -36, -33, -30, -27, -24, -21, -18],\n",
              "       [-15, -12,  -9,  -6,  -3,   0,   3,   6,   9,  12],\n",
              "       [ 15,  18,  21,  24,  27,  30,  33,  36,  39,  42],\n",
              "       [ 45,  48,  51,  54,  57,  60,  63,  66,  69,  72]])"
            ]
          },
          "metadata": {},
          "execution_count": 118
        }
      ]
    },
    {
      "cell_type": "code",
      "source": [
        "arr.max()"
      ],
      "metadata": {
        "colab": {
          "base_uri": "https://localhost:8080/"
        },
        "id": "_4fGXLc_MhYd",
        "outputId": "bd0e65a2-8025-451b-b278-6c575a986c7a"
      },
      "execution_count": null,
      "outputs": [
        {
          "output_type": "execute_result",
          "data": {
            "text/plain": [
              "72"
            ]
          },
          "metadata": {},
          "execution_count": 120
        }
      ]
    },
    {
      "cell_type": "code",
      "source": [
        "arr.min()"
      ],
      "metadata": {
        "colab": {
          "base_uri": "https://localhost:8080/"
        },
        "id": "f6EJMe73MjPB",
        "outputId": "8c19a22a-64cd-49d0-924a-f06051f75ca1"
      },
      "execution_count": null,
      "outputs": [
        {
          "output_type": "execute_result",
          "data": {
            "text/plain": [
              "-75"
            ]
          },
          "metadata": {},
          "execution_count": 121
        }
      ]
    },
    {
      "cell_type": "code",
      "source": [
        "arr.sum()"
      ],
      "metadata": {
        "colab": {
          "base_uri": "https://localhost:8080/"
        },
        "id": "nRknvc9aMlcz",
        "outputId": "32c74c86-e55d-4ece-fdff-4a8515380865"
      },
      "execution_count": null,
      "outputs": [
        {
          "output_type": "execute_result",
          "data": {
            "text/plain": [
              "-75"
            ]
          },
          "metadata": {},
          "execution_count": 122
        }
      ]
    },
    {
      "cell_type": "code",
      "source": [
        "arr.mean()"
      ],
      "metadata": {
        "colab": {
          "base_uri": "https://localhost:8080/"
        },
        "id": "k1zjQ-P7MmXh",
        "outputId": "f75a8f7f-3ff3-4c6b-deb6-3a4d95699425"
      },
      "execution_count": null,
      "outputs": [
        {
          "output_type": "execute_result",
          "data": {
            "text/plain": [
              "-1.5"
            ]
          },
          "metadata": {},
          "execution_count": 123
        }
      ]
    },
    {
      "cell_type": "markdown",
      "source": [
        "# Matrices\n",
        "nama teknikal untuk numpy array 2 dimensi adalah Matriks, atau di bahasa inggris Matrice, dan kalau banyak jadi Matrices\n",
        "\n",
        "jika kita mention matrix atau matrice, kita bisa langsung asumsi, numpy array 2 dimensi.\n",
        "\n",
        "## Dot Product\n",
        "dot product adalah teknik perkalian antara dua matrix yang sedikit berbeda daripada perkalian antara 2 numpy array a * b.\n",
        "\n",
        "di perkalian antara 2 numpy array biasa a * b, bentuk shape kedua numpy array harus sama.\n",
        "\n",
        "kalau di dot product, yang harus sama adalah jumlah kolom di matrix pertama dengan jumlah rows di matrix kedua\n",
        "\n",
        "kita coba mengerti dengan mengerjakan study case:\n",
        "- https://docs.google.com/spreadsheets/d/1mD05ghLxEfEGnAhaMy4GuIX3WWwI5bhsQ7krSFlQLbM/edit?usp=sharing\n",
        "- https://www.mathsisfun.com/algebra/matrix-multiplying.html\n",
        "\n",
        "Dari data penjualan roti, dan harga jual roti, berapa total penjualan per roti per hari?\n",
        "\n",
        "kita bisa temukan dengan teknik dot product"
      ],
      "metadata": {
        "id": "17cAWXmqNzZP"
      }
    },
    {
      "cell_type": "code",
      "source": [
        "penjualan = np.array([[15,12,21,11],\n",
        "                      [12,17,7,3],\n",
        "                      [24,30,45,57],\n",
        "                      ])\n",
        "penjualan"
      ],
      "metadata": {
        "colab": {
          "base_uri": "https://localhost:8080/"
        },
        "id": "FySoF_pjMn82",
        "outputId": "54a61b45-0525-472a-d9ac-01dcbc1616a5"
      },
      "execution_count": null,
      "outputs": [
        {
          "output_type": "execute_result",
          "data": {
            "text/plain": [
              "array([[15, 12, 21, 11],\n",
              "       [12, 17,  7,  3],\n",
              "       [24, 30, 45, 57]])"
            ]
          },
          "metadata": {},
          "execution_count": 124
        }
      ]
    },
    {
      "cell_type": "code",
      "source": [
        "harga = np.array([[10000,12000,5000],\n",
        "                  [3000,5000,1000],\n",
        "                  [7000,7000,4000],\n",
        "                ])\n",
        "harga"
      ],
      "metadata": {
        "colab": {
          "base_uri": "https://localhost:8080/"
        },
        "id": "QuqYQ2B8Q0sS",
        "outputId": "87e8dc86-bc40-4347-8bcd-e43141df3263"
      },
      "execution_count": null,
      "outputs": [
        {
          "output_type": "execute_result",
          "data": {
            "text/plain": [
              "array([[10000, 12000,  5000],\n",
              "       [ 3000,  5000,  1000],\n",
              "       [ 7000,  7000,  4000]])"
            ]
          },
          "metadata": {},
          "execution_count": 125
        }
      ]
    },
    {
      "cell_type": "code",
      "source": [
        "harga.dot(penjualan)"
      ],
      "metadata": {
        "colab": {
          "base_uri": "https://localhost:8080/"
        },
        "id": "YEVKwK8xRPvY",
        "outputId": "d546a89c-569f-491e-8e8a-5d2f2215268a"
      },
      "execution_count": null,
      "outputs": [
        {
          "output_type": "execute_result",
          "data": {
            "text/plain": [
              "array([[414000, 474000, 519000, 431000],\n",
              "       [129000, 151000, 143000, 105000],\n",
              "       [285000, 323000, 376000, 326000]])"
            ]
          },
          "metadata": {},
          "execution_count": 126
        }
      ]
    },
    {
      "cell_type": "markdown",
      "source": [
        "baris pertama adalah total penjualan per hari\n",
        "\n",
        "baris kedua total harga beli\n",
        "\n",
        "baris ketiga total keuntungan"
      ],
      "metadata": {
        "id": "BATtX0PhRVRn"
      }
    },
    {
      "cell_type": "markdown",
      "source": [
        "kita bisa lanjut dengan teknik agregasi sum atau mean, untuk dapat info total penjualan, total profit, rata2 penjualan/profit\n"
      ],
      "metadata": {
        "id": "1lZb2U65RkjE"
      }
    },
    {
      "cell_type": "code",
      "source": [
        "hasil = harga.dot(penjualan)\n",
        "hasil.sum(axis=1)"
      ],
      "metadata": {
        "colab": {
          "base_uri": "https://localhost:8080/"
        },
        "id": "FRNqfrM9RTeu",
        "outputId": "890c5e22-17f2-470b-d783-0b1cd2e8b684"
      },
      "execution_count": null,
      "outputs": [
        {
          "output_type": "execute_result",
          "data": {
            "text/plain": [
              "array([1838000,  528000, 1310000])"
            ]
          },
          "metadata": {},
          "execution_count": 129
        }
      ]
    },
    {
      "cell_type": "markdown",
      "source": [
        "total penjualan 4 hari adalah 1838000, total pembelian / modal adalah 528000, dan total keuntungan adalah 1310000"
      ],
      "metadata": {
        "id": "nanbo0koRu43"
      }
    },
    {
      "cell_type": "markdown",
      "source": [
        "## review indexing, slicing\n",
        "matrix adalah numpy array 2 dimensi, jadi kita bisa lakukan indexing dan slicing seperti sebelumnya. caranya sama.\n",
        "\n",
        "## reshape vs transpose\n",
        "reshape mengubah shape sebuah numpy array.\n",
        "\n",
        "transpose juga mengubah dan dia sambil mengingat teman sebaris/ sekolom, tidak dipisah pisah.\n",
        "\n",
        "reshape tidak ingat teman sebaris/ sekolom, semua angka di urutkan saja kiri ke kanan atas ke bawah.\n"
      ],
      "metadata": {
        "id": "r4uut6XPSA4h"
      }
    },
    {
      "cell_type": "code",
      "source": [
        "a = np.random.random(24)*100\n",
        "a = a.astype(int).reshape((4, 6))\n",
        "a"
      ],
      "metadata": {
        "colab": {
          "base_uri": "https://localhost:8080/"
        },
        "id": "F5-9YI9TRoOI",
        "outputId": "308bdfc2-bc26-47b0-9212-b288b0f0e962"
      },
      "execution_count": null,
      "outputs": [
        {
          "output_type": "execute_result",
          "data": {
            "text/plain": [
              "array([[78, 45,  3, 61, 71, 95],\n",
              "       [75, 18, 97, 21, 64, 45],\n",
              "       [54, 96, 36, 39, 70,  0],\n",
              "       [69, 46, 81, 10, 54, 13]])"
            ]
          },
          "metadata": {},
          "execution_count": 131
        }
      ]
    },
    {
      "cell_type": "code",
      "source": [
        "# indexing mengambil 1 item. misalnya item di baris ke-3 dan kolom ke-5\n",
        "a[2,4]"
      ],
      "metadata": {
        "colab": {
          "base_uri": "https://localhost:8080/"
        },
        "id": "YDt0A8fCVKx0",
        "outputId": "a5eea5ec-b602-48d4-feaf-2c0e2dd61613"
      },
      "execution_count": null,
      "outputs": [
        {
          "output_type": "execute_result",
          "data": {
            "text/plain": [
              "70"
            ]
          },
          "metadata": {},
          "execution_count": 132
        }
      ]
    },
    {
      "cell_type": "code",
      "source": [
        "# slicing mengambil beberapa item sekaligus. misalnya 2 baris pertama dan 2 kolom terakhir. index 0,1 dan -2,-1\n",
        "a[:2, -2:]"
      ],
      "metadata": {
        "colab": {
          "base_uri": "https://localhost:8080/"
        },
        "id": "rR7_6mzNVVpL",
        "outputId": "016cda9a-8d67-40b8-8a67-9877b7f4ad45"
      },
      "execution_count": null,
      "outputs": [
        {
          "output_type": "execute_result",
          "data": {
            "text/plain": [
              "array([[71, 95],\n",
              "       [64, 45]])"
            ]
          },
          "metadata": {},
          "execution_count": 136
        }
      ]
    },
    {
      "cell_type": "code",
      "source": [
        "# transpose, teman sebaris akan jadi teman sekolom\n",
        "# transpose, teman sekolom akan jadi teman sebaris\n",
        "a.T"
      ],
      "metadata": {
        "colab": {
          "base_uri": "https://localhost:8080/"
        },
        "id": "9ymIS92xVjFy",
        "outputId": "9b7c288f-6886-45ea-cdb5-81f60237dedc"
      },
      "execution_count": null,
      "outputs": [
        {
          "output_type": "execute_result",
          "data": {
            "text/plain": [
              "array([[78, 75, 54, 69],\n",
              "       [45, 18, 96, 46],\n",
              "       [ 3, 97, 36, 81],\n",
              "       [61, 21, 39, 10],\n",
              "       [71, 64, 70, 54],\n",
              "       [95, 45,  0, 13]])"
            ]
          },
          "metadata": {},
          "execution_count": 137
        }
      ]
    },
    {
      "cell_type": "code",
      "source": [
        "# reshape tidak ingat teman duduk sebelumnya\n",
        "a.reshape((6,4))"
      ],
      "metadata": {
        "colab": {
          "base_uri": "https://localhost:8080/"
        },
        "id": "Z2x2zW25V42L",
        "outputId": "e5257e82-78ee-416e-f012-54daee789ae9"
      },
      "execution_count": null,
      "outputs": [
        {
          "output_type": "execute_result",
          "data": {
            "text/plain": [
              "array([[78, 45,  3, 61],\n",
              "       [71, 95, 75, 18],\n",
              "       [97, 21, 64, 45],\n",
              "       [54, 96, 36, 39],\n",
              "       [70,  0, 69, 46],\n",
              "       [81, 10, 54, 13]])"
            ]
          },
          "metadata": {},
          "execution_count": 138
        }
      ]
    },
    {
      "cell_type": "code",
      "source": [],
      "metadata": {
        "id": "d1TGtjznWBG6"
      },
      "execution_count": null,
      "outputs": []
    }
  ]
}