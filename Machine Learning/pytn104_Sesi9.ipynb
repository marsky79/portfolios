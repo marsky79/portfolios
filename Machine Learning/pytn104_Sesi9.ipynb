{
  "nbformat": 4,
  "nbformat_minor": 0,
  "metadata": {
    "colab": {
      "provenance": []
    },
    "kernelspec": {
      "name": "python3",
      "display_name": "Python 3"
    },
    "language_info": {
      "name": "python"
    }
  },
  "cells": [
    {
      "cell_type": "markdown",
      "source": [
        "# Descriptive Statistics\n",
        "\n",
        "meringkas/ summarize data dengan angka-angka statistik\n",
        "- Central Tendency (tengah data)\n",
        "- Spread (penyebaran data)\n",
        "\n",
        "selain itu ada beberapa terminologi statistik:\n",
        "- population vs sample\n",
        "- outlier\n",
        "\n",
        "*population* adalah keseluruhan dataset target. Misalkan kita mau tau rata-rata berat badan orang Indonesia maka population adalah semua orang Indonesia. semua umur dari bayi sampai kakek, sampai data historical, semua gender pria wanita, semua propinsi, luar dan dalam negri, ... data population biasanya tidak kita dapatkan. karena keterbatasan waktu dan resouce untuk bisa memiliki data seperti ini.\n",
        "\n",
        "*sample* adalah sebagian dari data population yang digunakan untuk merepresentasikan data population. dari contoh diatas, kita ambil saja sampel dari setiap grup orang Indonesia, beberapa pria, beberapa wanita, beberapa orang di setiap umur, beberapa orang di masing masing propinsi, dll... kalau data sample tidak diambil dari subgroup2 berbeda, ada kemungkinan datanya *bias* atau condong ke grup tertentu dan tidak ideal digunakan sebagai sample.\n",
        "\n",
        "*outlier* atau pencilan, adalah data yang berbeda secara signifikan dari sebagian besar data. Misalkan kita ada kumpulin 1000 data berat badan, dan kita ketemu tren tengahnya di 50 lalu penyebaran di 5, maka data yang di 100 akan termasuk outlier, jauh dari tengah sampai diluar toleransi penyebaran datanya.\n",
        "\n",
        "---\n",
        "\n",
        "## Central Tendency (tengah data)\n",
        "1. Mean (rata rata)\n",
        "2. Median (50% data memilki value diatas median , 50% data memilki value dibawah median)\n",
        "3. Mode (satu angka yang paling sering muncul di data)\n",
        "\n",
        "## Spread (penyebaran data)\n",
        "1. standard deviation\n",
        "2. variance\n",
        "3. range (max - min)\n",
        "4. percentile (titik data di posisi ke x%), dan quartile (percentile ke 25, 50, 75)\n",
        "5. skewness (adanya beberapa data yang menarik rata2 ke arah positif/ negatif sementara nilai median dan mode tidak sama dengan rata2)\n",
        "6. kurtosis (data banyak/ sedikit outlier)\n",
        "\n",
        "### Correlation\n",
        "korelasi antara dua variable, digunakan di linear regression\n",
        "\n",
        "correlation coefficient \"r\" adalah angka korelasi, ada diantara -1 dan 1\n",
        "\n",
        "- -1 artinya korelasi kuat negatif, A naik berarti B turun\n",
        "- 0 tidak ada korelasi, A dan B tidak peduli satu sama lain\n",
        "- +1 artinya korelasi kuat positif, A naik berarti B naik"
      ],
      "metadata": {
        "id": "bzJjEOZnBKzT"
      }
    },
    {
      "cell_type": "code",
      "source": [
        "import numpy as np\n",
        "import pandas as pd\n",
        "\n",
        "# package statistik dan matematik\n",
        "import math\n",
        "import statistics\n",
        "import scipy.stats\n",
        "\n",
        "# package visualisasi\n",
        "import matplotlib.pyplot as plt\n",
        "plt.style.use('ggplot')"
      ],
      "metadata": {
        "id": "ajTavX6xC2_Z"
      },
      "execution_count": null,
      "outputs": []
    },
    {
      "cell_type": "code",
      "source": [
        "# jika package tidak terinstall, boleh install dulu menggunakan pip dan nama package nya\n",
        "# pip install math"
      ],
      "metadata": {
        "id": "mx16UfJnH70L"
      },
      "execution_count": null,
      "outputs": []
    },
    {
      "cell_type": "markdown",
      "source": [
        "Di contoh kali ini, kita coba cari angka2 statistik dari dataset harga emas https://raw.githubusercontent.com/stefkwan-h8/dataset/main/gold.csv"
      ],
      "metadata": {
        "id": "D4xhRdr9Hb2M"
      }
    },
    {
      "cell_type": "code",
      "source": [
        "df_gold = pd.read_csv(\"https://raw.githubusercontent.com/stefkwan-h8/dataset/main/gold.csv\")\n",
        "df_gold.head()"
      ],
      "metadata": {
        "colab": {
          "base_uri": "https://localhost:8080/",
          "height": 206
        },
        "id": "tPIml4xhHESD",
        "outputId": "b3f18900-0a56-4dbb-ab84-1890f8a5b1a1"
      },
      "execution_count": null,
      "outputs": [
        {
          "output_type": "execute_result",
          "data": {
            "text/plain": [
              "         Date   Open   High    Low  Close  Volume Currency\n",
              "0  2000-01-04  281.0  281.0  281.0  282.7       4      USD\n",
              "1  2000-01-05  283.2  283.2  283.2  281.1      16      USD\n",
              "2  2000-01-06  281.4  281.4  281.4  281.4       0      USD\n",
              "3  2000-01-07  281.9  281.9  281.9  281.9       0      USD\n",
              "4  2000-01-10  281.7  281.7  281.7  281.7       0      USD"
            ],
            "text/html": [
              "\n",
              "  <div id=\"df-1ec83b19-9f9e-47f4-a42c-b0898bae8293\" class=\"colab-df-container\">\n",
              "    <div>\n",
              "<style scoped>\n",
              "    .dataframe tbody tr th:only-of-type {\n",
              "        vertical-align: middle;\n",
              "    }\n",
              "\n",
              "    .dataframe tbody tr th {\n",
              "        vertical-align: top;\n",
              "    }\n",
              "\n",
              "    .dataframe thead th {\n",
              "        text-align: right;\n",
              "    }\n",
              "</style>\n",
              "<table border=\"1\" class=\"dataframe\">\n",
              "  <thead>\n",
              "    <tr style=\"text-align: right;\">\n",
              "      <th></th>\n",
              "      <th>Date</th>\n",
              "      <th>Open</th>\n",
              "      <th>High</th>\n",
              "      <th>Low</th>\n",
              "      <th>Close</th>\n",
              "      <th>Volume</th>\n",
              "      <th>Currency</th>\n",
              "    </tr>\n",
              "  </thead>\n",
              "  <tbody>\n",
              "    <tr>\n",
              "      <th>0</th>\n",
              "      <td>2000-01-04</td>\n",
              "      <td>281.0</td>\n",
              "      <td>281.0</td>\n",
              "      <td>281.0</td>\n",
              "      <td>282.7</td>\n",
              "      <td>4</td>\n",
              "      <td>USD</td>\n",
              "    </tr>\n",
              "    <tr>\n",
              "      <th>1</th>\n",
              "      <td>2000-01-05</td>\n",
              "      <td>283.2</td>\n",
              "      <td>283.2</td>\n",
              "      <td>283.2</td>\n",
              "      <td>281.1</td>\n",
              "      <td>16</td>\n",
              "      <td>USD</td>\n",
              "    </tr>\n",
              "    <tr>\n",
              "      <th>2</th>\n",
              "      <td>2000-01-06</td>\n",
              "      <td>281.4</td>\n",
              "      <td>281.4</td>\n",
              "      <td>281.4</td>\n",
              "      <td>281.4</td>\n",
              "      <td>0</td>\n",
              "      <td>USD</td>\n",
              "    </tr>\n",
              "    <tr>\n",
              "      <th>3</th>\n",
              "      <td>2000-01-07</td>\n",
              "      <td>281.9</td>\n",
              "      <td>281.9</td>\n",
              "      <td>281.9</td>\n",
              "      <td>281.9</td>\n",
              "      <td>0</td>\n",
              "      <td>USD</td>\n",
              "    </tr>\n",
              "    <tr>\n",
              "      <th>4</th>\n",
              "      <td>2000-01-10</td>\n",
              "      <td>281.7</td>\n",
              "      <td>281.7</td>\n",
              "      <td>281.7</td>\n",
              "      <td>281.7</td>\n",
              "      <td>0</td>\n",
              "      <td>USD</td>\n",
              "    </tr>\n",
              "  </tbody>\n",
              "</table>\n",
              "</div>\n",
              "    <div class=\"colab-df-buttons\">\n",
              "\n",
              "  <div class=\"colab-df-container\">\n",
              "    <button class=\"colab-df-convert\" onclick=\"convertToInteractive('df-1ec83b19-9f9e-47f4-a42c-b0898bae8293')\"\n",
              "            title=\"Convert this dataframe to an interactive table.\"\n",
              "            style=\"display:none;\">\n",
              "\n",
              "  <svg xmlns=\"http://www.w3.org/2000/svg\" height=\"24px\" viewBox=\"0 -960 960 960\">\n",
              "    <path d=\"M120-120v-720h720v720H120Zm60-500h600v-160H180v160Zm220 220h160v-160H400v160Zm0 220h160v-160H400v160ZM180-400h160v-160H180v160Zm440 0h160v-160H620v160ZM180-180h160v-160H180v160Zm440 0h160v-160H620v160Z\"/>\n",
              "  </svg>\n",
              "    </button>\n",
              "\n",
              "  <style>\n",
              "    .colab-df-container {\n",
              "      display:flex;\n",
              "      gap: 12px;\n",
              "    }\n",
              "\n",
              "    .colab-df-convert {\n",
              "      background-color: #E8F0FE;\n",
              "      border: none;\n",
              "      border-radius: 50%;\n",
              "      cursor: pointer;\n",
              "      display: none;\n",
              "      fill: #1967D2;\n",
              "      height: 32px;\n",
              "      padding: 0 0 0 0;\n",
              "      width: 32px;\n",
              "    }\n",
              "\n",
              "    .colab-df-convert:hover {\n",
              "      background-color: #E2EBFA;\n",
              "      box-shadow: 0px 1px 2px rgba(60, 64, 67, 0.3), 0px 1px 3px 1px rgba(60, 64, 67, 0.15);\n",
              "      fill: #174EA6;\n",
              "    }\n",
              "\n",
              "    .colab-df-buttons div {\n",
              "      margin-bottom: 4px;\n",
              "    }\n",
              "\n",
              "    [theme=dark] .colab-df-convert {\n",
              "      background-color: #3B4455;\n",
              "      fill: #D2E3FC;\n",
              "    }\n",
              "\n",
              "    [theme=dark] .colab-df-convert:hover {\n",
              "      background-color: #434B5C;\n",
              "      box-shadow: 0px 1px 3px 1px rgba(0, 0, 0, 0.15);\n",
              "      filter: drop-shadow(0px 1px 2px rgba(0, 0, 0, 0.3));\n",
              "      fill: #FFFFFF;\n",
              "    }\n",
              "  </style>\n",
              "\n",
              "    <script>\n",
              "      const buttonEl =\n",
              "        document.querySelector('#df-1ec83b19-9f9e-47f4-a42c-b0898bae8293 button.colab-df-convert');\n",
              "      buttonEl.style.display =\n",
              "        google.colab.kernel.accessAllowed ? 'block' : 'none';\n",
              "\n",
              "      async function convertToInteractive(key) {\n",
              "        const element = document.querySelector('#df-1ec83b19-9f9e-47f4-a42c-b0898bae8293');\n",
              "        const dataTable =\n",
              "          await google.colab.kernel.invokeFunction('convertToInteractive',\n",
              "                                                    [key], {});\n",
              "        if (!dataTable) return;\n",
              "\n",
              "        const docLinkHtml = 'Like what you see? Visit the ' +\n",
              "          '<a target=\"_blank\" href=https://colab.research.google.com/notebooks/data_table.ipynb>data table notebook</a>'\n",
              "          + ' to learn more about interactive tables.';\n",
              "        element.innerHTML = '';\n",
              "        dataTable['output_type'] = 'display_data';\n",
              "        await google.colab.output.renderOutput(dataTable, element);\n",
              "        const docLink = document.createElement('div');\n",
              "        docLink.innerHTML = docLinkHtml;\n",
              "        element.appendChild(docLink);\n",
              "      }\n",
              "    </script>\n",
              "  </div>\n",
              "\n",
              "\n",
              "<div id=\"df-0257c204-ae3d-4f3a-bf0c-90b1309c5348\">\n",
              "  <button class=\"colab-df-quickchart\" onclick=\"quickchart('df-0257c204-ae3d-4f3a-bf0c-90b1309c5348')\"\n",
              "            title=\"Suggest charts\"\n",
              "            style=\"display:none;\">\n",
              "\n",
              "<svg xmlns=\"http://www.w3.org/2000/svg\" height=\"24px\"viewBox=\"0 0 24 24\"\n",
              "     width=\"24px\">\n",
              "    <g>\n",
              "        <path d=\"M19 3H5c-1.1 0-2 .9-2 2v14c0 1.1.9 2 2 2h14c1.1 0 2-.9 2-2V5c0-1.1-.9-2-2-2zM9 17H7v-7h2v7zm4 0h-2V7h2v10zm4 0h-2v-4h2v4z\"/>\n",
              "    </g>\n",
              "</svg>\n",
              "  </button>\n",
              "\n",
              "<style>\n",
              "  .colab-df-quickchart {\n",
              "      --bg-color: #E8F0FE;\n",
              "      --fill-color: #1967D2;\n",
              "      --hover-bg-color: #E2EBFA;\n",
              "      --hover-fill-color: #174EA6;\n",
              "      --disabled-fill-color: #AAA;\n",
              "      --disabled-bg-color: #DDD;\n",
              "  }\n",
              "\n",
              "  [theme=dark] .colab-df-quickchart {\n",
              "      --bg-color: #3B4455;\n",
              "      --fill-color: #D2E3FC;\n",
              "      --hover-bg-color: #434B5C;\n",
              "      --hover-fill-color: #FFFFFF;\n",
              "      --disabled-bg-color: #3B4455;\n",
              "      --disabled-fill-color: #666;\n",
              "  }\n",
              "\n",
              "  .colab-df-quickchart {\n",
              "    background-color: var(--bg-color);\n",
              "    border: none;\n",
              "    border-radius: 50%;\n",
              "    cursor: pointer;\n",
              "    display: none;\n",
              "    fill: var(--fill-color);\n",
              "    height: 32px;\n",
              "    padding: 0;\n",
              "    width: 32px;\n",
              "  }\n",
              "\n",
              "  .colab-df-quickchart:hover {\n",
              "    background-color: var(--hover-bg-color);\n",
              "    box-shadow: 0 1px 2px rgba(60, 64, 67, 0.3), 0 1px 3px 1px rgba(60, 64, 67, 0.15);\n",
              "    fill: var(--button-hover-fill-color);\n",
              "  }\n",
              "\n",
              "  .colab-df-quickchart-complete:disabled,\n",
              "  .colab-df-quickchart-complete:disabled:hover {\n",
              "    background-color: var(--disabled-bg-color);\n",
              "    fill: var(--disabled-fill-color);\n",
              "    box-shadow: none;\n",
              "  }\n",
              "\n",
              "  .colab-df-spinner {\n",
              "    border: 2px solid var(--fill-color);\n",
              "    border-color: transparent;\n",
              "    border-bottom-color: var(--fill-color);\n",
              "    animation:\n",
              "      spin 1s steps(1) infinite;\n",
              "  }\n",
              "\n",
              "  @keyframes spin {\n",
              "    0% {\n",
              "      border-color: transparent;\n",
              "      border-bottom-color: var(--fill-color);\n",
              "      border-left-color: var(--fill-color);\n",
              "    }\n",
              "    20% {\n",
              "      border-color: transparent;\n",
              "      border-left-color: var(--fill-color);\n",
              "      border-top-color: var(--fill-color);\n",
              "    }\n",
              "    30% {\n",
              "      border-color: transparent;\n",
              "      border-left-color: var(--fill-color);\n",
              "      border-top-color: var(--fill-color);\n",
              "      border-right-color: var(--fill-color);\n",
              "    }\n",
              "    40% {\n",
              "      border-color: transparent;\n",
              "      border-right-color: var(--fill-color);\n",
              "      border-top-color: var(--fill-color);\n",
              "    }\n",
              "    60% {\n",
              "      border-color: transparent;\n",
              "      border-right-color: var(--fill-color);\n",
              "    }\n",
              "    80% {\n",
              "      border-color: transparent;\n",
              "      border-right-color: var(--fill-color);\n",
              "      border-bottom-color: var(--fill-color);\n",
              "    }\n",
              "    90% {\n",
              "      border-color: transparent;\n",
              "      border-bottom-color: var(--fill-color);\n",
              "    }\n",
              "  }\n",
              "</style>\n",
              "\n",
              "  <script>\n",
              "    async function quickchart(key) {\n",
              "      const quickchartButtonEl =\n",
              "        document.querySelector('#' + key + ' button');\n",
              "      quickchartButtonEl.disabled = true;  // To prevent multiple clicks.\n",
              "      quickchartButtonEl.classList.add('colab-df-spinner');\n",
              "      try {\n",
              "        const charts = await google.colab.kernel.invokeFunction(\n",
              "            'suggestCharts', [key], {});\n",
              "      } catch (error) {\n",
              "        console.error('Error during call to suggestCharts:', error);\n",
              "      }\n",
              "      quickchartButtonEl.classList.remove('colab-df-spinner');\n",
              "      quickchartButtonEl.classList.add('colab-df-quickchart-complete');\n",
              "    }\n",
              "    (() => {\n",
              "      let quickchartButtonEl =\n",
              "        document.querySelector('#df-0257c204-ae3d-4f3a-bf0c-90b1309c5348 button');\n",
              "      quickchartButtonEl.style.display =\n",
              "        google.colab.kernel.accessAllowed ? 'block' : 'none';\n",
              "    })();\n",
              "  </script>\n",
              "</div>\n",
              "    </div>\n",
              "  </div>\n"
            ],
            "application/vnd.google.colaboratory.intrinsic+json": {
              "type": "dataframe",
              "variable_name": "df_gold",
              "summary": "{\n  \"name\": \"df_gold\",\n  \"rows\": 5706,\n  \"fields\": [\n    {\n      \"column\": \"Date\",\n      \"properties\": {\n        \"dtype\": \"object\",\n        \"num_unique_values\": 5706,\n        \"samples\": [\n          \"2009-02-06\",\n          \"2004-06-01\",\n          \"2012-05-11\"\n        ],\n        \"semantic_type\": \"\",\n        \"description\": \"\"\n      }\n    },\n    {\n      \"column\": \"Open\",\n      \"properties\": {\n        \"dtype\": \"number\",\n        \"std\": 522.3750695333601,\n        \"min\": 255.0,\n        \"max\": 2121.7,\n        \"num_unique_values\": 4388,\n        \"samples\": [\n          1237.8,\n          1380.2,\n          1633.2\n        ],\n        \"semantic_type\": \"\",\n        \"description\": \"\"\n      }\n    },\n    {\n      \"column\": \"High\",\n      \"properties\": {\n        \"dtype\": \"number\",\n        \"std\": 524.3964371857334,\n        \"min\": 255.0,\n        \"max\": 2121.7,\n        \"num_unique_values\": 4358,\n        \"samples\": [\n          1755.5,\n          1735.9,\n          786.0\n        ],\n        \"semantic_type\": \"\",\n        \"description\": \"\"\n      }\n    },\n    {\n      \"column\": \"Low\",\n      \"properties\": {\n        \"dtype\": \"number\",\n        \"std\": 520.1159793282768,\n        \"min\": 255.0,\n        \"max\": 2121.7,\n        \"num_unique_values\": 4317,\n        \"samples\": [\n          1518.6,\n          1382.9,\n          1230.7\n        ],\n        \"semantic_type\": \"\",\n        \"description\": \"\"\n      }\n    },\n    {\n      \"column\": \"Close\",\n      \"properties\": {\n        \"dtype\": \"number\",\n        \"std\": 528.987793420033,\n        \"min\": 255.1,\n        \"max\": 2122.7,\n        \"num_unique_values\": 4482,\n        \"samples\": [\n          275.2,\n          1637.8,\n          562.2\n        ],\n        \"semantic_type\": \"\",\n        \"description\": \"\"\n      }\n    },\n    {\n      \"column\": \"Volume\",\n      \"properties\": {\n        \"dtype\": \"number\",\n        \"std\": 10821,\n        \"min\": 0,\n        \"max\": 214605,\n        \"num_unique_values\": 1250,\n        \"samples\": [\n          505,\n          520,\n          226\n        ],\n        \"semantic_type\": \"\",\n        \"description\": \"\"\n      }\n    },\n    {\n      \"column\": \"Currency\",\n      \"properties\": {\n        \"dtype\": \"category\",\n        \"num_unique_values\": 1,\n        \"samples\": [\n          \"USD\"\n        ],\n        \"semantic_type\": \"\",\n        \"description\": \"\"\n      }\n    }\n  ]\n}"
            }
          },
          "metadata": {},
          "execution_count": 5
        }
      ]
    },
    {
      "cell_type": "code",
      "source": [
        "df_gold.tail(3)"
      ],
      "metadata": {
        "colab": {
          "base_uri": "https://localhost:8080/",
          "height": 143
        },
        "id": "qP8QLZt0HiXz",
        "outputId": "69f87f2b-1e76-4fd9-faaa-ec783f1bce72"
      },
      "execution_count": null,
      "outputs": [
        {
          "output_type": "execute_result",
          "data": {
            "text/plain": [
              "            Date    Open     High     Low   Close  Volume Currency\n",
              "5703  2022-04-18  1978.5  2003.00  1974.4  1986.4  138130      USD\n",
              "5704  2022-04-19  1981.2  1985.10  1945.5  1959.0  181440      USD\n",
              "5705  2022-04-20  1952.1  1957.35  1941.2  1956.3       0      USD"
            ],
            "text/html": [
              "\n",
              "  <div id=\"df-2f224982-5b9f-47d9-a96f-9b41d9bf0edd\" class=\"colab-df-container\">\n",
              "    <div>\n",
              "<style scoped>\n",
              "    .dataframe tbody tr th:only-of-type {\n",
              "        vertical-align: middle;\n",
              "    }\n",
              "\n",
              "    .dataframe tbody tr th {\n",
              "        vertical-align: top;\n",
              "    }\n",
              "\n",
              "    .dataframe thead th {\n",
              "        text-align: right;\n",
              "    }\n",
              "</style>\n",
              "<table border=\"1\" class=\"dataframe\">\n",
              "  <thead>\n",
              "    <tr style=\"text-align: right;\">\n",
              "      <th></th>\n",
              "      <th>Date</th>\n",
              "      <th>Open</th>\n",
              "      <th>High</th>\n",
              "      <th>Low</th>\n",
              "      <th>Close</th>\n",
              "      <th>Volume</th>\n",
              "      <th>Currency</th>\n",
              "    </tr>\n",
              "  </thead>\n",
              "  <tbody>\n",
              "    <tr>\n",
              "      <th>5703</th>\n",
              "      <td>2022-04-18</td>\n",
              "      <td>1978.5</td>\n",
              "      <td>2003.00</td>\n",
              "      <td>1974.4</td>\n",
              "      <td>1986.4</td>\n",
              "      <td>138130</td>\n",
              "      <td>USD</td>\n",
              "    </tr>\n",
              "    <tr>\n",
              "      <th>5704</th>\n",
              "      <td>2022-04-19</td>\n",
              "      <td>1981.2</td>\n",
              "      <td>1985.10</td>\n",
              "      <td>1945.5</td>\n",
              "      <td>1959.0</td>\n",
              "      <td>181440</td>\n",
              "      <td>USD</td>\n",
              "    </tr>\n",
              "    <tr>\n",
              "      <th>5705</th>\n",
              "      <td>2022-04-20</td>\n",
              "      <td>1952.1</td>\n",
              "      <td>1957.35</td>\n",
              "      <td>1941.2</td>\n",
              "      <td>1956.3</td>\n",
              "      <td>0</td>\n",
              "      <td>USD</td>\n",
              "    </tr>\n",
              "  </tbody>\n",
              "</table>\n",
              "</div>\n",
              "    <div class=\"colab-df-buttons\">\n",
              "\n",
              "  <div class=\"colab-df-container\">\n",
              "    <button class=\"colab-df-convert\" onclick=\"convertToInteractive('df-2f224982-5b9f-47d9-a96f-9b41d9bf0edd')\"\n",
              "            title=\"Convert this dataframe to an interactive table.\"\n",
              "            style=\"display:none;\">\n",
              "\n",
              "  <svg xmlns=\"http://www.w3.org/2000/svg\" height=\"24px\" viewBox=\"0 -960 960 960\">\n",
              "    <path d=\"M120-120v-720h720v720H120Zm60-500h600v-160H180v160Zm220 220h160v-160H400v160Zm0 220h160v-160H400v160ZM180-400h160v-160H180v160Zm440 0h160v-160H620v160ZM180-180h160v-160H180v160Zm440 0h160v-160H620v160Z\"/>\n",
              "  </svg>\n",
              "    </button>\n",
              "\n",
              "  <style>\n",
              "    .colab-df-container {\n",
              "      display:flex;\n",
              "      gap: 12px;\n",
              "    }\n",
              "\n",
              "    .colab-df-convert {\n",
              "      background-color: #E8F0FE;\n",
              "      border: none;\n",
              "      border-radius: 50%;\n",
              "      cursor: pointer;\n",
              "      display: none;\n",
              "      fill: #1967D2;\n",
              "      height: 32px;\n",
              "      padding: 0 0 0 0;\n",
              "      width: 32px;\n",
              "    }\n",
              "\n",
              "    .colab-df-convert:hover {\n",
              "      background-color: #E2EBFA;\n",
              "      box-shadow: 0px 1px 2px rgba(60, 64, 67, 0.3), 0px 1px 3px 1px rgba(60, 64, 67, 0.15);\n",
              "      fill: #174EA6;\n",
              "    }\n",
              "\n",
              "    .colab-df-buttons div {\n",
              "      margin-bottom: 4px;\n",
              "    }\n",
              "\n",
              "    [theme=dark] .colab-df-convert {\n",
              "      background-color: #3B4455;\n",
              "      fill: #D2E3FC;\n",
              "    }\n",
              "\n",
              "    [theme=dark] .colab-df-convert:hover {\n",
              "      background-color: #434B5C;\n",
              "      box-shadow: 0px 1px 3px 1px rgba(0, 0, 0, 0.15);\n",
              "      filter: drop-shadow(0px 1px 2px rgba(0, 0, 0, 0.3));\n",
              "      fill: #FFFFFF;\n",
              "    }\n",
              "  </style>\n",
              "\n",
              "    <script>\n",
              "      const buttonEl =\n",
              "        document.querySelector('#df-2f224982-5b9f-47d9-a96f-9b41d9bf0edd button.colab-df-convert');\n",
              "      buttonEl.style.display =\n",
              "        google.colab.kernel.accessAllowed ? 'block' : 'none';\n",
              "\n",
              "      async function convertToInteractive(key) {\n",
              "        const element = document.querySelector('#df-2f224982-5b9f-47d9-a96f-9b41d9bf0edd');\n",
              "        const dataTable =\n",
              "          await google.colab.kernel.invokeFunction('convertToInteractive',\n",
              "                                                    [key], {});\n",
              "        if (!dataTable) return;\n",
              "\n",
              "        const docLinkHtml = 'Like what you see? Visit the ' +\n",
              "          '<a target=\"_blank\" href=https://colab.research.google.com/notebooks/data_table.ipynb>data table notebook</a>'\n",
              "          + ' to learn more about interactive tables.';\n",
              "        element.innerHTML = '';\n",
              "        dataTable['output_type'] = 'display_data';\n",
              "        await google.colab.output.renderOutput(dataTable, element);\n",
              "        const docLink = document.createElement('div');\n",
              "        docLink.innerHTML = docLinkHtml;\n",
              "        element.appendChild(docLink);\n",
              "      }\n",
              "    </script>\n",
              "  </div>\n",
              "\n",
              "\n",
              "<div id=\"df-adc9b514-b973-4373-abe7-def4ab81d2e2\">\n",
              "  <button class=\"colab-df-quickchart\" onclick=\"quickchart('df-adc9b514-b973-4373-abe7-def4ab81d2e2')\"\n",
              "            title=\"Suggest charts\"\n",
              "            style=\"display:none;\">\n",
              "\n",
              "<svg xmlns=\"http://www.w3.org/2000/svg\" height=\"24px\"viewBox=\"0 0 24 24\"\n",
              "     width=\"24px\">\n",
              "    <g>\n",
              "        <path d=\"M19 3H5c-1.1 0-2 .9-2 2v14c0 1.1.9 2 2 2h14c1.1 0 2-.9 2-2V5c0-1.1-.9-2-2-2zM9 17H7v-7h2v7zm4 0h-2V7h2v10zm4 0h-2v-4h2v4z\"/>\n",
              "    </g>\n",
              "</svg>\n",
              "  </button>\n",
              "\n",
              "<style>\n",
              "  .colab-df-quickchart {\n",
              "      --bg-color: #E8F0FE;\n",
              "      --fill-color: #1967D2;\n",
              "      --hover-bg-color: #E2EBFA;\n",
              "      --hover-fill-color: #174EA6;\n",
              "      --disabled-fill-color: #AAA;\n",
              "      --disabled-bg-color: #DDD;\n",
              "  }\n",
              "\n",
              "  [theme=dark] .colab-df-quickchart {\n",
              "      --bg-color: #3B4455;\n",
              "      --fill-color: #D2E3FC;\n",
              "      --hover-bg-color: #434B5C;\n",
              "      --hover-fill-color: #FFFFFF;\n",
              "      --disabled-bg-color: #3B4455;\n",
              "      --disabled-fill-color: #666;\n",
              "  }\n",
              "\n",
              "  .colab-df-quickchart {\n",
              "    background-color: var(--bg-color);\n",
              "    border: none;\n",
              "    border-radius: 50%;\n",
              "    cursor: pointer;\n",
              "    display: none;\n",
              "    fill: var(--fill-color);\n",
              "    height: 32px;\n",
              "    padding: 0;\n",
              "    width: 32px;\n",
              "  }\n",
              "\n",
              "  .colab-df-quickchart:hover {\n",
              "    background-color: var(--hover-bg-color);\n",
              "    box-shadow: 0 1px 2px rgba(60, 64, 67, 0.3), 0 1px 3px 1px rgba(60, 64, 67, 0.15);\n",
              "    fill: var(--button-hover-fill-color);\n",
              "  }\n",
              "\n",
              "  .colab-df-quickchart-complete:disabled,\n",
              "  .colab-df-quickchart-complete:disabled:hover {\n",
              "    background-color: var(--disabled-bg-color);\n",
              "    fill: var(--disabled-fill-color);\n",
              "    box-shadow: none;\n",
              "  }\n",
              "\n",
              "  .colab-df-spinner {\n",
              "    border: 2px solid var(--fill-color);\n",
              "    border-color: transparent;\n",
              "    border-bottom-color: var(--fill-color);\n",
              "    animation:\n",
              "      spin 1s steps(1) infinite;\n",
              "  }\n",
              "\n",
              "  @keyframes spin {\n",
              "    0% {\n",
              "      border-color: transparent;\n",
              "      border-bottom-color: var(--fill-color);\n",
              "      border-left-color: var(--fill-color);\n",
              "    }\n",
              "    20% {\n",
              "      border-color: transparent;\n",
              "      border-left-color: var(--fill-color);\n",
              "      border-top-color: var(--fill-color);\n",
              "    }\n",
              "    30% {\n",
              "      border-color: transparent;\n",
              "      border-left-color: var(--fill-color);\n",
              "      border-top-color: var(--fill-color);\n",
              "      border-right-color: var(--fill-color);\n",
              "    }\n",
              "    40% {\n",
              "      border-color: transparent;\n",
              "      border-right-color: var(--fill-color);\n",
              "      border-top-color: var(--fill-color);\n",
              "    }\n",
              "    60% {\n",
              "      border-color: transparent;\n",
              "      border-right-color: var(--fill-color);\n",
              "    }\n",
              "    80% {\n",
              "      border-color: transparent;\n",
              "      border-right-color: var(--fill-color);\n",
              "      border-bottom-color: var(--fill-color);\n",
              "    }\n",
              "    90% {\n",
              "      border-color: transparent;\n",
              "      border-bottom-color: var(--fill-color);\n",
              "    }\n",
              "  }\n",
              "</style>\n",
              "\n",
              "  <script>\n",
              "    async function quickchart(key) {\n",
              "      const quickchartButtonEl =\n",
              "        document.querySelector('#' + key + ' button');\n",
              "      quickchartButtonEl.disabled = true;  // To prevent multiple clicks.\n",
              "      quickchartButtonEl.classList.add('colab-df-spinner');\n",
              "      try {\n",
              "        const charts = await google.colab.kernel.invokeFunction(\n",
              "            'suggestCharts', [key], {});\n",
              "      } catch (error) {\n",
              "        console.error('Error during call to suggestCharts:', error);\n",
              "      }\n",
              "      quickchartButtonEl.classList.remove('colab-df-spinner');\n",
              "      quickchartButtonEl.classList.add('colab-df-quickchart-complete');\n",
              "    }\n",
              "    (() => {\n",
              "      let quickchartButtonEl =\n",
              "        document.querySelector('#df-adc9b514-b973-4373-abe7-def4ab81d2e2 button');\n",
              "      quickchartButtonEl.style.display =\n",
              "        google.colab.kernel.accessAllowed ? 'block' : 'none';\n",
              "    })();\n",
              "  </script>\n",
              "</div>\n",
              "    </div>\n",
              "  </div>\n"
            ],
            "application/vnd.google.colaboratory.intrinsic+json": {
              "type": "dataframe",
              "repr_error": "0"
            }
          },
          "metadata": {},
          "execution_count": 6
        }
      ]
    },
    {
      "cell_type": "code",
      "source": [
        "df_gold.info()"
      ],
      "metadata": {
        "colab": {
          "base_uri": "https://localhost:8080/"
        },
        "id": "ibbRNKX2IM9C",
        "outputId": "edb47114-e74b-4d7b-bae1-a927ca1f6310"
      },
      "execution_count": null,
      "outputs": [
        {
          "output_type": "stream",
          "name": "stdout",
          "text": [
            "<class 'pandas.core.frame.DataFrame'>\n",
            "RangeIndex: 5706 entries, 0 to 5705\n",
            "Data columns (total 7 columns):\n",
            " #   Column    Non-Null Count  Dtype  \n",
            "---  ------    --------------  -----  \n",
            " 0   Date      5706 non-null   object \n",
            " 1   Open      5706 non-null   float64\n",
            " 2   High      5706 non-null   float64\n",
            " 3   Low       5706 non-null   float64\n",
            " 4   Close     5706 non-null   float64\n",
            " 5   Volume    5706 non-null   int64  \n",
            " 6   Currency  5706 non-null   object \n",
            "dtypes: float64(4), int64(1), object(2)\n",
            "memory usage: 312.2+ KB\n"
          ]
        }
      ]
    },
    {
      "cell_type": "code",
      "source": [
        "# data cleaning: ubah tipe data biar sesuai\n",
        "df_gold['Date'] = pd.to_datetime(df_gold['Date'])"
      ],
      "metadata": {
        "id": "XDiEpkB4IY5b"
      },
      "execution_count": null,
      "outputs": []
    },
    {
      "cell_type": "code",
      "source": [
        "df_gold.info()"
      ],
      "metadata": {
        "colab": {
          "base_uri": "https://localhost:8080/"
        },
        "id": "SKAGgqx3IhRi",
        "outputId": "9e9a0918-ed46-4eb8-98b2-42c2b2e953b9"
      },
      "execution_count": null,
      "outputs": [
        {
          "output_type": "stream",
          "name": "stdout",
          "text": [
            "<class 'pandas.core.frame.DataFrame'>\n",
            "RangeIndex: 5706 entries, 0 to 5705\n",
            "Data columns (total 7 columns):\n",
            " #   Column    Non-Null Count  Dtype         \n",
            "---  ------    --------------  -----         \n",
            " 0   Date      5706 non-null   datetime64[ns]\n",
            " 1   Open      5706 non-null   float64       \n",
            " 2   High      5706 non-null   float64       \n",
            " 3   Low       5706 non-null   float64       \n",
            " 4   Close     5706 non-null   float64       \n",
            " 5   Volume    5706 non-null   int64         \n",
            " 6   Currency  5706 non-null   object        \n",
            "dtypes: datetime64[ns](1), float64(4), int64(1), object(1)\n",
            "memory usage: 312.2+ KB\n"
          ]
        }
      ]
    },
    {
      "cell_type": "code",
      "source": [
        "# minta min dan max\n",
        "print(df_gold['Date'].min(), df_gold['Date'].max())"
      ],
      "metadata": {
        "colab": {
          "base_uri": "https://localhost:8080/"
        },
        "id": "vULW6VWuIiO6",
        "outputId": "ad39f98a-8deb-402d-cd4e-0ec011e9c3db"
      },
      "execution_count": null,
      "outputs": [
        {
          "output_type": "stream",
          "name": "stdout",
          "text": [
            "2000-01-04 00:00:00 2022-04-20 00:00:00\n"
          ]
        }
      ]
    },
    {
      "cell_type": "markdown",
      "source": [
        "secara konteks ini adalah data harga emas dari tanggal 4 Jan 2000 sampai 20 Apr 2022\n",
        "\n",
        "open - harga pas hari dimulai   \n",
        "high - harga tertinggi di hari tersebut   \n",
        "low - harga terendah di hari tersebut   \n",
        "close - harga pas hari ditutup   \n",
        "volume - jumlah dijual belikan di hari tersebut\n",
        "\n",
        "kita cari angka2 central tendency, spread, dan correlation di data ini\n",
        "\n",
        "- mean\n",
        "- median\n",
        "- mode"
      ],
      "metadata": {
        "id": "TP2zXKJcIrwb"
      }
    },
    {
      "cell_type": "code",
      "source": [
        "df_gold['Open'].mean()"
      ],
      "metadata": {
        "colab": {
          "base_uri": "https://localhost:8080/"
        },
        "id": "OstVdwfPIn5C",
        "outputId": "03b2b167-4185-42dd-c623-0389c2cbbaf9"
      },
      "execution_count": null,
      "outputs": [
        {
          "output_type": "execute_result",
          "data": {
            "text/plain": [
              "1051.3340641430073"
            ]
          },
          "metadata": {},
          "execution_count": 13
        }
      ]
    },
    {
      "cell_type": "markdown",
      "source": [
        "rata2 harga emas adalah 1051 USD\n",
        "\n",
        "tapi di data riil, kita perlu perhatikan tanggalnya juga. ini adalah rata dari tahun 2000 sampai 2022. biasanya kita perlunya dari rata rata di tahun atau di bulan tertentu."
      ],
      "metadata": {
        "id": "qAubdjIoJvYS"
      }
    },
    {
      "cell_type": "code",
      "source": [
        "df_gold_2018 = df_gold[df_gold['Date'].dt.year == 2018]\n",
        "df_gold_2018.head()"
      ],
      "metadata": {
        "colab": {
          "base_uri": "https://localhost:8080/",
          "height": 206
        },
        "id": "PmLQw4dUJr6a",
        "outputId": "801956ab-46aa-432a-9ebd-f08a65f98548"
      },
      "execution_count": null,
      "outputs": [
        {
          "output_type": "execute_result",
          "data": {
            "text/plain": [
              "           Date    Open    High     Low   Close  Volume Currency\n",
              "4568 2018-01-01  1305.8  1309.7  1304.6  1308.7       0      USD\n",
              "4569 2018-01-02  1400.1  1400.1  1400.1  1445.0       1      USD\n",
              "4570 2018-01-03  1399.0  1399.0  1399.0  1448.9       1      USD\n",
              "4571 2018-01-04  1407.3  1407.3  1407.3  1452.2       2      USD\n",
              "4572 2018-01-05  1408.3  1408.3  1408.3  1453.2       1      USD"
            ],
            "text/html": [
              "\n",
              "  <div id=\"df-7a6f9e6e-3d4b-48d5-ba9c-79c1e7092fdf\" class=\"colab-df-container\">\n",
              "    <div>\n",
              "<style scoped>\n",
              "    .dataframe tbody tr th:only-of-type {\n",
              "        vertical-align: middle;\n",
              "    }\n",
              "\n",
              "    .dataframe tbody tr th {\n",
              "        vertical-align: top;\n",
              "    }\n",
              "\n",
              "    .dataframe thead th {\n",
              "        text-align: right;\n",
              "    }\n",
              "</style>\n",
              "<table border=\"1\" class=\"dataframe\">\n",
              "  <thead>\n",
              "    <tr style=\"text-align: right;\">\n",
              "      <th></th>\n",
              "      <th>Date</th>\n",
              "      <th>Open</th>\n",
              "      <th>High</th>\n",
              "      <th>Low</th>\n",
              "      <th>Close</th>\n",
              "      <th>Volume</th>\n",
              "      <th>Currency</th>\n",
              "    </tr>\n",
              "  </thead>\n",
              "  <tbody>\n",
              "    <tr>\n",
              "      <th>4568</th>\n",
              "      <td>2018-01-01</td>\n",
              "      <td>1305.8</td>\n",
              "      <td>1309.7</td>\n",
              "      <td>1304.6</td>\n",
              "      <td>1308.7</td>\n",
              "      <td>0</td>\n",
              "      <td>USD</td>\n",
              "    </tr>\n",
              "    <tr>\n",
              "      <th>4569</th>\n",
              "      <td>2018-01-02</td>\n",
              "      <td>1400.1</td>\n",
              "      <td>1400.1</td>\n",
              "      <td>1400.1</td>\n",
              "      <td>1445.0</td>\n",
              "      <td>1</td>\n",
              "      <td>USD</td>\n",
              "    </tr>\n",
              "    <tr>\n",
              "      <th>4570</th>\n",
              "      <td>2018-01-03</td>\n",
              "      <td>1399.0</td>\n",
              "      <td>1399.0</td>\n",
              "      <td>1399.0</td>\n",
              "      <td>1448.9</td>\n",
              "      <td>1</td>\n",
              "      <td>USD</td>\n",
              "    </tr>\n",
              "    <tr>\n",
              "      <th>4571</th>\n",
              "      <td>2018-01-04</td>\n",
              "      <td>1407.3</td>\n",
              "      <td>1407.3</td>\n",
              "      <td>1407.3</td>\n",
              "      <td>1452.2</td>\n",
              "      <td>2</td>\n",
              "      <td>USD</td>\n",
              "    </tr>\n",
              "    <tr>\n",
              "      <th>4572</th>\n",
              "      <td>2018-01-05</td>\n",
              "      <td>1408.3</td>\n",
              "      <td>1408.3</td>\n",
              "      <td>1408.3</td>\n",
              "      <td>1453.2</td>\n",
              "      <td>1</td>\n",
              "      <td>USD</td>\n",
              "    </tr>\n",
              "  </tbody>\n",
              "</table>\n",
              "</div>\n",
              "    <div class=\"colab-df-buttons\">\n",
              "\n",
              "  <div class=\"colab-df-container\">\n",
              "    <button class=\"colab-df-convert\" onclick=\"convertToInteractive('df-7a6f9e6e-3d4b-48d5-ba9c-79c1e7092fdf')\"\n",
              "            title=\"Convert this dataframe to an interactive table.\"\n",
              "            style=\"display:none;\">\n",
              "\n",
              "  <svg xmlns=\"http://www.w3.org/2000/svg\" height=\"24px\" viewBox=\"0 -960 960 960\">\n",
              "    <path d=\"M120-120v-720h720v720H120Zm60-500h600v-160H180v160Zm220 220h160v-160H400v160Zm0 220h160v-160H400v160ZM180-400h160v-160H180v160Zm440 0h160v-160H620v160ZM180-180h160v-160H180v160Zm440 0h160v-160H620v160Z\"/>\n",
              "  </svg>\n",
              "    </button>\n",
              "\n",
              "  <style>\n",
              "    .colab-df-container {\n",
              "      display:flex;\n",
              "      gap: 12px;\n",
              "    }\n",
              "\n",
              "    .colab-df-convert {\n",
              "      background-color: #E8F0FE;\n",
              "      border: none;\n",
              "      border-radius: 50%;\n",
              "      cursor: pointer;\n",
              "      display: none;\n",
              "      fill: #1967D2;\n",
              "      height: 32px;\n",
              "      padding: 0 0 0 0;\n",
              "      width: 32px;\n",
              "    }\n",
              "\n",
              "    .colab-df-convert:hover {\n",
              "      background-color: #E2EBFA;\n",
              "      box-shadow: 0px 1px 2px rgba(60, 64, 67, 0.3), 0px 1px 3px 1px rgba(60, 64, 67, 0.15);\n",
              "      fill: #174EA6;\n",
              "    }\n",
              "\n",
              "    .colab-df-buttons div {\n",
              "      margin-bottom: 4px;\n",
              "    }\n",
              "\n",
              "    [theme=dark] .colab-df-convert {\n",
              "      background-color: #3B4455;\n",
              "      fill: #D2E3FC;\n",
              "    }\n",
              "\n",
              "    [theme=dark] .colab-df-convert:hover {\n",
              "      background-color: #434B5C;\n",
              "      box-shadow: 0px 1px 3px 1px rgba(0, 0, 0, 0.15);\n",
              "      filter: drop-shadow(0px 1px 2px rgba(0, 0, 0, 0.3));\n",
              "      fill: #FFFFFF;\n",
              "    }\n",
              "  </style>\n",
              "\n",
              "    <script>\n",
              "      const buttonEl =\n",
              "        document.querySelector('#df-7a6f9e6e-3d4b-48d5-ba9c-79c1e7092fdf button.colab-df-convert');\n",
              "      buttonEl.style.display =\n",
              "        google.colab.kernel.accessAllowed ? 'block' : 'none';\n",
              "\n",
              "      async function convertToInteractive(key) {\n",
              "        const element = document.querySelector('#df-7a6f9e6e-3d4b-48d5-ba9c-79c1e7092fdf');\n",
              "        const dataTable =\n",
              "          await google.colab.kernel.invokeFunction('convertToInteractive',\n",
              "                                                    [key], {});\n",
              "        if (!dataTable) return;\n",
              "\n",
              "        const docLinkHtml = 'Like what you see? Visit the ' +\n",
              "          '<a target=\"_blank\" href=https://colab.research.google.com/notebooks/data_table.ipynb>data table notebook</a>'\n",
              "          + ' to learn more about interactive tables.';\n",
              "        element.innerHTML = '';\n",
              "        dataTable['output_type'] = 'display_data';\n",
              "        await google.colab.output.renderOutput(dataTable, element);\n",
              "        const docLink = document.createElement('div');\n",
              "        docLink.innerHTML = docLinkHtml;\n",
              "        element.appendChild(docLink);\n",
              "      }\n",
              "    </script>\n",
              "  </div>\n",
              "\n",
              "\n",
              "<div id=\"df-05945e38-b6a9-4f3f-b49b-c133a48ec6b3\">\n",
              "  <button class=\"colab-df-quickchart\" onclick=\"quickchart('df-05945e38-b6a9-4f3f-b49b-c133a48ec6b3')\"\n",
              "            title=\"Suggest charts\"\n",
              "            style=\"display:none;\">\n",
              "\n",
              "<svg xmlns=\"http://www.w3.org/2000/svg\" height=\"24px\"viewBox=\"0 0 24 24\"\n",
              "     width=\"24px\">\n",
              "    <g>\n",
              "        <path d=\"M19 3H5c-1.1 0-2 .9-2 2v14c0 1.1.9 2 2 2h14c1.1 0 2-.9 2-2V5c0-1.1-.9-2-2-2zM9 17H7v-7h2v7zm4 0h-2V7h2v10zm4 0h-2v-4h2v4z\"/>\n",
              "    </g>\n",
              "</svg>\n",
              "  </button>\n",
              "\n",
              "<style>\n",
              "  .colab-df-quickchart {\n",
              "      --bg-color: #E8F0FE;\n",
              "      --fill-color: #1967D2;\n",
              "      --hover-bg-color: #E2EBFA;\n",
              "      --hover-fill-color: #174EA6;\n",
              "      --disabled-fill-color: #AAA;\n",
              "      --disabled-bg-color: #DDD;\n",
              "  }\n",
              "\n",
              "  [theme=dark] .colab-df-quickchart {\n",
              "      --bg-color: #3B4455;\n",
              "      --fill-color: #D2E3FC;\n",
              "      --hover-bg-color: #434B5C;\n",
              "      --hover-fill-color: #FFFFFF;\n",
              "      --disabled-bg-color: #3B4455;\n",
              "      --disabled-fill-color: #666;\n",
              "  }\n",
              "\n",
              "  .colab-df-quickchart {\n",
              "    background-color: var(--bg-color);\n",
              "    border: none;\n",
              "    border-radius: 50%;\n",
              "    cursor: pointer;\n",
              "    display: none;\n",
              "    fill: var(--fill-color);\n",
              "    height: 32px;\n",
              "    padding: 0;\n",
              "    width: 32px;\n",
              "  }\n",
              "\n",
              "  .colab-df-quickchart:hover {\n",
              "    background-color: var(--hover-bg-color);\n",
              "    box-shadow: 0 1px 2px rgba(60, 64, 67, 0.3), 0 1px 3px 1px rgba(60, 64, 67, 0.15);\n",
              "    fill: var(--button-hover-fill-color);\n",
              "  }\n",
              "\n",
              "  .colab-df-quickchart-complete:disabled,\n",
              "  .colab-df-quickchart-complete:disabled:hover {\n",
              "    background-color: var(--disabled-bg-color);\n",
              "    fill: var(--disabled-fill-color);\n",
              "    box-shadow: none;\n",
              "  }\n",
              "\n",
              "  .colab-df-spinner {\n",
              "    border: 2px solid var(--fill-color);\n",
              "    border-color: transparent;\n",
              "    border-bottom-color: var(--fill-color);\n",
              "    animation:\n",
              "      spin 1s steps(1) infinite;\n",
              "  }\n",
              "\n",
              "  @keyframes spin {\n",
              "    0% {\n",
              "      border-color: transparent;\n",
              "      border-bottom-color: var(--fill-color);\n",
              "      border-left-color: var(--fill-color);\n",
              "    }\n",
              "    20% {\n",
              "      border-color: transparent;\n",
              "      border-left-color: var(--fill-color);\n",
              "      border-top-color: var(--fill-color);\n",
              "    }\n",
              "    30% {\n",
              "      border-color: transparent;\n",
              "      border-left-color: var(--fill-color);\n",
              "      border-top-color: var(--fill-color);\n",
              "      border-right-color: var(--fill-color);\n",
              "    }\n",
              "    40% {\n",
              "      border-color: transparent;\n",
              "      border-right-color: var(--fill-color);\n",
              "      border-top-color: var(--fill-color);\n",
              "    }\n",
              "    60% {\n",
              "      border-color: transparent;\n",
              "      border-right-color: var(--fill-color);\n",
              "    }\n",
              "    80% {\n",
              "      border-color: transparent;\n",
              "      border-right-color: var(--fill-color);\n",
              "      border-bottom-color: var(--fill-color);\n",
              "    }\n",
              "    90% {\n",
              "      border-color: transparent;\n",
              "      border-bottom-color: var(--fill-color);\n",
              "    }\n",
              "  }\n",
              "</style>\n",
              "\n",
              "  <script>\n",
              "    async function quickchart(key) {\n",
              "      const quickchartButtonEl =\n",
              "        document.querySelector('#' + key + ' button');\n",
              "      quickchartButtonEl.disabled = true;  // To prevent multiple clicks.\n",
              "      quickchartButtonEl.classList.add('colab-df-spinner');\n",
              "      try {\n",
              "        const charts = await google.colab.kernel.invokeFunction(\n",
              "            'suggestCharts', [key], {});\n",
              "      } catch (error) {\n",
              "        console.error('Error during call to suggestCharts:', error);\n",
              "      }\n",
              "      quickchartButtonEl.classList.remove('colab-df-spinner');\n",
              "      quickchartButtonEl.classList.add('colab-df-quickchart-complete');\n",
              "    }\n",
              "    (() => {\n",
              "      let quickchartButtonEl =\n",
              "        document.querySelector('#df-05945e38-b6a9-4f3f-b49b-c133a48ec6b3 button');\n",
              "      quickchartButtonEl.style.display =\n",
              "        google.colab.kernel.accessAllowed ? 'block' : 'none';\n",
              "    })();\n",
              "  </script>\n",
              "</div>\n",
              "    </div>\n",
              "  </div>\n"
            ],
            "application/vnd.google.colaboratory.intrinsic+json": {
              "type": "dataframe",
              "variable_name": "df_gold_2018",
              "summary": "{\n  \"name\": \"df_gold_2018\",\n  \"rows\": 264,\n  \"fields\": [\n    {\n      \"column\": \"Date\",\n      \"properties\": {\n        \"dtype\": \"date\",\n        \"min\": \"2018-01-01 00:00:00\",\n        \"max\": \"2018-12-31 00:00:00\",\n        \"num_unique_values\": 264,\n        \"samples\": [\n          \"2018-04-04 00:00:00\",\n          \"2018-09-25 00:00:00\",\n          \"2018-04-24 00:00:00\"\n        ],\n        \"semantic_type\": \"\",\n        \"description\": \"\"\n      }\n    },\n    {\n      \"column\": \"Open\",\n      \"properties\": {\n        \"dtype\": \"number\",\n        \"std\": 65.48930498840983,\n        \"min\": 1204.9,\n        \"max\": 1463.1,\n        \"num_unique_values\": 245,\n        \"samples\": [\n          1434.6,\n          1398.0,\n          1273.4\n        ],\n        \"semantic_type\": \"\",\n        \"description\": \"\"\n      }\n    },\n    {\n      \"column\": \"High\",\n      \"properties\": {\n        \"dtype\": \"number\",\n        \"std\": 65.27664293733464,\n        \"min\": 1206.6,\n        \"max\": 1463.1,\n        \"num_unique_values\": 246,\n        \"samples\": [\n          1451.5,\n          1398.0,\n          1277.4\n        ],\n        \"semantic_type\": \"\",\n        \"description\": \"\"\n      }\n    },\n    {\n      \"column\": \"Low\",\n      \"properties\": {\n        \"dtype\": \"number\",\n        \"std\": 65.63209253642208,\n        \"min\": 1201.3,\n        \"max\": 1463.1,\n        \"num_unique_values\": 244,\n        \"samples\": [\n          1434.6,\n          1398.0,\n          1265.8\n        ],\n        \"semantic_type\": \"\",\n        \"description\": \"\"\n      }\n    },\n    {\n      \"column\": \"Close\",\n      \"properties\": {\n        \"dtype\": \"number\",\n        \"std\": 70.29358997100196,\n        \"min\": 1204.9,\n        \"max\": 1524.5,\n        \"num_unique_values\": 241,\n        \"samples\": [\n          1506.2,\n          1449.1,\n          1362.0\n        ],\n        \"semantic_type\": \"\",\n        \"description\": \"\"\n      }\n    },\n    {\n      \"column\": \"Volume\",\n      \"properties\": {\n        \"dtype\": \"number\",\n        \"std\": 5769,\n        \"min\": 0,\n        \"max\": 59284,\n        \"num_unique_values\": 116,\n        \"samples\": [\n          36,\n          9,\n          6\n        ],\n        \"semantic_type\": \"\",\n        \"description\": \"\"\n      }\n    },\n    {\n      \"column\": \"Currency\",\n      \"properties\": {\n        \"dtype\": \"category\",\n        \"num_unique_values\": 1,\n        \"samples\": [\n          \"USD\"\n        ],\n        \"semantic_type\": \"\",\n        \"description\": \"\"\n      }\n    }\n  ]\n}"
            }
          },
          "metadata": {},
          "execution_count": 14
        }
      ]
    },
    {
      "cell_type": "code",
      "source": [
        "len(df_gold_2018)"
      ],
      "metadata": {
        "colab": {
          "base_uri": "https://localhost:8080/"
        },
        "id": "a5YwvtEdKG5z",
        "outputId": "13fa54bc-d1f4-4369-fa74-1d4dd0707a62"
      },
      "execution_count": null,
      "outputs": [
        {
          "output_type": "execute_result",
          "data": {
            "text/plain": [
              "264"
            ]
          },
          "metadata": {},
          "execution_count": 16
        }
      ]
    },
    {
      "cell_type": "code",
      "source": [
        "df_gold_2018['Open'].mean()"
      ],
      "metadata": {
        "colab": {
          "base_uri": "https://localhost:8080/"
        },
        "id": "Bi4myrStKJNi",
        "outputId": "67437cbb-6fa9-4297-bc56-092b3d4c0887"
      },
      "execution_count": null,
      "outputs": [
        {
          "output_type": "execute_result",
          "data": {
            "text/plain": [
              "1353.6742424242425"
            ]
          },
          "metadata": {},
          "execution_count": 17
        }
      ]
    },
    {
      "cell_type": "markdown",
      "source": [
        "di tahun 2018, rata2 harga emas adalah 1353.7 USD"
      ],
      "metadata": {
        "id": "dF19wSBRKPoT"
      }
    },
    {
      "cell_type": "code",
      "source": [
        "df_gold_2018['Open'].median()"
      ],
      "metadata": {
        "colab": {
          "base_uri": "https://localhost:8080/"
        },
        "id": "fqkIM4IDKOmC",
        "outputId": "15c90df8-445f-4819-a6be-d4cff972867e"
      },
      "execution_count": null,
      "outputs": [
        {
          "output_type": "execute_result",
          "data": {
            "text/plain": [
              "1344.15"
            ]
          },
          "metadata": {},
          "execution_count": 18
        }
      ]
    },
    {
      "cell_type": "code",
      "source": [
        "df_gold_2018['Open'].mode()"
      ],
      "metadata": {
        "colab": {
          "base_uri": "https://localhost:8080/"
        },
        "id": "F11AmWP7KbOj",
        "outputId": "effd576e-f741-4991-b4dd-e39261028142"
      },
      "execution_count": null,
      "outputs": [
        {
          "output_type": "execute_result",
          "data": {
            "text/plain": [
              "0     1265.8\n",
              "1     1275.7\n",
              "2     1280.2\n",
              "3     1295.8\n",
              "4     1299.8\n",
              "5     1302.8\n",
              "6     1305.8\n",
              "7     1306.4\n",
              "8     1333.1\n",
              "9     1392.1\n",
              "10    1393.9\n",
              "11    1394.8\n",
              "12    1405.3\n",
              "13    1408.3\n",
              "14    1421.7\n",
              "15    1424.8\n",
              "16    1428.1\n",
              "17    1433.1\n",
              "18    1435.9\n",
              "Name: Open, dtype: float64"
            ]
          },
          "metadata": {},
          "execution_count": 19
        }
      ]
    },
    {
      "cell_type": "markdown",
      "source": [
        "mode biasanya kurang berguna untuk data tipe continuous\n",
        "\n",
        "**continuous** data adalah data yang terus berjalan seperti berat, tinggi, jarak, waktu, uang, harga. tidak ada pembatas yang pasti antar data. misalnya, kita bisa bilang ada perbedaan antara 50 dan 51 kg. ada perbedaan antara 50.000 kg dan 50.001 kg. pembatasnya tidak pasti.\n",
        "\n",
        "**discrete** data yang pembatasnya pasti. seperti kategori. contohnya hasil lempar dadu, 1 2 3 4 5 6. tidak ada hasil yang di antara angka angka tersebut seperti 1.2.\n",
        "\n",
        "---\n",
        "lanjut, kita jelaskan lebih detail dan variasi dari mean yang ada. juga variasi teknik yang bisa gunakan untuk mencari angka2 ini"
      ],
      "metadata": {
        "id": "_3pXTYM-Kj6N"
      }
    },
    {
      "cell_type": "code",
      "source": [
        "data = df_gold_2018['Open']\n",
        "\n",
        "# menggunakan statistics\n",
        "statistics.mean(data)"
      ],
      "metadata": {
        "colab": {
          "base_uri": "https://localhost:8080/"
        },
        "id": "f4sWBzvsKcQz",
        "outputId": "04988bd1-91f3-4de1-c045-fab62aaa432d"
      },
      "execution_count": null,
      "outputs": [
        {
          "output_type": "execute_result",
          "data": {
            "text/plain": [
              "1353.6742424242425"
            ]
          },
          "metadata": {},
          "execution_count": 20
        }
      ]
    },
    {
      "cell_type": "code",
      "source": [
        "# menggunakan numpy\n",
        "np.mean(data)"
      ],
      "metadata": {
        "colab": {
          "base_uri": "https://localhost:8080/"
        },
        "id": "BrV27-F5Lxmk",
        "outputId": "68445d83-0571-4545-f2f9-d84aed64c6c3"
      },
      "execution_count": null,
      "outputs": [
        {
          "output_type": "execute_result",
          "data": {
            "text/plain": [
              "1353.6742424242425"
            ]
          },
          "metadata": {},
          "execution_count": 21
        }
      ]
    },
    {
      "cell_type": "code",
      "source": [
        "# menggunakan pandas\n",
        "data.mean()"
      ],
      "metadata": {
        "colab": {
          "base_uri": "https://localhost:8080/"
        },
        "id": "K1vLW37rLzfT",
        "outputId": "04691fb5-6d2d-4ca2-830a-8eb8f7d74942"
      },
      "execution_count": null,
      "outputs": [
        {
          "output_type": "execute_result",
          "data": {
            "text/plain": [
              "1353.6742424242425"
            ]
          },
          "metadata": {},
          "execution_count": 22
        }
      ]
    },
    {
      "cell_type": "code",
      "source": [
        "# kalau datanya memiliki missing values, penggunaan statistics akan memberi error\n",
        "data_dengan_nan = pd.concat([data, pd.Series(np.nan)])\n",
        "data_dengan_nan"
      ],
      "metadata": {
        "colab": {
          "base_uri": "https://localhost:8080/"
        },
        "id": "d7BIjhi9L2pj",
        "outputId": "f840f3dd-9990-45e3-e114-3ce818979e9e"
      },
      "execution_count": null,
      "outputs": [
        {
          "output_type": "execute_result",
          "data": {
            "text/plain": [
              "4568    1305.8\n",
              "4569    1400.1\n",
              "4570    1399.0\n",
              "4571    1407.3\n",
              "4572    1408.3\n",
              "         ...  \n",
              "4828    1343.0\n",
              "4829    1346.5\n",
              "4830    1348.3\n",
              "4831    1347.1\n",
              "0          NaN\n",
              "Length: 265, dtype: float64"
            ]
          },
          "metadata": {},
          "execution_count": 29
        }
      ]
    },
    {
      "cell_type": "code",
      "source": [
        "# menggunakan statistics\n",
        "statistics.mean(data_dengan_nan)"
      ],
      "metadata": {
        "colab": {
          "base_uri": "https://localhost:8080/"
        },
        "id": "WNN1nf_tMRiL",
        "outputId": "ec4cbaeb-2ae5-4ab2-be01-7a3c1da578e6"
      },
      "execution_count": null,
      "outputs": [
        {
          "output_type": "execute_result",
          "data": {
            "text/plain": [
              "nan"
            ]
          },
          "metadata": {},
          "execution_count": 30
        }
      ]
    },
    {
      "cell_type": "code",
      "source": [
        "# menggunakan numpy\n",
        "np.mean(data_dengan_nan)"
      ],
      "metadata": {
        "colab": {
          "base_uri": "https://localhost:8080/"
        },
        "id": "sxkMXRFqMyxD",
        "outputId": "92e465d4-f831-474a-9d1a-d9e7ce501b00"
      },
      "execution_count": null,
      "outputs": [
        {
          "output_type": "execute_result",
          "data": {
            "text/plain": [
              "1353.6742424242425"
            ]
          },
          "metadata": {},
          "execution_count": 31
        }
      ]
    },
    {
      "cell_type": "code",
      "source": [
        "# menggunakan pandas\n",
        "data_dengan_nan.mean()"
      ],
      "metadata": {
        "colab": {
          "base_uri": "https://localhost:8080/"
        },
        "id": "kytqEl7zM0ql",
        "outputId": "f3498a35-a2d2-4eaa-d3dc-3aca2ce9d502"
      },
      "execution_count": null,
      "outputs": [
        {
          "output_type": "execute_result",
          "data": {
            "text/plain": [
              "1353.6742424242425"
            ]
          },
          "metadata": {},
          "execution_count": 32
        }
      ]
    },
    {
      "cell_type": "markdown",
      "source": [
        "## Weighted Mean\n",
        "kadang value dari sebuah titik data dianggap lebih penting dari data lainnya, kita gunakan \"weight\" atau bobot.\n",
        "\n",
        "Misalnya, kita punya nilai assignment 1,2,3 dan ujian akhir. kita anggap nilai ujian akhir memiliki bobot tertinggi di 40%, dan masing masing assignment di 20%."
      ],
      "metadata": {
        "id": "iay8DsOFNIL0"
      }
    },
    {
      "cell_type": "code",
      "source": [
        "data_nilai = [20, 50, 90, 70]\n",
        "data_bobot = [0.2,0.2,0.2,0.4]\n",
        "\n",
        "# cari weighted mean pakai numpy\n",
        "np.average(data_nilai, weights=data_bobot)"
      ],
      "metadata": {
        "colab": {
          "base_uri": "https://localhost:8080/"
        },
        "id": "gDrVopchM7d7",
        "outputId": "40d38bd0-d248-4788-b1d2-4391e0089a5b"
      },
      "execution_count": null,
      "outputs": [
        {
          "output_type": "execute_result",
          "data": {
            "text/plain": [
              "60.0"
            ]
          },
          "metadata": {},
          "execution_count": 34
        }
      ]
    },
    {
      "cell_type": "markdown",
      "source": [
        "## Harmonic Mean\n",
        "kadang data yang kita miliki punya beberapa value yang bersifat outlier, atau data kita punya banyak outier. banyaknya outlier membuat angka statistik kita untuk rata-rata menjadi tidak akurat.\n",
        "\n",
        "kita bisa gunakan harmonic mean. harmonic mean tidak terpengaruh oleh outlier."
      ],
      "metadata": {
        "id": "6-zpUg2JN28W"
      }
    },
    {
      "cell_type": "code",
      "source": [
        "contoh_data = [2, 4, 6, 5, 8, 4, 100]\n",
        "\n",
        "# cari mean biasa\n",
        "np.mean(contoh_data)"
      ],
      "metadata": {
        "colab": {
          "base_uri": "https://localhost:8080/"
        },
        "id": "xadlmxYHNmcj",
        "outputId": "ae691dd0-ca1f-41b7-fc81-f920899f8d0b"
      },
      "execution_count": null,
      "outputs": [
        {
          "output_type": "execute_result",
          "data": {
            "text/plain": [
              "18.428571428571427"
            ]
          },
          "metadata": {},
          "execution_count": 35
        }
      ]
    },
    {
      "cell_type": "code",
      "source": [
        "# cari harmonic mean pakai statistics\n",
        "statistics.harmonic_mean(contoh_data)"
      ],
      "metadata": {
        "colab": {
          "base_uri": "https://localhost:8080/"
        },
        "id": "dUyQW6LhOjiz",
        "outputId": "94db1632-9bef-4f70-ecaf-d46501fb407f"
      },
      "execution_count": null,
      "outputs": [
        {
          "output_type": "execute_result",
          "data": {
            "text/plain": [
              "4.661487236403995"
            ]
          },
          "metadata": {},
          "execution_count": 36
        }
      ]
    },
    {
      "cell_type": "code",
      "source": [
        "# cari harmonic mean pakai scipy.stats\n",
        "scipy.stats.hmean(contoh_data)"
      ],
      "metadata": {
        "colab": {
          "base_uri": "https://localhost:8080/"
        },
        "id": "PUhldCaLOrc7",
        "outputId": "41fa0e97-f394-4d60-a083-d15740432e8b"
      },
      "execution_count": null,
      "outputs": [
        {
          "output_type": "execute_result",
          "data": {
            "text/plain": [
              "4.661487236403995"
            ]
          },
          "metadata": {},
          "execution_count": 37
        }
      ]
    },
    {
      "cell_type": "markdown",
      "source": [
        "## Geometric Mean\n",
        "saat kita mau cari rata-rata antara data yang tidak nyambung, misalnya: rata-rata rating dan jumlah rating seorang seller.\n",
        "\n",
        "kita mau beli handphone online, kita cari seller yang rata rata rating nya tinggi dan jumlah rating nya banyak. kita punya pilihan:\n",
        "- seller A, punya 1800 rating, dengan 9.5 rating\n",
        "- seller B, punya 995 rating, dengan 9.8 rating\n",
        "\n",
        "kita cari geometric mean untuk tau siapa yang lebih tinggi nilainya"
      ],
      "metadata": {
        "id": "y68RPJqsO3qs"
      }
    },
    {
      "cell_type": "code",
      "source": [
        "# kita cari geometric mean menggunakan scipy.stats\n",
        "sellerA = scipy.stats.gmean([1800, 9.5])\n",
        "sellerB = scipy.stats.gmean([995, 9.8])\n",
        "print(sellerA, sellerB)"
      ],
      "metadata": {
        "colab": {
          "base_uri": "https://localhost:8080/"
        },
        "id": "954_xCSFOzaz",
        "outputId": "2bef033e-b452-4406-fa30-97d53856eb12"
      },
      "execution_count": null,
      "outputs": [
        {
          "output_type": "stream",
          "name": "stdout",
          "text": [
            "130.76696830622026 98.7471518576612\n"
          ]
        }
      ]
    },
    {
      "cell_type": "markdown",
      "source": [
        "kita bisa membeli handphone dari seller A yang nilai nya lebih tinggi"
      ],
      "metadata": {
        "id": "5jKh8Kb2Pq7c"
      }
    },
    {
      "cell_type": "code",
      "source": [
        "# kembali ke data harga emas kita di tahun 2018\n",
        "data"
      ],
      "metadata": {
        "colab": {
          "base_uri": "https://localhost:8080/"
        },
        "id": "QfPCghWqSg6E",
        "outputId": "43c3bed8-de84-48ab-d713-61d4fb274786"
      },
      "execution_count": null,
      "outputs": [
        {
          "output_type": "execute_result",
          "data": {
            "text/plain": [
              "4568    1305.8\n",
              "4569    1400.1\n",
              "4570    1399.0\n",
              "4571    1407.3\n",
              "4572    1408.3\n",
              "         ...  \n",
              "4827    1272.5\n",
              "4828    1343.0\n",
              "4829    1346.5\n",
              "4830    1348.3\n",
              "4831    1347.1\n",
              "Name: Open, Length: 264, dtype: float64"
            ]
          },
          "metadata": {},
          "execution_count": 39
        }
      ]
    },
    {
      "cell_type": "markdown",
      "source": [
        "# Median\n",
        "median adalah titik tengah secara posisi di sebuah data"
      ],
      "metadata": {
        "id": "vvavO8VzSVzf"
      }
    },
    {
      "cell_type": "code",
      "source": [
        "# cari median dengan statistics\n",
        "statistics.median(data)"
      ],
      "metadata": {
        "colab": {
          "base_uri": "https://localhost:8080/"
        },
        "id": "Sbhi2GOHPox8",
        "outputId": "064a2117-9eb9-4c18-fd08-a7c1410db03b"
      },
      "execution_count": null,
      "outputs": [
        {
          "output_type": "execute_result",
          "data": {
            "text/plain": [
              "1344.15"
            ]
          },
          "metadata": {},
          "execution_count": 44
        }
      ]
    },
    {
      "cell_type": "code",
      "source": [
        "statistics.median_low(data)"
      ],
      "metadata": {
        "colab": {
          "base_uri": "https://localhost:8080/"
        },
        "id": "Ssp05kvOP_mj",
        "outputId": "92a43295-4831-4438-9c1d-14df873ae211"
      },
      "execution_count": null,
      "outputs": [
        {
          "output_type": "execute_result",
          "data": {
            "text/plain": [
              "1343.7"
            ]
          },
          "metadata": {},
          "execution_count": 45
        }
      ]
    },
    {
      "cell_type": "code",
      "source": [
        "statistics.median_high(data)"
      ],
      "metadata": {
        "colab": {
          "base_uri": "https://localhost:8080/"
        },
        "id": "CsGvFnZPSrn0",
        "outputId": "7cf5d764-9b77-45f8-d39c-78dd891ae077"
      },
      "execution_count": null,
      "outputs": [
        {
          "output_type": "execute_result",
          "data": {
            "text/plain": [
              "1344.6"
            ]
          },
          "metadata": {},
          "execution_count": 46
        }
      ]
    },
    {
      "cell_type": "markdown",
      "source": [
        "median harga emas kita ada di 1344.15\n",
        "\n",
        "angka ini didapat dengan menjumlah dan membagi dua data: 1343.7 dan 1344.6\n",
        "\n",
        "karena jumlah data kita genap (ada 264 data) maka median adalah hasil dari pembagian dua data yang ada di posisi tengah data kita."
      ],
      "metadata": {
        "id": "YOeEZ06QSxmt"
      }
    },
    {
      "cell_type": "code",
      "source": [
        "# cari median pakai numpy\n",
        "np.median(data)"
      ],
      "metadata": {
        "colab": {
          "base_uri": "https://localhost:8080/"
        },
        "id": "rT8YvlAJSw40",
        "outputId": "0491d1e1-965d-408f-eb3a-596118aa4423"
      },
      "execution_count": null,
      "outputs": [
        {
          "output_type": "execute_result",
          "data": {
            "text/plain": [
              "1344.15"
            ]
          },
          "metadata": {},
          "execution_count": 47
        }
      ]
    },
    {
      "cell_type": "code",
      "source": [
        "# cari median pakai pandas\n",
        "data.median()"
      ],
      "metadata": {
        "colab": {
          "base_uri": "https://localhost:8080/"
        },
        "id": "6Ydfje3jTCzl",
        "outputId": "bffb5959-3d16-4d8f-d196-d063e4f2b956"
      },
      "execution_count": null,
      "outputs": [
        {
          "output_type": "execute_result",
          "data": {
            "text/plain": [
              "1344.15"
            ]
          },
          "metadata": {},
          "execution_count": 48
        }
      ]
    },
    {
      "cell_type": "markdown",
      "source": [
        "# Mode\n",
        "modus\n",
        "\n",
        "mode adalah nilai yang paling sering muncul dari data kita. jikda tidak ada satu nilai yang paling sering muncul, bisa dibilang data kita multimodal, punya banyak mode.\n",
        "\n",
        "note: di situasi multimodal, kebanyakan package python akan memilih satu mode saja yang pertama."
      ],
      "metadata": {
        "id": "iURhNbJtTKGV"
      }
    },
    {
      "cell_type": "code",
      "source": [
        "# cari mode pakai statistics\n",
        "statistics.mode(data)"
      ],
      "metadata": {
        "colab": {
          "base_uri": "https://localhost:8080/"
        },
        "id": "PlZho4rGTGQE",
        "outputId": "ad3282d5-fc4c-472b-9071-aee86ffe84df"
      },
      "execution_count": null,
      "outputs": [
        {
          "output_type": "execute_result",
          "data": {
            "text/plain": [
              "1305.8"
            ]
          },
          "metadata": {},
          "execution_count": 49
        }
      ]
    },
    {
      "cell_type": "code",
      "source": [
        "# cari mode pakai scipy stats\n",
        "scipy.stats.mode(data)"
      ],
      "metadata": {
        "colab": {
          "base_uri": "https://localhost:8080/"
        },
        "id": "w2qZfApNTgVE",
        "outputId": "159c9da9-dd54-47fb-dc3b-7e02534bbfff"
      },
      "execution_count": null,
      "outputs": [
        {
          "output_type": "execute_result",
          "data": {
            "text/plain": [
              "ModeResult(mode=1265.8, count=2)"
            ]
          },
          "metadata": {},
          "execution_count": 50
        }
      ]
    },
    {
      "cell_type": "markdown",
      "source": [
        "package scipy stats memberi tahu kita jumlah kemunculan mode nya. di data kita ini, angka 1265.8 muncul sebanyak 2 kali."
      ],
      "metadata": {
        "id": "-apO1qfETofe"
      }
    },
    {
      "cell_type": "code",
      "source": [
        "# cari mode pakai pandas\n",
        "data.mode()"
      ],
      "metadata": {
        "colab": {
          "base_uri": "https://localhost:8080/"
        },
        "id": "zwGQbhw6TkSz",
        "outputId": "7e3c3fd3-3b05-4b97-fc8f-2774af58f0ce"
      },
      "execution_count": null,
      "outputs": [
        {
          "output_type": "execute_result",
          "data": {
            "text/plain": [
              "0     1265.8\n",
              "1     1275.7\n",
              "2     1280.2\n",
              "3     1295.8\n",
              "4     1299.8\n",
              "5     1302.8\n",
              "6     1305.8\n",
              "7     1306.4\n",
              "8     1333.1\n",
              "9     1392.1\n",
              "10    1393.9\n",
              "11    1394.8\n",
              "12    1405.3\n",
              "13    1408.3\n",
              "14    1421.7\n",
              "15    1424.8\n",
              "16    1428.1\n",
              "17    1433.1\n",
              "18    1435.9\n",
              "Name: Open, dtype: float64"
            ]
          },
          "metadata": {},
          "execution_count": 51
        }
      ]
    },
    {
      "cell_type": "markdown",
      "source": [
        "pandas memberi tahu kita semua mode yang kita miliki. data kita ini punya multimodal, semua data ini muncul sebanyak 2 kali (jumlah count kita ketahui dari scipy stats tadi)\n",
        "\n",
        "di data yang sifatnya continuous seperti ini biasanya mode kurang berguna untuk memberi tahu tengah data."
      ],
      "metadata": {
        "id": "vXIOPsRgT0Ot"
      }
    },
    {
      "cell_type": "markdown",
      "source": [
        "# Measure of Variability / Spread\n",
        "mengukur penyebaran data\n",
        "\n",
        "setelah mengetahui tengah data, kita perlu konteks lebih untuk benar benar yakin tengah data tersebut seberapa spesifik - apakah datanya terkonsentrasi di tengah, atau banyak tersebar dari tengah tersebut.\n",
        "\n",
        "- standard deviation\n",
        "- variance\n",
        "- skewness\n",
        "- percentiles, quartiles (boxplot: quartile 1,2,3)\n",
        "- range"
      ],
      "metadata": {
        "id": "ZvtdRlnlUGTN"
      }
    },
    {
      "cell_type": "markdown",
      "source": [
        "## Standard Deviation dan Variance\n",
        "Standard Deviation adalah variance yang di akar\n",
        "\n",
        "Variance adalah standard deviation di kuadrat\n",
        "\n",
        "kita dari dulu rata-ratanya\n",
        "1. cari mean\n",
        "2. kita cari tau setiap data di dataset kita seberapa jauh dari mean.\n",
        "3. jumlahin \"distance\" setiap data ke mean\n",
        "4. total dibagi ke jumlah data (pembaginya dikurangi 1 karena kita anggap datanya sample bukan population)\n",
        "--> karena ada yang distance nya positif, ada yang negatif. kita kesulitan menjumlahkan. jadi, kita kuadratkan \"distance\" ini supaya nilainya positif semua\n",
        "\n",
        "jadi, setiap titik data, kita cari perbedaannya dengan rata-rata, lalu kita kuadratkan (pasti positif), baru kita jumlahkan semuanya\n",
        "\n",
        "hasil jumlah ini adalah variance.\n",
        "\n",
        "hasil variance, kita akar, jadilah standard deviation.\n",
        "\n",
        "info lebih lanjut, bisa lihat penjelasan secara visual di https://towardsdatascience.com/a-visual-interpretation-of-the-standard-deviation-30f4676c291c"
      ],
      "metadata": {
        "id": "aVCpxvA1Uw2t"
      }
    },
    {
      "cell_type": "code",
      "source": [
        "# variance dengan statistics\n",
        "statistics.variance(data)"
      ],
      "metadata": {
        "colab": {
          "base_uri": "https://localhost:8080/"
        },
        "id": "VNYKWZdvUvjV",
        "outputId": "3a350562-85ca-43df-91c2-3a26df4270b2"
      },
      "execution_count": null,
      "outputs": [
        {
          "output_type": "execute_result",
          "data": {
            "text/plain": [
              "4288.849067864961"
            ]
          },
          "metadata": {},
          "execution_count": 52
        }
      ]
    },
    {
      "cell_type": "code",
      "source": [
        "# variance dengan numpy\n",
        "np.var(data)"
      ],
      "metadata": {
        "colab": {
          "base_uri": "https://localhost:8080/"
        },
        "id": "z44jxZRKTydU",
        "outputId": "c69aa4a5-f280-48f5-dbee-2b1a025f58d3"
      },
      "execution_count": null,
      "outputs": [
        {
          "output_type": "execute_result",
          "data": {
            "text/plain": [
              "4272.603427456382"
            ]
          },
          "metadata": {},
          "execution_count": 53
        }
      ]
    },
    {
      "cell_type": "code",
      "source": [
        "np.var(data, ddof=1)"
      ],
      "metadata": {
        "colab": {
          "base_uri": "https://localhost:8080/"
        },
        "id": "KSBQS8s4WrD0",
        "outputId": "d2e74868-fb35-4fa0-b949-b0cb072c2532"
      },
      "execution_count": null,
      "outputs": [
        {
          "output_type": "execute_result",
          "data": {
            "text/plain": [
              "4288.8490678649605"
            ]
          },
          "metadata": {},
          "execution_count": 54
        }
      ]
    },
    {
      "cell_type": "markdown",
      "source": [
        "secara default, numpy menganggap data kita adalah population, jadi kita perlu tambahkan opsi ddof=1 untuk bilang datanya adalah sample.\n",
        "\n",
        "bisa dilihat variance data population lebih kecil dari variance data sample. karena kita selalu menggangap sample tidak seakurat population, penyebaran sample pasti lebih tinggi dari population."
      ],
      "metadata": {
        "id": "J1MG5SdbWwa_"
      }
    },
    {
      "cell_type": "code",
      "source": [
        "# variance dengan pandas\n",
        "data.var()"
      ],
      "metadata": {
        "colab": {
          "base_uri": "https://localhost:8080/"
        },
        "id": "E92U5Z1CWvO8",
        "outputId": "96b92e6f-0d87-4e78-aa88-9fe891dfc38b"
      },
      "execution_count": null,
      "outputs": [
        {
          "output_type": "execute_result",
          "data": {
            "text/plain": [
              "4288.8490678649605"
            ]
          },
          "metadata": {},
          "execution_count": 55
        }
      ]
    },
    {
      "cell_type": "code",
      "source": [
        "data.var(ddof=0)"
      ],
      "metadata": {
        "colab": {
          "base_uri": "https://localhost:8080/"
        },
        "id": "ZMGdk8VFXFxs",
        "outputId": "73cbf45a-45e8-4ae8-e0ed-77403f76d34b"
      },
      "execution_count": null,
      "outputs": [
        {
          "output_type": "execute_result",
          "data": {
            "text/plain": [
              "4272.603427456382"
            ]
          },
          "metadata": {},
          "execution_count": 56
        }
      ]
    },
    {
      "cell_type": "markdown",
      "source": [
        "sebaliknya, untuk pandas, secara default dia anggap data kita adalah sample. kita perlu tambahkan opsi ddof=0 untuk bilang data kita population."
      ],
      "metadata": {
        "id": "xlBCmX6BXK6W"
      }
    },
    {
      "cell_type": "code",
      "source": [
        "# standard deviation untuk sample, dengan statistics\n",
        "statistics.stdev(data)"
      ],
      "metadata": {
        "colab": {
          "base_uri": "https://localhost:8080/"
        },
        "id": "akd8IqKaXKC0",
        "outputId": "6a466877-dc1d-4685-d07d-3523b2229f01"
      },
      "execution_count": null,
      "outputs": [
        {
          "output_type": "execute_result",
          "data": {
            "text/plain": [
              "65.48930498840984"
            ]
          },
          "metadata": {},
          "execution_count": 57
        }
      ]
    },
    {
      "cell_type": "code",
      "source": [
        "# standard deviation untuk sample, pakai numpy\n",
        "np.std(data, ddof=1)"
      ],
      "metadata": {
        "colab": {
          "base_uri": "https://localhost:8080/"
        },
        "id": "s0NXMtnuXW_8",
        "outputId": "9dc9872d-5514-484c-c43e-551365e5406c"
      },
      "execution_count": null,
      "outputs": [
        {
          "output_type": "execute_result",
          "data": {
            "text/plain": [
              "65.48930498840983"
            ]
          },
          "metadata": {},
          "execution_count": 59
        }
      ]
    },
    {
      "cell_type": "code",
      "source": [
        "# standard deviation untuk sample, pakai pandas\n",
        "data.std()"
      ],
      "metadata": {
        "colab": {
          "base_uri": "https://localhost:8080/"
        },
        "id": "akJdvahYXbEd",
        "outputId": "2261ad52-7e4a-4120-e66a-850779bee64d"
      },
      "execution_count": null,
      "outputs": [
        {
          "output_type": "execute_result",
          "data": {
            "text/plain": [
              "65.48930498840983"
            ]
          },
          "metadata": {},
          "execution_count": 60
        }
      ]
    },
    {
      "cell_type": "markdown",
      "source": [
        "## Skewness\n",
        "melihat asimetri data\n",
        "\n",
        "apakah data kita banyak yang nilai rendah, dengan beberapa nilai positif yang menarik rata2 ke arah positif? positive skew\n",
        "\n",
        "apakah data kita banyak nilai tinggi, dengan beberapa nilai rendah yang menarik rata2 ke arah negatif? negative skew\n",
        "\n",
        "apakah data kita simetris? symmetrical data\n",
        "\n",
        "untuk data skewness:\n",
        "- dibawah -1 atau diatas 1, berarti sangat skewed\n",
        "- diantara -1 dan -0.5, atau diantara 0.5 dan 1, berarti sedikit skewed\n",
        "- diantara -0.5 dan 0.5, berarti simetris\n",
        "\n",
        "info lebih lanjut: https://community.gooddata.com/metrics-and-maql-kb-articles-43/normality-testing-skewness-and-kurtosis-241"
      ],
      "metadata": {
        "id": "fIU8aKQpXot1"
      }
    },
    {
      "cell_type": "code",
      "source": [
        "# cari skew dengan scipy stats\n",
        "scipy.stats.skew(data, bias=False)"
      ],
      "metadata": {
        "colab": {
          "base_uri": "https://localhost:8080/"
        },
        "id": "3HxobrTGXhOE",
        "outputId": "13983a53-c035-48c2-cce7-8da27ebb9d44"
      },
      "execution_count": null,
      "outputs": [
        {
          "output_type": "execute_result",
          "data": {
            "text/plain": [
              "0.037383681971404986"
            ]
          },
          "metadata": {},
          "execution_count": 61
        }
      ]
    },
    {
      "cell_type": "code",
      "source": [
        "# cari skew dengan pandas\n",
        "data.skew()"
      ],
      "metadata": {
        "colab": {
          "base_uri": "https://localhost:8080/"
        },
        "id": "acT2HCPLX9kF",
        "outputId": "c8b30519-b286-498c-b3c0-572d1ca48613"
      },
      "execution_count": null,
      "outputs": [
        {
          "output_type": "execute_result",
          "data": {
            "text/plain": [
              "0.03738368197140501"
            ]
          },
          "metadata": {},
          "execution_count": 62
        }
      ]
    },
    {
      "cell_type": "markdown",
      "source": [
        "terkecuali kita sendang mengerjakan data untuk peluncuran roket, hasil yang desimal berbeda seperti ini bukan masalah, kita anggap sama saja. ini terjadi karena cara hitung di komputer memiliki rounding error yang berbeda tergantung teknik yang dipakai."
      ],
      "metadata": {
        "id": "TMmHen-BYF9o"
      }
    },
    {
      "cell_type": "markdown",
      "source": [
        "# Percentiles dan Quartiles\n",
        "p percentile adalah data di level p% dari sekumpulan data\n",
        "\n",
        "misalkan kita mau tau 10% best students, kita bisa minta 90% percentile, dan semua yang nilainya diatas angka 90th percentile, bisa dibilang termasuk top 10%.\n",
        "\n",
        "untuk percentile ke 25, 50, dan 75, mereka punya nama lebih.\n",
        "Quartile 1, 2 dan 3.\n",
        "- Quartile 1, Percentile 25\n",
        "- Quartile 2, Percentile 50, Median\n",
        "- Quartile 3, Percentile 75"
      ],
      "metadata": {
        "id": "Q00BWNi8Y8dn"
      }
    },
    {
      "cell_type": "code",
      "source": [
        "# cari percentile pakai statistics\n",
        "statistics.quantiles(data, n=2, method='inclusive')"
      ],
      "metadata": {
        "colab": {
          "base_uri": "https://localhost:8080/"
        },
        "id": "1gCWSUqKYBv9",
        "outputId": "9c3afbd2-b861-4ff8-ac9d-5675c68c3e0d"
      },
      "execution_count": null,
      "outputs": [
        {
          "output_type": "execute_result",
          "data": {
            "text/plain": [
              "[1344.15]"
            ]
          },
          "metadata": {},
          "execution_count": 63
        }
      ]
    },
    {
      "cell_type": "markdown",
      "source": [
        "hasil percentile ke-50, atau quartile-2, atau median"
      ],
      "metadata": {
        "id": "MT5MzlHJZgc3"
      }
    },
    {
      "cell_type": "code",
      "source": [
        "statistics.quantiles(data, n=4, method='inclusive')"
      ],
      "metadata": {
        "colab": {
          "base_uri": "https://localhost:8080/"
        },
        "id": "FebWU_ODZe_d",
        "outputId": "c4998e88-c4db-4ca1-fc41-35ca977450c4"
      },
      "execution_count": null,
      "outputs": [
        {
          "output_type": "execute_result",
          "data": {
            "text/plain": [
              "[1296.625, 1344.15, 1419.3000000000002]"
            ]
          },
          "metadata": {},
          "execution_count": 64
        }
      ]
    },
    {
      "cell_type": "markdown",
      "source": [
        "hasil percentile ke 25, 50, 75"
      ],
      "metadata": {
        "id": "1XQY05RXZm3F"
      }
    },
    {
      "cell_type": "code",
      "source": [
        "# cari percentile pakai numpy\n",
        "np.percentile(data, 50)"
      ],
      "metadata": {
        "colab": {
          "base_uri": "https://localhost:8080/"
        },
        "id": "rP75v1f9Zl-R",
        "outputId": "b6373c40-fb44-4244-8696-8b23f18c6ec5"
      },
      "execution_count": null,
      "outputs": [
        {
          "output_type": "execute_result",
          "data": {
            "text/plain": [
              "1344.15"
            ]
          },
          "metadata": {},
          "execution_count": 67
        }
      ]
    },
    {
      "cell_type": "code",
      "source": [
        "np.percentile(data, [25, 50, 75])"
      ],
      "metadata": {
        "colab": {
          "base_uri": "https://localhost:8080/"
        },
        "id": "JCPaNhbPZxDV",
        "outputId": "94721173-7ed4-409c-f6bd-1a60c3425a18"
      },
      "execution_count": null,
      "outputs": [
        {
          "output_type": "execute_result",
          "data": {
            "text/plain": [
              "array([1296.625, 1344.15 , 1419.3  ])"
            ]
          },
          "metadata": {},
          "execution_count": 66
        }
      ]
    },
    {
      "cell_type": "code",
      "source": [
        "np.percentile(data, [10, 90])"
      ],
      "metadata": {
        "colab": {
          "base_uri": "https://localhost:8080/"
        },
        "id": "1MQhLQoEZz99",
        "outputId": "f7bd0b9a-e9b1-48e0-a1e0-7b9ac88fa204"
      },
      "execution_count": null,
      "outputs": [
        {
          "output_type": "execute_result",
          "data": {
            "text/plain": [
              "array([1274.16, 1435.9 ])"
            ]
          },
          "metadata": {},
          "execution_count": 68
        }
      ]
    },
    {
      "cell_type": "markdown",
      "source": [
        "berarti jika harga emas ada di bawah 1274.16 USD, maka itu termasuk harga emas terendah 10% di tahun 2018\n",
        "\n",
        "lalu jika harganya diatas 1435.9 USD, itu termasuk top 10% harga emas tertinggi di tahun 2018"
      ],
      "metadata": {
        "id": "qTd9tYaMZ9pW"
      }
    },
    {
      "cell_type": "code",
      "source": [
        "# cari percentile pakai pandas\n",
        "data.quantile(0.5)"
      ],
      "metadata": {
        "colab": {
          "base_uri": "https://localhost:8080/"
        },
        "id": "X2Zdp1vzZ8dV",
        "outputId": "30d2347d-4077-4bc8-b30f-36fd70bf5c6b"
      },
      "execution_count": null,
      "outputs": [
        {
          "output_type": "execute_result",
          "data": {
            "text/plain": [
              "1344.15"
            ]
          },
          "metadata": {},
          "execution_count": 69
        }
      ]
    },
    {
      "cell_type": "code",
      "source": [
        "data.quantile([0.25, 0.5, 0.75])"
      ],
      "metadata": {
        "colab": {
          "base_uri": "https://localhost:8080/"
        },
        "id": "-qu29IvHaQRe",
        "outputId": "d781b7ac-379d-487f-f0ae-2fc934abc2b3"
      },
      "execution_count": null,
      "outputs": [
        {
          "output_type": "execute_result",
          "data": {
            "text/plain": [
              "0.25    1296.625\n",
              "0.50    1344.150\n",
              "0.75    1419.300\n",
              "Name: Open, dtype: float64"
            ]
          },
          "metadata": {},
          "execution_count": 70
        }
      ]
    },
    {
      "cell_type": "code",
      "source": [
        "data.quantile([0.1, 0.9])"
      ],
      "metadata": {
        "colab": {
          "base_uri": "https://localhost:8080/"
        },
        "id": "cn34UVfQaS6N",
        "outputId": "4577ad7c-67cd-4271-ef02-b1d2a3249ba0"
      },
      "execution_count": null,
      "outputs": [
        {
          "output_type": "execute_result",
          "data": {
            "text/plain": [
              "0.1    1274.16\n",
              "0.9    1435.90\n",
              "Name: Open, dtype: float64"
            ]
          },
          "metadata": {},
          "execution_count": 71
        }
      ]
    },
    {
      "cell_type": "markdown",
      "source": [
        "# Range\n",
        "range adalah perbedaan data max dan min dalam dataset"
      ],
      "metadata": {
        "id": "kNCoejpcaXsI"
      }
    },
    {
      "cell_type": "code",
      "source": [
        "# cari range pakai numpy\n",
        "np.ptp(data)"
      ],
      "metadata": {
        "colab": {
          "base_uri": "https://localhost:8080/"
        },
        "id": "mMwRiUw6aVBt",
        "outputId": "fcc03f89-8483-4f45-ab6e-b9b56b2afe0f"
      },
      "execution_count": null,
      "outputs": [
        {
          "output_type": "execute_result",
          "data": {
            "text/plain": [
              "258.1999999999998"
            ]
          },
          "metadata": {},
          "execution_count": 72
        }
      ]
    },
    {
      "cell_type": "markdown",
      "source": [
        "perbedaan harga emas tertinggi dan terendah di tahun 2018 adalah 259.2 USD"
      ],
      "metadata": {
        "id": "EtW2gmDWaeY9"
      }
    },
    {
      "cell_type": "code",
      "source": [
        "# cari range pakai min dan max\n",
        "data.max() - data.min()"
      ],
      "metadata": {
        "colab": {
          "base_uri": "https://localhost:8080/"
        },
        "id": "q4U0aZNXadHF",
        "outputId": "09879d26-04c0-45be-e9f8-71ad1a6972db"
      },
      "execution_count": null,
      "outputs": [
        {
          "output_type": "execute_result",
          "data": {
            "text/plain": [
              "258.1999999999998"
            ]
          },
          "metadata": {},
          "execution_count": 73
        }
      ]
    },
    {
      "cell_type": "markdown",
      "source": [
        "## Interquartile Range (IQR)\n",
        "perbedaan data antara Quartile 1 dan Quartile 3, atau perbedaan data antara Percentile 25 dan Percentile 75"
      ],
      "metadata": {
        "id": "oIap-r0easgO"
      }
    },
    {
      "cell_type": "code",
      "source": [
        "# cari dengan numpy\n",
        "np.quantile(data, 0.75) - np.quantile(data, 0.25)"
      ],
      "metadata": {
        "colab": {
          "base_uri": "https://localhost:8080/"
        },
        "id": "IYuYrUB-amvc",
        "outputId": "95840be5-17c4-43fe-c5ca-56d763c11d3a"
      },
      "execution_count": null,
      "outputs": [
        {
          "output_type": "execute_result",
          "data": {
            "text/plain": [
              "122.67499999999995"
            ]
          },
          "metadata": {},
          "execution_count": 74
        }
      ]
    },
    {
      "cell_type": "code",
      "source": [
        "np.percentile(data, 75) - np.percentile(data, 25)"
      ],
      "metadata": {
        "colab": {
          "base_uri": "https://localhost:8080/"
        },
        "id": "j7MaJ3aVbFPv",
        "outputId": "1c29fb3b-97c5-4079-c244-0d51cbce47d2"
      },
      "execution_count": null,
      "outputs": [
        {
          "output_type": "execute_result",
          "data": {
            "text/plain": [
              "122.67499999999995"
            ]
          },
          "metadata": {},
          "execution_count": 76
        }
      ]
    },
    {
      "cell_type": "code",
      "source": [
        "# cari dengan pandas\n",
        "data.quantile(0.75) - data.quantile(0.25)"
      ],
      "metadata": {
        "colab": {
          "base_uri": "https://localhost:8080/"
        },
        "id": "KfPogXkYa_nl",
        "outputId": "cbb718ae-10d0-44fd-8bf4-5009fd5b2a18"
      },
      "execution_count": null,
      "outputs": [
        {
          "output_type": "execute_result",
          "data": {
            "text/plain": [
              "122.67499999999995"
            ]
          },
          "metadata": {},
          "execution_count": 75
        }
      ]
    },
    {
      "cell_type": "markdown",
      "source": [
        "## Menghitung Outlier\n",
        "Kita menghitung data termasuk outlier atau tidak dengan formula:\n",
        "\n",
        "`lower_outlier = Q1 - 1.5*IQR`\n",
        "\n",
        "`higher_outlier = Q3 + 1.5*IQR`\n",
        "\n",
        "data yang ada di bawah lower_outlier dan diatas higher_outlier termasuk sebagai outlier"
      ],
      "metadata": {
        "id": "ojtB_PdqbKN1"
      }
    },
    {
      "cell_type": "code",
      "source": [
        "Q1 = np.quantile(data, 0.25)\n",
        "Q3 = np.quantile(data, 0.75)\n",
        "\n",
        "IQR = Q3 - Q1"
      ],
      "metadata": {
        "id": "E2EvWB3sbmsm"
      },
      "execution_count": null,
      "outputs": []
    },
    {
      "cell_type": "code",
      "source": [
        "# cari di data emas 2018 kita\n",
        "lower_limit = Q1 - 1.5 * IQR\n",
        "upper_limit = Q3 + 1.5 * IQR\n",
        "\n",
        "print(lower_limit)\n",
        "print(upper_limit)"
      ],
      "metadata": {
        "colab": {
          "base_uri": "https://localhost:8080/"
        },
        "id": "FUo0svpEbE7A",
        "outputId": "cc3b13f1-0d44-4d99-dcf0-0c708513c61e"
      },
      "execution_count": null,
      "outputs": [
        {
          "output_type": "stream",
          "name": "stdout",
          "text": [
            "1112.6125000000002\n",
            "1603.3125\n"
          ]
        }
      ]
    },
    {
      "cell_type": "code",
      "source": [
        "# semua data di bawah 1112.6 dan diatas 1603.3 adalah outlier\n",
        "outlier_bawah = data[data < lower_limit]\n",
        "outlier_bawah"
      ],
      "metadata": {
        "colab": {
          "base_uri": "https://localhost:8080/"
        },
        "id": "umv_0bfHbomt",
        "outputId": "fe71b0c7-b22d-4efe-96fb-6d04915ba570"
      },
      "execution_count": null,
      "outputs": [
        {
          "output_type": "execute_result",
          "data": {
            "text/plain": [
              "Series([], Name: Open, dtype: float64)"
            ]
          },
          "metadata": {},
          "execution_count": 83
        }
      ]
    },
    {
      "cell_type": "code",
      "source": [
        "outlier_atas = data[data > upper_limit]\n",
        "outlier_atas"
      ],
      "metadata": {
        "colab": {
          "base_uri": "https://localhost:8080/"
        },
        "id": "2gA1INL_cD8Z",
        "outputId": "fcf2dc5e-1c6d-4e33-f7ce-bd0fa1588416"
      },
      "execution_count": null,
      "outputs": [
        {
          "output_type": "execute_result",
          "data": {
            "text/plain": [
              "Series([], Name: Open, dtype: float64)"
            ]
          },
          "metadata": {},
          "execution_count": 85
        }
      ]
    },
    {
      "cell_type": "markdown",
      "source": [
        "kebetulan untuk data kita tidak memilikit outlier"
      ],
      "metadata": {
        "id": "VT86YLuTcJ2i"
      }
    },
    {
      "cell_type": "markdown",
      "source": [
        "# Summary Descriptive Statistics\n",
        "karena banyaknya angka statistic yang sering kita cari, pandas dan package statistics lainnya ada membuatkan shortcut untuk mendapat beberapa angka sekaligus"
      ],
      "metadata": {
        "id": "Hvx8TLFGcQtd"
      }
    },
    {
      "cell_type": "code",
      "source": [
        "# summary menggunakan scipy stats\n",
        "scipy.stats.describe(data, ddof=1, bias=False)"
      ],
      "metadata": {
        "colab": {
          "base_uri": "https://localhost:8080/"
        },
        "id": "XsFU1ZHycG7A",
        "outputId": "48156dbe-bd6b-4823-f1ab-520646fba537"
      },
      "execution_count": null,
      "outputs": [
        {
          "output_type": "execute_result",
          "data": {
            "text/plain": [
              "DescribeResult(nobs=264, minmax=(1204.9, 1463.1), mean=1353.6742424242425, variance=4288.8490678649605, skewness=0.037383681971404986, kurtosis=-1.4270192975561757)"
            ]
          },
          "metadata": {},
          "execution_count": 86
        }
      ]
    },
    {
      "cell_type": "markdown",
      "source": [
        "scipy stats describe ada kasih:\n",
        "- jumlah data, nobs\n",
        "- min dan max\n",
        "- mean\n",
        "- variance\n",
        "- skewness\n",
        "- kurtosis"
      ],
      "metadata": {
        "id": "busZe_NycmEm"
      }
    },
    {
      "cell_type": "code",
      "source": [
        "hasil_summary = scipy.stats.describe(data, ddof=1, bias=False)\n",
        "hasil_summary.mean"
      ],
      "metadata": {
        "colab": {
          "base_uri": "https://localhost:8080/"
        },
        "id": "2svdvUwoclMe",
        "outputId": "2cafae19-505d-41b3-84d6-b9275c902fc2"
      },
      "execution_count": null,
      "outputs": [
        {
          "output_type": "execute_result",
          "data": {
            "text/plain": [
              "1353.6742424242425"
            ]
          },
          "metadata": {},
          "execution_count": 87
        }
      ]
    },
    {
      "cell_type": "code",
      "source": [
        "# summary menggunakan pandas\n",
        "data.describe()"
      ],
      "metadata": {
        "colab": {
          "base_uri": "https://localhost:8080/"
        },
        "id": "PjTO_AP1cxYd",
        "outputId": "66fd3917-0825-4087-e9be-0dddc212901f"
      },
      "execution_count": null,
      "outputs": [
        {
          "output_type": "execute_result",
          "data": {
            "text/plain": [
              "count     264.000000\n",
              "mean     1353.674242\n",
              "std        65.489305\n",
              "min      1204.900000\n",
              "25%      1296.625000\n",
              "50%      1344.150000\n",
              "75%      1419.300000\n",
              "max      1463.100000\n",
              "Name: Open, dtype: float64"
            ]
          },
          "metadata": {},
          "execution_count": 88
        }
      ]
    },
    {
      "cell_type": "markdown",
      "source": [
        "pandas describe ada kasih:\n",
        "- jumlah data, count\n",
        "- mean\n",
        "- standard deviation, std\n",
        "- min\n",
        "- quartile 1,2,3\n",
        "- max"
      ],
      "metadata": {
        "id": "CtKejZMnc26x"
      }
    },
    {
      "cell_type": "code",
      "source": [
        "hasil_summary = data.describe()\n",
        "hasil_summary['std']"
      ],
      "metadata": {
        "colab": {
          "base_uri": "https://localhost:8080/"
        },
        "id": "PGLrzgnUc2AF",
        "outputId": "b7c06424-a793-45b6-c7f7-b838b5bae2b9"
      },
      "execution_count": null,
      "outputs": [
        {
          "output_type": "execute_result",
          "data": {
            "text/plain": [
              "65.48930498840983"
            ]
          },
          "metadata": {},
          "execution_count": 90
        }
      ]
    },
    {
      "cell_type": "markdown",
      "source": [
        "# Correlation\n",
        "correlation coefficient \"r\" adalah angka korelasi, ada diantara -1 dan 1\n",
        "\n",
        "- -1 artinya korelasi kuat negatif, A naik berarti B turun\n",
        "- 0 tidak ada korelasi, A dan B tidak peduli satu sama lain\n",
        "- +1 artinya korelasi kuat positif, A naik berarti B naik"
      ],
      "metadata": {
        "id": "wuqBqBG5dLgz"
      }
    },
    {
      "cell_type": "code",
      "source": [
        "data"
      ],
      "metadata": {
        "colab": {
          "base_uri": "https://localhost:8080/"
        },
        "id": "CCT_bi-KdFAF",
        "outputId": "4b053a65-084e-4e4c-9653-30a37139074b"
      },
      "execution_count": null,
      "outputs": [
        {
          "output_type": "execute_result",
          "data": {
            "text/plain": [
              "4568    1305.8\n",
              "4569    1400.1\n",
              "4570    1399.0\n",
              "4571    1407.3\n",
              "4572    1408.3\n",
              "         ...  \n",
              "4827    1272.5\n",
              "4828    1343.0\n",
              "4829    1346.5\n",
              "4830    1348.3\n",
              "4831    1347.1\n",
              "Name: Open, Length: 264, dtype: float64"
            ]
          },
          "metadata": {},
          "execution_count": 91
        }
      ]
    },
    {
      "cell_type": "code",
      "source": [
        "# kita coba ambil juga data volume, selain harga di tahun 2018\n",
        "df_gold.head()"
      ],
      "metadata": {
        "colab": {
          "base_uri": "https://localhost:8080/",
          "height": 206
        },
        "id": "BXn6DQUudWS9",
        "outputId": "a23b54e9-5eae-4911-9936-485f978bee03"
      },
      "execution_count": null,
      "outputs": [
        {
          "output_type": "execute_result",
          "data": {
            "text/plain": [
              "        Date   Open   High    Low  Close  Volume Currency\n",
              "0 2000-01-04  281.0  281.0  281.0  282.7       4      USD\n",
              "1 2000-01-05  283.2  283.2  283.2  281.1      16      USD\n",
              "2 2000-01-06  281.4  281.4  281.4  281.4       0      USD\n",
              "3 2000-01-07  281.9  281.9  281.9  281.9       0      USD\n",
              "4 2000-01-10  281.7  281.7  281.7  281.7       0      USD"
            ],
            "text/html": [
              "\n",
              "  <div id=\"df-a20c6803-ee5e-465d-bcdb-3c80da781eeb\" class=\"colab-df-container\">\n",
              "    <div>\n",
              "<style scoped>\n",
              "    .dataframe tbody tr th:only-of-type {\n",
              "        vertical-align: middle;\n",
              "    }\n",
              "\n",
              "    .dataframe tbody tr th {\n",
              "        vertical-align: top;\n",
              "    }\n",
              "\n",
              "    .dataframe thead th {\n",
              "        text-align: right;\n",
              "    }\n",
              "</style>\n",
              "<table border=\"1\" class=\"dataframe\">\n",
              "  <thead>\n",
              "    <tr style=\"text-align: right;\">\n",
              "      <th></th>\n",
              "      <th>Date</th>\n",
              "      <th>Open</th>\n",
              "      <th>High</th>\n",
              "      <th>Low</th>\n",
              "      <th>Close</th>\n",
              "      <th>Volume</th>\n",
              "      <th>Currency</th>\n",
              "    </tr>\n",
              "  </thead>\n",
              "  <tbody>\n",
              "    <tr>\n",
              "      <th>0</th>\n",
              "      <td>2000-01-04</td>\n",
              "      <td>281.0</td>\n",
              "      <td>281.0</td>\n",
              "      <td>281.0</td>\n",
              "      <td>282.7</td>\n",
              "      <td>4</td>\n",
              "      <td>USD</td>\n",
              "    </tr>\n",
              "    <tr>\n",
              "      <th>1</th>\n",
              "      <td>2000-01-05</td>\n",
              "      <td>283.2</td>\n",
              "      <td>283.2</td>\n",
              "      <td>283.2</td>\n",
              "      <td>281.1</td>\n",
              "      <td>16</td>\n",
              "      <td>USD</td>\n",
              "    </tr>\n",
              "    <tr>\n",
              "      <th>2</th>\n",
              "      <td>2000-01-06</td>\n",
              "      <td>281.4</td>\n",
              "      <td>281.4</td>\n",
              "      <td>281.4</td>\n",
              "      <td>281.4</td>\n",
              "      <td>0</td>\n",
              "      <td>USD</td>\n",
              "    </tr>\n",
              "    <tr>\n",
              "      <th>3</th>\n",
              "      <td>2000-01-07</td>\n",
              "      <td>281.9</td>\n",
              "      <td>281.9</td>\n",
              "      <td>281.9</td>\n",
              "      <td>281.9</td>\n",
              "      <td>0</td>\n",
              "      <td>USD</td>\n",
              "    </tr>\n",
              "    <tr>\n",
              "      <th>4</th>\n",
              "      <td>2000-01-10</td>\n",
              "      <td>281.7</td>\n",
              "      <td>281.7</td>\n",
              "      <td>281.7</td>\n",
              "      <td>281.7</td>\n",
              "      <td>0</td>\n",
              "      <td>USD</td>\n",
              "    </tr>\n",
              "  </tbody>\n",
              "</table>\n",
              "</div>\n",
              "    <div class=\"colab-df-buttons\">\n",
              "\n",
              "  <div class=\"colab-df-container\">\n",
              "    <button class=\"colab-df-convert\" onclick=\"convertToInteractive('df-a20c6803-ee5e-465d-bcdb-3c80da781eeb')\"\n",
              "            title=\"Convert this dataframe to an interactive table.\"\n",
              "            style=\"display:none;\">\n",
              "\n",
              "  <svg xmlns=\"http://www.w3.org/2000/svg\" height=\"24px\" viewBox=\"0 -960 960 960\">\n",
              "    <path d=\"M120-120v-720h720v720H120Zm60-500h600v-160H180v160Zm220 220h160v-160H400v160Zm0 220h160v-160H400v160ZM180-400h160v-160H180v160Zm440 0h160v-160H620v160ZM180-180h160v-160H180v160Zm440 0h160v-160H620v160Z\"/>\n",
              "  </svg>\n",
              "    </button>\n",
              "\n",
              "  <style>\n",
              "    .colab-df-container {\n",
              "      display:flex;\n",
              "      gap: 12px;\n",
              "    }\n",
              "\n",
              "    .colab-df-convert {\n",
              "      background-color: #E8F0FE;\n",
              "      border: none;\n",
              "      border-radius: 50%;\n",
              "      cursor: pointer;\n",
              "      display: none;\n",
              "      fill: #1967D2;\n",
              "      height: 32px;\n",
              "      padding: 0 0 0 0;\n",
              "      width: 32px;\n",
              "    }\n",
              "\n",
              "    .colab-df-convert:hover {\n",
              "      background-color: #E2EBFA;\n",
              "      box-shadow: 0px 1px 2px rgba(60, 64, 67, 0.3), 0px 1px 3px 1px rgba(60, 64, 67, 0.15);\n",
              "      fill: #174EA6;\n",
              "    }\n",
              "\n",
              "    .colab-df-buttons div {\n",
              "      margin-bottom: 4px;\n",
              "    }\n",
              "\n",
              "    [theme=dark] .colab-df-convert {\n",
              "      background-color: #3B4455;\n",
              "      fill: #D2E3FC;\n",
              "    }\n",
              "\n",
              "    [theme=dark] .colab-df-convert:hover {\n",
              "      background-color: #434B5C;\n",
              "      box-shadow: 0px 1px 3px 1px rgba(0, 0, 0, 0.15);\n",
              "      filter: drop-shadow(0px 1px 2px rgba(0, 0, 0, 0.3));\n",
              "      fill: #FFFFFF;\n",
              "    }\n",
              "  </style>\n",
              "\n",
              "    <script>\n",
              "      const buttonEl =\n",
              "        document.querySelector('#df-a20c6803-ee5e-465d-bcdb-3c80da781eeb button.colab-df-convert');\n",
              "      buttonEl.style.display =\n",
              "        google.colab.kernel.accessAllowed ? 'block' : 'none';\n",
              "\n",
              "      async function convertToInteractive(key) {\n",
              "        const element = document.querySelector('#df-a20c6803-ee5e-465d-bcdb-3c80da781eeb');\n",
              "        const dataTable =\n",
              "          await google.colab.kernel.invokeFunction('convertToInteractive',\n",
              "                                                    [key], {});\n",
              "        if (!dataTable) return;\n",
              "\n",
              "        const docLinkHtml = 'Like what you see? Visit the ' +\n",
              "          '<a target=\"_blank\" href=https://colab.research.google.com/notebooks/data_table.ipynb>data table notebook</a>'\n",
              "          + ' to learn more about interactive tables.';\n",
              "        element.innerHTML = '';\n",
              "        dataTable['output_type'] = 'display_data';\n",
              "        await google.colab.output.renderOutput(dataTable, element);\n",
              "        const docLink = document.createElement('div');\n",
              "        docLink.innerHTML = docLinkHtml;\n",
              "        element.appendChild(docLink);\n",
              "      }\n",
              "    </script>\n",
              "  </div>\n",
              "\n",
              "\n",
              "<div id=\"df-8bf1f2b9-a05e-4c5e-8986-ddb8cac1116c\">\n",
              "  <button class=\"colab-df-quickchart\" onclick=\"quickchart('df-8bf1f2b9-a05e-4c5e-8986-ddb8cac1116c')\"\n",
              "            title=\"Suggest charts\"\n",
              "            style=\"display:none;\">\n",
              "\n",
              "<svg xmlns=\"http://www.w3.org/2000/svg\" height=\"24px\"viewBox=\"0 0 24 24\"\n",
              "     width=\"24px\">\n",
              "    <g>\n",
              "        <path d=\"M19 3H5c-1.1 0-2 .9-2 2v14c0 1.1.9 2 2 2h14c1.1 0 2-.9 2-2V5c0-1.1-.9-2-2-2zM9 17H7v-7h2v7zm4 0h-2V7h2v10zm4 0h-2v-4h2v4z\"/>\n",
              "    </g>\n",
              "</svg>\n",
              "  </button>\n",
              "\n",
              "<style>\n",
              "  .colab-df-quickchart {\n",
              "      --bg-color: #E8F0FE;\n",
              "      --fill-color: #1967D2;\n",
              "      --hover-bg-color: #E2EBFA;\n",
              "      --hover-fill-color: #174EA6;\n",
              "      --disabled-fill-color: #AAA;\n",
              "      --disabled-bg-color: #DDD;\n",
              "  }\n",
              "\n",
              "  [theme=dark] .colab-df-quickchart {\n",
              "      --bg-color: #3B4455;\n",
              "      --fill-color: #D2E3FC;\n",
              "      --hover-bg-color: #434B5C;\n",
              "      --hover-fill-color: #FFFFFF;\n",
              "      --disabled-bg-color: #3B4455;\n",
              "      --disabled-fill-color: #666;\n",
              "  }\n",
              "\n",
              "  .colab-df-quickchart {\n",
              "    background-color: var(--bg-color);\n",
              "    border: none;\n",
              "    border-radius: 50%;\n",
              "    cursor: pointer;\n",
              "    display: none;\n",
              "    fill: var(--fill-color);\n",
              "    height: 32px;\n",
              "    padding: 0;\n",
              "    width: 32px;\n",
              "  }\n",
              "\n",
              "  .colab-df-quickchart:hover {\n",
              "    background-color: var(--hover-bg-color);\n",
              "    box-shadow: 0 1px 2px rgba(60, 64, 67, 0.3), 0 1px 3px 1px rgba(60, 64, 67, 0.15);\n",
              "    fill: var(--button-hover-fill-color);\n",
              "  }\n",
              "\n",
              "  .colab-df-quickchart-complete:disabled,\n",
              "  .colab-df-quickchart-complete:disabled:hover {\n",
              "    background-color: var(--disabled-bg-color);\n",
              "    fill: var(--disabled-fill-color);\n",
              "    box-shadow: none;\n",
              "  }\n",
              "\n",
              "  .colab-df-spinner {\n",
              "    border: 2px solid var(--fill-color);\n",
              "    border-color: transparent;\n",
              "    border-bottom-color: var(--fill-color);\n",
              "    animation:\n",
              "      spin 1s steps(1) infinite;\n",
              "  }\n",
              "\n",
              "  @keyframes spin {\n",
              "    0% {\n",
              "      border-color: transparent;\n",
              "      border-bottom-color: var(--fill-color);\n",
              "      border-left-color: var(--fill-color);\n",
              "    }\n",
              "    20% {\n",
              "      border-color: transparent;\n",
              "      border-left-color: var(--fill-color);\n",
              "      border-top-color: var(--fill-color);\n",
              "    }\n",
              "    30% {\n",
              "      border-color: transparent;\n",
              "      border-left-color: var(--fill-color);\n",
              "      border-top-color: var(--fill-color);\n",
              "      border-right-color: var(--fill-color);\n",
              "    }\n",
              "    40% {\n",
              "      border-color: transparent;\n",
              "      border-right-color: var(--fill-color);\n",
              "      border-top-color: var(--fill-color);\n",
              "    }\n",
              "    60% {\n",
              "      border-color: transparent;\n",
              "      border-right-color: var(--fill-color);\n",
              "    }\n",
              "    80% {\n",
              "      border-color: transparent;\n",
              "      border-right-color: var(--fill-color);\n",
              "      border-bottom-color: var(--fill-color);\n",
              "    }\n",
              "    90% {\n",
              "      border-color: transparent;\n",
              "      border-bottom-color: var(--fill-color);\n",
              "    }\n",
              "  }\n",
              "</style>\n",
              "\n",
              "  <script>\n",
              "    async function quickchart(key) {\n",
              "      const quickchartButtonEl =\n",
              "        document.querySelector('#' + key + ' button');\n",
              "      quickchartButtonEl.disabled = true;  // To prevent multiple clicks.\n",
              "      quickchartButtonEl.classList.add('colab-df-spinner');\n",
              "      try {\n",
              "        const charts = await google.colab.kernel.invokeFunction(\n",
              "            'suggestCharts', [key], {});\n",
              "      } catch (error) {\n",
              "        console.error('Error during call to suggestCharts:', error);\n",
              "      }\n",
              "      quickchartButtonEl.classList.remove('colab-df-spinner');\n",
              "      quickchartButtonEl.classList.add('colab-df-quickchart-complete');\n",
              "    }\n",
              "    (() => {\n",
              "      let quickchartButtonEl =\n",
              "        document.querySelector('#df-8bf1f2b9-a05e-4c5e-8986-ddb8cac1116c button');\n",
              "      quickchartButtonEl.style.display =\n",
              "        google.colab.kernel.accessAllowed ? 'block' : 'none';\n",
              "    })();\n",
              "  </script>\n",
              "</div>\n",
              "    </div>\n",
              "  </div>\n"
            ],
            "application/vnd.google.colaboratory.intrinsic+json": {
              "type": "dataframe",
              "variable_name": "df_gold",
              "summary": "{\n  \"name\": \"df_gold\",\n  \"rows\": 5706,\n  \"fields\": [\n    {\n      \"column\": \"Date\",\n      \"properties\": {\n        \"dtype\": \"date\",\n        \"min\": \"2000-01-04 00:00:00\",\n        \"max\": \"2022-04-20 00:00:00\",\n        \"num_unique_values\": 5706,\n        \"samples\": [\n          \"2009-02-06 00:00:00\",\n          \"2004-06-01 00:00:00\",\n          \"2012-05-11 00:00:00\"\n        ],\n        \"semantic_type\": \"\",\n        \"description\": \"\"\n      }\n    },\n    {\n      \"column\": \"Open\",\n      \"properties\": {\n        \"dtype\": \"number\",\n        \"std\": 522.3750695333601,\n        \"min\": 255.0,\n        \"max\": 2121.7,\n        \"num_unique_values\": 4388,\n        \"samples\": [\n          1237.8,\n          1380.2,\n          1633.2\n        ],\n        \"semantic_type\": \"\",\n        \"description\": \"\"\n      }\n    },\n    {\n      \"column\": \"High\",\n      \"properties\": {\n        \"dtype\": \"number\",\n        \"std\": 524.3964371857334,\n        \"min\": 255.0,\n        \"max\": 2121.7,\n        \"num_unique_values\": 4358,\n        \"samples\": [\n          1755.5,\n          1735.9,\n          786.0\n        ],\n        \"semantic_type\": \"\",\n        \"description\": \"\"\n      }\n    },\n    {\n      \"column\": \"Low\",\n      \"properties\": {\n        \"dtype\": \"number\",\n        \"std\": 520.1159793282768,\n        \"min\": 255.0,\n        \"max\": 2121.7,\n        \"num_unique_values\": 4317,\n        \"samples\": [\n          1518.6,\n          1382.9,\n          1230.7\n        ],\n        \"semantic_type\": \"\",\n        \"description\": \"\"\n      }\n    },\n    {\n      \"column\": \"Close\",\n      \"properties\": {\n        \"dtype\": \"number\",\n        \"std\": 528.987793420033,\n        \"min\": 255.1,\n        \"max\": 2122.7,\n        \"num_unique_values\": 4482,\n        \"samples\": [\n          275.2,\n          1637.8,\n          562.2\n        ],\n        \"semantic_type\": \"\",\n        \"description\": \"\"\n      }\n    },\n    {\n      \"column\": \"Volume\",\n      \"properties\": {\n        \"dtype\": \"number\",\n        \"std\": 10821,\n        \"min\": 0,\n        \"max\": 214605,\n        \"num_unique_values\": 1250,\n        \"samples\": [\n          505,\n          520,\n          226\n        ],\n        \"semantic_type\": \"\",\n        \"description\": \"\"\n      }\n    },\n    {\n      \"column\": \"Currency\",\n      \"properties\": {\n        \"dtype\": \"category\",\n        \"num_unique_values\": 1,\n        \"samples\": [\n          \"USD\"\n        ],\n        \"semantic_type\": \"\",\n        \"description\": \"\"\n      }\n    }\n  ]\n}"
            }
          },
          "metadata": {},
          "execution_count": 92
        }
      ]
    },
    {
      "cell_type": "code",
      "source": [
        "df_gold2018 = df_gold[df_gold['Date'].dt.year == 2018]\n",
        "df_gold2018.head()"
      ],
      "metadata": {
        "colab": {
          "base_uri": "https://localhost:8080/",
          "height": 206
        },
        "id": "Nm_cO1jxdcne",
        "outputId": "d828d769-af48-4b8d-9055-c3eb36197656"
      },
      "execution_count": null,
      "outputs": [
        {
          "output_type": "execute_result",
          "data": {
            "text/plain": [
              "           Date    Open    High     Low   Close  Volume Currency\n",
              "4568 2018-01-01  1305.8  1309.7  1304.6  1308.7       0      USD\n",
              "4569 2018-01-02  1400.1  1400.1  1400.1  1445.0       1      USD\n",
              "4570 2018-01-03  1399.0  1399.0  1399.0  1448.9       1      USD\n",
              "4571 2018-01-04  1407.3  1407.3  1407.3  1452.2       2      USD\n",
              "4572 2018-01-05  1408.3  1408.3  1408.3  1453.2       1      USD"
            ],
            "text/html": [
              "\n",
              "  <div id=\"df-6ad0c11a-d312-475c-863c-830050b07ca2\" class=\"colab-df-container\">\n",
              "    <div>\n",
              "<style scoped>\n",
              "    .dataframe tbody tr th:only-of-type {\n",
              "        vertical-align: middle;\n",
              "    }\n",
              "\n",
              "    .dataframe tbody tr th {\n",
              "        vertical-align: top;\n",
              "    }\n",
              "\n",
              "    .dataframe thead th {\n",
              "        text-align: right;\n",
              "    }\n",
              "</style>\n",
              "<table border=\"1\" class=\"dataframe\">\n",
              "  <thead>\n",
              "    <tr style=\"text-align: right;\">\n",
              "      <th></th>\n",
              "      <th>Date</th>\n",
              "      <th>Open</th>\n",
              "      <th>High</th>\n",
              "      <th>Low</th>\n",
              "      <th>Close</th>\n",
              "      <th>Volume</th>\n",
              "      <th>Currency</th>\n",
              "    </tr>\n",
              "  </thead>\n",
              "  <tbody>\n",
              "    <tr>\n",
              "      <th>4568</th>\n",
              "      <td>2018-01-01</td>\n",
              "      <td>1305.8</td>\n",
              "      <td>1309.7</td>\n",
              "      <td>1304.6</td>\n",
              "      <td>1308.7</td>\n",
              "      <td>0</td>\n",
              "      <td>USD</td>\n",
              "    </tr>\n",
              "    <tr>\n",
              "      <th>4569</th>\n",
              "      <td>2018-01-02</td>\n",
              "      <td>1400.1</td>\n",
              "      <td>1400.1</td>\n",
              "      <td>1400.1</td>\n",
              "      <td>1445.0</td>\n",
              "      <td>1</td>\n",
              "      <td>USD</td>\n",
              "    </tr>\n",
              "    <tr>\n",
              "      <th>4570</th>\n",
              "      <td>2018-01-03</td>\n",
              "      <td>1399.0</td>\n",
              "      <td>1399.0</td>\n",
              "      <td>1399.0</td>\n",
              "      <td>1448.9</td>\n",
              "      <td>1</td>\n",
              "      <td>USD</td>\n",
              "    </tr>\n",
              "    <tr>\n",
              "      <th>4571</th>\n",
              "      <td>2018-01-04</td>\n",
              "      <td>1407.3</td>\n",
              "      <td>1407.3</td>\n",
              "      <td>1407.3</td>\n",
              "      <td>1452.2</td>\n",
              "      <td>2</td>\n",
              "      <td>USD</td>\n",
              "    </tr>\n",
              "    <tr>\n",
              "      <th>4572</th>\n",
              "      <td>2018-01-05</td>\n",
              "      <td>1408.3</td>\n",
              "      <td>1408.3</td>\n",
              "      <td>1408.3</td>\n",
              "      <td>1453.2</td>\n",
              "      <td>1</td>\n",
              "      <td>USD</td>\n",
              "    </tr>\n",
              "  </tbody>\n",
              "</table>\n",
              "</div>\n",
              "    <div class=\"colab-df-buttons\">\n",
              "\n",
              "  <div class=\"colab-df-container\">\n",
              "    <button class=\"colab-df-convert\" onclick=\"convertToInteractive('df-6ad0c11a-d312-475c-863c-830050b07ca2')\"\n",
              "            title=\"Convert this dataframe to an interactive table.\"\n",
              "            style=\"display:none;\">\n",
              "\n",
              "  <svg xmlns=\"http://www.w3.org/2000/svg\" height=\"24px\" viewBox=\"0 -960 960 960\">\n",
              "    <path d=\"M120-120v-720h720v720H120Zm60-500h600v-160H180v160Zm220 220h160v-160H400v160Zm0 220h160v-160H400v160ZM180-400h160v-160H180v160Zm440 0h160v-160H620v160ZM180-180h160v-160H180v160Zm440 0h160v-160H620v160Z\"/>\n",
              "  </svg>\n",
              "    </button>\n",
              "\n",
              "  <style>\n",
              "    .colab-df-container {\n",
              "      display:flex;\n",
              "      gap: 12px;\n",
              "    }\n",
              "\n",
              "    .colab-df-convert {\n",
              "      background-color: #E8F0FE;\n",
              "      border: none;\n",
              "      border-radius: 50%;\n",
              "      cursor: pointer;\n",
              "      display: none;\n",
              "      fill: #1967D2;\n",
              "      height: 32px;\n",
              "      padding: 0 0 0 0;\n",
              "      width: 32px;\n",
              "    }\n",
              "\n",
              "    .colab-df-convert:hover {\n",
              "      background-color: #E2EBFA;\n",
              "      box-shadow: 0px 1px 2px rgba(60, 64, 67, 0.3), 0px 1px 3px 1px rgba(60, 64, 67, 0.15);\n",
              "      fill: #174EA6;\n",
              "    }\n",
              "\n",
              "    .colab-df-buttons div {\n",
              "      margin-bottom: 4px;\n",
              "    }\n",
              "\n",
              "    [theme=dark] .colab-df-convert {\n",
              "      background-color: #3B4455;\n",
              "      fill: #D2E3FC;\n",
              "    }\n",
              "\n",
              "    [theme=dark] .colab-df-convert:hover {\n",
              "      background-color: #434B5C;\n",
              "      box-shadow: 0px 1px 3px 1px rgba(0, 0, 0, 0.15);\n",
              "      filter: drop-shadow(0px 1px 2px rgba(0, 0, 0, 0.3));\n",
              "      fill: #FFFFFF;\n",
              "    }\n",
              "  </style>\n",
              "\n",
              "    <script>\n",
              "      const buttonEl =\n",
              "        document.querySelector('#df-6ad0c11a-d312-475c-863c-830050b07ca2 button.colab-df-convert');\n",
              "      buttonEl.style.display =\n",
              "        google.colab.kernel.accessAllowed ? 'block' : 'none';\n",
              "\n",
              "      async function convertToInteractive(key) {\n",
              "        const element = document.querySelector('#df-6ad0c11a-d312-475c-863c-830050b07ca2');\n",
              "        const dataTable =\n",
              "          await google.colab.kernel.invokeFunction('convertToInteractive',\n",
              "                                                    [key], {});\n",
              "        if (!dataTable) return;\n",
              "\n",
              "        const docLinkHtml = 'Like what you see? Visit the ' +\n",
              "          '<a target=\"_blank\" href=https://colab.research.google.com/notebooks/data_table.ipynb>data table notebook</a>'\n",
              "          + ' to learn more about interactive tables.';\n",
              "        element.innerHTML = '';\n",
              "        dataTable['output_type'] = 'display_data';\n",
              "        await google.colab.output.renderOutput(dataTable, element);\n",
              "        const docLink = document.createElement('div');\n",
              "        docLink.innerHTML = docLinkHtml;\n",
              "        element.appendChild(docLink);\n",
              "      }\n",
              "    </script>\n",
              "  </div>\n",
              "\n",
              "\n",
              "<div id=\"df-beb7b17d-b91b-4d8c-9686-abdf271135ff\">\n",
              "  <button class=\"colab-df-quickchart\" onclick=\"quickchart('df-beb7b17d-b91b-4d8c-9686-abdf271135ff')\"\n",
              "            title=\"Suggest charts\"\n",
              "            style=\"display:none;\">\n",
              "\n",
              "<svg xmlns=\"http://www.w3.org/2000/svg\" height=\"24px\"viewBox=\"0 0 24 24\"\n",
              "     width=\"24px\">\n",
              "    <g>\n",
              "        <path d=\"M19 3H5c-1.1 0-2 .9-2 2v14c0 1.1.9 2 2 2h14c1.1 0 2-.9 2-2V5c0-1.1-.9-2-2-2zM9 17H7v-7h2v7zm4 0h-2V7h2v10zm4 0h-2v-4h2v4z\"/>\n",
              "    </g>\n",
              "</svg>\n",
              "  </button>\n",
              "\n",
              "<style>\n",
              "  .colab-df-quickchart {\n",
              "      --bg-color: #E8F0FE;\n",
              "      --fill-color: #1967D2;\n",
              "      --hover-bg-color: #E2EBFA;\n",
              "      --hover-fill-color: #174EA6;\n",
              "      --disabled-fill-color: #AAA;\n",
              "      --disabled-bg-color: #DDD;\n",
              "  }\n",
              "\n",
              "  [theme=dark] .colab-df-quickchart {\n",
              "      --bg-color: #3B4455;\n",
              "      --fill-color: #D2E3FC;\n",
              "      --hover-bg-color: #434B5C;\n",
              "      --hover-fill-color: #FFFFFF;\n",
              "      --disabled-bg-color: #3B4455;\n",
              "      --disabled-fill-color: #666;\n",
              "  }\n",
              "\n",
              "  .colab-df-quickchart {\n",
              "    background-color: var(--bg-color);\n",
              "    border: none;\n",
              "    border-radius: 50%;\n",
              "    cursor: pointer;\n",
              "    display: none;\n",
              "    fill: var(--fill-color);\n",
              "    height: 32px;\n",
              "    padding: 0;\n",
              "    width: 32px;\n",
              "  }\n",
              "\n",
              "  .colab-df-quickchart:hover {\n",
              "    background-color: var(--hover-bg-color);\n",
              "    box-shadow: 0 1px 2px rgba(60, 64, 67, 0.3), 0 1px 3px 1px rgba(60, 64, 67, 0.15);\n",
              "    fill: var(--button-hover-fill-color);\n",
              "  }\n",
              "\n",
              "  .colab-df-quickchart-complete:disabled,\n",
              "  .colab-df-quickchart-complete:disabled:hover {\n",
              "    background-color: var(--disabled-bg-color);\n",
              "    fill: var(--disabled-fill-color);\n",
              "    box-shadow: none;\n",
              "  }\n",
              "\n",
              "  .colab-df-spinner {\n",
              "    border: 2px solid var(--fill-color);\n",
              "    border-color: transparent;\n",
              "    border-bottom-color: var(--fill-color);\n",
              "    animation:\n",
              "      spin 1s steps(1) infinite;\n",
              "  }\n",
              "\n",
              "  @keyframes spin {\n",
              "    0% {\n",
              "      border-color: transparent;\n",
              "      border-bottom-color: var(--fill-color);\n",
              "      border-left-color: var(--fill-color);\n",
              "    }\n",
              "    20% {\n",
              "      border-color: transparent;\n",
              "      border-left-color: var(--fill-color);\n",
              "      border-top-color: var(--fill-color);\n",
              "    }\n",
              "    30% {\n",
              "      border-color: transparent;\n",
              "      border-left-color: var(--fill-color);\n",
              "      border-top-color: var(--fill-color);\n",
              "      border-right-color: var(--fill-color);\n",
              "    }\n",
              "    40% {\n",
              "      border-color: transparent;\n",
              "      border-right-color: var(--fill-color);\n",
              "      border-top-color: var(--fill-color);\n",
              "    }\n",
              "    60% {\n",
              "      border-color: transparent;\n",
              "      border-right-color: var(--fill-color);\n",
              "    }\n",
              "    80% {\n",
              "      border-color: transparent;\n",
              "      border-right-color: var(--fill-color);\n",
              "      border-bottom-color: var(--fill-color);\n",
              "    }\n",
              "    90% {\n",
              "      border-color: transparent;\n",
              "      border-bottom-color: var(--fill-color);\n",
              "    }\n",
              "  }\n",
              "</style>\n",
              "\n",
              "  <script>\n",
              "    async function quickchart(key) {\n",
              "      const quickchartButtonEl =\n",
              "        document.querySelector('#' + key + ' button');\n",
              "      quickchartButtonEl.disabled = true;  // To prevent multiple clicks.\n",
              "      quickchartButtonEl.classList.add('colab-df-spinner');\n",
              "      try {\n",
              "        const charts = await google.colab.kernel.invokeFunction(\n",
              "            'suggestCharts', [key], {});\n",
              "      } catch (error) {\n",
              "        console.error('Error during call to suggestCharts:', error);\n",
              "      }\n",
              "      quickchartButtonEl.classList.remove('colab-df-spinner');\n",
              "      quickchartButtonEl.classList.add('colab-df-quickchart-complete');\n",
              "    }\n",
              "    (() => {\n",
              "      let quickchartButtonEl =\n",
              "        document.querySelector('#df-beb7b17d-b91b-4d8c-9686-abdf271135ff button');\n",
              "      quickchartButtonEl.style.display =\n",
              "        google.colab.kernel.accessAllowed ? 'block' : 'none';\n",
              "    })();\n",
              "  </script>\n",
              "</div>\n",
              "    </div>\n",
              "  </div>\n"
            ],
            "application/vnd.google.colaboratory.intrinsic+json": {
              "type": "dataframe",
              "variable_name": "df_gold2018",
              "summary": "{\n  \"name\": \"df_gold2018\",\n  \"rows\": 264,\n  \"fields\": [\n    {\n      \"column\": \"Date\",\n      \"properties\": {\n        \"dtype\": \"date\",\n        \"min\": \"2018-01-01 00:00:00\",\n        \"max\": \"2018-12-31 00:00:00\",\n        \"num_unique_values\": 264,\n        \"samples\": [\n          \"2018-04-04 00:00:00\",\n          \"2018-09-25 00:00:00\",\n          \"2018-04-24 00:00:00\"\n        ],\n        \"semantic_type\": \"\",\n        \"description\": \"\"\n      }\n    },\n    {\n      \"column\": \"Open\",\n      \"properties\": {\n        \"dtype\": \"number\",\n        \"std\": 65.48930498840983,\n        \"min\": 1204.9,\n        \"max\": 1463.1,\n        \"num_unique_values\": 245,\n        \"samples\": [\n          1434.6,\n          1398.0,\n          1273.4\n        ],\n        \"semantic_type\": \"\",\n        \"description\": \"\"\n      }\n    },\n    {\n      \"column\": \"High\",\n      \"properties\": {\n        \"dtype\": \"number\",\n        \"std\": 65.27664293733464,\n        \"min\": 1206.6,\n        \"max\": 1463.1,\n        \"num_unique_values\": 246,\n        \"samples\": [\n          1451.5,\n          1398.0,\n          1277.4\n        ],\n        \"semantic_type\": \"\",\n        \"description\": \"\"\n      }\n    },\n    {\n      \"column\": \"Low\",\n      \"properties\": {\n        \"dtype\": \"number\",\n        \"std\": 65.63209253642208,\n        \"min\": 1201.3,\n        \"max\": 1463.1,\n        \"num_unique_values\": 244,\n        \"samples\": [\n          1434.6,\n          1398.0,\n          1265.8\n        ],\n        \"semantic_type\": \"\",\n        \"description\": \"\"\n      }\n    },\n    {\n      \"column\": \"Close\",\n      \"properties\": {\n        \"dtype\": \"number\",\n        \"std\": 70.29358997100196,\n        \"min\": 1204.9,\n        \"max\": 1524.5,\n        \"num_unique_values\": 241,\n        \"samples\": [\n          1506.2,\n          1449.1,\n          1362.0\n        ],\n        \"semantic_type\": \"\",\n        \"description\": \"\"\n      }\n    },\n    {\n      \"column\": \"Volume\",\n      \"properties\": {\n        \"dtype\": \"number\",\n        \"std\": 5769,\n        \"min\": 0,\n        \"max\": 59284,\n        \"num_unique_values\": 116,\n        \"samples\": [\n          36,\n          9,\n          6\n        ],\n        \"semantic_type\": \"\",\n        \"description\": \"\"\n      }\n    },\n    {\n      \"column\": \"Currency\",\n      \"properties\": {\n        \"dtype\": \"category\",\n        \"num_unique_values\": 1,\n        \"samples\": [\n          \"USD\"\n        ],\n        \"semantic_type\": \"\",\n        \"description\": \"\"\n      }\n    }\n  ]\n}"
            }
          },
          "metadata": {},
          "execution_count": 93
        }
      ]
    },
    {
      "cell_type": "markdown",
      "source": [
        "Cari korelasi antara harga 'Open' dengan 'Volume'\n",
        "\n",
        "Volume adalah jumlah jual beli stok emas di hari tersebut\n"
      ],
      "metadata": {
        "id": "NP8qNEUSd5uW"
      }
    },
    {
      "cell_type": "code",
      "source": [
        "# cari dengan scipy stats\n",
        "scipy.stats.pearsonr(df_gold2018['Open'], df_gold2018['Volume'])"
      ],
      "metadata": {
        "colab": {
          "base_uri": "https://localhost:8080/"
        },
        "id": "xlJ1a2XodqMt",
        "outputId": "01b6cbd8-6d19-41fa-8413-36c8d03d2795"
      },
      "execution_count": null,
      "outputs": [
        {
          "output_type": "execute_result",
          "data": {
            "text/plain": [
              "PearsonRResult(statistic=0.12822271184648243, pvalue=0.03733438423795086)"
            ]
          },
          "metadata": {},
          "execution_count": 95
        }
      ]
    },
    {
      "cell_type": "markdown",
      "source": [
        "scipy stats akan kasih 2 angka, r dan pvalue. kita ambil r nya saja."
      ],
      "metadata": {
        "id": "ZPeVeN4heGK2"
      }
    },
    {
      "cell_type": "code",
      "source": [
        "r, pvalue = scipy.stats.pearsonr(df_gold2018['Open'], df_gold2018['Volume'])\n",
        "print(r)"
      ],
      "metadata": {
        "colab": {
          "base_uri": "https://localhost:8080/"
        },
        "id": "_yINlj_yeBve",
        "outputId": "19cb9a4a-2429-4886-f34f-30348af06d72"
      },
      "execution_count": null,
      "outputs": [
        {
          "output_type": "stream",
          "name": "stdout",
          "text": [
            "0.12822271184648243\n"
          ]
        }
      ]
    },
    {
      "cell_type": "markdown",
      "source": [
        "r nya adalah 0.128, artinya hampir tidak ada korelasi. angka ini mendekati 0 yang artinya sama sekali tidak ada korelasi. berarti, harga jual emas di kolom 'Open' tidak ada hubungannya dengan jumlah emas terjual di 'Volume'"
      ],
      "metadata": {
        "id": "nqaUUV8aeO9s"
      }
    },
    {
      "cell_type": "code",
      "source": [
        "# cari dengan numpy\n",
        "np.corrcoef(df_gold2018['Open'], df_gold2018['Volume'])"
      ],
      "metadata": {
        "colab": {
          "base_uri": "https://localhost:8080/"
        },
        "id": "dv20iWn-eOSk",
        "outputId": "1a177175-20e8-4af3-e893-aa1a71bb0816"
      },
      "execution_count": null,
      "outputs": [
        {
          "output_type": "execute_result",
          "data": {
            "text/plain": [
              "array([[1.        , 0.12822271],\n",
              "       [0.12822271, 1.        ]])"
            ]
          },
          "metadata": {},
          "execution_count": 97
        }
      ]
    },
    {
      "cell_type": "markdown",
      "source": [
        "untuk numpy, dia akan buatkan matrix correlation antara Open dengan Open, Open dengan Volume, Volume dengan Open, dan Volume dengan Volume.\n",
        "\n",
        "makanya ada yang nilainya 1, karena itu dengan diri sendiri."
      ],
      "metadata": {
        "id": "tfORuu_Nehiu"
      }
    },
    {
      "cell_type": "code",
      "source": [
        "np.corrcoef(df_gold2018['Open'], df_gold2018['Volume'])[0, 1]"
      ],
      "metadata": {
        "colab": {
          "base_uri": "https://localhost:8080/"
        },
        "id": "y1vExywFege2",
        "outputId": "e23003fb-37f0-4e8c-8ccf-deae79cefa0c"
      },
      "execution_count": null,
      "outputs": [
        {
          "output_type": "execute_result",
          "data": {
            "text/plain": [
              "0.12822271184648246"
            ]
          },
          "metadata": {},
          "execution_count": 98
        }
      ]
    },
    {
      "cell_type": "markdown",
      "source": [
        "dengan teknik indexing, row pertama, kolom kedua, kita bisa ambil value r dari teknik ini\n",
        "\n",
        "r nya sama, masih di 0.128"
      ],
      "metadata": {
        "id": "jvK1ThZVewYh"
      }
    },
    {
      "cell_type": "code",
      "source": [
        "# cari dengan pandas\n",
        "df_gold2018['Open'].corr(df_gold2018['Volume'])"
      ],
      "metadata": {
        "colab": {
          "base_uri": "https://localhost:8080/"
        },
        "id": "xjvsV47-evFG",
        "outputId": "4ca3bfbb-01ad-4e06-93fd-325e1bd34daa"
      },
      "execution_count": null,
      "outputs": [
        {
          "output_type": "execute_result",
          "data": {
            "text/plain": [
              "0.12822271184648246"
            ]
          },
          "metadata": {},
          "execution_count": 100
        }
      ]
    },
    {
      "cell_type": "code",
      "source": [
        "# extra: cari sekalian dengan angka2 linear regression\n",
        "# menggunakan scipy stats\n",
        "scipy.stats.linregress(df_gold2018['Open'], df_gold2018['Volume'])"
      ],
      "metadata": {
        "colab": {
          "base_uri": "https://localhost:8080/"
        },
        "id": "IBsllAdxe-r-",
        "outputId": "c9e3a9ec-38be-4979-8440-4ceda53d4c15"
      },
      "execution_count": null,
      "outputs": [
        {
          "output_type": "execute_result",
          "data": {
            "text/plain": [
              "LinregressResult(slope=11.296126179141954, intercept=-14519.14247212106, rvalue=0.12822271184648243, pvalue=0.0373343842379508, stderr=5.3977668986069, intercept_stderr=7315.331546145519)"
            ]
          },
          "metadata": {},
          "execution_count": 101
        }
      ]
    },
    {
      "cell_type": "markdown",
      "source": [
        "linregress dari scipy stats akan kasih:\n",
        "- slope\n",
        "- intercept\n",
        "- rvalue\n",
        "- pvalue\n",
        "- stderr\n",
        "- intercept_stderr\n",
        "\n",
        "kita bisa temukan formula linear regression dari sini: `ax + b = c`, atau `slope * (harga emas 'Open') + intercept = (jumlah terjual 'Volume')`\n",
        "\n",
        "kita juga bisa temukan r correlation coefficient disini, yaitu rvalue"
      ],
      "metadata": {
        "id": "7PMbGuHyfNCq"
      }
    },
    {
      "cell_type": "code",
      "source": [
        "hasil = scipy.stats.linregress(df_gold2018['Open'], df_gold2018['Volume'])\n",
        "hasil.rvalue"
      ],
      "metadata": {
        "colab": {
          "base_uri": "https://localhost:8080/"
        },
        "id": "yT5tDdu-fL11",
        "outputId": "553141d8-7df5-4345-d902-120f4fa70b95"
      },
      "execution_count": null,
      "outputs": [
        {
          "output_type": "execute_result",
          "data": {
            "text/plain": [
              "0.12822271184648243"
            ]
          },
          "metadata": {},
          "execution_count": 102
        }
      ]
    },
    {
      "cell_type": "markdown",
      "source": [
        "# Latihan\n",
        "silahkah dicoba untuk membuat visualisasi dari dataset Gold kita\n",
        "- Bar Chart\n",
        "- Pie Chart\n",
        "- boxplot\n",
        "- histogram\n",
        "- X-Y plot (scatter plot)\n",
        "\n",
        "1. import data\n",
        "2. Bar Chart: pilih dulu datanya mau ambil data yang mana dijadikan bar chart. misalnya, ambil data Volume untuk jadi bar chart, atau buat dulu kolom \"Year\", agregat rata2 per tahun, untuk buat bar chart jumlah volume penjualan/pembelian emas dari tahun ke tahun.\n",
        "3. Pie Chart: pilih dulu datanya, misalnya mau ambil data perbandingan total penjualan stok emas, antara tahun ke tahun. kita totalin dulu kolom \"Volume\". kita buat kolom \"Year\". kita groupby \"Year\" dan di totalkan \"Volume\" untuk melihat total \"Volume\" per \"Year\". baru dijadikan Pie Chart\n",
        "4. boxplot: misal bandingin harga emas per tahun\n",
        "5. Histogram: misal bandingin harga emas\n",
        "6. scatter plot: misal bandingin hubungan antara harga emas dengan tahun"
      ],
      "metadata": {
        "id": "0P3iIm9SgpsS"
      }
    },
    {
      "cell_type": "markdown",
      "source": [
        "Dataset lain yang punya value tipe text: https://raw.githubusercontent.com/stefkwan-h8/dataset/main/kidney_disease.csv\n",
        "\n",
        "bisa dicoba membuat pie chart dengan menghitung dulu sum untuk setiap value text muncul berapa kali baru jadi pie chart"
      ],
      "metadata": {
        "id": "kl1BaYzbiQ8G"
      }
    },
    {
      "cell_type": "code",
      "source": [
        "df_gold"
      ],
      "metadata": {
        "colab": {
          "base_uri": "https://localhost:8080/",
          "height": 424
        },
        "id": "kf8_S137frXN",
        "outputId": "043f138e-93b0-40d0-fd32-27672dd74992"
      },
      "execution_count": null,
      "outputs": [
        {
          "output_type": "execute_result",
          "data": {
            "text/plain": [
              "           Date    Open     High     Low   Close  Volume Currency\n",
              "0    2000-01-04   281.0   281.00   281.0   282.7       4      USD\n",
              "1    2000-01-05   283.2   283.20   283.2   281.1      16      USD\n",
              "2    2000-01-06   281.4   281.40   281.4   281.4       0      USD\n",
              "3    2000-01-07   281.9   281.90   281.9   281.9       0      USD\n",
              "4    2000-01-10   281.7   281.70   281.7   281.7       0      USD\n",
              "...         ...     ...      ...     ...     ...     ...      ...\n",
              "5701 2022-04-13  1970.5  1985.80  1966.3  1984.7  132029      USD\n",
              "5702 2022-04-14  1981.6  1984.00  1962.7  1974.9  139424      USD\n",
              "5703 2022-04-18  1978.5  2003.00  1974.4  1986.4  138130      USD\n",
              "5704 2022-04-19  1981.2  1985.10  1945.5  1959.0  181440      USD\n",
              "5705 2022-04-20  1952.1  1957.35  1941.2  1956.3       0      USD\n",
              "\n",
              "[5706 rows x 7 columns]"
            ],
            "text/html": [
              "\n",
              "  <div id=\"df-add80421-5e74-45d9-96a0-f9a971b84b47\" class=\"colab-df-container\">\n",
              "    <div>\n",
              "<style scoped>\n",
              "    .dataframe tbody tr th:only-of-type {\n",
              "        vertical-align: middle;\n",
              "    }\n",
              "\n",
              "    .dataframe tbody tr th {\n",
              "        vertical-align: top;\n",
              "    }\n",
              "\n",
              "    .dataframe thead th {\n",
              "        text-align: right;\n",
              "    }\n",
              "</style>\n",
              "<table border=\"1\" class=\"dataframe\">\n",
              "  <thead>\n",
              "    <tr style=\"text-align: right;\">\n",
              "      <th></th>\n",
              "      <th>Date</th>\n",
              "      <th>Open</th>\n",
              "      <th>High</th>\n",
              "      <th>Low</th>\n",
              "      <th>Close</th>\n",
              "      <th>Volume</th>\n",
              "      <th>Currency</th>\n",
              "    </tr>\n",
              "  </thead>\n",
              "  <tbody>\n",
              "    <tr>\n",
              "      <th>0</th>\n",
              "      <td>2000-01-04</td>\n",
              "      <td>281.0</td>\n",
              "      <td>281.00</td>\n",
              "      <td>281.0</td>\n",
              "      <td>282.7</td>\n",
              "      <td>4</td>\n",
              "      <td>USD</td>\n",
              "    </tr>\n",
              "    <tr>\n",
              "      <th>1</th>\n",
              "      <td>2000-01-05</td>\n",
              "      <td>283.2</td>\n",
              "      <td>283.20</td>\n",
              "      <td>283.2</td>\n",
              "      <td>281.1</td>\n",
              "      <td>16</td>\n",
              "      <td>USD</td>\n",
              "    </tr>\n",
              "    <tr>\n",
              "      <th>2</th>\n",
              "      <td>2000-01-06</td>\n",
              "      <td>281.4</td>\n",
              "      <td>281.40</td>\n",
              "      <td>281.4</td>\n",
              "      <td>281.4</td>\n",
              "      <td>0</td>\n",
              "      <td>USD</td>\n",
              "    </tr>\n",
              "    <tr>\n",
              "      <th>3</th>\n",
              "      <td>2000-01-07</td>\n",
              "      <td>281.9</td>\n",
              "      <td>281.90</td>\n",
              "      <td>281.9</td>\n",
              "      <td>281.9</td>\n",
              "      <td>0</td>\n",
              "      <td>USD</td>\n",
              "    </tr>\n",
              "    <tr>\n",
              "      <th>4</th>\n",
              "      <td>2000-01-10</td>\n",
              "      <td>281.7</td>\n",
              "      <td>281.70</td>\n",
              "      <td>281.7</td>\n",
              "      <td>281.7</td>\n",
              "      <td>0</td>\n",
              "      <td>USD</td>\n",
              "    </tr>\n",
              "    <tr>\n",
              "      <th>...</th>\n",
              "      <td>...</td>\n",
              "      <td>...</td>\n",
              "      <td>...</td>\n",
              "      <td>...</td>\n",
              "      <td>...</td>\n",
              "      <td>...</td>\n",
              "      <td>...</td>\n",
              "    </tr>\n",
              "    <tr>\n",
              "      <th>5701</th>\n",
              "      <td>2022-04-13</td>\n",
              "      <td>1970.5</td>\n",
              "      <td>1985.80</td>\n",
              "      <td>1966.3</td>\n",
              "      <td>1984.7</td>\n",
              "      <td>132029</td>\n",
              "      <td>USD</td>\n",
              "    </tr>\n",
              "    <tr>\n",
              "      <th>5702</th>\n",
              "      <td>2022-04-14</td>\n",
              "      <td>1981.6</td>\n",
              "      <td>1984.00</td>\n",
              "      <td>1962.7</td>\n",
              "      <td>1974.9</td>\n",
              "      <td>139424</td>\n",
              "      <td>USD</td>\n",
              "    </tr>\n",
              "    <tr>\n",
              "      <th>5703</th>\n",
              "      <td>2022-04-18</td>\n",
              "      <td>1978.5</td>\n",
              "      <td>2003.00</td>\n",
              "      <td>1974.4</td>\n",
              "      <td>1986.4</td>\n",
              "      <td>138130</td>\n",
              "      <td>USD</td>\n",
              "    </tr>\n",
              "    <tr>\n",
              "      <th>5704</th>\n",
              "      <td>2022-04-19</td>\n",
              "      <td>1981.2</td>\n",
              "      <td>1985.10</td>\n",
              "      <td>1945.5</td>\n",
              "      <td>1959.0</td>\n",
              "      <td>181440</td>\n",
              "      <td>USD</td>\n",
              "    </tr>\n",
              "    <tr>\n",
              "      <th>5705</th>\n",
              "      <td>2022-04-20</td>\n",
              "      <td>1952.1</td>\n",
              "      <td>1957.35</td>\n",
              "      <td>1941.2</td>\n",
              "      <td>1956.3</td>\n",
              "      <td>0</td>\n",
              "      <td>USD</td>\n",
              "    </tr>\n",
              "  </tbody>\n",
              "</table>\n",
              "<p>5706 rows × 7 columns</p>\n",
              "</div>\n",
              "    <div class=\"colab-df-buttons\">\n",
              "\n",
              "  <div class=\"colab-df-container\">\n",
              "    <button class=\"colab-df-convert\" onclick=\"convertToInteractive('df-add80421-5e74-45d9-96a0-f9a971b84b47')\"\n",
              "            title=\"Convert this dataframe to an interactive table.\"\n",
              "            style=\"display:none;\">\n",
              "\n",
              "  <svg xmlns=\"http://www.w3.org/2000/svg\" height=\"24px\" viewBox=\"0 -960 960 960\">\n",
              "    <path d=\"M120-120v-720h720v720H120Zm60-500h600v-160H180v160Zm220 220h160v-160H400v160Zm0 220h160v-160H400v160ZM180-400h160v-160H180v160Zm440 0h160v-160H620v160ZM180-180h160v-160H180v160Zm440 0h160v-160H620v160Z\"/>\n",
              "  </svg>\n",
              "    </button>\n",
              "\n",
              "  <style>\n",
              "    .colab-df-container {\n",
              "      display:flex;\n",
              "      gap: 12px;\n",
              "    }\n",
              "\n",
              "    .colab-df-convert {\n",
              "      background-color: #E8F0FE;\n",
              "      border: none;\n",
              "      border-radius: 50%;\n",
              "      cursor: pointer;\n",
              "      display: none;\n",
              "      fill: #1967D2;\n",
              "      height: 32px;\n",
              "      padding: 0 0 0 0;\n",
              "      width: 32px;\n",
              "    }\n",
              "\n",
              "    .colab-df-convert:hover {\n",
              "      background-color: #E2EBFA;\n",
              "      box-shadow: 0px 1px 2px rgba(60, 64, 67, 0.3), 0px 1px 3px 1px rgba(60, 64, 67, 0.15);\n",
              "      fill: #174EA6;\n",
              "    }\n",
              "\n",
              "    .colab-df-buttons div {\n",
              "      margin-bottom: 4px;\n",
              "    }\n",
              "\n",
              "    [theme=dark] .colab-df-convert {\n",
              "      background-color: #3B4455;\n",
              "      fill: #D2E3FC;\n",
              "    }\n",
              "\n",
              "    [theme=dark] .colab-df-convert:hover {\n",
              "      background-color: #434B5C;\n",
              "      box-shadow: 0px 1px 3px 1px rgba(0, 0, 0, 0.15);\n",
              "      filter: drop-shadow(0px 1px 2px rgba(0, 0, 0, 0.3));\n",
              "      fill: #FFFFFF;\n",
              "    }\n",
              "  </style>\n",
              "\n",
              "    <script>\n",
              "      const buttonEl =\n",
              "        document.querySelector('#df-add80421-5e74-45d9-96a0-f9a971b84b47 button.colab-df-convert');\n",
              "      buttonEl.style.display =\n",
              "        google.colab.kernel.accessAllowed ? 'block' : 'none';\n",
              "\n",
              "      async function convertToInteractive(key) {\n",
              "        const element = document.querySelector('#df-add80421-5e74-45d9-96a0-f9a971b84b47');\n",
              "        const dataTable =\n",
              "          await google.colab.kernel.invokeFunction('convertToInteractive',\n",
              "                                                    [key], {});\n",
              "        if (!dataTable) return;\n",
              "\n",
              "        const docLinkHtml = 'Like what you see? Visit the ' +\n",
              "          '<a target=\"_blank\" href=https://colab.research.google.com/notebooks/data_table.ipynb>data table notebook</a>'\n",
              "          + ' to learn more about interactive tables.';\n",
              "        element.innerHTML = '';\n",
              "        dataTable['output_type'] = 'display_data';\n",
              "        await google.colab.output.renderOutput(dataTable, element);\n",
              "        const docLink = document.createElement('div');\n",
              "        docLink.innerHTML = docLinkHtml;\n",
              "        element.appendChild(docLink);\n",
              "      }\n",
              "    </script>\n",
              "  </div>\n",
              "\n",
              "\n",
              "<div id=\"df-0a5a97e2-2a56-4444-aa96-ef5345dc9863\">\n",
              "  <button class=\"colab-df-quickchart\" onclick=\"quickchart('df-0a5a97e2-2a56-4444-aa96-ef5345dc9863')\"\n",
              "            title=\"Suggest charts\"\n",
              "            style=\"display:none;\">\n",
              "\n",
              "<svg xmlns=\"http://www.w3.org/2000/svg\" height=\"24px\"viewBox=\"0 0 24 24\"\n",
              "     width=\"24px\">\n",
              "    <g>\n",
              "        <path d=\"M19 3H5c-1.1 0-2 .9-2 2v14c0 1.1.9 2 2 2h14c1.1 0 2-.9 2-2V5c0-1.1-.9-2-2-2zM9 17H7v-7h2v7zm4 0h-2V7h2v10zm4 0h-2v-4h2v4z\"/>\n",
              "    </g>\n",
              "</svg>\n",
              "  </button>\n",
              "\n",
              "<style>\n",
              "  .colab-df-quickchart {\n",
              "      --bg-color: #E8F0FE;\n",
              "      --fill-color: #1967D2;\n",
              "      --hover-bg-color: #E2EBFA;\n",
              "      --hover-fill-color: #174EA6;\n",
              "      --disabled-fill-color: #AAA;\n",
              "      --disabled-bg-color: #DDD;\n",
              "  }\n",
              "\n",
              "  [theme=dark] .colab-df-quickchart {\n",
              "      --bg-color: #3B4455;\n",
              "      --fill-color: #D2E3FC;\n",
              "      --hover-bg-color: #434B5C;\n",
              "      --hover-fill-color: #FFFFFF;\n",
              "      --disabled-bg-color: #3B4455;\n",
              "      --disabled-fill-color: #666;\n",
              "  }\n",
              "\n",
              "  .colab-df-quickchart {\n",
              "    background-color: var(--bg-color);\n",
              "    border: none;\n",
              "    border-radius: 50%;\n",
              "    cursor: pointer;\n",
              "    display: none;\n",
              "    fill: var(--fill-color);\n",
              "    height: 32px;\n",
              "    padding: 0;\n",
              "    width: 32px;\n",
              "  }\n",
              "\n",
              "  .colab-df-quickchart:hover {\n",
              "    background-color: var(--hover-bg-color);\n",
              "    box-shadow: 0 1px 2px rgba(60, 64, 67, 0.3), 0 1px 3px 1px rgba(60, 64, 67, 0.15);\n",
              "    fill: var(--button-hover-fill-color);\n",
              "  }\n",
              "\n",
              "  .colab-df-quickchart-complete:disabled,\n",
              "  .colab-df-quickchart-complete:disabled:hover {\n",
              "    background-color: var(--disabled-bg-color);\n",
              "    fill: var(--disabled-fill-color);\n",
              "    box-shadow: none;\n",
              "  }\n",
              "\n",
              "  .colab-df-spinner {\n",
              "    border: 2px solid var(--fill-color);\n",
              "    border-color: transparent;\n",
              "    border-bottom-color: var(--fill-color);\n",
              "    animation:\n",
              "      spin 1s steps(1) infinite;\n",
              "  }\n",
              "\n",
              "  @keyframes spin {\n",
              "    0% {\n",
              "      border-color: transparent;\n",
              "      border-bottom-color: var(--fill-color);\n",
              "      border-left-color: var(--fill-color);\n",
              "    }\n",
              "    20% {\n",
              "      border-color: transparent;\n",
              "      border-left-color: var(--fill-color);\n",
              "      border-top-color: var(--fill-color);\n",
              "    }\n",
              "    30% {\n",
              "      border-color: transparent;\n",
              "      border-left-color: var(--fill-color);\n",
              "      border-top-color: var(--fill-color);\n",
              "      border-right-color: var(--fill-color);\n",
              "    }\n",
              "    40% {\n",
              "      border-color: transparent;\n",
              "      border-right-color: var(--fill-color);\n",
              "      border-top-color: var(--fill-color);\n",
              "    }\n",
              "    60% {\n",
              "      border-color: transparent;\n",
              "      border-right-color: var(--fill-color);\n",
              "    }\n",
              "    80% {\n",
              "      border-color: transparent;\n",
              "      border-right-color: var(--fill-color);\n",
              "      border-bottom-color: var(--fill-color);\n",
              "    }\n",
              "    90% {\n",
              "      border-color: transparent;\n",
              "      border-bottom-color: var(--fill-color);\n",
              "    }\n",
              "  }\n",
              "</style>\n",
              "\n",
              "  <script>\n",
              "    async function quickchart(key) {\n",
              "      const quickchartButtonEl =\n",
              "        document.querySelector('#' + key + ' button');\n",
              "      quickchartButtonEl.disabled = true;  // To prevent multiple clicks.\n",
              "      quickchartButtonEl.classList.add('colab-df-spinner');\n",
              "      try {\n",
              "        const charts = await google.colab.kernel.invokeFunction(\n",
              "            'suggestCharts', [key], {});\n",
              "      } catch (error) {\n",
              "        console.error('Error during call to suggestCharts:', error);\n",
              "      }\n",
              "      quickchartButtonEl.classList.remove('colab-df-spinner');\n",
              "      quickchartButtonEl.classList.add('colab-df-quickchart-complete');\n",
              "    }\n",
              "    (() => {\n",
              "      let quickchartButtonEl =\n",
              "        document.querySelector('#df-0a5a97e2-2a56-4444-aa96-ef5345dc9863 button');\n",
              "      quickchartButtonEl.style.display =\n",
              "        google.colab.kernel.accessAllowed ? 'block' : 'none';\n",
              "    })();\n",
              "  </script>\n",
              "</div>\n",
              "    </div>\n",
              "  </div>\n"
            ],
            "application/vnd.google.colaboratory.intrinsic+json": {
              "type": "dataframe",
              "variable_name": "df_gold",
              "summary": "{\n  \"name\": \"df_gold\",\n  \"rows\": 5706,\n  \"fields\": [\n    {\n      \"column\": \"Date\",\n      \"properties\": {\n        \"dtype\": \"date\",\n        \"min\": \"2000-01-04 00:00:00\",\n        \"max\": \"2022-04-20 00:00:00\",\n        \"num_unique_values\": 5706,\n        \"samples\": [\n          \"2009-02-06 00:00:00\",\n          \"2004-06-01 00:00:00\",\n          \"2012-05-11 00:00:00\"\n        ],\n        \"semantic_type\": \"\",\n        \"description\": \"\"\n      }\n    },\n    {\n      \"column\": \"Open\",\n      \"properties\": {\n        \"dtype\": \"number\",\n        \"std\": 522.3750695333601,\n        \"min\": 255.0,\n        \"max\": 2121.7,\n        \"num_unique_values\": 4388,\n        \"samples\": [\n          1237.8,\n          1380.2,\n          1633.2\n        ],\n        \"semantic_type\": \"\",\n        \"description\": \"\"\n      }\n    },\n    {\n      \"column\": \"High\",\n      \"properties\": {\n        \"dtype\": \"number\",\n        \"std\": 524.3964371857334,\n        \"min\": 255.0,\n        \"max\": 2121.7,\n        \"num_unique_values\": 4358,\n        \"samples\": [\n          1755.5,\n          1735.9,\n          786.0\n        ],\n        \"semantic_type\": \"\",\n        \"description\": \"\"\n      }\n    },\n    {\n      \"column\": \"Low\",\n      \"properties\": {\n        \"dtype\": \"number\",\n        \"std\": 520.1159793282768,\n        \"min\": 255.0,\n        \"max\": 2121.7,\n        \"num_unique_values\": 4317,\n        \"samples\": [\n          1518.6,\n          1382.9,\n          1230.7\n        ],\n        \"semantic_type\": \"\",\n        \"description\": \"\"\n      }\n    },\n    {\n      \"column\": \"Close\",\n      \"properties\": {\n        \"dtype\": \"number\",\n        \"std\": 528.987793420033,\n        \"min\": 255.1,\n        \"max\": 2122.7,\n        \"num_unique_values\": 4482,\n        \"samples\": [\n          275.2,\n          1637.8,\n          562.2\n        ],\n        \"semantic_type\": \"\",\n        \"description\": \"\"\n      }\n    },\n    {\n      \"column\": \"Volume\",\n      \"properties\": {\n        \"dtype\": \"number\",\n        \"std\": 10821,\n        \"min\": 0,\n        \"max\": 214605,\n        \"num_unique_values\": 1250,\n        \"samples\": [\n          505,\n          520,\n          226\n        ],\n        \"semantic_type\": \"\",\n        \"description\": \"\"\n      }\n    },\n    {\n      \"column\": \"Currency\",\n      \"properties\": {\n        \"dtype\": \"category\",\n        \"num_unique_values\": 1,\n        \"samples\": [\n          \"USD\"\n        ],\n        \"semantic_type\": \"\",\n        \"description\": \"\"\n      }\n    }\n  ]\n}"
            }
          },
          "metadata": {},
          "execution_count": 103
        }
      ]
    },
    {
      "cell_type": "code",
      "source": [
        "df_gold2 = df_gold.copy()"
      ],
      "metadata": {
        "id": "EPz125Drljlf"
      },
      "execution_count": null,
      "outputs": []
    },
    {
      "cell_type": "code",
      "source": [
        "# kolom baru Year dari kolom Date diambil year nya\n",
        "df_gold2['Year'] = df_gold2['Date'].dt.year\n",
        "df_gold2.head()"
      ],
      "metadata": {
        "colab": {
          "base_uri": "https://localhost:8080/",
          "height": 206
        },
        "id": "DnTpOlMhlwPQ",
        "outputId": "86c11ba1-f84c-46f0-916c-c0a7b3505b30"
      },
      "execution_count": null,
      "outputs": [
        {
          "output_type": "execute_result",
          "data": {
            "text/plain": [
              "        Date   Open   High    Low  Close  Volume Currency  Year\n",
              "0 2000-01-04  281.0  281.0  281.0  282.7       4      USD  2000\n",
              "1 2000-01-05  283.2  283.2  283.2  281.1      16      USD  2000\n",
              "2 2000-01-06  281.4  281.4  281.4  281.4       0      USD  2000\n",
              "3 2000-01-07  281.9  281.9  281.9  281.9       0      USD  2000\n",
              "4 2000-01-10  281.7  281.7  281.7  281.7       0      USD  2000"
            ],
            "text/html": [
              "\n",
              "  <div id=\"df-372b948d-ded0-45a5-98a0-f98679aca387\" class=\"colab-df-container\">\n",
              "    <div>\n",
              "<style scoped>\n",
              "    .dataframe tbody tr th:only-of-type {\n",
              "        vertical-align: middle;\n",
              "    }\n",
              "\n",
              "    .dataframe tbody tr th {\n",
              "        vertical-align: top;\n",
              "    }\n",
              "\n",
              "    .dataframe thead th {\n",
              "        text-align: right;\n",
              "    }\n",
              "</style>\n",
              "<table border=\"1\" class=\"dataframe\">\n",
              "  <thead>\n",
              "    <tr style=\"text-align: right;\">\n",
              "      <th></th>\n",
              "      <th>Date</th>\n",
              "      <th>Open</th>\n",
              "      <th>High</th>\n",
              "      <th>Low</th>\n",
              "      <th>Close</th>\n",
              "      <th>Volume</th>\n",
              "      <th>Currency</th>\n",
              "      <th>Year</th>\n",
              "    </tr>\n",
              "  </thead>\n",
              "  <tbody>\n",
              "    <tr>\n",
              "      <th>0</th>\n",
              "      <td>2000-01-04</td>\n",
              "      <td>281.0</td>\n",
              "      <td>281.0</td>\n",
              "      <td>281.0</td>\n",
              "      <td>282.7</td>\n",
              "      <td>4</td>\n",
              "      <td>USD</td>\n",
              "      <td>2000</td>\n",
              "    </tr>\n",
              "    <tr>\n",
              "      <th>1</th>\n",
              "      <td>2000-01-05</td>\n",
              "      <td>283.2</td>\n",
              "      <td>283.2</td>\n",
              "      <td>283.2</td>\n",
              "      <td>281.1</td>\n",
              "      <td>16</td>\n",
              "      <td>USD</td>\n",
              "      <td>2000</td>\n",
              "    </tr>\n",
              "    <tr>\n",
              "      <th>2</th>\n",
              "      <td>2000-01-06</td>\n",
              "      <td>281.4</td>\n",
              "      <td>281.4</td>\n",
              "      <td>281.4</td>\n",
              "      <td>281.4</td>\n",
              "      <td>0</td>\n",
              "      <td>USD</td>\n",
              "      <td>2000</td>\n",
              "    </tr>\n",
              "    <tr>\n",
              "      <th>3</th>\n",
              "      <td>2000-01-07</td>\n",
              "      <td>281.9</td>\n",
              "      <td>281.9</td>\n",
              "      <td>281.9</td>\n",
              "      <td>281.9</td>\n",
              "      <td>0</td>\n",
              "      <td>USD</td>\n",
              "      <td>2000</td>\n",
              "    </tr>\n",
              "    <tr>\n",
              "      <th>4</th>\n",
              "      <td>2000-01-10</td>\n",
              "      <td>281.7</td>\n",
              "      <td>281.7</td>\n",
              "      <td>281.7</td>\n",
              "      <td>281.7</td>\n",
              "      <td>0</td>\n",
              "      <td>USD</td>\n",
              "      <td>2000</td>\n",
              "    </tr>\n",
              "  </tbody>\n",
              "</table>\n",
              "</div>\n",
              "    <div class=\"colab-df-buttons\">\n",
              "\n",
              "  <div class=\"colab-df-container\">\n",
              "    <button class=\"colab-df-convert\" onclick=\"convertToInteractive('df-372b948d-ded0-45a5-98a0-f98679aca387')\"\n",
              "            title=\"Convert this dataframe to an interactive table.\"\n",
              "            style=\"display:none;\">\n",
              "\n",
              "  <svg xmlns=\"http://www.w3.org/2000/svg\" height=\"24px\" viewBox=\"0 -960 960 960\">\n",
              "    <path d=\"M120-120v-720h720v720H120Zm60-500h600v-160H180v160Zm220 220h160v-160H400v160Zm0 220h160v-160H400v160ZM180-400h160v-160H180v160Zm440 0h160v-160H620v160ZM180-180h160v-160H180v160Zm440 0h160v-160H620v160Z\"/>\n",
              "  </svg>\n",
              "    </button>\n",
              "\n",
              "  <style>\n",
              "    .colab-df-container {\n",
              "      display:flex;\n",
              "      gap: 12px;\n",
              "    }\n",
              "\n",
              "    .colab-df-convert {\n",
              "      background-color: #E8F0FE;\n",
              "      border: none;\n",
              "      border-radius: 50%;\n",
              "      cursor: pointer;\n",
              "      display: none;\n",
              "      fill: #1967D2;\n",
              "      height: 32px;\n",
              "      padding: 0 0 0 0;\n",
              "      width: 32px;\n",
              "    }\n",
              "\n",
              "    .colab-df-convert:hover {\n",
              "      background-color: #E2EBFA;\n",
              "      box-shadow: 0px 1px 2px rgba(60, 64, 67, 0.3), 0px 1px 3px 1px rgba(60, 64, 67, 0.15);\n",
              "      fill: #174EA6;\n",
              "    }\n",
              "\n",
              "    .colab-df-buttons div {\n",
              "      margin-bottom: 4px;\n",
              "    }\n",
              "\n",
              "    [theme=dark] .colab-df-convert {\n",
              "      background-color: #3B4455;\n",
              "      fill: #D2E3FC;\n",
              "    }\n",
              "\n",
              "    [theme=dark] .colab-df-convert:hover {\n",
              "      background-color: #434B5C;\n",
              "      box-shadow: 0px 1px 3px 1px rgba(0, 0, 0, 0.15);\n",
              "      filter: drop-shadow(0px 1px 2px rgba(0, 0, 0, 0.3));\n",
              "      fill: #FFFFFF;\n",
              "    }\n",
              "  </style>\n",
              "\n",
              "    <script>\n",
              "      const buttonEl =\n",
              "        document.querySelector('#df-372b948d-ded0-45a5-98a0-f98679aca387 button.colab-df-convert');\n",
              "      buttonEl.style.display =\n",
              "        google.colab.kernel.accessAllowed ? 'block' : 'none';\n",
              "\n",
              "      async function convertToInteractive(key) {\n",
              "        const element = document.querySelector('#df-372b948d-ded0-45a5-98a0-f98679aca387');\n",
              "        const dataTable =\n",
              "          await google.colab.kernel.invokeFunction('convertToInteractive',\n",
              "                                                    [key], {});\n",
              "        if (!dataTable) return;\n",
              "\n",
              "        const docLinkHtml = 'Like what you see? Visit the ' +\n",
              "          '<a target=\"_blank\" href=https://colab.research.google.com/notebooks/data_table.ipynb>data table notebook</a>'\n",
              "          + ' to learn more about interactive tables.';\n",
              "        element.innerHTML = '';\n",
              "        dataTable['output_type'] = 'display_data';\n",
              "        await google.colab.output.renderOutput(dataTable, element);\n",
              "        const docLink = document.createElement('div');\n",
              "        docLink.innerHTML = docLinkHtml;\n",
              "        element.appendChild(docLink);\n",
              "      }\n",
              "    </script>\n",
              "  </div>\n",
              "\n",
              "\n",
              "<div id=\"df-b03b5d09-7383-4eca-acd6-f574f88ab268\">\n",
              "  <button class=\"colab-df-quickchart\" onclick=\"quickchart('df-b03b5d09-7383-4eca-acd6-f574f88ab268')\"\n",
              "            title=\"Suggest charts\"\n",
              "            style=\"display:none;\">\n",
              "\n",
              "<svg xmlns=\"http://www.w3.org/2000/svg\" height=\"24px\"viewBox=\"0 0 24 24\"\n",
              "     width=\"24px\">\n",
              "    <g>\n",
              "        <path d=\"M19 3H5c-1.1 0-2 .9-2 2v14c0 1.1.9 2 2 2h14c1.1 0 2-.9 2-2V5c0-1.1-.9-2-2-2zM9 17H7v-7h2v7zm4 0h-2V7h2v10zm4 0h-2v-4h2v4z\"/>\n",
              "    </g>\n",
              "</svg>\n",
              "  </button>\n",
              "\n",
              "<style>\n",
              "  .colab-df-quickchart {\n",
              "      --bg-color: #E8F0FE;\n",
              "      --fill-color: #1967D2;\n",
              "      --hover-bg-color: #E2EBFA;\n",
              "      --hover-fill-color: #174EA6;\n",
              "      --disabled-fill-color: #AAA;\n",
              "      --disabled-bg-color: #DDD;\n",
              "  }\n",
              "\n",
              "  [theme=dark] .colab-df-quickchart {\n",
              "      --bg-color: #3B4455;\n",
              "      --fill-color: #D2E3FC;\n",
              "      --hover-bg-color: #434B5C;\n",
              "      --hover-fill-color: #FFFFFF;\n",
              "      --disabled-bg-color: #3B4455;\n",
              "      --disabled-fill-color: #666;\n",
              "  }\n",
              "\n",
              "  .colab-df-quickchart {\n",
              "    background-color: var(--bg-color);\n",
              "    border: none;\n",
              "    border-radius: 50%;\n",
              "    cursor: pointer;\n",
              "    display: none;\n",
              "    fill: var(--fill-color);\n",
              "    height: 32px;\n",
              "    padding: 0;\n",
              "    width: 32px;\n",
              "  }\n",
              "\n",
              "  .colab-df-quickchart:hover {\n",
              "    background-color: var(--hover-bg-color);\n",
              "    box-shadow: 0 1px 2px rgba(60, 64, 67, 0.3), 0 1px 3px 1px rgba(60, 64, 67, 0.15);\n",
              "    fill: var(--button-hover-fill-color);\n",
              "  }\n",
              "\n",
              "  .colab-df-quickchart-complete:disabled,\n",
              "  .colab-df-quickchart-complete:disabled:hover {\n",
              "    background-color: var(--disabled-bg-color);\n",
              "    fill: var(--disabled-fill-color);\n",
              "    box-shadow: none;\n",
              "  }\n",
              "\n",
              "  .colab-df-spinner {\n",
              "    border: 2px solid var(--fill-color);\n",
              "    border-color: transparent;\n",
              "    border-bottom-color: var(--fill-color);\n",
              "    animation:\n",
              "      spin 1s steps(1) infinite;\n",
              "  }\n",
              "\n",
              "  @keyframes spin {\n",
              "    0% {\n",
              "      border-color: transparent;\n",
              "      border-bottom-color: var(--fill-color);\n",
              "      border-left-color: var(--fill-color);\n",
              "    }\n",
              "    20% {\n",
              "      border-color: transparent;\n",
              "      border-left-color: var(--fill-color);\n",
              "      border-top-color: var(--fill-color);\n",
              "    }\n",
              "    30% {\n",
              "      border-color: transparent;\n",
              "      border-left-color: var(--fill-color);\n",
              "      border-top-color: var(--fill-color);\n",
              "      border-right-color: var(--fill-color);\n",
              "    }\n",
              "    40% {\n",
              "      border-color: transparent;\n",
              "      border-right-color: var(--fill-color);\n",
              "      border-top-color: var(--fill-color);\n",
              "    }\n",
              "    60% {\n",
              "      border-color: transparent;\n",
              "      border-right-color: var(--fill-color);\n",
              "    }\n",
              "    80% {\n",
              "      border-color: transparent;\n",
              "      border-right-color: var(--fill-color);\n",
              "      border-bottom-color: var(--fill-color);\n",
              "    }\n",
              "    90% {\n",
              "      border-color: transparent;\n",
              "      border-bottom-color: var(--fill-color);\n",
              "    }\n",
              "  }\n",
              "</style>\n",
              "\n",
              "  <script>\n",
              "    async function quickchart(key) {\n",
              "      const quickchartButtonEl =\n",
              "        document.querySelector('#' + key + ' button');\n",
              "      quickchartButtonEl.disabled = true;  // To prevent multiple clicks.\n",
              "      quickchartButtonEl.classList.add('colab-df-spinner');\n",
              "      try {\n",
              "        const charts = await google.colab.kernel.invokeFunction(\n",
              "            'suggestCharts', [key], {});\n",
              "      } catch (error) {\n",
              "        console.error('Error during call to suggestCharts:', error);\n",
              "      }\n",
              "      quickchartButtonEl.classList.remove('colab-df-spinner');\n",
              "      quickchartButtonEl.classList.add('colab-df-quickchart-complete');\n",
              "    }\n",
              "    (() => {\n",
              "      let quickchartButtonEl =\n",
              "        document.querySelector('#df-b03b5d09-7383-4eca-acd6-f574f88ab268 button');\n",
              "      quickchartButtonEl.style.display =\n",
              "        google.colab.kernel.accessAllowed ? 'block' : 'none';\n",
              "    })();\n",
              "  </script>\n",
              "</div>\n",
              "    </div>\n",
              "  </div>\n"
            ],
            "application/vnd.google.colaboratory.intrinsic+json": {
              "type": "dataframe",
              "variable_name": "df_gold2",
              "summary": "{\n  \"name\": \"df_gold2\",\n  \"rows\": 5706,\n  \"fields\": [\n    {\n      \"column\": \"Date\",\n      \"properties\": {\n        \"dtype\": \"date\",\n        \"min\": \"2000-01-04 00:00:00\",\n        \"max\": \"2022-04-20 00:00:00\",\n        \"num_unique_values\": 5706,\n        \"samples\": [\n          \"2009-02-06 00:00:00\",\n          \"2004-06-01 00:00:00\",\n          \"2012-05-11 00:00:00\"\n        ],\n        \"semantic_type\": \"\",\n        \"description\": \"\"\n      }\n    },\n    {\n      \"column\": \"Open\",\n      \"properties\": {\n        \"dtype\": \"number\",\n        \"std\": 522.3750695333601,\n        \"min\": 255.0,\n        \"max\": 2121.7,\n        \"num_unique_values\": 4388,\n        \"samples\": [\n          1237.8,\n          1380.2,\n          1633.2\n        ],\n        \"semantic_type\": \"\",\n        \"description\": \"\"\n      }\n    },\n    {\n      \"column\": \"High\",\n      \"properties\": {\n        \"dtype\": \"number\",\n        \"std\": 524.3964371857334,\n        \"min\": 255.0,\n        \"max\": 2121.7,\n        \"num_unique_values\": 4358,\n        \"samples\": [\n          1755.5,\n          1735.9,\n          786.0\n        ],\n        \"semantic_type\": \"\",\n        \"description\": \"\"\n      }\n    },\n    {\n      \"column\": \"Low\",\n      \"properties\": {\n        \"dtype\": \"number\",\n        \"std\": 520.1159793282768,\n        \"min\": 255.0,\n        \"max\": 2121.7,\n        \"num_unique_values\": 4317,\n        \"samples\": [\n          1518.6,\n          1382.9,\n          1230.7\n        ],\n        \"semantic_type\": \"\",\n        \"description\": \"\"\n      }\n    },\n    {\n      \"column\": \"Close\",\n      \"properties\": {\n        \"dtype\": \"number\",\n        \"std\": 528.987793420033,\n        \"min\": 255.1,\n        \"max\": 2122.7,\n        \"num_unique_values\": 4482,\n        \"samples\": [\n          275.2,\n          1637.8,\n          562.2\n        ],\n        \"semantic_type\": \"\",\n        \"description\": \"\"\n      }\n    },\n    {\n      \"column\": \"Volume\",\n      \"properties\": {\n        \"dtype\": \"number\",\n        \"std\": 10821,\n        \"min\": 0,\n        \"max\": 214605,\n        \"num_unique_values\": 1250,\n        \"samples\": [\n          505,\n          520,\n          226\n        ],\n        \"semantic_type\": \"\",\n        \"description\": \"\"\n      }\n    },\n    {\n      \"column\": \"Currency\",\n      \"properties\": {\n        \"dtype\": \"category\",\n        \"num_unique_values\": 1,\n        \"samples\": [\n          \"USD\"\n        ],\n        \"semantic_type\": \"\",\n        \"description\": \"\"\n      }\n    },\n    {\n      \"column\": \"Year\",\n      \"properties\": {\n        \"dtype\": \"int32\",\n        \"num_unique_values\": 23,\n        \"samples\": [\n          2015\n        ],\n        \"semantic_type\": \"\",\n        \"description\": \"\"\n      }\n    }\n  ]\n}"
            }
          },
          "metadata": {},
          "execution_count": 105
        }
      ]
    },
    {
      "cell_type": "code",
      "source": [
        "# agregasi per Year, berapa jumlah Volume\n",
        "gold_peryear_totalvolume = df_gold2.groupby('Year')['Volume'].sum()\n",
        "gold_peryear_totalvolume"
      ],
      "metadata": {
        "colab": {
          "base_uri": "https://localhost:8080/"
        },
        "id": "Mm4M3Bi7l1uf",
        "outputId": "6a70bc88-ab45-46e5-dffa-e68bbcfbd41d"
      },
      "execution_count": null,
      "outputs": [
        {
          "output_type": "execute_result",
          "data": {
            "text/plain": [
              "Year\n",
              "2000     138086\n",
              "2001     141539\n",
              "2002     139028\n",
              "2003     179042\n",
              "2004     272352\n",
              "2005     279736\n",
              "2006     240198\n",
              "2007     293608\n",
              "2008     437276\n",
              "2009     494743\n",
              "2010     548360\n",
              "2011     483044\n",
              "2012     400497\n",
              "2013     376843\n",
              "2014     322134\n",
              "2015     274841\n",
              "2016     293562\n",
              "2017     303009\n",
              "2018     203843\n",
              "2019      44821\n",
              "2020      52292\n",
              "2021     157022\n",
              "2022    3576069\n",
              "Name: Volume, dtype: int64"
            ]
          },
          "metadata": {},
          "execution_count": 108
        }
      ]
    },
    {
      "cell_type": "code",
      "source": [
        "# baru buat bar chart nya\n",
        "gold_peryear_totalvolume.plot(kind='barh')\n",
        "\n",
        "plt.xlabel('total volume in millions')\n",
        "plt.ylabel('year')\n",
        "plt.title('total penjualan dan pembelian emas per tahun')\n",
        "\n",
        "plt.show()"
      ],
      "metadata": {
        "colab": {
          "base_uri": "https://localhost:8080/",
          "height": 477
        },
        "id": "F5WlgWO3mEiX",
        "outputId": "21e1cceb-bb3a-48f3-bbc7-207429e8f291"
      },
      "execution_count": null,
      "outputs": [
        {
          "output_type": "display_data",
          "data": {
            "text/plain": [
              "<Figure size 640x480 with 1 Axes>"
            ],
            "image/png": "[encoded data removed]"
          },
          "metadata": {}
        }
      ]
    },
    {
      "cell_type": "markdown",
      "source": [
        "kebetulan data kita sama, untuk melihat total penjualan emas, dan dibandingkan per tahunnya, kita bisa langsung buatkan pie chart\n",
        "\n",
        "tapi, note kalau data kita dari 2000-2022 ada 23 data. pie chart jadi punya 23 slice, agak kebanyakan. kita bisa kurangi menjadi beberapa pilihan tahun saja. misalnya 2000-2005 jadi total 6 slice."
      ],
      "metadata": {
        "id": "_sZos3Nnm42P"
      }
    },
    {
      "cell_type": "code",
      "source": [
        "gold_peryear_totalvolume.plot(kind='pie')\n",
        "\n",
        "plt.show()"
      ],
      "metadata": {
        "colab": {
          "base_uri": "https://localhost:8080/",
          "height": 406
        },
        "id": "Bbm5tOrgnGrw",
        "outputId": "7f3feb77-2acd-4e15-a3d6-17035513480c"
      },
      "execution_count": null,
      "outputs": [
        {
          "output_type": "display_data",
          "data": {
            "text/plain": [
              "<Figure size 640x480 with 1 Axes>"
            ],
            "image/png": "[encoded data removed]"
          },
          "metadata": {}
        }
      ]
    },
    {
      "cell_type": "markdown",
      "source": [
        "kita coba kurangi jadi 6 slice saja. misalkan pilihan 2000-2005"
      ],
      "metadata": {
        "id": "_aO5fZgGnQ6r"
      }
    },
    {
      "cell_type": "code",
      "source": [
        "gold_peryear_totalvolume.loc[2000:2005]"
      ],
      "metadata": {
        "colab": {
          "base_uri": "https://localhost:8080/"
        },
        "id": "W4s9Z13YnM5o",
        "outputId": "b10a9152-87a7-41da-b706-5d0cffd15333"
      },
      "execution_count": null,
      "outputs": [
        {
          "output_type": "execute_result",
          "data": {
            "text/plain": [
              "Year\n",
              "2000    138086\n",
              "2001    141539\n",
              "2002    139028\n",
              "2003    179042\n",
              "2004    272352\n",
              "2005    279736\n",
              "Name: Volume, dtype: int64"
            ]
          },
          "metadata": {},
          "execution_count": 118
        }
      ]
    },
    {
      "cell_type": "code",
      "source": [
        "gold_peryear_totalvolume.loc[2000:2005].plot(kind=\"pie\")\n",
        "\n",
        "plt.show()"
      ],
      "metadata": {
        "colab": {
          "base_uri": "https://localhost:8080/",
          "height": 406
        },
        "id": "5tUdE6RxnZt5",
        "outputId": "79cee521-64bc-4476-ddc8-e13ebf6a880e"
      },
      "execution_count": null,
      "outputs": [
        {
          "output_type": "display_data",
          "data": {
            "text/plain": [
              "<Figure size 640x480 with 1 Axes>"
            ],
            "image/png": "[encoded data removed]"
          },
          "metadata": {}
        }
      ]
    },
    {
      "cell_type": "code",
      "source": [
        "# coba buat pie chart 2018-2022\n",
        "gold_peryear_totalvolume.loc[2018:2022].plot(kind=\"pie\")\n",
        "\n",
        "plt.show()"
      ],
      "metadata": {
        "colab": {
          "base_uri": "https://localhost:8080/",
          "height": 406
        },
        "id": "msXf9Sp-ngY3",
        "outputId": "29d181af-8922-44e0-8be1-1542c64ea339"
      },
      "execution_count": null,
      "outputs": [
        {
          "output_type": "display_data",
          "data": {
            "text/plain": [
              "<Figure size 640x480 with 1 Axes>"
            ],
            "image/png": "[encoded data removed]"
          },
          "metadata": {}
        }
      ]
    },
    {
      "cell_type": "markdown",
      "source": [
        "boxplot\n",
        "\n",
        "histogram\n",
        "\n",
        "X-Y plot (scatter plot)"
      ],
      "metadata": {
        "id": "C0PVIlBenxaE"
      }
    },
    {
      "cell_type": "code",
      "source": [
        "gold_peryear_totalvolume.plot(kind=\"box\")"
      ],
      "metadata": {
        "colab": {
          "base_uri": "https://localhost:8080/",
          "height": 462
        },
        "id": "5oXeywfKnmcA",
        "outputId": "2596f373-92df-44aa-b7dc-4efb14317eb8"
      },
      "execution_count": null,
      "outputs": [
        {
          "output_type": "execute_result",
          "data": {
            "text/plain": [
              "<Axes: >"
            ]
          },
          "metadata": {},
          "execution_count": 121
        },
        {
          "output_type": "display_data",
          "data": {
            "text/plain": [
              "<Figure size 640x480 with 1 Axes>"
            ],
            "image/png": "[encoded data removed]"
          },
          "metadata": {}
        }
      ]
    },
    {
      "cell_type": "code",
      "source": [
        "n = 10\n",
        "freq, bin_edges = np.histogram(gold_peryear_totalvolume, bins=n)\n",
        "\n",
        "gold_peryear_totalvolume.plot(kind=\"hist\", bins=n)\n",
        "\n",
        "plt.xticks(bin_edges)\n",
        "plt.show()"
      ],
      "metadata": {
        "colab": {
          "base_uri": "https://localhost:8080/",
          "height": 448
        },
        "id": "ouh0DFDin0p_",
        "outputId": "a98dbd6f-5dde-4268-b2a2-13313d25c54d"
      },
      "execution_count": null,
      "outputs": [
        {
          "output_type": "display_data",
          "data": {
            "text/plain": [
              "<Figure size 640x480 with 1 Axes>"
            ],
            "image/png": "[encoded data removed]"
          },
          "metadata": {}
        }
      ]
    },
    {
      "cell_type": "code",
      "source": [
        "gold_peryear_totalvolume2 = df_gold2.groupby('Year')[['Volume']].sum()\n",
        "gold_peryear_totalvolume2 = gold_peryear_totalvolume2.reset_index()\n",
        "gold_peryear_totalvolume2.head()"
      ],
      "metadata": {
        "colab": {
          "base_uri": "https://localhost:8080/",
          "height": 206
        },
        "id": "gZPQT0OTn7C_",
        "outputId": "349fe9d9-7838-4e44-f688-c7dbfe73d4db"
      },
      "execution_count": null,
      "outputs": [
        {
          "output_type": "execute_result",
          "data": {
            "text/plain": [
              "   Year  Volume\n",
              "0  2000  138086\n",
              "1  2001  141539\n",
              "2  2002  139028\n",
              "3  2003  179042\n",
              "4  2004  272352"
            ],
            "text/html": [
              "\n",
              "  <div id=\"df-5f0f9073-d73b-4e18-94b7-4cf4d8961573\" class=\"colab-df-container\">\n",
              "    <div>\n",
              "<style scoped>\n",
              "    .dataframe tbody tr th:only-of-type {\n",
              "        vertical-align: middle;\n",
              "    }\n",
              "\n",
              "    .dataframe tbody tr th {\n",
              "        vertical-align: top;\n",
              "    }\n",
              "\n",
              "    .dataframe thead th {\n",
              "        text-align: right;\n",
              "    }\n",
              "</style>\n",
              "<table border=\"1\" class=\"dataframe\">\n",
              "  <thead>\n",
              "    <tr style=\"text-align: right;\">\n",
              "      <th></th>\n",
              "      <th>Year</th>\n",
              "      <th>Volume</th>\n",
              "    </tr>\n",
              "  </thead>\n",
              "  <tbody>\n",
              "    <tr>\n",
              "      <th>0</th>\n",
              "      <td>2000</td>\n",
              "      <td>138086</td>\n",
              "    </tr>\n",
              "    <tr>\n",
              "      <th>1</th>\n",
              "      <td>2001</td>\n",
              "      <td>141539</td>\n",
              "    </tr>\n",
              "    <tr>\n",
              "      <th>2</th>\n",
              "      <td>2002</td>\n",
              "      <td>139028</td>\n",
              "    </tr>\n",
              "    <tr>\n",
              "      <th>3</th>\n",
              "      <td>2003</td>\n",
              "      <td>179042</td>\n",
              "    </tr>\n",
              "    <tr>\n",
              "      <th>4</th>\n",
              "      <td>2004</td>\n",
              "      <td>272352</td>\n",
              "    </tr>\n",
              "  </tbody>\n",
              "</table>\n",
              "</div>\n",
              "    <div class=\"colab-df-buttons\">\n",
              "\n",
              "  <div class=\"colab-df-container\">\n",
              "    <button class=\"colab-df-convert\" onclick=\"convertToInteractive('df-5f0f9073-d73b-4e18-94b7-4cf4d8961573')\"\n",
              "            title=\"Convert this dataframe to an interactive table.\"\n",
              "            style=\"display:none;\">\n",
              "\n",
              "  <svg xmlns=\"http://www.w3.org/2000/svg\" height=\"24px\" viewBox=\"0 -960 960 960\">\n",
              "    <path d=\"M120-120v-720h720v720H120Zm60-500h600v-160H180v160Zm220 220h160v-160H400v160Zm0 220h160v-160H400v160ZM180-400h160v-160H180v160Zm440 0h160v-160H620v160ZM180-180h160v-160H180v160Zm440 0h160v-160H620v160Z\"/>\n",
              "  </svg>\n",
              "    </button>\n",
              "\n",
              "  <style>\n",
              "    .colab-df-container {\n",
              "      display:flex;\n",
              "      gap: 12px;\n",
              "    }\n",
              "\n",
              "    .colab-df-convert {\n",
              "      background-color: #E8F0FE;\n",
              "      border: none;\n",
              "      border-radius: 50%;\n",
              "      cursor: pointer;\n",
              "      display: none;\n",
              "      fill: #1967D2;\n",
              "      height: 32px;\n",
              "      padding: 0 0 0 0;\n",
              "      width: 32px;\n",
              "    }\n",
              "\n",
              "    .colab-df-convert:hover {\n",
              "      background-color: #E2EBFA;\n",
              "      box-shadow: 0px 1px 2px rgba(60, 64, 67, 0.3), 0px 1px 3px 1px rgba(60, 64, 67, 0.15);\n",
              "      fill: #174EA6;\n",
              "    }\n",
              "\n",
              "    .colab-df-buttons div {\n",
              "      margin-bottom: 4px;\n",
              "    }\n",
              "\n",
              "    [theme=dark] .colab-df-convert {\n",
              "      background-color: #3B4455;\n",
              "      fill: #D2E3FC;\n",
              "    }\n",
              "\n",
              "    [theme=dark] .colab-df-convert:hover {\n",
              "      background-color: #434B5C;\n",
              "      box-shadow: 0px 1px 3px 1px rgba(0, 0, 0, 0.15);\n",
              "      filter: drop-shadow(0px 1px 2px rgba(0, 0, 0, 0.3));\n",
              "      fill: #FFFFFF;\n",
              "    }\n",
              "  </style>\n",
              "\n",
              "    <script>\n",
              "      const buttonEl =\n",
              "        document.querySelector('#df-5f0f9073-d73b-4e18-94b7-4cf4d8961573 button.colab-df-convert');\n",
              "      buttonEl.style.display =\n",
              "        google.colab.kernel.accessAllowed ? 'block' : 'none';\n",
              "\n",
              "      async function convertToInteractive(key) {\n",
              "        const element = document.querySelector('#df-5f0f9073-d73b-4e18-94b7-4cf4d8961573');\n",
              "        const dataTable =\n",
              "          await google.colab.kernel.invokeFunction('convertToInteractive',\n",
              "                                                    [key], {});\n",
              "        if (!dataTable) return;\n",
              "\n",
              "        const docLinkHtml = 'Like what you see? Visit the ' +\n",
              "          '<a target=\"_blank\" href=https://colab.research.google.com/notebooks/data_table.ipynb>data table notebook</a>'\n",
              "          + ' to learn more about interactive tables.';\n",
              "        element.innerHTML = '';\n",
              "        dataTable['output_type'] = 'display_data';\n",
              "        await google.colab.output.renderOutput(dataTable, element);\n",
              "        const docLink = document.createElement('div');\n",
              "        docLink.innerHTML = docLinkHtml;\n",
              "        element.appendChild(docLink);\n",
              "      }\n",
              "    </script>\n",
              "  </div>\n",
              "\n",
              "\n",
              "<div id=\"df-9b0f95f8-6d15-473e-b766-6c8570076cec\">\n",
              "  <button class=\"colab-df-quickchart\" onclick=\"quickchart('df-9b0f95f8-6d15-473e-b766-6c8570076cec')\"\n",
              "            title=\"Suggest charts\"\n",
              "            style=\"display:none;\">\n",
              "\n",
              "<svg xmlns=\"http://www.w3.org/2000/svg\" height=\"24px\"viewBox=\"0 0 24 24\"\n",
              "     width=\"24px\">\n",
              "    <g>\n",
              "        <path d=\"M19 3H5c-1.1 0-2 .9-2 2v14c0 1.1.9 2 2 2h14c1.1 0 2-.9 2-2V5c0-1.1-.9-2-2-2zM9 17H7v-7h2v7zm4 0h-2V7h2v10zm4 0h-2v-4h2v4z\"/>\n",
              "    </g>\n",
              "</svg>\n",
              "  </button>\n",
              "\n",
              "<style>\n",
              "  .colab-df-quickchart {\n",
              "      --bg-color: #E8F0FE;\n",
              "      --fill-color: #1967D2;\n",
              "      --hover-bg-color: #E2EBFA;\n",
              "      --hover-fill-color: #174EA6;\n",
              "      --disabled-fill-color: #AAA;\n",
              "      --disabled-bg-color: #DDD;\n",
              "  }\n",
              "\n",
              "  [theme=dark] .colab-df-quickchart {\n",
              "      --bg-color: #3B4455;\n",
              "      --fill-color: #D2E3FC;\n",
              "      --hover-bg-color: #434B5C;\n",
              "      --hover-fill-color: #FFFFFF;\n",
              "      --disabled-bg-color: #3B4455;\n",
              "      --disabled-fill-color: #666;\n",
              "  }\n",
              "\n",
              "  .colab-df-quickchart {\n",
              "    background-color: var(--bg-color);\n",
              "    border: none;\n",
              "    border-radius: 50%;\n",
              "    cursor: pointer;\n",
              "    display: none;\n",
              "    fill: var(--fill-color);\n",
              "    height: 32px;\n",
              "    padding: 0;\n",
              "    width: 32px;\n",
              "  }\n",
              "\n",
              "  .colab-df-quickchart:hover {\n",
              "    background-color: var(--hover-bg-color);\n",
              "    box-shadow: 0 1px 2px rgba(60, 64, 67, 0.3), 0 1px 3px 1px rgba(60, 64, 67, 0.15);\n",
              "    fill: var(--button-hover-fill-color);\n",
              "  }\n",
              "\n",
              "  .colab-df-quickchart-complete:disabled,\n",
              "  .colab-df-quickchart-complete:disabled:hover {\n",
              "    background-color: var(--disabled-bg-color);\n",
              "    fill: var(--disabled-fill-color);\n",
              "    box-shadow: none;\n",
              "  }\n",
              "\n",
              "  .colab-df-spinner {\n",
              "    border: 2px solid var(--fill-color);\n",
              "    border-color: transparent;\n",
              "    border-bottom-color: var(--fill-color);\n",
              "    animation:\n",
              "      spin 1s steps(1) infinite;\n",
              "  }\n",
              "\n",
              "  @keyframes spin {\n",
              "    0% {\n",
              "      border-color: transparent;\n",
              "      border-bottom-color: var(--fill-color);\n",
              "      border-left-color: var(--fill-color);\n",
              "    }\n",
              "    20% {\n",
              "      border-color: transparent;\n",
              "      border-left-color: var(--fill-color);\n",
              "      border-top-color: var(--fill-color);\n",
              "    }\n",
              "    30% {\n",
              "      border-color: transparent;\n",
              "      border-left-color: var(--fill-color);\n",
              "      border-top-color: var(--fill-color);\n",
              "      border-right-color: var(--fill-color);\n",
              "    }\n",
              "    40% {\n",
              "      border-color: transparent;\n",
              "      border-right-color: var(--fill-color);\n",
              "      border-top-color: var(--fill-color);\n",
              "    }\n",
              "    60% {\n",
              "      border-color: transparent;\n",
              "      border-right-color: var(--fill-color);\n",
              "    }\n",
              "    80% {\n",
              "      border-color: transparent;\n",
              "      border-right-color: var(--fill-color);\n",
              "      border-bottom-color: var(--fill-color);\n",
              "    }\n",
              "    90% {\n",
              "      border-color: transparent;\n",
              "      border-bottom-color: var(--fill-color);\n",
              "    }\n",
              "  }\n",
              "</style>\n",
              "\n",
              "  <script>\n",
              "    async function quickchart(key) {\n",
              "      const quickchartButtonEl =\n",
              "        document.querySelector('#' + key + ' button');\n",
              "      quickchartButtonEl.disabled = true;  // To prevent multiple clicks.\n",
              "      quickchartButtonEl.classList.add('colab-df-spinner');\n",
              "      try {\n",
              "        const charts = await google.colab.kernel.invokeFunction(\n",
              "            'suggestCharts', [key], {});\n",
              "      } catch (error) {\n",
              "        console.error('Error during call to suggestCharts:', error);\n",
              "      }\n",
              "      quickchartButtonEl.classList.remove('colab-df-spinner');\n",
              "      quickchartButtonEl.classList.add('colab-df-quickchart-complete');\n",
              "    }\n",
              "    (() => {\n",
              "      let quickchartButtonEl =\n",
              "        document.querySelector('#df-9b0f95f8-6d15-473e-b766-6c8570076cec button');\n",
              "      quickchartButtonEl.style.display =\n",
              "        google.colab.kernel.accessAllowed ? 'block' : 'none';\n",
              "    })();\n",
              "  </script>\n",
              "</div>\n",
              "    </div>\n",
              "  </div>\n"
            ],
            "application/vnd.google.colaboratory.intrinsic+json": {
              "type": "dataframe",
              "variable_name": "gold_peryear_totalvolume2",
              "summary": "{\n  \"name\": \"gold_peryear_totalvolume2\",\n  \"rows\": 23,\n  \"fields\": [\n    {\n      \"column\": \"Year\",\n      \"properties\": {\n        \"dtype\": \"int32\",\n        \"num_unique_values\": 23,\n        \"samples\": [\n          2015,\n          2009,\n          2000\n        ],\n        \"semantic_type\": \"\",\n        \"description\": \"\"\n      }\n    },\n    {\n      \"column\": \"Volume\",\n      \"properties\": {\n        \"dtype\": \"number\",\n        \"std\": 701469,\n        \"min\": 44821,\n        \"max\": 3576069,\n        \"num_unique_values\": 23,\n        \"samples\": [\n          274841,\n          494743,\n          138086\n        ],\n        \"semantic_type\": \"\",\n        \"description\": \"\"\n      }\n    }\n  ]\n}"
            }
          },
          "metadata": {},
          "execution_count": 132
        }
      ]
    },
    {
      "cell_type": "code",
      "source": [
        "gold_peryear_totalvolume2.plot(kind=\"scatter\", x=\"Year\", y=\"Volume\")\n",
        "\n",
        "plt.show()"
      ],
      "metadata": {
        "colab": {
          "base_uri": "https://localhost:8080/",
          "height": 469
        },
        "id": "zBcW3Ew9oWrP",
        "outputId": "9c1d63ad-bc27-415b-d447-787f6abf929a"
      },
      "execution_count": null,
      "outputs": [
        {
          "output_type": "display_data",
          "data": {
            "text/plain": [
              "<Figure size 640x480 with 1 Axes>"
            ],
            "image/png": "[encoded data removed]"
          },
          "metadata": {}
        }
      ]
    },
    {
      "cell_type": "code",
      "source": [],
      "metadata": {
        "id": "_QDpEqSxooJH"
      },
      "execution_count": null,
      "outputs": []
    }
  ]
}